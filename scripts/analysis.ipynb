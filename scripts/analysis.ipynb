{
 "cells": [
  {
   "cell_type": "markdown",
   "metadata": {},
   "source": [
    "# Import relevant libraries"
   ]
  },
  {
   "cell_type": "code",
   "execution_count": null,
   "metadata": {
    "ExecuteTime": {
     "end_time": "2020-12-11T00:06:32.011752Z",
     "start_time": "2020-12-11T00:06:31.083430Z"
    }
   },
   "outputs": [],
   "source": [
    "import os\n",
    "import math\n",
    "import copy \n",
    "import numpy as np\n",
    "import pandas as pd\n",
    "import matplotlib.pyplot as plt\n",
    "import seaborn as sns\n",
    "from tqdm.notebook import tqdm"
   ]
  },
  {
   "cell_type": "code",
   "execution_count": 2,
   "metadata": {
    "ExecuteTime": {
     "end_time": "2020-12-11T00:06:32.465313Z",
     "start_time": "2020-12-11T00:06:32.462229Z"
    }
   },
   "outputs": [],
   "source": [
    "# disable false positive warnings\n",
    "pd.options.mode.chained_assignment = None"
   ]
  },
  {
   "cell_type": "markdown",
   "metadata": {
    "ExecuteTime": {
     "end_time": "2020-11-29T13:10:39.169434Z",
     "start_time": "2020-11-29T13:10:39.166337Z"
    }
   },
   "source": [
    "# Setup path"
   ]
  },
  {
   "cell_type": "code",
   "execution_count": 3,
   "metadata": {
    "ExecuteTime": {
     "end_time": "2020-12-11T00:06:33.122445Z",
     "start_time": "2020-12-11T00:06:33.119803Z"
    }
   },
   "outputs": [],
   "source": [
    "# set up paths\n",
    "base_path = '../datasets'\n",
    "cleaned_data_path = os.path.join(base_path, 'cleaned_data')"
   ]
  },
  {
   "cell_type": "markdown",
   "metadata": {},
   "source": [
    "# Load data"
   ]
  },
  {
   "cell_type": "code",
   "execution_count": 4,
   "metadata": {
    "ExecuteTime": {
     "end_time": "2020-12-11T00:06:34.009679Z",
     "start_time": "2020-12-11T00:06:33.641143Z"
    }
   },
   "outputs": [],
   "source": [
    "node_edge_df = pd.read_csv(os.path.join(cleaned_data_path, 'node_edge_data.csv'))\n",
    "perf_eval_df = pd.read_csv(os.path.join(cleaned_data_path, 'perf_eval_table.csv'))"
   ]
  },
  {
   "cell_type": "code",
   "execution_count": 5,
   "metadata": {
    "ExecuteTime": {
     "end_time": "2020-12-11T00:06:34.141276Z",
     "start_time": "2020-12-11T00:06:34.122625Z"
    }
   },
   "outputs": [
    {
     "name": "stdout",
     "output_type": "stream",
     "text": [
      "number of observation: 163001\n"
     ]
    },
    {
     "data": {
      "text/html": [
       "<div>\n",
       "<style scoped>\n",
       "    .dataframe tbody tr th:only-of-type {\n",
       "        vertical-align: middle;\n",
       "    }\n",
       "\n",
       "    .dataframe tbody tr th {\n",
       "        vertical-align: top;\n",
       "    }\n",
       "\n",
       "    .dataframe thead th {\n",
       "        text-align: right;\n",
       "    }\n",
       "</style>\n",
       "<table border=\"1\" class=\"dataframe\">\n",
       "  <thead>\n",
       "    <tr style=\"text-align: right;\">\n",
       "      <th></th>\n",
       "      <th>club_name</th>\n",
       "      <th>player_name</th>\n",
       "      <th>age</th>\n",
       "      <th>position</th>\n",
       "      <th>club_involved_name</th>\n",
       "      <th>fee</th>\n",
       "      <th>transfer_movement</th>\n",
       "      <th>fee_cleaned</th>\n",
       "      <th>year</th>\n",
       "    </tr>\n",
       "  </thead>\n",
       "  <tbody>\n",
       "    <tr>\n",
       "      <th>0</th>\n",
       "      <td>Fortuna Sittard</td>\n",
       "      <td>Rene Hofman</td>\n",
       "      <td>31.0</td>\n",
       "      <td>Right Winger</td>\n",
       "      <td>Roda JC</td>\n",
       "      <td>?</td>\n",
       "      <td>in</td>\n",
       "      <td>NaN</td>\n",
       "      <td>1992</td>\n",
       "    </tr>\n",
       "    <tr>\n",
       "      <th>1</th>\n",
       "      <td>Fortuna Sittard</td>\n",
       "      <td>Peter Schmitz</td>\n",
       "      <td>21.0</td>\n",
       "      <td>Forward</td>\n",
       "      <td>Helmond Sport</td>\n",
       "      <td>?</td>\n",
       "      <td>in</td>\n",
       "      <td>NaN</td>\n",
       "      <td>1992</td>\n",
       "    </tr>\n",
       "    <tr>\n",
       "      <th>2</th>\n",
       "      <td>Fortuna Sittard</td>\n",
       "      <td>Kenneth Nysaether</td>\n",
       "      <td>22.0</td>\n",
       "      <td>Centre-Forward</td>\n",
       "      <td>Lillestrøm SK</td>\n",
       "      <td>?</td>\n",
       "      <td>in</td>\n",
       "      <td>NaN</td>\n",
       "      <td>1992</td>\n",
       "    </tr>\n",
       "    <tr>\n",
       "      <th>3</th>\n",
       "      <td>Fortuna Sittard</td>\n",
       "      <td>Arno van Zwam</td>\n",
       "      <td>22.0</td>\n",
       "      <td>Goalkeeper</td>\n",
       "      <td>Fortuna U19</td>\n",
       "      <td>-</td>\n",
       "      <td>in</td>\n",
       "      <td>0.0</td>\n",
       "      <td>1992</td>\n",
       "    </tr>\n",
       "    <tr>\n",
       "      <th>4</th>\n",
       "      <td>Fortuna Sittard</td>\n",
       "      <td>Jerry Taihuttu</td>\n",
       "      <td>22.0</td>\n",
       "      <td>Centre-Forward</td>\n",
       "      <td>Helmond Sport</td>\n",
       "      <td>Loan</td>\n",
       "      <td>out</td>\n",
       "      <td>0.0</td>\n",
       "      <td>1992</td>\n",
       "    </tr>\n",
       "  </tbody>\n",
       "</table>\n",
       "</div>"
      ],
      "text/plain": [
       "         club_name        player_name   age        position  \\\n",
       "0  Fortuna Sittard        Rene Hofman  31.0    Right Winger   \n",
       "1  Fortuna Sittard      Peter Schmitz  21.0         Forward   \n",
       "2  Fortuna Sittard  Kenneth Nysaether  22.0  Centre-Forward   \n",
       "3  Fortuna Sittard      Arno van Zwam  22.0      Goalkeeper   \n",
       "4  Fortuna Sittard     Jerry Taihuttu  22.0  Centre-Forward   \n",
       "\n",
       "  club_involved_name   fee transfer_movement  fee_cleaned  year  \n",
       "0            Roda JC     ?                in          NaN  1992  \n",
       "1      Helmond Sport     ?                in          NaN  1992  \n",
       "2      Lillestrøm SK     ?                in          NaN  1992  \n",
       "3        Fortuna U19     -                in          0.0  1992  \n",
       "4      Helmond Sport  Loan               out          0.0  1992  "
      ]
     },
     "execution_count": 5,
     "metadata": {},
     "output_type": "execute_result"
    }
   ],
   "source": [
    "print(f'number of observation: {len(node_edge_df)}')\n",
    "node_edge_df.head()"
   ]
  },
  {
   "cell_type": "markdown",
   "metadata": {},
   "source": [
    "# Analysis\n",
    "\n",
    "**Thesis Statement:**\n",
    "\n",
    "Workflow:\n",
    "1) Step1  \n",
    "2) Step2  \n",
    "3) Step3  \n",
    "\n",
    "**To do**\n",
    "- There seems to be a trend on age-price so we dev scaling factor (average price by age with base age) to diminish the effect of age on price.\n",
    "- Identify the effect of homophily (Membership closure) on performance -> performance metric = f(price, scaling_factor) and maybe with combination of other metrics\n",
    "- Identify the behavior of the transfer if it's related to our analysis,   \n",
    "  - if yes: the analysis might be the cause  \n",
    "  - if no: give some recommendation"
   ]
  },
  {
   "cell_type": "markdown",
   "metadata": {},
   "source": [
    "## Fee-Age Analysis"
   ]
  },
  {
   "cell_type": "code",
   "execution_count": 6,
   "metadata": {
    "ExecuteTime": {
     "end_time": "2020-12-11T00:06:35.237997Z",
     "start_time": "2020-12-11T00:06:35.226821Z"
    }
   },
   "outputs": [
    {
     "data": {
      "text/html": [
       "<div>\n",
       "<style scoped>\n",
       "    .dataframe tbody tr th:only-of-type {\n",
       "        vertical-align: middle;\n",
       "    }\n",
       "\n",
       "    .dataframe tbody tr th {\n",
       "        vertical-align: top;\n",
       "    }\n",
       "\n",
       "    .dataframe thead th {\n",
       "        text-align: right;\n",
       "    }\n",
       "</style>\n",
       "<table border=\"1\" class=\"dataframe\">\n",
       "  <thead>\n",
       "    <tr style=\"text-align: right;\">\n",
       "      <th></th>\n",
       "      <th>age</th>\n",
       "      <th>fee_cleaned</th>\n",
       "    </tr>\n",
       "  </thead>\n",
       "  <tbody>\n",
       "    <tr>\n",
       "      <th>0</th>\n",
       "      <td>19.0</td>\n",
       "      <td>0.817</td>\n",
       "    </tr>\n",
       "    <tr>\n",
       "      <th>1</th>\n",
       "      <td>21.0</td>\n",
       "      <td>0.013</td>\n",
       "    </tr>\n",
       "    <tr>\n",
       "      <th>2</th>\n",
       "      <td>25.0</td>\n",
       "      <td>1.170</td>\n",
       "    </tr>\n",
       "    <tr>\n",
       "      <th>3</th>\n",
       "      <td>21.0</td>\n",
       "      <td>0.005</td>\n",
       "    </tr>\n",
       "    <tr>\n",
       "      <th>4</th>\n",
       "      <td>19.0</td>\n",
       "      <td>0.817</td>\n",
       "    </tr>\n",
       "    <tr>\n",
       "      <th>...</th>\n",
       "      <td>...</td>\n",
       "      <td>...</td>\n",
       "    </tr>\n",
       "    <tr>\n",
       "      <th>26589</th>\n",
       "      <td>25.0</td>\n",
       "      <td>2.250</td>\n",
       "    </tr>\n",
       "    <tr>\n",
       "      <th>26590</th>\n",
       "      <td>23.0</td>\n",
       "      <td>4.500</td>\n",
       "    </tr>\n",
       "    <tr>\n",
       "      <th>26591</th>\n",
       "      <td>23.0</td>\n",
       "      <td>0.450</td>\n",
       "    </tr>\n",
       "    <tr>\n",
       "      <th>26592</th>\n",
       "      <td>28.0</td>\n",
       "      <td>2.480</td>\n",
       "    </tr>\n",
       "    <tr>\n",
       "      <th>26593</th>\n",
       "      <td>22.0</td>\n",
       "      <td>0.450</td>\n",
       "    </tr>\n",
       "  </tbody>\n",
       "</table>\n",
       "<p>26594 rows × 2 columns</p>\n",
       "</div>"
      ],
      "text/plain": [
       "        age  fee_cleaned\n",
       "0      19.0        0.817\n",
       "1      21.0        0.013\n",
       "2      25.0        1.170\n",
       "3      21.0        0.005\n",
       "4      19.0        0.817\n",
       "...     ...          ...\n",
       "26589  25.0        2.250\n",
       "26590  23.0        4.500\n",
       "26591  23.0        0.450\n",
       "26592  28.0        2.480\n",
       "26593  22.0        0.450\n",
       "\n",
       "[26594 rows x 2 columns]"
      ]
     },
     "execution_count": 6,
     "metadata": {},
     "output_type": "execute_result"
    }
   ],
   "source": [
    "fee_age = perf_eval_df[['age', 'fee_cleaned']]\n",
    "fee_age"
   ]
  },
  {
   "cell_type": "code",
   "execution_count": 7,
   "metadata": {
    "ExecuteTime": {
     "end_time": "2020-12-11T00:06:37.196121Z",
     "start_time": "2020-12-11T00:06:35.769030Z"
    }
   },
   "outputs": [
    {
     "data": {
      "text/plain": [
       "<AxesSubplot:xlabel='age', ylabel='fee_cleaned'>"
      ]
     },
     "execution_count": 7,
     "metadata": {},
     "output_type": "execute_result"
    },
    {
     "data": {
      "image/png": "[encoded data removed]",
      "text/plain": [
       "<Figure size 432x288 with 1 Axes>"
      ]
     },
     "metadata": {
      "needs_background": "light"
     },
     "output_type": "display_data"
    }
   ],
   "source": [
    "# the variance is quite high\n",
    "sns.lineplot(data = fee_age, x = 'age', y = 'fee_cleaned', estimator= np.mean, ci = 95)"
   ]
  },
  {
   "cell_type": "code",
   "execution_count": 8,
   "metadata": {
    "ExecuteTime": {
     "end_time": "2020-12-11T00:06:39.419165Z",
     "start_time": "2020-12-11T00:06:37.463775Z"
    }
   },
   "outputs": [
    {
     "data": {
      "text/plain": [
       "<AxesSubplot:xlabel='fee_cleaned', ylabel='Count'>"
      ]
     },
     "execution_count": 8,
     "metadata": {},
     "output_type": "execute_result"
    },
    {
     "data": {
      "image/png": "[encoded data removed]",
      "text/plain": [
       "<Figure size 432x288 with 1 Axes>"
      ]
     },
     "metadata": {
      "needs_background": "light"
     },
     "output_type": "display_data"
    }
   ],
   "source": [
    "# heavy-tailed distribution --> median would be a more sensible mid-point measure\n",
    "# as mean would be influenced by the outliers\n",
    "sns.histplot(fee_age['fee_cleaned'], kde = True)"
   ]
  },
  {
   "cell_type": "code",
   "execution_count": 9,
   "metadata": {
    "ExecuteTime": {
     "end_time": "2020-12-11T00:06:39.542772Z",
     "start_time": "2020-12-11T00:06:39.526501Z"
    }
   },
   "outputs": [],
   "source": [
    "# descriptive statistics\n",
    "desc_stat = fee_age.groupby('age')['fee_cleaned']\\\n",
    "                   .agg(['mean', 'median', 'std', 'min', 'max', 'count'])\n",
    "# remove group with small number of observations\n",
    "desc_stat = desc_stat[desc_stat['count'] > 100]"
   ]
  },
  {
   "cell_type": "code",
   "execution_count": 10,
   "metadata": {
    "ExecuteTime": {
     "end_time": "2020-12-11T00:06:39.768702Z",
     "start_time": "2020-12-11T00:06:39.750681Z"
    }
   },
   "outputs": [
    {
     "data": {
      "text/html": [
       "<div>\n",
       "<style scoped>\n",
       "    .dataframe tbody tr th:only-of-type {\n",
       "        vertical-align: middle;\n",
       "    }\n",
       "\n",
       "    .dataframe tbody tr th {\n",
       "        vertical-align: top;\n",
       "    }\n",
       "\n",
       "    .dataframe thead th {\n",
       "        text-align: right;\n",
       "    }\n",
       "</style>\n",
       "<table border=\"1\" class=\"dataframe\">\n",
       "  <thead>\n",
       "    <tr style=\"text-align: right;\">\n",
       "      <th></th>\n",
       "      <th>mean</th>\n",
       "      <th>median</th>\n",
       "      <th>std</th>\n",
       "      <th>min</th>\n",
       "      <th>max</th>\n",
       "      <th>count</th>\n",
       "    </tr>\n",
       "    <tr>\n",
       "      <th>age</th>\n",
       "      <th></th>\n",
       "      <th></th>\n",
       "      <th></th>\n",
       "      <th></th>\n",
       "      <th></th>\n",
       "      <th></th>\n",
       "    </tr>\n",
       "  </thead>\n",
       "  <tbody>\n",
       "    <tr>\n",
       "      <th>17.0</th>\n",
       "      <td>2.476510</td>\n",
       "      <td>0.990</td>\n",
       "      <td>3.844370</td>\n",
       "      <td>0.005</td>\n",
       "      <td>21.60</td>\n",
       "      <td>145</td>\n",
       "    </tr>\n",
       "    <tr>\n",
       "      <th>18.0</th>\n",
       "      <td>3.433969</td>\n",
       "      <td>1.350</td>\n",
       "      <td>6.202667</td>\n",
       "      <td>0.002</td>\n",
       "      <td>40.50</td>\n",
       "      <td>512</td>\n",
       "    </tr>\n",
       "    <tr>\n",
       "      <th>19.0</th>\n",
       "      <td>3.783434</td>\n",
       "      <td>1.350</td>\n",
       "      <td>9.608391</td>\n",
       "      <td>0.005</td>\n",
       "      <td>130.50</td>\n",
       "      <td>1052</td>\n",
       "    </tr>\n",
       "    <tr>\n",
       "      <th>20.0</th>\n",
       "      <td>3.830943</td>\n",
       "      <td>1.580</td>\n",
       "      <td>7.183568</td>\n",
       "      <td>0.009</td>\n",
       "      <td>124.20</td>\n",
       "      <td>1605</td>\n",
       "    </tr>\n",
       "    <tr>\n",
       "      <th>21.0</th>\n",
       "      <td>4.126564</td>\n",
       "      <td>1.530</td>\n",
       "      <td>7.276784</td>\n",
       "      <td>0.005</td>\n",
       "      <td>79.38</td>\n",
       "      <td>2169</td>\n",
       "    </tr>\n",
       "    <tr>\n",
       "      <th>22.0</th>\n",
       "      <td>4.212821</td>\n",
       "      <td>1.620</td>\n",
       "      <td>6.906991</td>\n",
       "      <td>0.004</td>\n",
       "      <td>67.50</td>\n",
       "      <td>2549</td>\n",
       "    </tr>\n",
       "    <tr>\n",
       "      <th>23.0</th>\n",
       "      <td>4.760516</td>\n",
       "      <td>1.980</td>\n",
       "      <td>8.301757</td>\n",
       "      <td>0.009</td>\n",
       "      <td>94.50</td>\n",
       "      <td>2802</td>\n",
       "    </tr>\n",
       "    <tr>\n",
       "      <th>24.0</th>\n",
       "      <td>4.775991</td>\n",
       "      <td>1.980</td>\n",
       "      <td>8.126826</td>\n",
       "      <td>0.008</td>\n",
       "      <td>90.90</td>\n",
       "      <td>2771</td>\n",
       "    </tr>\n",
       "    <tr>\n",
       "      <th>25.0</th>\n",
       "      <td>4.769627</td>\n",
       "      <td>2.120</td>\n",
       "      <td>9.505160</td>\n",
       "      <td>0.009</td>\n",
       "      <td>199.80</td>\n",
       "      <td>2594</td>\n",
       "    </tr>\n",
       "    <tr>\n",
       "      <th>26.0</th>\n",
       "      <td>4.463731</td>\n",
       "      <td>2.160</td>\n",
       "      <td>7.290973</td>\n",
       "      <td>0.009</td>\n",
       "      <td>78.30</td>\n",
       "      <td>2459</td>\n",
       "    </tr>\n",
       "    <tr>\n",
       "      <th>27.0</th>\n",
       "      <td>4.522155</td>\n",
       "      <td>1.800</td>\n",
       "      <td>7.851551</td>\n",
       "      <td>0.004</td>\n",
       "      <td>73.55</td>\n",
       "      <td>2205</td>\n",
       "    </tr>\n",
       "    <tr>\n",
       "      <th>28.0</th>\n",
       "      <td>4.496887</td>\n",
       "      <td>2.030</td>\n",
       "      <td>8.274084</td>\n",
       "      <td>0.009</td>\n",
       "      <td>108.00</td>\n",
       "      <td>1770</td>\n",
       "    </tr>\n",
       "    <tr>\n",
       "      <th>29.0</th>\n",
       "      <td>3.940478</td>\n",
       "      <td>1.630</td>\n",
       "      <td>6.820514</td>\n",
       "      <td>0.016</td>\n",
       "      <td>69.75</td>\n",
       "      <td>1304</td>\n",
       "    </tr>\n",
       "    <tr>\n",
       "      <th>30.0</th>\n",
       "      <td>3.078010</td>\n",
       "      <td>1.440</td>\n",
       "      <td>5.060288</td>\n",
       "      <td>0.021</td>\n",
       "      <td>54.00</td>\n",
       "      <td>1015</td>\n",
       "    </tr>\n",
       "    <tr>\n",
       "      <th>31.0</th>\n",
       "      <td>2.246585</td>\n",
       "      <td>1.130</td>\n",
       "      <td>3.513725</td>\n",
       "      <td>0.018</td>\n",
       "      <td>32.54</td>\n",
       "      <td>710</td>\n",
       "    </tr>\n",
       "    <tr>\n",
       "      <th>32.0</th>\n",
       "      <td>1.540950</td>\n",
       "      <td>0.783</td>\n",
       "      <td>2.184313</td>\n",
       "      <td>0.005</td>\n",
       "      <td>13.59</td>\n",
       "      <td>416</td>\n",
       "    </tr>\n",
       "    <tr>\n",
       "      <th>33.0</th>\n",
       "      <td>2.424093</td>\n",
       "      <td>0.855</td>\n",
       "      <td>9.792374</td>\n",
       "      <td>0.009</td>\n",
       "      <td>105.30</td>\n",
       "      <td>237</td>\n",
       "    </tr>\n",
       "    <tr>\n",
       "      <th>34.0</th>\n",
       "      <td>0.822295</td>\n",
       "      <td>0.450</td>\n",
       "      <td>0.985455</td>\n",
       "      <td>0.014</td>\n",
       "      <td>5.01</td>\n",
       "      <td>139</td>\n",
       "    </tr>\n",
       "  </tbody>\n",
       "</table>\n",
       "</div>"
      ],
      "text/plain": [
       "          mean  median       std    min     max  count\n",
       "age                                                   \n",
       "17.0  2.476510   0.990  3.844370  0.005   21.60    145\n",
       "18.0  3.433969   1.350  6.202667  0.002   40.50    512\n",
       "19.0  3.783434   1.350  9.608391  0.005  130.50   1052\n",
       "20.0  3.830943   1.580  7.183568  0.009  124.20   1605\n",
       "21.0  4.126564   1.530  7.276784  0.005   79.38   2169\n",
       "22.0  4.212821   1.620  6.906991  0.004   67.50   2549\n",
       "23.0  4.760516   1.980  8.301757  0.009   94.50   2802\n",
       "24.0  4.775991   1.980  8.126826  0.008   90.90   2771\n",
       "25.0  4.769627   2.120  9.505160  0.009  199.80   2594\n",
       "26.0  4.463731   2.160  7.290973  0.009   78.30   2459\n",
       "27.0  4.522155   1.800  7.851551  0.004   73.55   2205\n",
       "28.0  4.496887   2.030  8.274084  0.009  108.00   1770\n",
       "29.0  3.940478   1.630  6.820514  0.016   69.75   1304\n",
       "30.0  3.078010   1.440  5.060288  0.021   54.00   1015\n",
       "31.0  2.246585   1.130  3.513725  0.018   32.54    710\n",
       "32.0  1.540950   0.783  2.184313  0.005   13.59    416\n",
       "33.0  2.424093   0.855  9.792374  0.009  105.30    237\n",
       "34.0  0.822295   0.450  0.985455  0.014    5.01    139"
      ]
     },
     "execution_count": 10,
     "metadata": {},
     "output_type": "execute_result"
    }
   ],
   "source": [
    "# There are some outliers that greatly influence the mean and thus using median is more robust\n",
    "desc_stat"
   ]
  },
  {
   "cell_type": "code",
   "execution_count": 11,
   "metadata": {
    "ExecuteTime": {
     "end_time": "2020-12-11T00:06:40.103125Z",
     "start_time": "2020-12-11T00:06:39.899473Z"
    }
   },
   "outputs": [
    {
     "data": {
      "image/png": "[encoded data removed]",
      "text/plain": [
       "<Figure size 576x432 with 1 Axes>"
      ]
     },
     "metadata": {
      "needs_background": "light"
     },
     "output_type": "display_data"
    }
   ],
   "source": [
    "# visualize\n",
    "fig, ax = plt.subplots(figsize = (8, 6))\n",
    "\n",
    "sns.lineplot(data = fee_age, x = 'age', y = 'fee_cleaned', estimator= np.median, ci = None, alpha = 0.5)\n",
    "\n",
    "xlim = (desc_stat.index[0], desc_stat.index[-1])\n",
    "ylim = (min(desc_stat['median']*0.5), max(desc_stat['median'])*1.1)\n",
    "\n",
    "# fit polynomial to smoothen the trend (for adjustment coefficient)\n",
    "x = list(desc_stat['median'].index)\n",
    "y = list(desc_stat['median'])\n",
    "\n",
    "# smoothen the liner\n",
    "fit = np.polyfit(x, y, deg = 2)\n",
    "poly1d = np.poly1d(fit)\n",
    "\n",
    "# add adjustment line\n",
    "plt.plot(x, poly1d(x), '-', c = 'red')\n",
    "\n",
    "# get the turning point (slope < 0)\n",
    "idx = [idx for idx,val in enumerate(np.diff(poly1d(x))) if val < 0][0]\n",
    "\n",
    "# add vertical line at the turning point\n",
    "plt.vlines(x = x[idx], ymin = ylim[0], ymax = ylim[1],\n",
    "           colors = 'red', linestyles = 'dashed')\n",
    "\n",
    "ax.set_xlim(xlim)\n",
    "ax.set_ylim(ylim)\n",
    "\n",
    "plt.show()"
   ]
  },
  {
   "cell_type": "code",
   "execution_count": 12,
   "metadata": {
    "ExecuteTime": {
     "end_time": "2020-12-11T00:06:40.254752Z",
     "start_time": "2020-12-11T00:06:40.242403Z"
    }
   },
   "outputs": [
    {
     "data": {
      "text/html": [
       "<div>\n",
       "<style scoped>\n",
       "    .dataframe tbody tr th:only-of-type {\n",
       "        vertical-align: middle;\n",
       "    }\n",
       "\n",
       "    .dataframe tbody tr th {\n",
       "        vertical-align: top;\n",
       "    }\n",
       "\n",
       "    .dataframe thead th {\n",
       "        text-align: right;\n",
       "    }\n",
       "</style>\n",
       "<table border=\"1\" class=\"dataframe\">\n",
       "  <thead>\n",
       "    <tr style=\"text-align: right;\">\n",
       "      <th></th>\n",
       "      <th>age</th>\n",
       "      <th>coef</th>\n",
       "    </tr>\n",
       "  </thead>\n",
       "  <tbody>\n",
       "    <tr>\n",
       "      <th>0</th>\n",
       "      <td>17.0</td>\n",
       "      <td>1.000000</td>\n",
       "    </tr>\n",
       "    <tr>\n",
       "      <th>1</th>\n",
       "      <td>18.0</td>\n",
       "      <td>0.784209</td>\n",
       "    </tr>\n",
       "    <tr>\n",
       "      <th>2</th>\n",
       "      <td>19.0</td>\n",
       "      <td>0.661457</td>\n",
       "    </tr>\n",
       "    <tr>\n",
       "      <th>3</th>\n",
       "      <td>20.0</td>\n",
       "      <td>0.584819</td>\n",
       "    </tr>\n",
       "    <tr>\n",
       "      <th>4</th>\n",
       "      <td>21.0</td>\n",
       "      <td>0.534897</td>\n",
       "    </tr>\n",
       "    <tr>\n",
       "      <th>5</th>\n",
       "      <td>22.0</td>\n",
       "      <td>0.502366</td>\n",
       "    </tr>\n",
       "    <tr>\n",
       "      <th>6</th>\n",
       "      <td>23.0</td>\n",
       "      <td>0.482366</td>\n",
       "    </tr>\n",
       "    <tr>\n",
       "      <th>7</th>\n",
       "      <td>24.0</td>\n",
       "      <td>0.472339</td>\n",
       "    </tr>\n",
       "    <tr>\n",
       "      <th>8</th>\n",
       "      <td>25.0</td>\n",
       "      <td>0.471119</td>\n",
       "    </tr>\n",
       "    <tr>\n",
       "      <th>9</th>\n",
       "      <td>26.0</td>\n",
       "      <td>0.478570</td>\n",
       "    </tr>\n",
       "    <tr>\n",
       "      <th>10</th>\n",
       "      <td>27.0</td>\n",
       "      <td>0.495544</td>\n",
       "    </tr>\n",
       "    <tr>\n",
       "      <th>11</th>\n",
       "      <td>28.0</td>\n",
       "      <td>0.524141</td>\n",
       "    </tr>\n",
       "    <tr>\n",
       "      <th>12</th>\n",
       "      <td>29.0</td>\n",
       "      <td>0.568422</td>\n",
       "    </tr>\n",
       "    <tr>\n",
       "      <th>13</th>\n",
       "      <td>30.0</td>\n",
       "      <td>0.636091</td>\n",
       "    </tr>\n",
       "    <tr>\n",
       "      <th>14</th>\n",
       "      <td>31.0</td>\n",
       "      <td>0.742710</td>\n",
       "    </tr>\n",
       "    <tr>\n",
       "      <th>15</th>\n",
       "      <td>32.0</td>\n",
       "      <td>0.924033</td>\n",
       "    </tr>\n",
       "    <tr>\n",
       "      <th>16</th>\n",
       "      <td>33.0</td>\n",
       "      <td>1.282913</td>\n",
       "    </tr>\n",
       "    <tr>\n",
       "      <th>17</th>\n",
       "      <td>34.0</td>\n",
       "      <td>2.281995</td>\n",
       "    </tr>\n",
       "  </tbody>\n",
       "</table>\n",
       "</div>"
      ],
      "text/plain": [
       "     age      coef\n",
       "0   17.0  1.000000\n",
       "1   18.0  0.784209\n",
       "2   19.0  0.661457\n",
       "3   20.0  0.584819\n",
       "4   21.0  0.534897\n",
       "5   22.0  0.502366\n",
       "6   23.0  0.482366\n",
       "7   24.0  0.472339\n",
       "8   25.0  0.471119\n",
       "9   26.0  0.478570\n",
       "10  27.0  0.495544\n",
       "11  28.0  0.524141\n",
       "12  29.0  0.568422\n",
       "13  30.0  0.636091\n",
       "14  31.0  0.742710\n",
       "15  32.0  0.924033\n",
       "16  33.0  1.282913\n",
       "17  34.0  2.281995"
      ]
     },
     "execution_count": 12,
     "metadata": {},
     "output_type": "execute_result"
    }
   ],
   "source": [
    "# develop adjustment coefficient\n",
    "fitted_value = poly1d(x)\n",
    "\n",
    "baseline = fitted_value[0]\n",
    "base_value = np.divide(fitted_value, baseline)\n",
    "coef = np.reciprocal(base_value)\n",
    "\n",
    "temp_df = pd.DataFrame(data = {'age': desc_stat['median'].index, \n",
    "                               'coef': coef})\n",
    "temp_df"
   ]
  },
  {
   "cell_type": "code",
   "execution_count": 13,
   "metadata": {
    "ExecuteTime": {
     "end_time": "2020-12-11T00:06:40.439579Z",
     "start_time": "2020-12-11T00:06:40.403966Z"
    }
   },
   "outputs": [
    {
     "data": {
      "text/html": [
       "<div>\n",
       "<style scoped>\n",
       "    .dataframe tbody tr th:only-of-type {\n",
       "        vertical-align: middle;\n",
       "    }\n",
       "\n",
       "    .dataframe tbody tr th {\n",
       "        vertical-align: top;\n",
       "    }\n",
       "\n",
       "    .dataframe thead th {\n",
       "        text-align: right;\n",
       "    }\n",
       "</style>\n",
       "<table border=\"1\" class=\"dataframe\">\n",
       "  <thead>\n",
       "    <tr style=\"text-align: right;\">\n",
       "      <th></th>\n",
       "      <th>age</th>\n",
       "      <th>coef</th>\n",
       "    </tr>\n",
       "  </thead>\n",
       "  <tbody>\n",
       "    <tr>\n",
       "      <th>0</th>\n",
       "      <td>15.0</td>\n",
       "      <td>1.000000</td>\n",
       "    </tr>\n",
       "    <tr>\n",
       "      <th>1</th>\n",
       "      <td>16.0</td>\n",
       "      <td>1.000000</td>\n",
       "    </tr>\n",
       "    <tr>\n",
       "      <th>2</th>\n",
       "      <td>17.0</td>\n",
       "      <td>1.000000</td>\n",
       "    </tr>\n",
       "    <tr>\n",
       "      <th>3</th>\n",
       "      <td>18.0</td>\n",
       "      <td>0.784209</td>\n",
       "    </tr>\n",
       "    <tr>\n",
       "      <th>4</th>\n",
       "      <td>19.0</td>\n",
       "      <td>0.661457</td>\n",
       "    </tr>\n",
       "    <tr>\n",
       "      <th>5</th>\n",
       "      <td>20.0</td>\n",
       "      <td>0.584819</td>\n",
       "    </tr>\n",
       "    <tr>\n",
       "      <th>6</th>\n",
       "      <td>21.0</td>\n",
       "      <td>0.534897</td>\n",
       "    </tr>\n",
       "    <tr>\n",
       "      <th>7</th>\n",
       "      <td>22.0</td>\n",
       "      <td>0.502366</td>\n",
       "    </tr>\n",
       "    <tr>\n",
       "      <th>8</th>\n",
       "      <td>23.0</td>\n",
       "      <td>0.482366</td>\n",
       "    </tr>\n",
       "    <tr>\n",
       "      <th>9</th>\n",
       "      <td>24.0</td>\n",
       "      <td>0.472339</td>\n",
       "    </tr>\n",
       "    <tr>\n",
       "      <th>10</th>\n",
       "      <td>25.0</td>\n",
       "      <td>0.471119</td>\n",
       "    </tr>\n",
       "    <tr>\n",
       "      <th>11</th>\n",
       "      <td>26.0</td>\n",
       "      <td>0.478570</td>\n",
       "    </tr>\n",
       "    <tr>\n",
       "      <th>12</th>\n",
       "      <td>27.0</td>\n",
       "      <td>0.495544</td>\n",
       "    </tr>\n",
       "    <tr>\n",
       "      <th>13</th>\n",
       "      <td>28.0</td>\n",
       "      <td>0.524141</td>\n",
       "    </tr>\n",
       "    <tr>\n",
       "      <th>14</th>\n",
       "      <td>29.0</td>\n",
       "      <td>0.568422</td>\n",
       "    </tr>\n",
       "    <tr>\n",
       "      <th>15</th>\n",
       "      <td>30.0</td>\n",
       "      <td>0.636091</td>\n",
       "    </tr>\n",
       "    <tr>\n",
       "      <th>16</th>\n",
       "      <td>31.0</td>\n",
       "      <td>0.742710</td>\n",
       "    </tr>\n",
       "    <tr>\n",
       "      <th>17</th>\n",
       "      <td>32.0</td>\n",
       "      <td>0.924033</td>\n",
       "    </tr>\n",
       "    <tr>\n",
       "      <th>18</th>\n",
       "      <td>33.0</td>\n",
       "      <td>1.282913</td>\n",
       "    </tr>\n",
       "    <tr>\n",
       "      <th>19</th>\n",
       "      <td>34.0</td>\n",
       "      <td>2.281995</td>\n",
       "    </tr>\n",
       "    <tr>\n",
       "      <th>20</th>\n",
       "      <td>35.0</td>\n",
       "      <td>2.281995</td>\n",
       "    </tr>\n",
       "    <tr>\n",
       "      <th>21</th>\n",
       "      <td>36.0</td>\n",
       "      <td>2.281995</td>\n",
       "    </tr>\n",
       "    <tr>\n",
       "      <th>22</th>\n",
       "      <td>37.0</td>\n",
       "      <td>2.281995</td>\n",
       "    </tr>\n",
       "    <tr>\n",
       "      <th>23</th>\n",
       "      <td>38.0</td>\n",
       "      <td>2.281995</td>\n",
       "    </tr>\n",
       "    <tr>\n",
       "      <th>24</th>\n",
       "      <td>39.0</td>\n",
       "      <td>2.281995</td>\n",
       "    </tr>\n",
       "  </tbody>\n",
       "</table>\n",
       "</div>"
      ],
      "text/plain": [
       "     age      coef\n",
       "0   15.0  1.000000\n",
       "1   16.0  1.000000\n",
       "2   17.0  1.000000\n",
       "3   18.0  0.784209\n",
       "4   19.0  0.661457\n",
       "5   20.0  0.584819\n",
       "6   21.0  0.534897\n",
       "7   22.0  0.502366\n",
       "8   23.0  0.482366\n",
       "9   24.0  0.472339\n",
       "10  25.0  0.471119\n",
       "11  26.0  0.478570\n",
       "12  27.0  0.495544\n",
       "13  28.0  0.524141\n",
       "14  29.0  0.568422\n",
       "15  30.0  0.636091\n",
       "16  31.0  0.742710\n",
       "17  32.0  0.924033\n",
       "18  33.0  1.282913\n",
       "19  34.0  2.281995\n",
       "20  35.0  2.281995\n",
       "21  36.0  2.281995\n",
       "22  37.0  2.281995\n",
       "23  38.0  2.281995\n",
       "24  39.0  2.281995"
      ]
     },
     "execution_count": 13,
     "metadata": {},
     "output_type": "execute_result"
    }
   ],
   "source": [
    "# extend age range to cover the data using lower-upper bound coefficient\n",
    "age_df = pd.DataFrame(data = {'age': sorted(fee_age['age'].unique())})\n",
    "adj_coef_table = pd.merge(age_df, temp_df, on = 'age', how = 'left')\n",
    "adj_coef_table['coef'] = adj_coef_table['coef'].interpolate(method = 'linear', limit_direction = 'both')\n",
    "adj_coef_table"
   ]
  },
  {
   "cell_type": "markdown",
   "metadata": {},
   "source": [
    "## Homophily Analysis"
   ]
  },
  {
   "cell_type": "code",
   "execution_count": 14,
   "metadata": {
    "ExecuteTime": {
     "end_time": "2020-12-11T00:06:40.621264Z",
     "start_time": "2020-12-11T00:06:40.607613Z"
    }
   },
   "outputs": [
    {
     "name": "stdout",
     "output_type": "stream",
     "text": [
      "number of observation: 163001\n"
     ]
    },
    {
     "data": {
      "text/html": [
       "<div>\n",
       "<style scoped>\n",
       "    .dataframe tbody tr th:only-of-type {\n",
       "        vertical-align: middle;\n",
       "    }\n",
       "\n",
       "    .dataframe tbody tr th {\n",
       "        vertical-align: top;\n",
       "    }\n",
       "\n",
       "    .dataframe thead th {\n",
       "        text-align: right;\n",
       "    }\n",
       "</style>\n",
       "<table border=\"1\" class=\"dataframe\">\n",
       "  <thead>\n",
       "    <tr style=\"text-align: right;\">\n",
       "      <th></th>\n",
       "      <th>club_name</th>\n",
       "      <th>player_name</th>\n",
       "      <th>age</th>\n",
       "      <th>position</th>\n",
       "      <th>club_involved_name</th>\n",
       "      <th>fee</th>\n",
       "      <th>transfer_movement</th>\n",
       "      <th>fee_cleaned</th>\n",
       "      <th>year</th>\n",
       "    </tr>\n",
       "  </thead>\n",
       "  <tbody>\n",
       "    <tr>\n",
       "      <th>0</th>\n",
       "      <td>Fortuna Sittard</td>\n",
       "      <td>Rene Hofman</td>\n",
       "      <td>31.0</td>\n",
       "      <td>Right Winger</td>\n",
       "      <td>Roda JC</td>\n",
       "      <td>?</td>\n",
       "      <td>in</td>\n",
       "      <td>NaN</td>\n",
       "      <td>1992</td>\n",
       "    </tr>\n",
       "    <tr>\n",
       "      <th>1</th>\n",
       "      <td>Fortuna Sittard</td>\n",
       "      <td>Peter Schmitz</td>\n",
       "      <td>21.0</td>\n",
       "      <td>Forward</td>\n",
       "      <td>Helmond Sport</td>\n",
       "      <td>?</td>\n",
       "      <td>in</td>\n",
       "      <td>NaN</td>\n",
       "      <td>1992</td>\n",
       "    </tr>\n",
       "    <tr>\n",
       "      <th>2</th>\n",
       "      <td>Fortuna Sittard</td>\n",
       "      <td>Kenneth Nysaether</td>\n",
       "      <td>22.0</td>\n",
       "      <td>Centre-Forward</td>\n",
       "      <td>Lillestrøm SK</td>\n",
       "      <td>?</td>\n",
       "      <td>in</td>\n",
       "      <td>NaN</td>\n",
       "      <td>1992</td>\n",
       "    </tr>\n",
       "    <tr>\n",
       "      <th>3</th>\n",
       "      <td>Fortuna Sittard</td>\n",
       "      <td>Arno van Zwam</td>\n",
       "      <td>22.0</td>\n",
       "      <td>Goalkeeper</td>\n",
       "      <td>Fortuna U19</td>\n",
       "      <td>-</td>\n",
       "      <td>in</td>\n",
       "      <td>0.0</td>\n",
       "      <td>1992</td>\n",
       "    </tr>\n",
       "    <tr>\n",
       "      <th>4</th>\n",
       "      <td>Fortuna Sittard</td>\n",
       "      <td>Jerry Taihuttu</td>\n",
       "      <td>22.0</td>\n",
       "      <td>Centre-Forward</td>\n",
       "      <td>Helmond Sport</td>\n",
       "      <td>Loan</td>\n",
       "      <td>out</td>\n",
       "      <td>0.0</td>\n",
       "      <td>1992</td>\n",
       "    </tr>\n",
       "  </tbody>\n",
       "</table>\n",
       "</div>"
      ],
      "text/plain": [
       "         club_name        player_name   age        position  \\\n",
       "0  Fortuna Sittard        Rene Hofman  31.0    Right Winger   \n",
       "1  Fortuna Sittard      Peter Schmitz  21.0         Forward   \n",
       "2  Fortuna Sittard  Kenneth Nysaether  22.0  Centre-Forward   \n",
       "3  Fortuna Sittard      Arno van Zwam  22.0      Goalkeeper   \n",
       "4  Fortuna Sittard     Jerry Taihuttu  22.0  Centre-Forward   \n",
       "\n",
       "  club_involved_name   fee transfer_movement  fee_cleaned  year  \n",
       "0            Roda JC     ?                in          NaN  1992  \n",
       "1      Helmond Sport     ?                in          NaN  1992  \n",
       "2      Lillestrøm SK     ?                in          NaN  1992  \n",
       "3        Fortuna U19     -                in          0.0  1992  \n",
       "4      Helmond Sport  Loan               out          0.0  1992  "
      ]
     },
     "execution_count": 14,
     "metadata": {},
     "output_type": "execute_result"
    }
   ],
   "source": [
    "print(f'number of observation: {len(node_edge_df)}')\n",
    "node_edge_df.head()"
   ]
  },
  {
   "cell_type": "markdown",
   "metadata": {},
   "source": [
    "### Create structured data"
   ]
  },
  {
   "cell_type": "raw",
   "metadata": {},
   "source": [
    "\"\"\"\n",
    "Example of designed nested dictionary  \n",
    "{ `Year1` : { `Club1` : [Player1, Player2, Player3....],\n",
    "              `Club2` : [Player1, Player2, Player3....],\n",
    "                      :\n",
    "                      :\n",
    "                      :\n",
    "        }  \n",
    "  `Year2` : { `Club1` : [Player1, Player2, Player3....],\n",
    "              `Club2` : [Player1, Player2, Player3....],\n",
    "                      :\n",
    "                      :\n",
    "                      :\n",
    "        }\n",
    "}\n",
    "\"\"\""
   ]
  },
  {
   "cell_type": "code",
   "execution_count": 15,
   "metadata": {
    "ExecuteTime": {
     "end_time": "2020-12-11T00:06:46.016196Z",
     "start_time": "2020-12-11T00:06:45.990597Z"
    }
   },
   "outputs": [],
   "source": [
    "# 2 components needed: 'year_list', 'club_list'\n",
    "year_list = sorted(sorted(node_edge_df['year'].unique()))\n",
    "club_list = sorted(node_edge_df['club_name'].unique())"
   ]
  },
  {
   "cell_type": "code",
   "execution_count": 16,
   "metadata": {
    "ExecuteTime": {
     "end_time": "2020-12-11T00:06:46.731957Z",
     "start_time": "2020-12-11T00:06:46.727732Z"
    }
   },
   "outputs": [],
   "source": [
    "# define function to remove elements in a list from another list\n",
    "def remove_elem_by_list(list1, list2):\n",
    "    for elem in list2:\n",
    "        try:\n",
    "            list1.remove(elem)\n",
    "        except Exception:\n",
    "            pass\n",
    "    return list1"
   ]
  },
  {
   "cell_type": "code",
   "execution_count": 17,
   "metadata": {
    "ExecuteTime": {
     "end_time": "2020-12-11T00:07:09.932743Z",
     "start_time": "2020-12-11T00:06:47.661002Z"
    }
   },
   "outputs": [
    {
     "data": {
      "application/vnd.jupyter.widget-view+json": {
       "model_id": "eb81f62e74bb455083f7514e005dabe0",
       "version_major": 2,
       "version_minor": 0
      },
      "text/plain": [
       "HBox(children=(HTML(value=''), FloatProgress(value=0.0, max=29.0), HTML(value='')))"
      ]
     },
     "metadata": {},
     "output_type": "display_data"
    },
    {
     "name": "stdout",
     "output_type": "stream",
     "text": [
      "\n"
     ]
    }
   ],
   "source": [
    "# nested dictionary: year: `club_member`\n",
    "nested_dict = {}\n",
    "prev_year = None\n",
    "\n",
    "# loop over year:\n",
    "for year in tqdm(year_list):\n",
    "    \n",
    "    if prev_year in nested_dict.keys():\n",
    "        \n",
    "        # retrieve club-player info in the previous year for the second year and so on\n",
    "        club_member = copy.deepcopy(nested_dict[prev_year])\n",
    "    \n",
    "    else:\n",
    "        # initiate a dictionary of clubs (keys) and their affiliated players (values)\n",
    "        club_member = {}\n",
    "    \n",
    "    # subset data by year\n",
    "    data = node_edge_df[node_edge_df['year'] == year]\n",
    "    \n",
    "    # subset for transfer_movement == 'in', 'out' \n",
    "    data_in = data[data['transfer_movement'] == 'in']\n",
    "    data_out = data[data['transfer_movement'] == 'out']\n",
    "        \n",
    "    # loop over club:\n",
    "    for club in club_list:\n",
    "        \n",
    "        # subset data by club \n",
    "        temp_data_in = data_in[data_in['club_name'] == club]\n",
    "        temp_data_out = data_out[data_out['club_name'] == club]\n",
    "        \n",
    "        # update all players in that club in the dictionary (`club_member`)\n",
    "        player_list_in = list(temp_data_in['player_name'])\n",
    "        player_list_out = list(temp_data_out['player_name'])\n",
    "        \n",
    "        if prev_year in nested_dict.keys():\n",
    "            \n",
    "            # catch bug (The case when club has no member yet)\n",
    "            if club_member[club] is None:\n",
    "                club_member[club] = []\n",
    "            \n",
    "            # adjust for members who move in\n",
    "            club_member[club].extend(player_list_in)\n",
    "            # adjust for members who move out\n",
    "            remove_elem_by_list(club_member[club], player_list_out)\n",
    "            \n",
    "        else:\n",
    "            # update club_member info\n",
    "            club_member[club] = remove_elem_by_list(player_list_in, player_list_out)\n",
    "            \n",
    "    # store `club_member` in `nested_dict`\n",
    "    nested_dict[year] = club_member\n",
    "    \n",
    "    # set previous year\n",
    "    prev_year = year"
   ]
  },
  {
   "cell_type": "markdown",
   "metadata": {},
   "source": [
    "### Analysis"
   ]
  },
  {
   "cell_type": "code",
   "execution_count": 18,
   "metadata": {
    "ExecuteTime": {
     "end_time": "2020-12-11T00:07:10.598900Z",
     "start_time": "2020-12-11T00:07:10.476281Z"
    }
   },
   "outputs": [],
   "source": [
    "# subset only `transfer_movement` == 'in'; we want to analyze the number of ties a player has\n",
    "# before entering a team\n",
    "df = node_edge_df[node_edge_df['transfer_movement'] == 'in']\n",
    "df.reset_index(drop = True, inplace = True)\n",
    "# clean the table\n",
    "df.drop_duplicates(inplace = True)"
   ]
  },
  {
   "cell_type": "code",
   "execution_count": 19,
   "metadata": {
    "ExecuteTime": {
     "end_time": "2020-12-11T00:07:11.336762Z",
     "start_time": "2020-12-11T00:07:11.152673Z"
    }
   },
   "outputs": [
    {
     "name": "stdout",
     "output_type": "stream",
     "text": [
      "number of observation: 78625\n"
     ]
    },
    {
     "data": {
      "text/html": [
       "<div>\n",
       "<style scoped>\n",
       "    .dataframe tbody tr th:only-of-type {\n",
       "        vertical-align: middle;\n",
       "    }\n",
       "\n",
       "    .dataframe tbody tr th {\n",
       "        vertical-align: top;\n",
       "    }\n",
       "\n",
       "    .dataframe thead th {\n",
       "        text-align: right;\n",
       "    }\n",
       "</style>\n",
       "<table border=\"1\" class=\"dataframe\">\n",
       "  <thead>\n",
       "    <tr style=\"text-align: right;\">\n",
       "      <th></th>\n",
       "      <th>club_name</th>\n",
       "      <th>player_name</th>\n",
       "      <th>age</th>\n",
       "      <th>position</th>\n",
       "      <th>club_involved_name</th>\n",
       "      <th>fee</th>\n",
       "      <th>transfer_movement</th>\n",
       "      <th>fee_cleaned</th>\n",
       "      <th>year</th>\n",
       "      <th>num_transfer</th>\n",
       "      <th>max_transfer</th>\n",
       "    </tr>\n",
       "  </thead>\n",
       "  <tbody>\n",
       "    <tr>\n",
       "      <th>0</th>\n",
       "      <td>Fortuna Sittard</td>\n",
       "      <td>Rene Hofman</td>\n",
       "      <td>31.0</td>\n",
       "      <td>Right Winger</td>\n",
       "      <td>Roda JC</td>\n",
       "      <td>?</td>\n",
       "      <td>in</td>\n",
       "      <td>NaN</td>\n",
       "      <td>1992</td>\n",
       "      <td>1</td>\n",
       "      <td>1</td>\n",
       "    </tr>\n",
       "    <tr>\n",
       "      <th>1</th>\n",
       "      <td>Fortuna Sittard</td>\n",
       "      <td>Peter Schmitz</td>\n",
       "      <td>21.0</td>\n",
       "      <td>Forward</td>\n",
       "      <td>Helmond Sport</td>\n",
       "      <td>?</td>\n",
       "      <td>in</td>\n",
       "      <td>NaN</td>\n",
       "      <td>1992</td>\n",
       "      <td>1</td>\n",
       "      <td>1</td>\n",
       "    </tr>\n",
       "    <tr>\n",
       "      <th>2</th>\n",
       "      <td>Fortuna Sittard</td>\n",
       "      <td>Kenneth Nysaether</td>\n",
       "      <td>22.0</td>\n",
       "      <td>Centre-Forward</td>\n",
       "      <td>Lillestrøm SK</td>\n",
       "      <td>?</td>\n",
       "      <td>in</td>\n",
       "      <td>NaN</td>\n",
       "      <td>1992</td>\n",
       "      <td>1</td>\n",
       "      <td>1</td>\n",
       "    </tr>\n",
       "    <tr>\n",
       "      <th>3</th>\n",
       "      <td>Fortuna Sittard</td>\n",
       "      <td>Arno van Zwam</td>\n",
       "      <td>22.0</td>\n",
       "      <td>Goalkeeper</td>\n",
       "      <td>Fortuna U19</td>\n",
       "      <td>-</td>\n",
       "      <td>in</td>\n",
       "      <td>0.0</td>\n",
       "      <td>1992</td>\n",
       "      <td>1</td>\n",
       "      <td>2</td>\n",
       "    </tr>\n",
       "    <tr>\n",
       "      <th>4</th>\n",
       "      <td>Dordrecht'90</td>\n",
       "      <td>Michel Langerak</td>\n",
       "      <td>23.0</td>\n",
       "      <td>Attacking Midfield</td>\n",
       "      <td>VVV-Venlo</td>\n",
       "      <td>?</td>\n",
       "      <td>in</td>\n",
       "      <td>NaN</td>\n",
       "      <td>1992</td>\n",
       "      <td>1</td>\n",
       "      <td>3</td>\n",
       "    </tr>\n",
       "  </tbody>\n",
       "</table>\n",
       "</div>"
      ],
      "text/plain": [
       "         club_name        player_name   age            position  \\\n",
       "0  Fortuna Sittard        Rene Hofman  31.0        Right Winger   \n",
       "1  Fortuna Sittard      Peter Schmitz  21.0             Forward   \n",
       "2  Fortuna Sittard  Kenneth Nysaether  22.0      Centre-Forward   \n",
       "3  Fortuna Sittard      Arno van Zwam  22.0          Goalkeeper   \n",
       "4     Dordrecht'90    Michel Langerak  23.0  Attacking Midfield   \n",
       "\n",
       "  club_involved_name fee transfer_movement  fee_cleaned  year  num_transfer  \\\n",
       "0            Roda JC   ?                in          NaN  1992             1   \n",
       "1      Helmond Sport   ?                in          NaN  1992             1   \n",
       "2      Lillestrøm SK   ?                in          NaN  1992             1   \n",
       "3        Fortuna U19   -                in          0.0  1992             1   \n",
       "4          VVV-Venlo   ?                in          NaN  1992             1   \n",
       "\n",
       "   max_transfer  \n",
       "0             1  \n",
       "1             1  \n",
       "2             1  \n",
       "3             2  \n",
       "4             3  "
      ]
     },
     "execution_count": 19,
     "metadata": {},
     "output_type": "execute_result"
    }
   ],
   "source": [
    "# add column `num_transfer` which represent the number of time a player moved\n",
    "df['count'] = 1\n",
    "df['num_transfer'] = df.groupby('player_name')['count'].cumcount() + 1\n",
    "df['max_transfer'] = df.groupby('player_name')['num_transfer'].transform(np.max)\n",
    "df.drop(columns = 'count', inplace = True)\n",
    "print(f'number of observation: {len(df)}')\n",
    "df.head()"
   ]
  },
  {
   "cell_type": "code",
   "execution_count": null,
   "metadata": {
    "ExecuteTime": {
     "end_time": "2020-12-10T16:09:03.264852Z",
     "start_time": "2020-12-10T16:09:03.215898Z"
    }
   },
   "outputs": [],
   "source": [
    "# # only select the players that have at least two transfers to see the improvement\n",
    "# target_player = list(df[df['num_transfer'] > 1]['player_name'])\n",
    "\n",
    "# df = df[df['player_name'].isin(target_player)]\n",
    "# df.reset_index(drop = True, inplace = True)\n",
    "# print(f'number of observation: {len(df)}')\n",
    "# df.head()"
   ]
  },
  {
   "cell_type": "raw",
   "metadata": {
    "ExecuteTime": {
     "end_time": "2020-12-02T02:00:21.007926Z",
     "start_time": "2020-12-02T02:00:20.993965Z"
    }
   },
   "source": [
    "\"\"\"\n",
    "\n",
    "`was_in` nested dictionary structure:\n",
    "\n",
    "{ `player1` : { `club1`: { `Year1` : [Player1, Player2, Player3....] <- from the affiliated club,\n",
    "                           `Year2` : [Player1, Player2, Player3....] <- from the affiliated club,\n",
    "                                   : }\n",
    "              { `club2`: { `Year1` : [Player1, Player2, Player3....] <- from the affiliated club,\n",
    "                           `Year2` : [Player1, Player2, Player3....] <- from the affiliated club,\n",
    "                                   : }\n",
    "                                   :\n",
    "              }  \n",
    "  `player2` : { `club1`: { `Year1` : [Player1, Player2, Player3....] <- from the affiliated club,\n",
    "                           `Year2` : [Player1, Player2, Player3....] <- from the affiliated club,\n",
    "                                   : }\n",
    "              { `club2`: { `Year1` : [Player1, Player2, Player3....] <- from the affiliated club,\n",
    "                           `Year2` : [Player1, Player2, Player3....] <- from the affiliated club,\n",
    "                                   : }\n",
    "                                   :\n",
    "              }\n",
    "}\n",
    "\"\"\""
   ]
  },
  {
   "cell_type": "code",
   "execution_count": 20,
   "metadata": {
    "ExecuteTime": {
     "end_time": "2020-12-11T00:07:11.912626Z",
     "start_time": "2020-12-11T00:07:11.884097Z"
    }
   },
   "outputs": [
    {
     "name": "stdout",
     "output_type": "stream",
     "text": [
      "Number of players: 28976\n",
      "Number of clubs: 401\n"
     ]
    }
   ],
   "source": [
    "# get player_list\n",
    "player_list = list(df['player_name'].unique())\n",
    "print(f'Number of players: {len(player_list)}')\n",
    "print(f'Number of clubs: {len(df.club_name.unique())}')"
   ]
  },
  {
   "cell_type": "code",
   "execution_count": 21,
   "metadata": {
    "ExecuteTime": {
     "end_time": "2020-12-11T00:13:49.401992Z",
     "start_time": "2020-12-11T00:07:12.493793Z"
    },
    "scrolled": true
   },
   "outputs": [
    {
     "data": {
      "application/vnd.jupyter.widget-view+json": {
       "model_id": "99dd557556d34973ba049c495eaca00a",
       "version_major": 2,
       "version_minor": 0
      },
      "text/plain": [
       "HBox(children=(HTML(value=''), FloatProgress(value=0.0, max=28976.0), HTML(value='')))"
      ]
     },
     "metadata": {},
     "output_type": "display_data"
    },
    {
     "name": "stdout",
     "output_type": "stream",
     "text": [
      "\n"
     ]
    }
   ],
   "source": [
    "# initiate a nested dictionary ---> {`was_in` {`aff_clubs` {`year_member`} } }\n",
    "was_in = {}\n",
    "\n",
    "# loop over the dataset\n",
    "for player in tqdm(player_list):\n",
    "    \n",
    "    # subset df by player\n",
    "    temp_df = df[df['player_name'] == player]\n",
    "    \n",
    "    # reset_index\n",
    "    temp_df.reset_index(drop = True, inplace = True)\n",
    "    \n",
    "    # initiate inside dictionaries\n",
    "    aff_clubs = {}\n",
    "    \n",
    "    \"\"\"\n",
    "    loop over the dataset to get the year and club name \n",
    "    this represent that a player stay in a club from year A - year B \n",
    "    in this case, we can ignore the last row because no further analysis is needed\n",
    "    as the next transaction has not occurred yet\n",
    "    \"\"\"\n",
    "    \n",
    "    for row in range(len(temp_df) - 1):\n",
    "        \n",
    "        # initiate inside dictionaries\n",
    "        year_member = {}\n",
    "        \n",
    "        club_name = temp_df.iloc[row]['club_name']\n",
    "        \n",
    "        year_list = np.arange(temp_df.iloc[row]['year'], temp_df.iloc[row + 1]['year'])\n",
    "        \n",
    "        # get the affiliated player each year from `nested_dict`\n",
    "        for year in year_list:\n",
    "            \n",
    "            aff_players = nested_dict[year][club_name]\n",
    "            \n",
    "            # add data to `year_member`\n",
    "            year_member[year] = aff_players\n",
    "      \n",
    "        # add data to aff_club \n",
    "        \n",
    "        # adjust for the case when player moves back to the club he's been before\n",
    "        if club_name in aff_clubs.keys():\n",
    "            \n",
    "                aff_clubs[club_name].update(year_member)\n",
    "            \n",
    "        else:\n",
    "            \n",
    "            aff_clubs[club_name] = year_member\n",
    "            \n",
    "    # add data to was_in\n",
    "    was_in[player] = aff_clubs"
   ]
  },
  {
   "cell_type": "code",
   "execution_count": null,
   "metadata": {
    "ExecuteTime": {
     "end_time": "2020-12-10T16:17:41.925924Z",
     "start_time": "2020-12-10T16:17:41.923352Z"
    }
   },
   "outputs": [],
   "source": [
    "# was_in"
   ]
  },
  {
   "cell_type": "code",
   "execution_count": 22,
   "metadata": {
    "ExecuteTime": {
     "end_time": "2020-12-11T00:13:53.295973Z",
     "start_time": "2020-12-11T00:13:53.183839Z"
    }
   },
   "outputs": [
    {
     "name": "stdout",
     "output_type": "stream",
     "text": [
      "number of observation: 78625\n"
     ]
    },
    {
     "data": {
      "text/html": [
       "<div>\n",
       "<style scoped>\n",
       "    .dataframe tbody tr th:only-of-type {\n",
       "        vertical-align: middle;\n",
       "    }\n",
       "\n",
       "    .dataframe tbody tr th {\n",
       "        vertical-align: top;\n",
       "    }\n",
       "\n",
       "    .dataframe thead th {\n",
       "        text-align: right;\n",
       "    }\n",
       "</style>\n",
       "<table border=\"1\" class=\"dataframe\">\n",
       "  <thead>\n",
       "    <tr style=\"text-align: right;\">\n",
       "      <th></th>\n",
       "      <th>club_name</th>\n",
       "      <th>player_name</th>\n",
       "      <th>age</th>\n",
       "      <th>position</th>\n",
       "      <th>club_involved_name</th>\n",
       "      <th>fee</th>\n",
       "      <th>transfer_movement</th>\n",
       "      <th>fee_cleaned</th>\n",
       "      <th>year</th>\n",
       "      <th>num_transfer</th>\n",
       "      <th>max_transfer</th>\n",
       "    </tr>\n",
       "  </thead>\n",
       "  <tbody>\n",
       "    <tr>\n",
       "      <th>0</th>\n",
       "      <td>AS Monaco</td>\n",
       "      <td>Aadil Assana</td>\n",
       "      <td>20.0</td>\n",
       "      <td>Defensive Midfield</td>\n",
       "      <td>Clermont Foot</td>\n",
       "      <td>End of loanJun 30, 2013</td>\n",
       "      <td>in</td>\n",
       "      <td>0.000</td>\n",
       "      <td>2013</td>\n",
       "      <td>1</td>\n",
       "      <td>2</td>\n",
       "    </tr>\n",
       "    <tr>\n",
       "      <th>1</th>\n",
       "      <td>AS Monaco</td>\n",
       "      <td>Aadil Assana</td>\n",
       "      <td>20.0</td>\n",
       "      <td>Defensive Midfield</td>\n",
       "      <td>CA Bastia</td>\n",
       "      <td>End of loanJan 20, 2014</td>\n",
       "      <td>in</td>\n",
       "      <td>0.000</td>\n",
       "      <td>2013</td>\n",
       "      <td>2</td>\n",
       "      <td>2</td>\n",
       "    </tr>\n",
       "    <tr>\n",
       "      <th>2</th>\n",
       "      <td>Leeds United</td>\n",
       "      <td>Aapo Halme</td>\n",
       "      <td>19.0</td>\n",
       "      <td>Centre-Back</td>\n",
       "      <td>HJK Helsinki</td>\n",
       "      <td>£504Th.</td>\n",
       "      <td>in</td>\n",
       "      <td>0.504</td>\n",
       "      <td>2017</td>\n",
       "      <td>1</td>\n",
       "      <td>2</td>\n",
       "    </tr>\n",
       "    <tr>\n",
       "      <th>3</th>\n",
       "      <td>Barnsley FC</td>\n",
       "      <td>Aapo Halme</td>\n",
       "      <td>21.0</td>\n",
       "      <td>Centre-Back</td>\n",
       "      <td>Leeds</td>\n",
       "      <td>£203Th.</td>\n",
       "      <td>in</td>\n",
       "      <td>0.203</td>\n",
       "      <td>2019</td>\n",
       "      <td>2</td>\n",
       "      <td>2</td>\n",
       "    </tr>\n",
       "    <tr>\n",
       "      <th>4</th>\n",
       "      <td>Bristol City</td>\n",
       "      <td>Aaron Amadi-Holloway</td>\n",
       "      <td>18.0</td>\n",
       "      <td>Centre-Forward</td>\n",
       "      <td>Bristol City U18</td>\n",
       "      <td>-</td>\n",
       "      <td>in</td>\n",
       "      <td>0.000</td>\n",
       "      <td>2011</td>\n",
       "      <td>1</td>\n",
       "      <td>2</td>\n",
       "    </tr>\n",
       "  </tbody>\n",
       "</table>\n",
       "</div>"
      ],
      "text/plain": [
       "      club_name           player_name   age            position  \\\n",
       "0     AS Monaco          Aadil Assana  20.0  Defensive Midfield   \n",
       "1     AS Monaco          Aadil Assana  20.0  Defensive Midfield   \n",
       "2  Leeds United            Aapo Halme  19.0         Centre-Back   \n",
       "3   Barnsley FC            Aapo Halme  21.0         Centre-Back   \n",
       "4  Bristol City  Aaron Amadi-Holloway  18.0      Centre-Forward   \n",
       "\n",
       "  club_involved_name                      fee transfer_movement  fee_cleaned  \\\n",
       "0      Clermont Foot  End of loanJun 30, 2013                in        0.000   \n",
       "1          CA Bastia  End of loanJan 20, 2014                in        0.000   \n",
       "2       HJK Helsinki                  £504Th.                in        0.504   \n",
       "3              Leeds                  £203Th.                in        0.203   \n",
       "4   Bristol City U18                        -                in        0.000   \n",
       "\n",
       "   year  num_transfer  max_transfer  \n",
       "0  2013             1             2  \n",
       "1  2013             2             2  \n",
       "2  2017             1             2  \n",
       "3  2019             2             2  \n",
       "4  2011             1             2  "
      ]
     },
     "execution_count": 22,
     "metadata": {},
     "output_type": "execute_result"
    }
   ],
   "source": [
    "# table we will use\n",
    "df.sort_values(['player_name', 'num_transfer'], inplace = True)\n",
    "df.reset_index(drop = True, inplace = True)\n",
    "print(f'number of observation: {len(df)}')\n",
    "df.head()"
   ]
  },
  {
   "cell_type": "code",
   "execution_count": 23,
   "metadata": {
    "ExecuteTime": {
     "end_time": "2020-12-11T00:14:02.428925Z",
     "start_time": "2020-12-11T00:13:57.081567Z"
    }
   },
   "outputs": [
    {
     "data": {
      "application/vnd.jupyter.widget-view+json": {
       "model_id": "73307ab74e3e4260b4c754446de8c285",
       "version_major": 2,
       "version_minor": 0
      },
      "text/plain": [
       "HBox(children=(HTML(value=''), FloatProgress(value=0.0, max=78625.0), HTML(value='')))"
      ]
     },
     "metadata": {},
     "output_type": "display_data"
    },
    {
     "name": "stdout",
     "output_type": "stream",
     "text": [
      "\n"
     ]
    }
   ],
   "source": [
    "# generate `k` column\n",
    "\n",
    "# initiate a list\n",
    "k = []\n",
    "\n",
    "# loop over the dataset\n",
    "for i in tqdm(range(len(df))):\n",
    "    \n",
    "    # there is nothing to do with the `k` for the first transfer\n",
    "    if df['num_transfer'][i] == 1:  \n",
    "        \n",
    "        k.append(None)\n",
    "        \n",
    "    else:  \n",
    "        # get necessary variables (keys)\n",
    "        player = df['player_name'][i]\n",
    "        prev_club = df['club_name'][i-1]\n",
    "        club = df['club_name'][i]\n",
    "        prev_year = df['year'][i-1]\n",
    "        this_year = df['year'][i]\n",
    "        year_range = np.arange(prev_year, this_year)\n",
    "        \n",
    "        # get all the affiliated players\n",
    "        aff_players = []\n",
    "        for year in year_range:\n",
    "            aff_player = was_in[player][prev_club][year]\n",
    "            aff_players.extend(aff_player)\n",
    "        \n",
    "        # get all member in the club player is joining\n",
    "        in_club_player = nested_dict[this_year][club]\n",
    "        \n",
    "        if df['num_transfer'][i] > 2:\n",
    "            # accumulate affiliated players\n",
    "            aff_players = set.union(set(prev_set), set(aff_players))\n",
    "        \n",
    "        # get `k_val`\n",
    "        k_val = len(set.intersection(set(aff_players), set(in_club_player)))\n",
    "        \n",
    "        # append `k_val` to `k`\n",
    "        k.append(k_val)\n",
    "        \n",
    "        # previous affiliated player set\n",
    "        prev_set = set(aff_players)\n",
    "\n",
    "# add `k` column\n",
    "df['k'] = k"
   ]
  },
  {
   "cell_type": "code",
   "execution_count": 61,
   "metadata": {
    "ExecuteTime": {
     "end_time": "2020-12-11T00:26:25.034169Z",
     "start_time": "2020-12-11T00:26:25.015673Z"
    }
   },
   "outputs": [
    {
     "data": {
      "text/html": [
       "<div>\n",
       "<style scoped>\n",
       "    .dataframe tbody tr th:only-of-type {\n",
       "        vertical-align: middle;\n",
       "    }\n",
       "\n",
       "    .dataframe tbody tr th {\n",
       "        vertical-align: top;\n",
       "    }\n",
       "\n",
       "    .dataframe thead th {\n",
       "        text-align: right;\n",
       "    }\n",
       "</style>\n",
       "<table border=\"1\" class=\"dataframe\">\n",
       "  <thead>\n",
       "    <tr style=\"text-align: right;\">\n",
       "      <th></th>\n",
       "      <th>club_name</th>\n",
       "      <th>player_name</th>\n",
       "      <th>age</th>\n",
       "      <th>position</th>\n",
       "      <th>club_involved_name</th>\n",
       "      <th>fee</th>\n",
       "      <th>transfer_movement</th>\n",
       "      <th>fee_cleaned</th>\n",
       "      <th>year</th>\n",
       "      <th>num_transfer</th>\n",
       "      <th>max_transfer</th>\n",
       "      <th>k</th>\n",
       "    </tr>\n",
       "  </thead>\n",
       "  <tbody>\n",
       "    <tr>\n",
       "      <th>0</th>\n",
       "      <td>AS Monaco</td>\n",
       "      <td>Aadil Assana</td>\n",
       "      <td>20.0</td>\n",
       "      <td>Defensive Midfield</td>\n",
       "      <td>Clermont Foot</td>\n",
       "      <td>End of loanJun 30, 2013</td>\n",
       "      <td>in</td>\n",
       "      <td>0.000</td>\n",
       "      <td>2013</td>\n",
       "      <td>1</td>\n",
       "      <td>2</td>\n",
       "      <td>NaN</td>\n",
       "    </tr>\n",
       "    <tr>\n",
       "      <th>1</th>\n",
       "      <td>AS Monaco</td>\n",
       "      <td>Aadil Assana</td>\n",
       "      <td>20.0</td>\n",
       "      <td>Defensive Midfield</td>\n",
       "      <td>CA Bastia</td>\n",
       "      <td>End of loanJan 20, 2014</td>\n",
       "      <td>in</td>\n",
       "      <td>0.000</td>\n",
       "      <td>2013</td>\n",
       "      <td>2</td>\n",
       "      <td>2</td>\n",
       "      <td>0.0</td>\n",
       "    </tr>\n",
       "    <tr>\n",
       "      <th>2</th>\n",
       "      <td>Leeds United</td>\n",
       "      <td>Aapo Halme</td>\n",
       "      <td>19.0</td>\n",
       "      <td>Centre-Back</td>\n",
       "      <td>HJK Helsinki</td>\n",
       "      <td>£504Th.</td>\n",
       "      <td>in</td>\n",
       "      <td>0.504</td>\n",
       "      <td>2017</td>\n",
       "      <td>1</td>\n",
       "      <td>2</td>\n",
       "      <td>NaN</td>\n",
       "    </tr>\n",
       "    <tr>\n",
       "      <th>3</th>\n",
       "      <td>Barnsley FC</td>\n",
       "      <td>Aapo Halme</td>\n",
       "      <td>21.0</td>\n",
       "      <td>Centre-Back</td>\n",
       "      <td>Leeds</td>\n",
       "      <td>£203Th.</td>\n",
       "      <td>in</td>\n",
       "      <td>0.203</td>\n",
       "      <td>2019</td>\n",
       "      <td>2</td>\n",
       "      <td>2</td>\n",
       "      <td>2.0</td>\n",
       "    </tr>\n",
       "    <tr>\n",
       "      <th>4</th>\n",
       "      <td>Bristol City</td>\n",
       "      <td>Aaron Amadi-Holloway</td>\n",
       "      <td>18.0</td>\n",
       "      <td>Centre-Forward</td>\n",
       "      <td>Bristol City U18</td>\n",
       "      <td>-</td>\n",
       "      <td>in</td>\n",
       "      <td>0.000</td>\n",
       "      <td>2011</td>\n",
       "      <td>1</td>\n",
       "      <td>2</td>\n",
       "      <td>NaN</td>\n",
       "    </tr>\n",
       "  </tbody>\n",
       "</table>\n",
       "</div>"
      ],
      "text/plain": [
       "      club_name           player_name   age            position  \\\n",
       "0     AS Monaco          Aadil Assana  20.0  Defensive Midfield   \n",
       "1     AS Monaco          Aadil Assana  20.0  Defensive Midfield   \n",
       "2  Leeds United            Aapo Halme  19.0         Centre-Back   \n",
       "3   Barnsley FC            Aapo Halme  21.0         Centre-Back   \n",
       "4  Bristol City  Aaron Amadi-Holloway  18.0      Centre-Forward   \n",
       "\n",
       "  club_involved_name                      fee transfer_movement  fee_cleaned  \\\n",
       "0      Clermont Foot  End of loanJun 30, 2013                in        0.000   \n",
       "1          CA Bastia  End of loanJan 20, 2014                in        0.000   \n",
       "2       HJK Helsinki                  £504Th.                in        0.504   \n",
       "3              Leeds                  £203Th.                in        0.203   \n",
       "4   Bristol City U18                        -                in        0.000   \n",
       "\n",
       "   year  num_transfer  max_transfer    k  \n",
       "0  2013             1             2  NaN  \n",
       "1  2013             2             2  0.0  \n",
       "2  2017             1             2  NaN  \n",
       "3  2019             2             2  2.0  \n",
       "4  2011             1             2  NaN  "
      ]
     },
     "execution_count": 61,
     "metadata": {},
     "output_type": "execute_result"
    }
   ],
   "source": [
    "df.head()"
   ]
  },
  {
   "cell_type": "code",
   "execution_count": 58,
   "metadata": {
    "ExecuteTime": {
     "end_time": "2020-12-11T00:25:09.416034Z",
     "start_time": "2020-12-11T00:25:09.401465Z"
    }
   },
   "outputs": [],
   "source": [
    "# get k-pk table\n",
    "k_count = df[['k']].dropna()\n",
    "k_count['count'] = 1\n",
    "k_count = pd.DataFrame(k_count.groupby('k')['count'].agg('count'))\n",
    "k_count.reset_index(inplace = True)\n",
    "# hardcode: further `k` does not seem relevant anymore\n",
    "xmax = 6\n",
    "k_count = k_count[k_count['k'] <= xmax]\n",
    "k_count['pk'] = k_count['count'] / sum(k_count['count'])\n",
    "k_count = k_count.drop(columns = 'count')\n",
    "\n",
    "k_pk = k_count\n",
    "k_pk"
   ]
  },
  {
   "cell_type": "code",
   "execution_count": 60,
   "metadata": {
    "ExecuteTime": {
     "end_time": "2020-12-11T00:25:17.736426Z",
     "start_time": "2020-12-11T00:25:17.571429Z"
    }
   },
   "outputs": [
    {
     "data": {
      "text/plain": [
       "<BarContainer object of 7 artists>"
      ]
     },
     "execution_count": 60,
     "metadata": {},
     "output_type": "execute_result"
    },
    {
     "data": {
      "image/png": "[encoded data removed]",
      "text/plain": [
       "<Figure size 432x288 with 1 Axes>"
      ]
     },
     "metadata": {
      "needs_background": "light"
     },
     "output_type": "display_data"
    }
   ],
   "source": [
    "plt.bar(k_pk['k'],\n",
    "         k_pk['pk'],\n",
    "         color = 'black')"
   ]
  },
  {
   "cell_type": "markdown",
   "metadata": {},
   "source": [
    "## Homophily-Performance Analysis"
   ]
  },
  {
   "cell_type": "code",
   "execution_count": null,
   "metadata": {
    "ExecuteTime": {
     "end_time": "2020-12-10T15:21:53.061341Z",
     "start_time": "2020-12-10T15:21:53.047763Z"
    }
   },
   "outputs": [],
   "source": [
    "print(f'number of observation: {len(node_edge_df)}')\n",
    "node_edge_df.head()"
   ]
  },
  {
   "cell_type": "markdown",
   "metadata": {},
   "source": [
    "### Create structured data"
   ]
  },
  {
   "cell_type": "raw",
   "metadata": {
    "ExecuteTime": {
     "end_time": "2020-12-01T23:10:48.720217Z",
     "start_time": "2020-12-01T23:10:48.716072Z"
    }
   },
   "source": [
    "\"\"\"\n",
    "Example of designed nested dictionary  \n",
    "{ `Year1` : { `Club1` : [Player1, Player2, Player3....],\n",
    "              `Club2` : [Player1, Player2, Player3....],\n",
    "                      :\n",
    "                      :\n",
    "                      :\n",
    "        }  \n",
    "  `Year2` : { `Club1` : [Player1, Player2, Player3....],\n",
    "              `Club2` : [Player1, Player2, Player3....],\n",
    "                      :\n",
    "                      :\n",
    "                      :\n",
    "        }\n",
    "}\n",
    "\"\"\""
   ]
  },
  {
   "cell_type": "code",
   "execution_count": null,
   "metadata": {
    "ExecuteTime": {
     "end_time": "2020-12-10T15:21:53.448041Z",
     "start_time": "2020-12-10T15:21:53.147346Z"
    }
   },
   "outputs": [],
   "source": [
    "# 2 components needed: 'year_list', 'club_list'\n",
    "year_list = sorted(sorted(node_edge_df['year'].unique()))\n",
    "club_list = sorted(node_edge_df['club_name'].unique())"
   ]
  },
  {
   "cell_type": "code",
   "execution_count": null,
   "metadata": {
    "ExecuteTime": {
     "end_time": "2020-12-10T15:21:53.549477Z",
     "start_time": "2020-12-10T15:21:53.530201Z"
    }
   },
   "outputs": [],
   "source": [
    "# define function to remove elements in a list from another list\n",
    "def remove_elem_by_list(list1, list2):\n",
    "    for elem in list2:\n",
    "        try:\n",
    "            list1.remove(elem)\n",
    "        except Exception:\n",
    "            pass\n",
    "    return list1"
   ]
  },
  {
   "cell_type": "code",
   "execution_count": null,
   "metadata": {
    "ExecuteTime": {
     "end_time": "2020-12-10T15:22:15.407860Z",
     "start_time": "2020-12-10T15:21:53.628873Z"
    }
   },
   "outputs": [],
   "source": [
    "# nested dictionary: year: `club_member`\n",
    "nested_dict = {}\n",
    "prev_year = None\n",
    "\n",
    "# loop over year:\n",
    "for year in tqdm(year_list):\n",
    "    \n",
    "    if prev_year in nested_dict.keys():\n",
    "        \n",
    "        # retrieve club-player info in the previous year for the second year and so on\n",
    "        club_member = copy.deepcopy(nested_dict[prev_year])\n",
    "    \n",
    "    else:\n",
    "        # initiate a dictionary of clubs (keys) and their affiliated players (values)\n",
    "        club_member = {}\n",
    "    \n",
    "    # subset data by year\n",
    "    data = node_edge_df[node_edge_df['year'] == year]\n",
    "    \n",
    "    # subset for transfer_movement == 'in', 'out' \n",
    "    data_in = data[data['transfer_movement'] == 'in']\n",
    "    data_out = data[data['transfer_movement'] == 'out']\n",
    "        \n",
    "    # loop over club:\n",
    "    for club in club_list:\n",
    "        \n",
    "        # subset data by club \n",
    "        temp_data_in = data_in[data_in['club_name'] == club]\n",
    "        temp_data_out = data_out[data_out['club_name'] == club]\n",
    "        \n",
    "        # update all players in that club in the dictionary (`club_member`)\n",
    "        player_list_in = list(temp_data_in['player_name'])\n",
    "        player_list_out = list(temp_data_out['player_name'])\n",
    "        \n",
    "        if prev_year in nested_dict.keys():\n",
    "            \n",
    "            # catch bug (The case when club has no member yet)\n",
    "            if club_member[club] is None:\n",
    "                club_member[club] = []\n",
    "            \n",
    "            # adjust for members who move in\n",
    "            club_member[club].extend(player_list_in)\n",
    "            # adjust for members who move out\n",
    "            remove_elem_by_list(club_member[club], player_list_out)\n",
    "            \n",
    "        else:\n",
    "            # update club_member info\n",
    "            club_member[club] = remove_elem_by_list(player_list_in, player_list_out)\n",
    "            \n",
    "    # store `club_member` in `nested_dict`\n",
    "    nested_dict[year] = club_member\n",
    "    \n",
    "    # set previous year\n",
    "    prev_year = year"
   ]
  },
  {
   "cell_type": "markdown",
   "metadata": {},
   "source": [
    "### Performance Analysis (Fee)"
   ]
  },
  {
   "cell_type": "code",
   "execution_count": null,
   "metadata": {
    "ExecuteTime": {
     "end_time": "2020-12-10T15:22:15.700595Z",
     "start_time": "2020-12-10T15:22:15.688284Z"
    }
   },
   "outputs": [],
   "source": [
    "perf_eval_df.head()"
   ]
  },
  {
   "cell_type": "code",
   "execution_count": null,
   "metadata": {
    "ExecuteTime": {
     "end_time": "2020-12-10T15:22:15.962990Z",
     "start_time": "2020-12-10T15:22:15.955476Z"
    }
   },
   "outputs": [],
   "source": [
    "adj_coef_table.head()"
   ]
  },
  {
   "cell_type": "code",
   "execution_count": null,
   "metadata": {
    "ExecuteTime": {
     "end_time": "2020-12-10T15:22:16.248931Z",
     "start_time": "2020-12-10T15:22:16.215836Z"
    }
   },
   "outputs": [],
   "source": [
    "# add `adjusted_fee` column which adjusted for player's age\n",
    "perf_eval_df = pd.merge(perf_eval_df, adj_coef_table, on = 'age', how = 'left')\n",
    "perf_eval_df['adjusted_fee'] = np.multiply(perf_eval_df['fee_cleaned'], perf_eval_df['coef'])\n",
    "\n",
    "# remove `coef` column\n",
    "perf_eval_df.drop(columns = 'coef', inplace = True)\n",
    "perf_eval_df.head()"
   ]
  },
  {
   "cell_type": "raw",
   "metadata": {
    "ExecuteTime": {
     "end_time": "2020-12-02T02:00:20.866834Z",
     "start_time": "2020-12-02T02:00:20.851876Z"
    }
   },
   "source": [
    "\"\"\"\n",
    "From the above table, \n",
    "In the case player A moves to club B, we want to get `k` which represents the number of players in club B\n",
    "that player A has ever been in the same club before.\n",
    "\"\"\""
   ]
  },
  {
   "cell_type": "code",
   "execution_count": null,
   "metadata": {
    "ExecuteTime": {
     "end_time": "2020-12-10T15:22:16.553827Z",
     "start_time": "2020-12-10T15:22:16.509167Z"
    }
   },
   "outputs": [],
   "source": [
    "# subset only `transfer_movement` == 'in'; we want to analyze the number of ties a player has\n",
    "# before entering a team\n",
    "df = perf_eval_df[perf_eval_df['transfer_movement'] == 'in']\n",
    "df.reset_index(drop = True, inplace = True)\n",
    "# clean the table\n",
    "df.drop_duplicates(inplace = True)"
   ]
  },
  {
   "cell_type": "code",
   "execution_count": null,
   "metadata": {
    "ExecuteTime": {
     "end_time": "2020-12-10T15:22:16.888659Z",
     "start_time": "2020-12-10T15:22:16.824114Z"
    }
   },
   "outputs": [],
   "source": [
    "# add column `num_transfer` which represent the number of time a player moved\n",
    "df['count'] = 1\n",
    "df['num_transfer'] = df.groupby('player_name')['count'].cumcount() + 1\n",
    "df['max_transfer'] = df.groupby('player_name')['num_transfer'].transform(np.max)\n",
    "df.drop(columns = 'count', inplace = True)\n",
    "print(f'number of observation: {len(df)}')\n",
    "df.head()"
   ]
  },
  {
   "cell_type": "code",
   "execution_count": null,
   "metadata": {
    "ExecuteTime": {
     "end_time": "2020-12-10T15:22:17.219653Z",
     "start_time": "2020-12-10T15:22:17.196473Z"
    }
   },
   "outputs": [],
   "source": [
    "# only select the players that have at least two transfers to see the improvement\n",
    "target_player = list(df[df['num_transfer'] > 1]['player_name'])\n",
    "\n",
    "df = df[df['player_name'].isin(target_player)]\n",
    "df.reset_index(drop = True, inplace = True)\n",
    "print(f'number of observation: {len(df)}')\n",
    "df.head()"
   ]
  },
  {
   "cell_type": "raw",
   "metadata": {
    "ExecuteTime": {
     "end_time": "2020-12-02T02:00:21.007926Z",
     "start_time": "2020-12-02T02:00:20.993965Z"
    }
   },
   "source": [
    "\"\"\"\n",
    "\n",
    "`was_in` nested dictionary structure:\n",
    "\n",
    "{ `player1` : { `club1`: { `Year1` : [Player1, Player2, Player3....] <- from the affiliated club,\n",
    "                           `Year2` : [Player1, Player2, Player3....] <- from the affiliated club,\n",
    "                                   : }\n",
    "              { `club2`: { `Year1` : [Player1, Player2, Player3....] <- from the affiliated club,\n",
    "                           `Year2` : [Player1, Player2, Player3....] <- from the affiliated club,\n",
    "                                   : }\n",
    "                                   :\n",
    "              }  \n",
    "  `player2` : { `club1`: { `Year1` : [Player1, Player2, Player3....] <- from the affiliated club,\n",
    "                           `Year2` : [Player1, Player2, Player3....] <- from the affiliated club,\n",
    "                                   : }\n",
    "              { `club2`: { `Year1` : [Player1, Player2, Player3....] <- from the affiliated club,\n",
    "                           `Year2` : [Player1, Player2, Player3....] <- from the affiliated club,\n",
    "                                   : }\n",
    "                                   :\n",
    "              }\n",
    "}\n",
    "\"\"\""
   ]
  },
  {
   "cell_type": "code",
   "execution_count": null,
   "metadata": {
    "ExecuteTime": {
     "end_time": "2020-12-10T15:22:17.513787Z",
     "start_time": "2020-12-10T15:22:17.507812Z"
    }
   },
   "outputs": [],
   "source": [
    "# get player_list\n",
    "player_list = list(df['player_name'].unique())\n",
    "print(f'Number of players: {len(player_list)}')\n",
    "print(f'Number of clubs: {len(df.club_name.unique())}')"
   ]
  },
  {
   "cell_type": "code",
   "execution_count": null,
   "metadata": {
    "ExecuteTime": {
     "end_time": "2020-12-10T15:22:27.165130Z",
     "start_time": "2020-12-10T15:22:17.785974Z"
    },
    "scrolled": true
   },
   "outputs": [],
   "source": [
    "# initiate a nested dictionary ---> {`was_in` {`aff_clubs` {`year_member`} } }\n",
    "was_in = {}\n",
    "\n",
    "# loop over the dataset\n",
    "for player in tqdm(player_list):\n",
    "    \n",
    "    # subset df by player\n",
    "    temp_df = df[df['player_name'] == player]\n",
    "    \n",
    "    # reset_index\n",
    "    temp_df.reset_index(drop = True, inplace = True)\n",
    "    \n",
    "    # initiate inside dictionaries\n",
    "    aff_clubs = {}\n",
    "    \n",
    "    \"\"\"\n",
    "    loop over the dataset to get the year and club name \n",
    "    this represent that a player stay in a club from year A - year B \n",
    "    in this case, we can ignore the last row because no further analysis is needed\n",
    "    as the next transaction has not occurred yet\n",
    "    \"\"\"\n",
    "    \n",
    "    for row in range(len(temp_df) - 1):\n",
    "        \n",
    "        # initiate inside dictionaries\n",
    "        year_member = {}\n",
    "        \n",
    "        club_name = temp_df.iloc[row]['club_name']\n",
    "        \n",
    "        year_list = np.arange(temp_df.iloc[row]['year'], temp_df.iloc[row + 1]['year'])\n",
    "        \n",
    "        # get the affiliated player each year from `nested_dict`\n",
    "        for year in year_list:\n",
    "            \n",
    "            aff_players = nested_dict[year][club_name]\n",
    "            \n",
    "            # add data to `year_member`\n",
    "            year_member[year] = aff_players\n",
    "      \n",
    "        # add data to aff_club \n",
    "        \n",
    "        # adjust for the case when player moves back to the club he's been before\n",
    "        if club_name in aff_clubs.keys():\n",
    "            \n",
    "                aff_clubs[club_name].update(year_member)\n",
    "            \n",
    "        else:\n",
    "            \n",
    "            aff_clubs[club_name] = year_member\n",
    "            \n",
    "    # add data to was_in\n",
    "    was_in[player] = aff_clubs"
   ]
  },
  {
   "cell_type": "code",
   "execution_count": null,
   "metadata": {
    "ExecuteTime": {
     "end_time": "2020-12-10T15:22:27.762163Z",
     "start_time": "2020-12-10T15:22:27.759781Z"
    }
   },
   "outputs": [],
   "source": [
    "# was_in"
   ]
  },
  {
   "cell_type": "code",
   "execution_count": null,
   "metadata": {
    "ExecuteTime": {
     "end_time": "2020-12-10T15:22:28.336395Z",
     "start_time": "2020-12-10T15:22:28.309972Z"
    }
   },
   "outputs": [],
   "source": [
    "# table we will use\n",
    "df.sort_values(['player_name', 'num_transfer'], inplace = True)\n",
    "df.reset_index(drop = True, inplace = True)\n",
    "print(f'number of observation: {len(df)}')\n",
    "df.head()"
   ]
  },
  {
   "cell_type": "code",
   "execution_count": null,
   "metadata": {
    "ExecuteTime": {
     "end_time": "2020-12-10T15:22:37.035752Z",
     "start_time": "2020-12-10T15:22:28.892851Z"
    }
   },
   "outputs": [],
   "source": [
    "# get number of years in the club\n",
    "num_year_stay = []\n",
    "for i in range(len(df)):\n",
    "    if df['num_transfer'][i] < df['max_transfer'][i]:\n",
    "        val = df['year'][i+1] - df['year'][i]\n",
    "        num_year_stay.append(val)\n",
    "    else:\n",
    "        val = max(df['year']) - df['year'][i]\n",
    "        num_year_stay.append(val)\n",
    "df['num_year_stay'] = num_year_stay\n",
    "df.head()"
   ]
  },
  {
   "cell_type": "code",
   "execution_count": null,
   "metadata": {
    "ExecuteTime": {
     "end_time": "2020-12-10T15:22:38.218624Z",
     "start_time": "2020-12-10T15:22:37.604492Z"
    }
   },
   "outputs": [],
   "source": [
    "# generate `k` column\n",
    "\n",
    "# initiate a list\n",
    "k = []\n",
    "\n",
    "# loop over the dataset\n",
    "for i in tqdm(range(len(df))):\n",
    "    \n",
    "    # there is nothing to do with the `k` for the first transfer\n",
    "    if df['num_transfer'][i] == 1:  \n",
    "        \n",
    "        k.append(None)\n",
    "        \n",
    "    else:  \n",
    "        # get necessary variables (keys)\n",
    "        player = df['player_name'][i]\n",
    "        prev_club = df['club_name'][i-1]\n",
    "        club = df['club_name'][i]\n",
    "        prev_year = df['year'][i-1]\n",
    "        this_year = df['year'][i]\n",
    "        year_range = np.arange(prev_year, this_year)\n",
    "        \n",
    "        # get all the affiliated players\n",
    "        aff_players = []\n",
    "        for year in year_range:\n",
    "            aff_player = was_in[player][prev_club][year]\n",
    "            aff_players.extend(aff_player)\n",
    "        \n",
    "        # get all member in the club player is joining\n",
    "        in_club_player = nested_dict[this_year][club]\n",
    "        \n",
    "        if df['num_transfer'][i] > 2:\n",
    "            # accumulate affiliated players\n",
    "            aff_players = set.union(set(prev_set), set(aff_players))\n",
    "        \n",
    "        # get `k_val`\n",
    "        k_val = len(set.intersection(set(aff_players), set(in_club_player)))\n",
    "        \n",
    "        # append `k_val` to `k`\n",
    "        k.append(k_val)\n",
    "        \n",
    "        # previous affiliated player set\n",
    "        prev_set = set(aff_players)\n",
    "\n",
    "# add `k` column\n",
    "df['k'] = k"
   ]
  },
  {
   "cell_type": "code",
   "execution_count": null,
   "metadata": {
    "ExecuteTime": {
     "end_time": "2020-12-10T15:22:38.815419Z",
     "start_time": "2020-12-10T15:22:38.804355Z"
    }
   },
   "outputs": [],
   "source": [
    "# change in fee as a proxy of performance --> `perf_change`\n",
    "df['perf_change'] = df.groupby('player_name')['fee_cleaned'].pct_change()"
   ]
  },
  {
   "cell_type": "code",
   "execution_count": null,
   "metadata": {
    "ExecuteTime": {
     "end_time": "2020-12-10T15:22:39.418435Z",
     "start_time": "2020-12-10T15:22:39.408210Z"
    }
   },
   "outputs": [],
   "source": [
    "# change in adjusted fee as a proxy of performance --> `perf_change_adjusted`\n",
    "df['perf_change_adjusted'] = df.groupby('player_name')['adjusted_fee'].pct_change()"
   ]
  },
  {
   "cell_type": "code",
   "execution_count": null,
   "metadata": {
    "ExecuteTime": {
     "end_time": "2020-12-10T15:22:40.046084Z",
     "start_time": "2020-12-10T15:22:40.030113Z"
    }
   },
   "outputs": [],
   "source": [
    "df.head()"
   ]
  },
  {
   "cell_type": "code",
   "execution_count": null,
   "metadata": {
    "ExecuteTime": {
     "end_time": "2020-12-10T15:22:40.688898Z",
     "start_time": "2020-12-10T15:22:40.683076Z"
    }
   },
   "outputs": [],
   "source": [
    "# average number of year stayed by k\n",
    "for_num_year = df[['num_year_stay', 'k']].dropna()"
   ]
  },
  {
   "cell_type": "code",
   "execution_count": null,
   "metadata": {
    "ExecuteTime": {
     "end_time": "2020-12-10T15:22:41.328967Z",
     "start_time": "2020-12-10T15:22:41.317533Z"
    }
   },
   "outputs": [],
   "source": [
    "num_year_df = pd.DataFrame(for_num_year.groupby('k')['num_year_stay'].agg(['mean', 'count'])).reset_index()\n",
    "num_year_df.head()"
   ]
  },
  {
   "cell_type": "code",
   "execution_count": null,
   "metadata": {
    "ExecuteTime": {
     "end_time": "2020-12-10T15:22:41.987735Z",
     "start_time": "2020-12-10T15:22:41.973646Z"
    }
   },
   "outputs": [],
   "source": [
    "# get `k-perf` table\n",
    "k_perf = df[['k', 'perf_change', 'perf_change_adjusted']].dropna()\n",
    "k_perf.head()"
   ]
  },
  {
   "cell_type": "code",
   "execution_count": null,
   "metadata": {
    "ExecuteTime": {
     "end_time": "2020-12-10T15:22:42.689592Z",
     "start_time": "2020-12-10T15:22:42.679103Z"
    }
   },
   "outputs": [],
   "source": [
    "k_perf.sort_values(by = 'k', ascending = False).head()"
   ]
  },
  {
   "cell_type": "code",
   "execution_count": null,
   "metadata": {
    "ExecuteTime": {
     "end_time": "2020-12-10T15:22:43.343638Z",
     "start_time": "2020-12-10T15:22:43.327161Z"
    }
   },
   "outputs": [],
   "source": [
    "pd.DataFrame(k_perf.groupby('k')['perf_change'].agg(['median', 'count'])).reset_index()"
   ]
  },
  {
   "cell_type": "code",
   "execution_count": null,
   "metadata": {
    "ExecuteTime": {
     "end_time": "2020-12-10T15:22:43.987335Z",
     "start_time": "2020-12-10T15:22:43.969358Z"
    }
   },
   "outputs": [],
   "source": [
    "pd.DataFrame(k_perf.groupby('k')['perf_change_adjusted'].agg(['median', 'count'])).reset_index()"
   ]
  },
  {
   "cell_type": "markdown",
   "metadata": {},
   "source": [
    "#### Visualization"
   ]
  },
  {
   "cell_type": "code",
   "execution_count": null,
   "metadata": {
    "ExecuteTime": {
     "end_time": "2020-12-10T15:23:55.501849Z",
     "start_time": "2020-12-10T15:23:55.467688Z"
    }
   },
   "outputs": [],
   "source": [
    "# get average perf_change by k\n",
    "table = pd.DataFrame(k_perf.groupby('k')['perf_change']\\\n",
    "                     .agg(['mean', 'median', 'mad', 'count'])).reset_index()"
   ]
  },
  {
   "cell_type": "code",
   "execution_count": null,
   "metadata": {
    "ExecuteTime": {
     "end_time": "2020-12-10T15:24:50.614279Z",
     "start_time": "2020-12-10T15:24:50.610452Z"
    }
   },
   "outputs": [],
   "source": [
    "table['pk'] = table['count'] / sum(table['count'])"
   ]
  },
  {
   "cell_type": "code",
   "execution_count": null,
   "metadata": {
    "ExecuteTime": {
     "end_time": "2020-12-10T15:25:15.722556Z",
     "start_time": "2020-12-10T15:25:15.689986Z"
    }
   },
   "outputs": [],
   "source": [
    "# get average perf_change_adjusted by k\n",
    "table2 = pd.DataFrame(k_perf.groupby('k')['perf_change_adjusted']\\\n",
    "                      .agg(['mean', 'median', 'mad', 'count'])).reset_index()"
   ]
  },
  {
   "cell_type": "code",
   "execution_count": null,
   "metadata": {
    "ExecuteTime": {
     "end_time": "2020-12-10T15:25:28.074824Z",
     "start_time": "2020-12-10T15:25:28.071292Z"
    }
   },
   "outputs": [],
   "source": [
    "table2['pk'] = table['count'] / sum(table['count'])"
   ]
  },
  {
   "cell_type": "code",
   "execution_count": null,
   "metadata": {
    "ExecuteTime": {
     "end_time": "2020-12-10T15:25:29.175476Z",
     "start_time": "2020-12-10T15:25:29.171254Z"
    }
   },
   "outputs": [],
   "source": [
    "# get the index where `count` >= 30\n",
    "xmax = max(table[table['count'] >= 30].index)\n",
    "\n",
    "table = table[:xmax+1]\n",
    "table2 = table2[:xmax+1]"
   ]
  },
  {
   "cell_type": "code",
   "execution_count": null,
   "metadata": {
    "ExecuteTime": {
     "end_time": "2020-12-10T15:25:30.572249Z",
     "start_time": "2020-12-10T15:25:30.560184Z"
    },
    "scrolled": true
   },
   "outputs": [],
   "source": [
    "# set-up\n",
    "table.rename(columns = {'median': 'med_perf_change'}, inplace = True)\n",
    "table"
   ]
  },
  {
   "cell_type": "code",
   "execution_count": null,
   "metadata": {
    "ExecuteTime": {
     "end_time": "2020-12-10T15:25:32.730883Z",
     "start_time": "2020-12-10T15:25:32.710738Z"
    }
   },
   "outputs": [],
   "source": [
    "# set-up\n",
    "table2.rename(columns = {'median': 'med_perf_change'}, inplace = True)\n",
    "table2"
   ]
  },
  {
   "cell_type": "code",
   "execution_count": null,
   "metadata": {
    "ExecuteTime": {
     "end_time": "2020-12-10T15:25:37.532744Z",
     "start_time": "2020-12-10T15:25:37.523539Z"
    }
   },
   "outputs": [],
   "source": [
    "# set-up\n",
    "num_year_df = num_year_df[:xmax+1]\n",
    "num_year_df.rename(columns = {'mean': 'average_year_stayed'}, inplace = True)\n",
    "num_year_df"
   ]
  },
  {
   "cell_type": "code",
   "execution_count": null,
   "metadata": {
    "ExecuteTime": {
     "end_time": "2020-12-10T15:26:13.424235Z",
     "start_time": "2020-12-10T15:26:12.850099Z"
    }
   },
   "outputs": [],
   "source": [
    "fig = plt.figure(figsize = (14, 14))\n",
    "\n",
    "ax0 = fig.add_subplot(2, 2, 1)\n",
    "ax1 = fig.add_subplot(2, 2, 2)\n",
    "ax2 = fig.add_subplot(2, 2, 3)\n",
    "ax3 = fig.add_subplot(2, 2, 4)\n",
    "\n",
    "\"\"\"Performance-Homophily without age adjustment\"\"\"\n",
    "ax0.plot(table['k'],\n",
    "         table['med_perf_change'],\n",
    "         color = 'black')\n",
    "\n",
    "ax0.set_xlabel('Homophily', size = 14)\n",
    "ax0.set_ylabel('Change in Performance', size = 14)\n",
    "ax0.set_title('Performance - Homophily', size = 16)\n",
    "\n",
    "# get x limit\n",
    "ylim = ax0.get_ylim()\n",
    "\n",
    "# ax0.set_xlim((0,xmax))\n",
    "# ax0.set_ylim((-1,1))\n",
    "\n",
    "\n",
    "\"\"\"Performance-Homophily with age adjustment\"\"\"\n",
    "ax1.plot(table['k'],\n",
    "         table2['med_perf_change'],\n",
    "         color = 'black')\n",
    "\n",
    "ax1.set_xlabel('Homophily', size = 14)\n",
    "ax1.set_ylabel('Change in Performance', size = 14)\n",
    "ax1.set_title('Performance - Homophily (adjusted)', size = 16)\n",
    "\n",
    "# ax1.set_xlim((0,xmax))\n",
    "ax1.set_ylim(ylim)\n",
    "\n",
    "\"\"\"Tenure-Homophily\"\"\"\n",
    "ax2.bar(x = num_year_df['k'],\n",
    "        height = num_year_df['average_year_stayed'])\n",
    "\n",
    "ax2.set_xlabel('Homophily', size = 14)\n",
    "ax2.set_ylabel('Tenure', size = 14)\n",
    "ax2.set_title('Tenure - Homophily', size = 16)\n",
    "\n",
    "# ax2.set_xlim((-1,xmax))\n",
    "\n",
    "\"\"\"k-count (Homophily)\"\"\"\n",
    "ax3.bar(x = table['k'],\n",
    "        height = table['pk'])\n",
    "\n",
    "ax3.set_xlabel('k', size = 14)\n",
    "ax3.set_ylabel('pk', size = 14)\n",
    "ax3.set_title('k - pk (Homophily)', size = 16)\n",
    "\n",
    "plt.show()"
   ]
  },
  {
   "cell_type": "markdown",
   "metadata": {},
   "source": [
    "### Test the existence of homophily"
   ]
  },
  {
   "cell_type": "markdown",
   "metadata": {},
   "source": [
    "#### Null case simulation\n",
    "The data is not cleaned but we try to imitate the dataset in the most random manner as possible"
   ]
  },
  {
   "cell_type": "code",
   "execution_count": 62,
   "metadata": {
    "ExecuteTime": {
     "end_time": "2020-12-11T00:26:58.791354Z",
     "start_time": "2020-12-11T00:26:58.448693Z"
    }
   },
   "outputs": [],
   "source": [
    "# load data\n",
    "node_edge_df = pd.read_csv(os.path.join(cleaned_data_path, 'node_edge_data.csv'))\n",
    "perf_eval_df = pd.read_csv(os.path.join(cleaned_data_path, 'perf_eval_table.csv'))"
   ]
  },
  {
   "cell_type": "code",
   "execution_count": 63,
   "metadata": {
    "ExecuteTime": {
     "end_time": "2020-12-11T00:27:02.961412Z",
     "start_time": "2020-12-11T00:27:02.954647Z"
    }
   },
   "outputs": [],
   "source": [
    "#select only necessary columns\n",
    "data_simul = node_edge_df[['player_name', 'club_name', 'transfer_movement', 'year']]"
   ]
  },
  {
   "cell_type": "code",
   "execution_count": 64,
   "metadata": {
    "ExecuteTime": {
     "end_time": "2020-12-11T00:27:07.236286Z",
     "start_time": "2020-12-11T00:27:07.223959Z"
    }
   },
   "outputs": [
    {
     "data": {
      "text/html": [
       "<div>\n",
       "<style scoped>\n",
       "    .dataframe tbody tr th:only-of-type {\n",
       "        vertical-align: middle;\n",
       "    }\n",
       "\n",
       "    .dataframe tbody tr th {\n",
       "        vertical-align: top;\n",
       "    }\n",
       "\n",
       "    .dataframe thead th {\n",
       "        text-align: right;\n",
       "    }\n",
       "</style>\n",
       "<table border=\"1\" class=\"dataframe\">\n",
       "  <thead>\n",
       "    <tr style=\"text-align: right;\">\n",
       "      <th></th>\n",
       "      <th>player_name</th>\n",
       "      <th>club_name</th>\n",
       "      <th>transfer_movement</th>\n",
       "      <th>year</th>\n",
       "    </tr>\n",
       "  </thead>\n",
       "  <tbody>\n",
       "    <tr>\n",
       "      <th>0</th>\n",
       "      <td>Rene Hofman</td>\n",
       "      <td>Fortuna Sittard</td>\n",
       "      <td>in</td>\n",
       "      <td>1992</td>\n",
       "    </tr>\n",
       "    <tr>\n",
       "      <th>1</th>\n",
       "      <td>Peter Schmitz</td>\n",
       "      <td>Fortuna Sittard</td>\n",
       "      <td>in</td>\n",
       "      <td>1992</td>\n",
       "    </tr>\n",
       "    <tr>\n",
       "      <th>2</th>\n",
       "      <td>Kenneth Nysaether</td>\n",
       "      <td>Fortuna Sittard</td>\n",
       "      <td>in</td>\n",
       "      <td>1992</td>\n",
       "    </tr>\n",
       "    <tr>\n",
       "      <th>3</th>\n",
       "      <td>Arno van Zwam</td>\n",
       "      <td>Fortuna Sittard</td>\n",
       "      <td>in</td>\n",
       "      <td>1992</td>\n",
       "    </tr>\n",
       "    <tr>\n",
       "      <th>4</th>\n",
       "      <td>Jerry Taihuttu</td>\n",
       "      <td>Fortuna Sittard</td>\n",
       "      <td>out</td>\n",
       "      <td>1992</td>\n",
       "    </tr>\n",
       "    <tr>\n",
       "      <th>...</th>\n",
       "      <td>...</td>\n",
       "      <td>...</td>\n",
       "      <td>...</td>\n",
       "      <td>...</td>\n",
       "    </tr>\n",
       "    <tr>\n",
       "      <th>162996</th>\n",
       "      <td>Miguel San Roman</td>\n",
       "      <td>Elche CF</td>\n",
       "      <td>out</td>\n",
       "      <td>2020</td>\n",
       "    </tr>\n",
       "    <tr>\n",
       "      <th>162997</th>\n",
       "      <td>Andoni Lopez</td>\n",
       "      <td>Elche CF</td>\n",
       "      <td>out</td>\n",
       "      <td>2020</td>\n",
       "    </tr>\n",
       "    <tr>\n",
       "      <th>162998</th>\n",
       "      <td>Dani Escriche</td>\n",
       "      <td>Elche CF</td>\n",
       "      <td>out</td>\n",
       "      <td>2020</td>\n",
       "    </tr>\n",
       "    <tr>\n",
       "      <th>162999</th>\n",
       "      <td>Santiago Caseres</td>\n",
       "      <td>Villarreal CF</td>\n",
       "      <td>in</td>\n",
       "      <td>2020</td>\n",
       "    </tr>\n",
       "    <tr>\n",
       "      <th>163000</th>\n",
       "      <td>Damian Musto</td>\n",
       "      <td>SD Huesca</td>\n",
       "      <td>in</td>\n",
       "      <td>2020</td>\n",
       "    </tr>\n",
       "  </tbody>\n",
       "</table>\n",
       "<p>163001 rows × 4 columns</p>\n",
       "</div>"
      ],
      "text/plain": [
       "              player_name        club_name transfer_movement  year\n",
       "0             Rene Hofman  Fortuna Sittard                in  1992\n",
       "1           Peter Schmitz  Fortuna Sittard                in  1992\n",
       "2       Kenneth Nysaether  Fortuna Sittard                in  1992\n",
       "3           Arno van Zwam  Fortuna Sittard                in  1992\n",
       "4          Jerry Taihuttu  Fortuna Sittard               out  1992\n",
       "...                   ...              ...               ...   ...\n",
       "162996   Miguel San Roman         Elche CF               out  2020\n",
       "162997       Andoni Lopez         Elche CF               out  2020\n",
       "162998      Dani Escriche         Elche CF               out  2020\n",
       "162999   Santiago Caseres    Villarreal CF                in  2020\n",
       "163000       Damian Musto        SD Huesca                in  2020\n",
       "\n",
       "[163001 rows x 4 columns]"
      ]
     },
     "execution_count": 64,
     "metadata": {},
     "output_type": "execute_result"
    }
   ],
   "source": [
    "data_simul"
   ]
  },
  {
   "cell_type": "code",
   "execution_count": null,
   "metadata": {
    "ExecuteTime": {
     "end_time": "2020-12-11T00:27:07.727703Z",
     "start_time": "2020-12-11T00:26:59.114Z"
    }
   },
   "outputs": [],
   "source": [
    "len(data_simul)"
   ]
  },
  {
   "cell_type": "code",
   "execution_count": null,
   "metadata": {
    "ExecuteTime": {
     "end_time": "2020-12-11T00:27:07.731144Z",
     "start_time": "2020-12-11T00:26:59.266Z"
    }
   },
   "outputs": [],
   "source": [
    "# set-up\n",
    "\n",
    "player_name_list = data_simul['player_name'].unique()\n",
    "club_name_list = data_simul['club_name'].unique()\n",
    "year_list = data_simul['year'].unique()\n",
    "\n",
    "# in-out distribution (just get the `in` and multiply by 2: assume that the data is cleaned)\n",
    "in_num = sum(data_simul['transfer_movement'] == 'in')\n",
    "\n",
    "# number of movement distribution\n",
    "num_move = pd.DataFrame(data_simul.groupby(['player_name', 'year'])['transfer_movement'].agg('count'))\n",
    "num_move['count'] = 1\n",
    "num_move = num_move.groupby('transfer_movement')['count'].agg('sum')\n",
    "num_move = pd.DataFrame(num_move).reset_index()\n",
    "num_move['transfer_movement'] = [math.ceil(num/2) for num in num_move['transfer_movement']]\n",
    "num_move = num_move.groupby('transfer_movement')['count'].agg('sum')\n",
    "num_move = num_move / np.sum(num_move)\n",
    "num_move = round(num_move * in_num)\n",
    "num_move = pd.DataFrame(num_move).reset_index()"
   ]
  },
  {
   "cell_type": "code",
   "execution_count": null,
   "metadata": {
    "ExecuteTime": {
     "end_time": "2020-12-11T00:27:07.734358Z",
     "start_time": "2020-12-11T00:26:59.402Z"
    }
   },
   "outputs": [],
   "source": [
    "num_move"
   ]
  },
  {
   "cell_type": "code",
   "execution_count": null,
   "metadata": {
    "ExecuteTime": {
     "end_time": "2020-12-11T00:27:07.738184Z",
     "start_time": "2020-12-11T00:26:59.533Z"
    }
   },
   "outputs": [],
   "source": [
    "# get column names\n",
    "col_names = data_simul.columns\n",
    "\n",
    "# simulate data\n",
    "rows = []\n",
    "for t, count in zip(num_move['transfer_movement'], num_move['count']):\n",
    "    for i in tqdm(range(int(count))):\n",
    "        # get each column value\n",
    "        player_name = np.repeat(np.random.choice(player_name_list, 1), t)\n",
    "        club_name = np.random.choice(club_name_list, t, replace = False)\n",
    "        transfer_movement = np.repeat('in', t)\n",
    "        year = np.random.choice(year_list, t, replace = False)\n",
    "        # format data\n",
    "        row = list(zip(player_name, club_name, transfer_movement, year))\n",
    "        # add to the list\n",
    "        rows.extend(row)\n",
    "\n",
    "# create dataframe\n",
    "null_case = pd.DataFrame(data = rows, columns = col_names)\n",
    "print(f'number of observation: {len(null_case)}')\n",
    "null_case.head()"
   ]
  },
  {
   "cell_type": "code",
   "execution_count": null,
   "metadata": {
    "ExecuteTime": {
     "end_time": "2020-12-11T00:27:07.741770Z",
     "start_time": "2020-12-11T00:26:59.635Z"
    }
   },
   "outputs": [],
   "source": [
    "# sort data\n",
    "null_case = null_case.sort_values(by = ['player_name', 'year'])\n",
    "\n",
    "# add column `num_transfer` which represent the number of time a player moved\n",
    "null_case['count'] = 1\n",
    "null_case['num_transfer'] = null_case.groupby('player_name')['count'].cumcount() + 1\n",
    "null_case['max_transfer'] = null_case.groupby('player_name')['num_transfer'].transform(np.max)\n",
    "null_case.drop(columns = 'count', inplace = True)\n",
    "null_case.reset_index(drop = True, inplace = True)\n",
    "print(f'number of observation: {len(null_case)}')\n",
    "null_case"
   ]
  },
  {
   "cell_type": "code",
   "execution_count": null,
   "metadata": {
    "ExecuteTime": {
     "end_time": "2020-12-11T00:27:07.745959Z",
     "start_time": "2020-12-11T00:26:59.753Z"
    }
   },
   "outputs": [],
   "source": [
    "# add `transfer_movement` == 'out'\n",
    "to_add = []\n",
    "for i in tqdm(range(len(null_case))):\n",
    "    if (null_case.iloc[i]['num_transfer'] > 1) & \\\n",
    "    (null_case.iloc[i]['num_transfer'] < null_case.iloc[i]['max_transfer']):\n",
    "        # create the 'in' case\n",
    "        row = list(null_case.iloc[i].replace('out', 'in'))\n",
    "        # add to `to_add` list\n",
    "        to_add.append(row)\n",
    "        \n",
    "# add data to dataframe\n",
    "extend = pd.DataFrame(data = to_add, columns = null_case.columns)\n",
    "null_case = pd.concat([null_case, extend], axis = 0).reset_index(drop = True)\n",
    "null_case.drop(columns = ['num_transfer', 'max_transfer'], inplace = True)\n",
    "null_case.sort_values(by = ['player_name', 'year']).reset_index(drop = True, inplace = True)\n",
    "null_case"
   ]
  },
  {
   "cell_type": "markdown",
   "metadata": {},
   "source": [
    "#### Null case analysis"
   ]
  },
  {
   "cell_type": "code",
   "execution_count": null,
   "metadata": {
    "ExecuteTime": {
     "end_time": "2020-12-11T00:27:07.749505Z",
     "start_time": "2020-12-11T00:27:00.200Z"
    }
   },
   "outputs": [],
   "source": [
    "# 2 components needed: 'year_list', 'club_list'\n",
    "year_list = sorted(sorted(null_case['year'].unique()))\n",
    "club_list = sorted(null_case['club_name'].unique())"
   ]
  },
  {
   "cell_type": "code",
   "execution_count": null,
   "metadata": {
    "ExecuteTime": {
     "end_time": "2020-12-11T00:27:07.753073Z",
     "start_time": "2020-12-11T00:27:00.352Z"
    }
   },
   "outputs": [],
   "source": [
    "# nested dictionary: year: `club_member`\n",
    "nested_dict = {}\n",
    "prev_year = None\n",
    "\n",
    "# loop over year:\n",
    "for year in tqdm(year_list):\n",
    "    \n",
    "    if prev_year in nested_dict.keys():\n",
    "        \n",
    "        # retrieve club-player info in the previous year for the second year and so on\n",
    "        club_member = copy.deepcopy(nested_dict[prev_year])\n",
    "    \n",
    "    else:\n",
    "        # initiate a dictionary of clubs (keys) and their affiliated players (values)\n",
    "        club_member = {}\n",
    "    \n",
    "    # subset data by year\n",
    "    data = null_case[null_case['year'] == year]\n",
    "    \n",
    "    # subset for transfer_movement == 'in', 'out' \n",
    "    data_in = data[data['transfer_movement'] == 'in']\n",
    "    data_out = data[data['transfer_movement'] == 'out']\n",
    "        \n",
    "    # loop over club:\n",
    "    for club in club_list:\n",
    "        \n",
    "        # subset data by club \n",
    "        temp_data_in = data_in[data_in['club_name'] == club]\n",
    "        temp_data_out = data_out[data_out['club_name'] == club]\n",
    "        \n",
    "        # update all players in that club in the dictionary (`club_member`)\n",
    "        player_list_in = list(temp_data_in['player_name'])\n",
    "        player_list_out = list(temp_data_out['player_name'])\n",
    "        \n",
    "        if prev_year in nested_dict.keys():\n",
    "            \n",
    "            # catch bug\n",
    "            if club_member[club] is None:\n",
    "                club_member[club] = []\n",
    "            \n",
    "            # adjust for members who move in\n",
    "            club_member[club].extend(player_list_in)\n",
    "            # adjust for members who move out\n",
    "            remove_elem_by_list(club_member[club], player_list_out)\n",
    "            \n",
    "        else:\n",
    "            # update club_member info\n",
    "            club_member[club] = remove_elem_by_list(player_list_in, player_list_out)\n",
    "            \n",
    "    # store `club_member` in `nested_dict`\n",
    "    nested_dict[year] = club_member\n",
    "    \n",
    "    # set previous year\n",
    "    prev_year = year"
   ]
  },
  {
   "cell_type": "code",
   "execution_count": null,
   "metadata": {
    "ExecuteTime": {
     "end_time": "2020-12-11T00:27:07.756762Z",
     "start_time": "2020-12-11T00:27:00.491Z"
    }
   },
   "outputs": [],
   "source": [
    "df = null_case"
   ]
  },
  {
   "cell_type": "code",
   "execution_count": null,
   "metadata": {
    "ExecuteTime": {
     "end_time": "2020-12-11T00:27:07.760663Z",
     "start_time": "2020-12-11T00:27:01.007Z"
    }
   },
   "outputs": [],
   "source": [
    "# add column `num_transfer` which represent the number of time a player moved\n",
    "df['count'] = 1\n",
    "df['num_transfer'] = df.groupby('player_name')['count'].cumcount() + 1\n",
    "df['max_transfer'] = df.groupby('player_name')['num_transfer'].transform(np.max)\n",
    "df.drop(columns = 'count', inplace = True)\n",
    "print(f'number of observation: {len(df)}')\n",
    "df"
   ]
  },
  {
   "cell_type": "code",
   "execution_count": null,
   "metadata": {
    "ExecuteTime": {
     "end_time": "2020-12-11T00:27:07.761405Z",
     "start_time": "2020-12-11T00:27:01.103Z"
    }
   },
   "outputs": [],
   "source": [
    "# get player_list\n",
    "player_list = list(df['player_name'].unique())\n",
    "print(f'Number of players: {len(player_list)}')\n",
    "print(f'Number of clubs: {len(df.club_name.unique())}')"
   ]
  },
  {
   "cell_type": "code",
   "execution_count": null,
   "metadata": {
    "ExecuteTime": {
     "end_time": "2020-12-11T00:27:07.768334Z",
     "start_time": "2020-12-11T00:27:01.266Z"
    }
   },
   "outputs": [],
   "source": [
    "# initiate a nested dictionary ---> {`was_in` {`aff_clubs` {`year_member`} } }\n",
    "was_in = {}\n",
    "\n",
    "# loop over the dataset\n",
    "for player in tqdm(player_list):\n",
    "    \n",
    "    # subset df by player\n",
    "    temp_df = df[df['player_name'] == player]\n",
    "    \n",
    "    # reset_index\n",
    "    temp_df.reset_index(drop = True, inplace = True)\n",
    "    \n",
    "    # initiate inside dictionaries\n",
    "    aff_clubs = {}\n",
    "    \n",
    "    \"\"\"\n",
    "    loop over the dataset to get the year and club name \n",
    "    this represent that a player stay in a club from year A - year B \n",
    "    in this case, we can ignore the last row because no further analysis is needed\n",
    "    as the next transaction has not occurred yet\n",
    "    \"\"\"\n",
    "    \n",
    "    for row in range(len(temp_df) - 1):\n",
    "        \n",
    "        # initiate inside dictionaries\n",
    "        year_member = {}\n",
    "        \n",
    "        club_name = temp_df.iloc[row]['club_name']\n",
    "        \n",
    "        year_list = np.arange(temp_df.iloc[row]['year'], temp_df.iloc[row + 1]['year'])\n",
    "        \n",
    "        # get the affiliated player each year from `nested_dict`\n",
    "        for year in year_list:\n",
    "            \n",
    "            aff_players = nested_dict[year][club_name]\n",
    "            \n",
    "            # add data to `year_member`\n",
    "            year_member[year] = aff_players\n",
    "      \n",
    "        # add data to aff_club \n",
    "        \n",
    "        # adjust for the case when player moves back to the club he's been before\n",
    "        if club_name in aff_clubs.keys():\n",
    "            \n",
    "                aff_clubs[club_name].update(year_member)\n",
    "            \n",
    "        else:\n",
    "            \n",
    "            aff_clubs[club_name] = year_member\n",
    "            \n",
    "    # add data to was_in\n",
    "    was_in[player] = aff_clubs"
   ]
  },
  {
   "cell_type": "code",
   "execution_count": null,
   "metadata": {
    "ExecuteTime": {
     "end_time": "2020-12-11T00:27:07.772169Z",
     "start_time": "2020-12-11T00:27:01.392Z"
    }
   },
   "outputs": [],
   "source": [
    "# table we will use\n",
    "df.sort_values(['player_name', 'num_transfer'], inplace = True)\n",
    "df.reset_index(drop = True, inplace = True)\n",
    "df"
   ]
  },
  {
   "cell_type": "code",
   "execution_count": null,
   "metadata": {
    "ExecuteTime": {
     "end_time": "2020-12-11T00:27:07.775836Z",
     "start_time": "2020-12-11T00:27:01.574Z"
    }
   },
   "outputs": [],
   "source": [
    "# generate `k` column\n",
    "\n",
    "# initiate a list\n",
    "k = []\n",
    "\n",
    "# loop over the dataset\n",
    "for i in tqdm(range(len(df))):\n",
    "    \n",
    "    # there is nothing to do with the `k` for the first transfer\n",
    "    if df['num_transfer'][i] == 1:  \n",
    "        \n",
    "        k.append(None)\n",
    "        \n",
    "    else:  \n",
    "        # get necessary variables (keys)\n",
    "        player = df['player_name'][i]\n",
    "        prev_club = df['club_name'][i-1]\n",
    "        club = df['club_name'][i]\n",
    "        prev_year = df['year'][i-1]\n",
    "        this_year = df['year'][i]\n",
    "        year_range = np.arange(prev_year, this_year)\n",
    "        \n",
    "        # get all the affiliated players\n",
    "        aff_players = []\n",
    "        for year in year_range:\n",
    "            aff_player = was_in[player][prev_club][year]\n",
    "            aff_players.extend(aff_player)\n",
    "        \n",
    "        # get all member in the club player is joining\n",
    "        in_club_player = nested_dict[this_year][club]\n",
    "        \n",
    "        if df['num_transfer'][i] > 2:\n",
    "            # accumulate affiliated players\n",
    "            aff_players = set.union(set(prev_set), set(aff_players))\n",
    "        \n",
    "        # get `k_val`\n",
    "        k_val = len(set.intersection(set(aff_players), set(in_club_player)))\n",
    "        \n",
    "        # append `k_val` to `k`\n",
    "        k.append(k_val)\n",
    "        \n",
    "        # previous affiliated player set\n",
    "        prev_set = set(aff_players)\n",
    "\n",
    "# add `k` column\n",
    "df['k'] = k"
   ]
  },
  {
   "cell_type": "code",
   "execution_count": null,
   "metadata": {
    "ExecuteTime": {
     "end_time": "2020-12-11T00:27:07.779412Z",
     "start_time": "2020-12-11T00:27:01.795Z"
    }
   },
   "outputs": [],
   "source": [
    "k_count = df[['k']].dropna()\n",
    "k_count['count'] = 1"
   ]
  },
  {
   "cell_type": "code",
   "execution_count": null,
   "metadata": {
    "ExecuteTime": {
     "end_time": "2020-12-11T00:27:07.783243Z",
     "start_time": "2020-12-11T00:27:02.021Z"
    }
   },
   "outputs": [],
   "source": [
    "k_count = pd.DataFrame(k_count.groupby('k')['count'].agg('count'))"
   ]
  },
  {
   "cell_type": "code",
   "execution_count": null,
   "metadata": {
    "ExecuteTime": {
     "end_time": "2020-12-11T00:27:07.787233Z",
     "start_time": "2020-12-11T00:27:02.189Z"
    }
   },
   "outputs": [],
   "source": [
    "k_count.reset_index(inplace = True)"
   ]
  },
  {
   "cell_type": "code",
   "execution_count": null,
   "metadata": {
    "ExecuteTime": {
     "end_time": "2020-12-11T00:27:07.791525Z",
     "start_time": "2020-12-11T00:27:02.667Z"
    }
   },
   "outputs": [],
   "source": [
    "k_count = k_count[k_count['k'] <= xmax]"
   ]
  },
  {
   "cell_type": "code",
   "execution_count": null,
   "metadata": {
    "ExecuteTime": {
     "end_time": "2020-12-11T00:27:07.795037Z",
     "start_time": "2020-12-11T00:27:02.839Z"
    }
   },
   "outputs": [],
   "source": [
    "k_count['pk'] = k_count['count'] / sum(k_count['count'])"
   ]
  },
  {
   "cell_type": "code",
   "execution_count": null,
   "metadata": {
    "ExecuteTime": {
     "end_time": "2020-12-11T00:27:07.798546Z",
     "start_time": "2020-12-11T00:27:03.050Z"
    }
   },
   "outputs": [],
   "source": [
    "k_pk = k_count.drop(columns = 'count')"
   ]
  },
  {
   "cell_type": "code",
   "execution_count": null,
   "metadata": {
    "ExecuteTime": {
     "end_time": "2020-12-11T00:27:07.799201Z",
     "start_time": "2020-12-11T00:27:03.122Z"
    }
   },
   "outputs": [],
   "source": [
    "k_pk"
   ]
  },
  {
   "cell_type": "markdown",
   "metadata": {},
   "source": [
    "#### Iteration"
   ]
  },
  {
   "cell_type": "code",
   "execution_count": 81,
   "metadata": {
    "ExecuteTime": {
     "end_time": "2020-12-11T02:35:38.273418Z",
     "start_time": "2020-12-11T02:10:42.419660Z"
    }
   },
   "outputs": [
    {
     "data": {
      "application/vnd.jupyter.widget-view+json": {
       "model_id": "51a81bf6970d43b9beae65f813181476",
       "version_major": 2,
       "version_minor": 0
      },
      "text/plain": [
       "HBox(children=(HTML(value=''), FloatProgress(value=0.0, max=10.0), HTML(value='')))"
      ]
     },
     "metadata": {},
     "output_type": "display_data"
    },
    {
     "data": {
      "application/vnd.jupyter.widget-view+json": {
       "model_id": "b0c75d24ea64404f9f719aa565ad742b",
       "version_major": 2,
       "version_minor": 0
      },
      "text/plain": [
       "HBox(children=(HTML(value=''), FloatProgress(value=0.0, max=69090.0), HTML(value='')))"
      ]
     },
     "metadata": {},
     "output_type": "display_data"
    },
    {
     "name": "stdout",
     "output_type": "stream",
     "text": [
      "\n"
     ]
    },
    {
     "data": {
      "application/vnd.jupyter.widget-view+json": {
       "model_id": "0311c46d52a54cf382d377a69ca6a52c",
       "version_major": 2,
       "version_minor": 0
      },
      "text/plain": [
       "HBox(children=(HTML(value=''), FloatProgress(value=0.0, max=8007.0), HTML(value='')))"
      ]
     },
     "metadata": {},
     "output_type": "display_data"
    },
    {
     "name": "stdout",
     "output_type": "stream",
     "text": [
      "\n"
     ]
    },
    {
     "data": {
      "application/vnd.jupyter.widget-view+json": {
       "model_id": "03d4e58c3620467ab02bcdcaa0aa4334",
       "version_major": 2,
       "version_minor": 0
      },
      "text/plain": [
       "HBox(children=(HTML(value=''), FloatProgress(value=0.0, max=1249.0), HTML(value='')))"
      ]
     },
     "metadata": {},
     "output_type": "display_data"
    },
    {
     "name": "stdout",
     "output_type": "stream",
     "text": [
      "\n"
     ]
    },
    {
     "data": {
      "application/vnd.jupyter.widget-view+json": {
       "model_id": "7d18695b38704510898728a6ada6cde7",
       "version_major": 2,
       "version_minor": 0
      },
      "text/plain": [
       "HBox(children=(HTML(value=''), FloatProgress(value=0.0, max=280.0), HTML(value='')))"
      ]
     },
     "metadata": {},
     "output_type": "display_data"
    },
    {
     "name": "stdout",
     "output_type": "stream",
     "text": [
      "\n"
     ]
    },
    {
     "data": {
      "application/vnd.jupyter.widget-view+json": {
       "model_id": "b15f1adc1e2f4f2084a8c0cd536568d3",
       "version_major": 2,
       "version_minor": 0
      },
      "text/plain": [
       "HBox(children=(HTML(value=''), FloatProgress(value=0.0, max=89971.0), HTML(value='')))"
      ]
     },
     "metadata": {},
     "output_type": "display_data"
    },
    {
     "name": "stdout",
     "output_type": "stream",
     "text": [
      "\n"
     ]
    },
    {
     "data": {
      "application/vnd.jupyter.widget-view+json": {
       "model_id": "ea0146b9e5c947089b7dc6efeef28793",
       "version_major": 2,
       "version_minor": 0
      },
      "text/plain": [
       "HBox(children=(HTML(value=''), FloatProgress(value=0.0, max=29.0), HTML(value='')))"
      ]
     },
     "metadata": {},
     "output_type": "display_data"
    },
    {
     "name": "stdout",
     "output_type": "stream",
     "text": [
      "\n"
     ]
    },
    {
     "data": {
      "application/vnd.jupyter.widget-view+json": {
       "model_id": "9f54d53624264a0cb092be4f0b6ea106",
       "version_major": 2,
       "version_minor": 0
      },
      "text/plain": [
       "HBox(children=(HTML(value=''), FloatProgress(value=0.0, max=30808.0), HTML(value='')))"
      ]
     },
     "metadata": {},
     "output_type": "display_data"
    },
    {
     "name": "stdout",
     "output_type": "stream",
     "text": [
      "\n"
     ]
    },
    {
     "data": {
      "application/vnd.jupyter.widget-view+json": {
       "model_id": "2e7e95c2e7a64a1ab31c57c10d7c6074",
       "version_major": 2,
       "version_minor": 0
      },
      "text/plain": [
       "HBox(children=(HTML(value=''), FloatProgress(value=0.0, max=125217.0), HTML(value='')))"
      ]
     },
     "metadata": {},
     "output_type": "display_data"
    },
    {
     "name": "stdout",
     "output_type": "stream",
     "text": [
      "\n",
      "    Number of iteration: 125217\n",
      "    len(k_pk): 7\n"
     ]
    },
    {
     "data": {
      "application/vnd.jupyter.widget-view+json": {
       "model_id": "dd1a3562c2d24d1ca0ee7a8b378c5cd7",
       "version_major": 2,
       "version_minor": 0
      },
      "text/plain": [
       "HBox(children=(HTML(value=''), FloatProgress(value=0.0, max=69090.0), HTML(value='')))"
      ]
     },
     "metadata": {},
     "output_type": "display_data"
    },
    {
     "name": "stdout",
     "output_type": "stream",
     "text": [
      "\n"
     ]
    },
    {
     "data": {
      "application/vnd.jupyter.widget-view+json": {
       "model_id": "09cb4e9a807c400094e752bb08493a7f",
       "version_major": 2,
       "version_minor": 0
      },
      "text/plain": [
       "HBox(children=(HTML(value=''), FloatProgress(value=0.0, max=8007.0), HTML(value='')))"
      ]
     },
     "metadata": {},
     "output_type": "display_data"
    },
    {
     "name": "stdout",
     "output_type": "stream",
     "text": [
      "\n"
     ]
    },
    {
     "data": {
      "application/vnd.jupyter.widget-view+json": {
       "model_id": "83f417c205544f238f7c96b6168292cc",
       "version_major": 2,
       "version_minor": 0
      },
      "text/plain": [
       "HBox(children=(HTML(value=''), FloatProgress(value=0.0, max=1249.0), HTML(value='')))"
      ]
     },
     "metadata": {},
     "output_type": "display_data"
    },
    {
     "name": "stdout",
     "output_type": "stream",
     "text": [
      "\n"
     ]
    },
    {
     "data": {
      "application/vnd.jupyter.widget-view+json": {
       "model_id": "11b074008e874e92b5c455c4a0e95f3e",
       "version_major": 2,
       "version_minor": 0
      },
      "text/plain": [
       "HBox(children=(HTML(value=''), FloatProgress(value=0.0, max=280.0), HTML(value='')))"
      ]
     },
     "metadata": {},
     "output_type": "display_data"
    },
    {
     "name": "stdout",
     "output_type": "stream",
     "text": [
      "\n"
     ]
    },
    {
     "data": {
      "application/vnd.jupyter.widget-view+json": {
       "model_id": "9065cfd041924762b3ffa9f0a47ea7cd",
       "version_major": 2,
       "version_minor": 0
      },
      "text/plain": [
       "HBox(children=(HTML(value=''), FloatProgress(value=0.0, max=89971.0), HTML(value='')))"
      ]
     },
     "metadata": {},
     "output_type": "display_data"
    },
    {
     "name": "stdout",
     "output_type": "stream",
     "text": [
      "\n"
     ]
    },
    {
     "data": {
      "application/vnd.jupyter.widget-view+json": {
       "model_id": "d84910e476ce41a3bcb67722dbee58d0",
       "version_major": 2,
       "version_minor": 0
      },
      "text/plain": [
       "HBox(children=(HTML(value=''), FloatProgress(value=0.0, max=29.0), HTML(value='')))"
      ]
     },
     "metadata": {},
     "output_type": "display_data"
    },
    {
     "name": "stdout",
     "output_type": "stream",
     "text": [
      "\n"
     ]
    },
    {
     "data": {
      "application/vnd.jupyter.widget-view+json": {
       "model_id": "785635a766fc4012bbb0ead31069cb74",
       "version_major": 2,
       "version_minor": 0
      },
      "text/plain": [
       "HBox(children=(HTML(value=''), FloatProgress(value=0.0, max=30718.0), HTML(value='')))"
      ]
     },
     "metadata": {},
     "output_type": "display_data"
    },
    {
     "name": "stdout",
     "output_type": "stream",
     "text": [
      "\n"
     ]
    },
    {
     "data": {
      "application/vnd.jupyter.widget-view+json": {
       "model_id": "4f6b521c49a94531acf550aacaa926bd",
       "version_major": 2,
       "version_minor": 0
      },
      "text/plain": [
       "HBox(children=(HTML(value=''), FloatProgress(value=0.0, max=125404.0), HTML(value='')))"
      ]
     },
     "metadata": {},
     "output_type": "display_data"
    },
    {
     "name": "stdout",
     "output_type": "stream",
     "text": [
      "\n",
      "    Number of iteration: 125404\n",
      "    len(k_pk): 14\n"
     ]
    },
    {
     "data": {
      "application/vnd.jupyter.widget-view+json": {
       "model_id": "59743b193bd5463e905a0e200528a8fe",
       "version_major": 2,
       "version_minor": 0
      },
      "text/plain": [
       "HBox(children=(HTML(value=''), FloatProgress(value=0.0, max=69090.0), HTML(value='')))"
      ]
     },
     "metadata": {},
     "output_type": "display_data"
    },
    {
     "name": "stdout",
     "output_type": "stream",
     "text": [
      "\n",
      "\n"
     ]
    },
    {
     "ename": "KeyboardInterrupt",
     "evalue": "",
     "output_type": "error",
     "traceback": [
      "\u001b[0;31m---------------------------------------------------------------------------\u001b[0m",
      "\u001b[0;31mKeyboardInterrupt\u001b[0m                         Traceback (most recent call last)",
      "\u001b[0;32m<ipython-input-81-bd6bbd4180d1>\u001b[0m in \u001b[0;36m<module>\u001b[0;34m\u001b[0m\n\u001b[1;32m     40\u001b[0m             \u001b[0;31m# get each column value\u001b[0m\u001b[0;34m\u001b[0m\u001b[0;34m\u001b[0m\u001b[0;34m\u001b[0m\u001b[0m\n\u001b[1;32m     41\u001b[0m             \u001b[0mplayer_name\u001b[0m \u001b[0;34m=\u001b[0m \u001b[0mnp\u001b[0m\u001b[0;34m.\u001b[0m\u001b[0mrepeat\u001b[0m\u001b[0;34m(\u001b[0m\u001b[0mnp\u001b[0m\u001b[0;34m.\u001b[0m\u001b[0mrandom\u001b[0m\u001b[0;34m.\u001b[0m\u001b[0mchoice\u001b[0m\u001b[0;34m(\u001b[0m\u001b[0mplayer_name_list\u001b[0m\u001b[0;34m,\u001b[0m \u001b[0;36m1\u001b[0m\u001b[0;34m)\u001b[0m\u001b[0;34m,\u001b[0m \u001b[0mt\u001b[0m\u001b[0;34m)\u001b[0m\u001b[0;34m\u001b[0m\u001b[0;34m\u001b[0m\u001b[0m\n\u001b[0;32m---> 42\u001b[0;31m             \u001b[0mclub_name\u001b[0m \u001b[0;34m=\u001b[0m \u001b[0mnp\u001b[0m\u001b[0;34m.\u001b[0m\u001b[0mrandom\u001b[0m\u001b[0;34m.\u001b[0m\u001b[0mchoice\u001b[0m\u001b[0;34m(\u001b[0m\u001b[0mclub_name_list\u001b[0m\u001b[0;34m,\u001b[0m \u001b[0mt\u001b[0m\u001b[0;34m,\u001b[0m \u001b[0mreplace\u001b[0m \u001b[0;34m=\u001b[0m \u001b[0;32mFalse\u001b[0m\u001b[0;34m)\u001b[0m\u001b[0;34m\u001b[0m\u001b[0;34m\u001b[0m\u001b[0m\n\u001b[0m\u001b[1;32m     43\u001b[0m             \u001b[0mtransfer_movement\u001b[0m \u001b[0;34m=\u001b[0m \u001b[0mnp\u001b[0m\u001b[0;34m.\u001b[0m\u001b[0mrepeat\u001b[0m\u001b[0;34m(\u001b[0m\u001b[0;34m'in'\u001b[0m\u001b[0;34m,\u001b[0m \u001b[0mt\u001b[0m\u001b[0;34m)\u001b[0m\u001b[0;34m\u001b[0m\u001b[0;34m\u001b[0m\u001b[0m\n\u001b[1;32m     44\u001b[0m             \u001b[0myear\u001b[0m \u001b[0;34m=\u001b[0m \u001b[0mnp\u001b[0m\u001b[0;34m.\u001b[0m\u001b[0mrandom\u001b[0m\u001b[0;34m.\u001b[0m\u001b[0mchoice\u001b[0m\u001b[0;34m(\u001b[0m\u001b[0myear_list\u001b[0m\u001b[0;34m,\u001b[0m \u001b[0mt\u001b[0m\u001b[0;34m,\u001b[0m \u001b[0mreplace\u001b[0m \u001b[0;34m=\u001b[0m \u001b[0;32mFalse\u001b[0m\u001b[0;34m)\u001b[0m\u001b[0;34m\u001b[0m\u001b[0;34m\u001b[0m\u001b[0m\n",
      "\u001b[0;31mKeyboardInterrupt\u001b[0m: "
     ]
    }
   ],
   "source": [
    "# set seed\n",
    "np.random.seed(777)\n",
    "\n",
    "# simulate data 10 times\n",
    "t = 10\n",
    "\n",
    "for n in tqdm(range(t)):\n",
    "    # load data\n",
    "    node_edge_df = pd.read_csv(os.path.join(cleaned_data_path, 'node_edge_data.csv'))\n",
    "    \n",
    "    #select only necessary columns\n",
    "    data_simul = node_edge_df[['player_name', 'club_name', 'transfer_movement', 'year']]\n",
    "    \n",
    "    # set-up\n",
    "    player_name_list = data_simul['player_name'].unique()\n",
    "    club_name_list = data_simul['club_name'].unique()\n",
    "    year_list = data_simul['year'].unique()\n",
    "\n",
    "    # in-out distribution (just get the `in` and multiply by 2: assume that the data is cleaned)\n",
    "    in_num = sum(data_simul['transfer_movement'] == 'in')\n",
    "\n",
    "    # number of movement distribution\n",
    "    num_move = pd.DataFrame(data_simul.groupby(['player_name', 'year'])['transfer_movement'].agg('count'))\n",
    "    num_move['count'] = 1\n",
    "    num_move = num_move.groupby('transfer_movement')['count'].agg('sum')\n",
    "    num_move = pd.DataFrame(num_move).reset_index()\n",
    "    num_move['transfer_movement'] = [math.ceil(num/2) for num in num_move['transfer_movement']]\n",
    "    num_move = num_move.groupby('transfer_movement')['count'].agg('sum')\n",
    "    num_move = num_move / np.sum(num_move)\n",
    "    num_move = round(num_move * in_num)\n",
    "    num_move = pd.DataFrame(num_move).reset_index()\n",
    "    \n",
    "    # get column names\n",
    "    col_names = data_simul.columns\n",
    "\n",
    "    # simulate data\n",
    "    rows = []\n",
    "    for t, count in zip(num_move['transfer_movement'], num_move['count']):\n",
    "        for i in tqdm(range(int(count))):\n",
    "            # get each column value\n",
    "            player_name = np.repeat(np.random.choice(player_name_list, 1), t)\n",
    "            club_name = np.random.choice(club_name_list, t, replace = False)\n",
    "            transfer_movement = np.repeat('in', t)\n",
    "            year = np.random.choice(year_list, t, replace = False)\n",
    "            # format data\n",
    "            row = list(zip(player_name, club_name, transfer_movement, year))\n",
    "            # add to the list\n",
    "            rows.extend(row)\n",
    "\n",
    "    # create dataframe\n",
    "    null_case = pd.DataFrame(data = rows, columns = col_names)\n",
    "    \n",
    "    # sort data\n",
    "    null_case = null_case.sort_values(by = ['player_name', 'year'])\n",
    "\n",
    "    # add column `num_transfer` which represent the number of time a player moved\n",
    "    null_case['count'] = 1\n",
    "    null_case['num_transfer'] = null_case.groupby('player_name')['count'].cumcount() + 1\n",
    "    null_case['max_transfer'] = null_case.groupby('player_name')['num_transfer'].transform(np.max)\n",
    "    null_case.drop(columns = 'count', inplace = True)\n",
    "    null_case.reset_index(drop = True, inplace = True)\n",
    "    \n",
    "    # add `transfer_movement` == 'out'\n",
    "    to_add = []\n",
    "    for i in tqdm(range(len(null_case))):\n",
    "        if (null_case.iloc[i]['num_transfer'] > 1) & \\\n",
    "        (null_case.iloc[i]['num_transfer'] < null_case.iloc[i]['max_transfer']):\n",
    "            # create the 'in' case\n",
    "            row = list(null_case.iloc[i].replace('out', 'in'))\n",
    "            # add to `to_add` list\n",
    "            to_add.append(row)\n",
    "\n",
    "    # add data to dataframe\n",
    "    extend = pd.DataFrame(data = to_add, columns = null_case.columns)\n",
    "    null_case = pd.concat([null_case, extend], axis = 0).reset_index(drop = True)\n",
    "    null_case.drop(columns = ['num_transfer', 'max_transfer'], inplace = True)\n",
    "    null_case.sort_values(by = ['player_name', 'year']).reset_index(drop = True, inplace = True)\n",
    "    \n",
    "    # 2 components needed: 'year_list', 'club_list'\n",
    "    year_list = sorted(sorted(null_case['year'].unique()))\n",
    "    club_list = sorted(null_case['club_name'].unique())\n",
    "    \n",
    "    # nested dictionary: year: `club_member`\n",
    "    nested_dict = {}\n",
    "    prev_year = None\n",
    "\n",
    "    # loop over year:\n",
    "    for year in tqdm(year_list):\n",
    "\n",
    "        if prev_year in nested_dict.keys():\n",
    "\n",
    "            # retrieve club-player info in the previous year for the second year and so on\n",
    "            club_member = copy.deepcopy(nested_dict[prev_year])\n",
    "\n",
    "        else:\n",
    "            # initiate a dictionary of clubs (keys) and their affiliated players (values)\n",
    "            club_member = {}\n",
    "\n",
    "        # subset data by year\n",
    "        data = null_case[null_case['year'] == year]\n",
    "\n",
    "        # subset for transfer_movement == 'in', 'out' \n",
    "        data_in = data[data['transfer_movement'] == 'in']\n",
    "        data_out = data[data['transfer_movement'] == 'out']\n",
    "\n",
    "        # loop over club:\n",
    "        for club in club_list:\n",
    "\n",
    "            # subset data by club \n",
    "            temp_data_in = data_in[data_in['club_name'] == club]\n",
    "            temp_data_out = data_out[data_out['club_name'] == club]\n",
    "\n",
    "            # update all players in that club in the dictionary (`club_member`)\n",
    "            player_list_in = list(temp_data_in['player_name'])\n",
    "            player_list_out = list(temp_data_out['player_name'])\n",
    "\n",
    "            if prev_year in nested_dict.keys():\n",
    "\n",
    "                # catch bug\n",
    "                if club_member[club] is None:\n",
    "                    club_member[club] = []\n",
    "\n",
    "                # adjust for members who move in\n",
    "                club_member[club].extend(player_list_in)\n",
    "                # adjust for members who move out\n",
    "                remove_elem_by_list(club_member[club], player_list_out)\n",
    "\n",
    "            else:\n",
    "                # update club_member info\n",
    "                club_member[club] = remove_elem_by_list(player_list_in, player_list_out)\n",
    "\n",
    "        # store `club_member` in `nested_dict`\n",
    "        nested_dict[year] = club_member\n",
    "\n",
    "        # set previous year\n",
    "        prev_year = year\n",
    "        \n",
    "    # set-up\n",
    "    df = null_case\n",
    "        \n",
    "    # add column `num_transfer` which represent the number of time a player moved\n",
    "    df['count'] = 1\n",
    "    df['num_transfer'] = df.groupby('player_name')['count'].cumcount() + 1\n",
    "    df['max_transfer'] = df.groupby('player_name')['num_transfer'].transform(np.max)\n",
    "    df.drop(columns = 'count', inplace = True)\n",
    "    \n",
    "    # get player_list\n",
    "    player_list = list(df['player_name'].unique())\n",
    "    \n",
    "    # initiate a nested dictionary ---> {`was_in` {`aff_clubs` {`year_member`} } }\n",
    "    was_in = {}\n",
    "\n",
    "    # loop over the dataset\n",
    "    for player in tqdm(player_list):\n",
    "\n",
    "        # subset df by player\n",
    "        temp_df = df[df['player_name'] == player]\n",
    "\n",
    "        # reset_index\n",
    "        temp_df.reset_index(drop = True, inplace = True)\n",
    "\n",
    "        # initiate inside dictionaries\n",
    "        aff_clubs = {}\n",
    "\n",
    "        \"\"\"\n",
    "        loop over the dataset to get the year and club name \n",
    "        this represent that a player stay in a club from year A - year B \n",
    "        in this case, we can ignore the last row because no further analysis is needed\n",
    "        as the next transaction has not occurred yet\n",
    "        \"\"\"\n",
    "\n",
    "        for row in range(len(temp_df) - 1):\n",
    "\n",
    "            # initiate inside dictionaries\n",
    "            year_member = {}\n",
    "\n",
    "            club_name = temp_df.iloc[row]['club_name']\n",
    "\n",
    "            year_list = np.arange(temp_df.iloc[row]['year'], temp_df.iloc[row + 1]['year'])\n",
    "\n",
    "            # get the affiliated player each year from `nested_dict`\n",
    "            for year in year_list:\n",
    "\n",
    "                aff_players = nested_dict[year][club_name]\n",
    "\n",
    "                # add data to `year_member`\n",
    "                year_member[year] = aff_players\n",
    "\n",
    "            # add data to aff_club \n",
    "\n",
    "            # adjust for the case when player moves back to the club he's been before\n",
    "            if club_name in aff_clubs.keys():\n",
    "\n",
    "                    aff_clubs[club_name].update(year_member)\n",
    "\n",
    "            else:\n",
    "\n",
    "                aff_clubs[club_name] = year_member\n",
    "\n",
    "        # add data to was_in\n",
    "        was_in[player] = aff_clubs\n",
    "        \n",
    "    # table we will use\n",
    "    df.sort_values(['player_name', 'num_transfer'], inplace = True)\n",
    "    df.reset_index(drop = True, inplace = True)\n",
    "    \n",
    "    # generate `k` column\n",
    "\n",
    "    # initiate a list\n",
    "    k = []\n",
    "\n",
    "    # loop over the dataset\n",
    "    for i in tqdm(range(len(df))):\n",
    "\n",
    "        # there is nothing to do with the `k` for the first transfer\n",
    "        if df['num_transfer'][i] == 1:  \n",
    "\n",
    "            k.append(None)\n",
    "\n",
    "        else:  \n",
    "            # get necessary variables (keys)\n",
    "            player = df['player_name'][i]\n",
    "            prev_club = df['club_name'][i-1]\n",
    "            club = df['club_name'][i]\n",
    "            prev_year = df['year'][i-1]\n",
    "            this_year = df['year'][i]\n",
    "            year_range = np.arange(prev_year, this_year)\n",
    "\n",
    "            # get all the affiliated players\n",
    "            aff_players = []\n",
    "            for year in year_range:\n",
    "                aff_player = was_in[player][prev_club][year]\n",
    "                aff_players.extend(aff_player)\n",
    "\n",
    "            # get all member in the club player is joining\n",
    "            in_club_player = nested_dict[this_year][club]\n",
    "\n",
    "            if df['num_transfer'][i] > 2:\n",
    "                # accumulate affiliated players\n",
    "                aff_players = set.union(set(prev_set), set(aff_players))\n",
    "\n",
    "            # get `k_val`\n",
    "            k_val = len(set.intersection(set(aff_players), set(in_club_player)))\n",
    "\n",
    "            # append `k_val` to `k`\n",
    "            k.append(k_val)\n",
    "\n",
    "            # previous affiliated player set\n",
    "            prev_set = set(aff_players)\n",
    "\n",
    "    # add `k` column\n",
    "    df['k'] = k\n",
    "    \n",
    "    # get k-pk table\n",
    "    k_count = df[['k']].dropna()\n",
    "    k_count['count'] = 1\n",
    "    k_count = pd.DataFrame(k_count.groupby('k')['count'].agg('count'))\n",
    "    k_count.reset_index(inplace = True)\n",
    "    k_count = k_count[k_count['k'] <= xmax]\n",
    "    k_count['pk'] = k_count['count'] / sum(k_count['count'])\n",
    "    k_count = k_count.drop(columns = 'count')\n",
    "    \n",
    "    if n == 0:\n",
    "        k_pk = k_count\n",
    "    else:\n",
    "        k_pk = pd.concat((k_pk, k_count))\n",
    "\n",
    "    # save file\n",
    "    out_path = os.path.join('output', 'k_pk.csv') \n",
    "    k_pk.to_csv(out_path)\n",
    "    \n",
    "    # print confirming result\n",
    "    print(f'\\\n",
    "    Number of iteration: {n+1}\\n\\\n",
    "    len(k_pk): {len(k_pk)}')"
   ]
  },
  {
   "cell_type": "markdown",
   "metadata": {},
   "source": [
    "#### Visualization"
   ]
  },
  {
   "cell_type": "code",
   "execution_count": null,
   "metadata": {
    "ExecuteTime": {
     "end_time": "2020-12-10T03:12:19.185709Z",
     "start_time": "2020-12-10T03:12:19.034841Z"
    }
   },
   "outputs": [],
   "source": [
    "fig = plt.figure(figsize = (4, 4))\n",
    "\n",
    "ax = fig.add_subplot(1, 1, 1)\n",
    "\n",
    "ax.bar(x = k_count['k'],\n",
    "        height = k_count['count'])\n",
    "\n",
    "ax.set_xlabel('k', size = 14)\n",
    "ax.set_ylabel('count', size = 14)\n",
    "ax.set_title('k - count (Homophily)', size = 16)"
   ]
  },
  {
   "cell_type": "code",
   "execution_count": null,
   "metadata": {
    "ExecuteTime": {
     "end_time": "2020-12-10T03:17:11.095010Z",
     "start_time": "2020-12-10T03:17:11.086866Z"
    }
   },
   "outputs": [],
   "source": [
    "k_count"
   ]
  },
  {
   "cell_type": "markdown",
   "metadata": {},
   "source": [
    "## Top player similarity analysis"
   ]
  },
  {
   "cell_type": "code",
   "execution_count": null,
   "metadata": {
    "ExecuteTime": {
     "end_time": "2020-12-10T02:53:28.787889Z",
     "start_time": "2020-12-10T02:53:28.706169Z"
    }
   },
   "outputs": [],
   "source": [
    "rating_df = pd.read_csv(os.path.join(cleaned_data_path, 'player_rating.csv'))"
   ]
  },
  {
   "cell_type": "code",
   "execution_count": null,
   "metadata": {
    "ExecuteTime": {
     "end_time": "2020-12-10T02:53:28.830039Z",
     "start_time": "2020-12-10T02:53:28.791266Z"
    }
   },
   "outputs": [],
   "source": [
    "rating_eval_df = pd.merge(perf_eval_df, rating_df, on = ['player_name', 'year'], how = 'inner')"
   ]
  },
  {
   "cell_type": "code",
   "execution_count": null,
   "metadata": {
    "ExecuteTime": {
     "end_time": "2020-12-10T02:53:28.873220Z",
     "start_time": "2020-12-10T02:53:28.832869Z"
    }
   },
   "outputs": [],
   "source": [
    "rating_eval_df = pd.DataFrame(rating_eval_df.groupby(['player_name', 'age', 'position'])['overall_rating'].agg('mean'))\n",
    "rating_eval_df.reset_index(inplace = True)\n",
    "top_player_list = rating_eval_df[rating_eval_df['overall_rating'] > 85]['player_name'].unique()\n",
    "top_player_list"
   ]
  },
  {
   "cell_type": "code",
   "execution_count": null,
   "metadata": {
    "ExecuteTime": {
     "end_time": "2020-12-10T02:53:28.903039Z",
     "start_time": "2020-12-10T02:53:28.875194Z"
    }
   },
   "outputs": [],
   "source": [
    "top_eval = df[df['player_name'].isin(top_player_list)]"
   ]
  },
  {
   "cell_type": "code",
   "execution_count": null,
   "metadata": {
    "ExecuteTime": {
     "end_time": "2020-12-10T02:53:29.111009Z",
     "start_time": "2020-12-10T02:53:28.904989Z"
    },
    "scrolled": false
   },
   "outputs": [],
   "source": [
    "top_eval[top_eval['num_transfer'] >= 3][['club_name', 'player_name', 'age', 'year', 'club_involved_name', 'adjusted_fee','k', 'perf_change_adjusted']].sort_values(by = 'year')"
   ]
  },
  {
   "cell_type": "code",
   "execution_count": null,
   "metadata": {
    "ExecuteTime": {
     "end_time": "2020-12-10T02:53:29.118502Z",
     "start_time": "2020-12-10T02:50:58.322Z"
    }
   },
   "outputs": [],
   "source": [
    "pd.DataFrame(top_eval.groupby('club_name')['transfer_movement'].agg('count'))\\\n",
    ".sort_values(by = 'transfer_movement', ascending = False)"
   ]
  },
  {
   "cell_type": "code",
   "execution_count": null,
   "metadata": {
    "ExecuteTime": {
     "end_time": "2020-12-10T02:53:29.119517Z",
     "start_time": "2020-12-10T02:50:58.325Z"
    }
   },
   "outputs": [],
   "source": [
    "player_in_madrid = top_eval[top_eval['club_name'] == 'Real Madrid']['player_name'].unique()"
   ]
  },
  {
   "cell_type": "code",
   "execution_count": null,
   "metadata": {
    "ExecuteTime": {
     "end_time": "2020-12-10T02:53:29.120508Z",
     "start_time": "2020-12-10T02:50:58.330Z"
    },
    "scrolled": true
   },
   "outputs": [],
   "source": [
    "top_eval[top_eval['player_name'].isin(player_in_madrid)]"
   ]
  },
  {
   "cell_type": "code",
   "execution_count": null,
   "metadata": {},
   "outputs": [],
   "source": []
  }
 ],
 "metadata": {
  "kernelspec": {
   "display_name": "Python [conda env:smm638]",
   "language": "python",
   "name": "conda-env-smm638-py"
  },
  "latex_envs": {
   "LaTeX_envs_menu_present": true,
   "autoclose": false,
   "autocomplete": true,
   "bibliofile": "biblio.bib",
   "cite_by": "apalike",
   "current_citInitial": 1,
   "eqLabelWithNumbers": true,
   "eqNumInitial": 1,
   "hotkeys": {
    "equation": "Ctrl-E",
    "itemize": "Ctrl-I"
   },
   "labels_anchors": false,
   "latex_user_defs": false,
   "report_style_numbering": false,
   "user_envs_cfg": false
  },
  "toc": {
   "base_numbering": 1,
   "nav_menu": {},
   "number_sections": true,
   "sideBar": true,
   "skip_h1_title": false,
   "title_cell": "Table of Contents",
   "title_sidebar": "Contents",
   "toc_cell": false,
   "toc_position": {
    "height": "calc(100% - 180px)",
    "left": "10px",
    "top": "150px",
    "width": "369.6px"
   },
   "toc_section_display": true,
   "toc_window_display": true
  },
  "varInspector": {
   "cols": {
    "lenName": 16,
    "lenType": 16,
    "lenVar": 40
   },
   "kernels_config": {
    "python": {
     "delete_cmd_postfix": "",
     "delete_cmd_prefix": "del ",
     "library": "var_list.py",
     "varRefreshCmd": "print(var_dic_list())"
    },
    "r": {
     "delete_cmd_postfix": ") ",
     "delete_cmd_prefix": "rm(",
     "library": "var_list.r",
     "varRefreshCmd": "cat(var_dic_list()) "
    }
   },
   "position": {
    "height": "733px",
    "left": "1005px",
    "right": "20px",
    "top": "120px",
    "width": "350px"
   },
   "types_to_exclude": [
    "module",
    "function",
    "builtin_function_or_method",
    "instance",
    "_Feature"
   ],
   "window_display": false
  }
 },
 "nbformat": 4,
 "nbformat_minor": 4
}
