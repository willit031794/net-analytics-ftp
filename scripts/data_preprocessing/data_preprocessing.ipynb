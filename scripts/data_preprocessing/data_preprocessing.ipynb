{
 "cells": [
  {
   "cell_type": "markdown",
   "metadata": {},
   "source": [
    "# Import relevant libraries"
   ]
  },
  {
   "cell_type": "code",
   "execution_count": 1,
   "metadata": {
    "ExecuteTime": {
     "end_time": "2020-11-28T21:16:11.409789Z",
     "start_time": "2020-11-28T21:16:11.048112Z"
    }
   },
   "outputs": [],
   "source": [
    "import os\n",
    "import glob\n",
    "import re\n",
    "import pandas as pd"
   ]
  },
  {
   "cell_type": "markdown",
   "metadata": {},
   "source": [
    "# Setup path"
   ]
  },
  {
   "cell_type": "code",
   "execution_count": 2,
   "metadata": {
    "ExecuteTime": {
     "end_time": "2020-11-28T21:16:11.420128Z",
     "start_time": "2020-11-28T21:16:11.415412Z"
    }
   },
   "outputs": [],
   "source": [
    "# set up paths\n",
    "base_path = '../../datasets'\n",
    "raw_data_path = os.path.join(base_path, 'raw_data')\n",
    "cleaned_data_path = os.path.join(base_path, 'cleaned_data')\n",
    "\n",
    "# change directory to raw_data_path\n",
    "os.chdir(raw_data_path)"
   ]
  },
  {
   "cell_type": "markdown",
   "metadata": {},
   "source": [
    "# Load data"
   ]
  },
  {
   "cell_type": "code",
   "execution_count": 3,
   "metadata": {
    "ExecuteTime": {
     "end_time": "2020-11-28T21:16:11.441981Z",
     "start_time": "2020-11-28T21:16:11.422231Z"
    }
   },
   "outputs": [
    {
     "name": "stdout",
     "output_type": "stream",
     "text": [
      "['1992', '1993', '1994', '1995', '1996', '1997', '1998', '1999', '2000', '2001', '2002', '2003', '2004', '2005', '2006', '2007', '2008', '2009', '2010', '2011', '2012', '2013', '2014', '2015', '2016', '2017', '2018', '2019', '2020']\n"
     ]
    }
   ],
   "source": [
    "# get folder names\n",
    "folders = [name for name in os.listdir() if os.path.isdir(name)]\n",
    "print(folders)"
   ]
  },
  {
   "cell_type": "code",
   "execution_count": 4,
   "metadata": {
    "ExecuteTime": {
     "end_time": "2020-11-28T21:16:20.733173Z",
     "start_time": "2020-11-28T21:16:11.443750Z"
    }
   },
   "outputs": [],
   "source": [
    "# initiate a table\n",
    "denorm_table = []\n",
    "\n",
    "# load and merge all files from 1992-2020\n",
    "for folder in folders:\n",
    "    \n",
    "    # get all file paths a folder\n",
    "    file_paths = glob.glob(os.path.join(folder, '*.csv'))\n",
    "    \n",
    "    for file_path in file_paths: \n",
    "        \n",
    "        # read file\n",
    "        file = pd.read_csv(file_path)\n",
    "        \n",
    "        # drop unmatched column\n",
    "        if 'transfer_period' in file.columns:\n",
    "            file.drop(columns = 'transfer_period', inplace = True)\n",
    "        \n",
    "        # concat table\n",
    "        if len(denorm_table) == 0:\n",
    "            denorm_table = file\n",
    "        else:\n",
    "            # check if columns of the two tables are the same \n",
    "            assert all(denorm_table.columns == file.columns), 'Columns do not match!'\n",
    "            \n",
    "            # concat table\n",
    "            denorm_table = pd.concat([denorm_table, file])"
   ]
  },
  {
   "cell_type": "code",
   "execution_count": 5,
   "metadata": {
    "ExecuteTime": {
     "end_time": "2020-11-28T21:16:20.759057Z",
     "start_time": "2020-11-28T21:16:20.734704Z"
    },
    "scrolled": true
   },
   "outputs": [
    {
     "data": {
      "text/html": [
       "<div>\n",
       "<style scoped>\n",
       "    .dataframe tbody tr th:only-of-type {\n",
       "        vertical-align: middle;\n",
       "    }\n",
       "\n",
       "    .dataframe tbody tr th {\n",
       "        vertical-align: top;\n",
       "    }\n",
       "\n",
       "    .dataframe thead th {\n",
       "        text-align: right;\n",
       "    }\n",
       "</style>\n",
       "<table border=\"1\" class=\"dataframe\">\n",
       "  <thead>\n",
       "    <tr style=\"text-align: right;\">\n",
       "      <th></th>\n",
       "      <th>club_name</th>\n",
       "      <th>player_name</th>\n",
       "      <th>age</th>\n",
       "      <th>position</th>\n",
       "      <th>club_involved_name</th>\n",
       "      <th>fee</th>\n",
       "      <th>transfer_movement</th>\n",
       "      <th>fee_cleaned</th>\n",
       "      <th>league_name</th>\n",
       "      <th>year</th>\n",
       "      <th>season</th>\n",
       "    </tr>\n",
       "  </thead>\n",
       "  <tbody>\n",
       "    <tr>\n",
       "      <th>0</th>\n",
       "      <td>Fortuna Sittard</td>\n",
       "      <td>René Hofman</td>\n",
       "      <td>31.0</td>\n",
       "      <td>Right Winger</td>\n",
       "      <td>Roda JC</td>\n",
       "      <td>?</td>\n",
       "      <td>in</td>\n",
       "      <td>NaN</td>\n",
       "      <td>Eredivisie</td>\n",
       "      <td>1992</td>\n",
       "      <td>1992/1993</td>\n",
       "    </tr>\n",
       "    <tr>\n",
       "      <th>1</th>\n",
       "      <td>Fortuna Sittard</td>\n",
       "      <td>Peter Schmitz</td>\n",
       "      <td>21.0</td>\n",
       "      <td>Forward</td>\n",
       "      <td>Helmond Sport</td>\n",
       "      <td>?</td>\n",
       "      <td>in</td>\n",
       "      <td>NaN</td>\n",
       "      <td>Eredivisie</td>\n",
       "      <td>1992</td>\n",
       "      <td>1992/1993</td>\n",
       "    </tr>\n",
       "    <tr>\n",
       "      <th>2</th>\n",
       "      <td>Fortuna Sittard</td>\n",
       "      <td>Kenneth Nysaether</td>\n",
       "      <td>22.0</td>\n",
       "      <td>Centre-Forward</td>\n",
       "      <td>Lillestrøm SK</td>\n",
       "      <td>?</td>\n",
       "      <td>in</td>\n",
       "      <td>NaN</td>\n",
       "      <td>Eredivisie</td>\n",
       "      <td>1992</td>\n",
       "      <td>1992/1993</td>\n",
       "    </tr>\n",
       "    <tr>\n",
       "      <th>3</th>\n",
       "      <td>Fortuna Sittard</td>\n",
       "      <td>Arno van Zwam</td>\n",
       "      <td>22.0</td>\n",
       "      <td>Goalkeeper</td>\n",
       "      <td>Fortuna U19</td>\n",
       "      <td>-</td>\n",
       "      <td>in</td>\n",
       "      <td>0.0</td>\n",
       "      <td>Eredivisie</td>\n",
       "      <td>1992</td>\n",
       "      <td>1992/1993</td>\n",
       "    </tr>\n",
       "    <tr>\n",
       "      <th>4</th>\n",
       "      <td>Fortuna Sittard</td>\n",
       "      <td>Jerry Taihuttu</td>\n",
       "      <td>22.0</td>\n",
       "      <td>Centre-Forward</td>\n",
       "      <td>Helmond Sport</td>\n",
       "      <td>Loan</td>\n",
       "      <td>out</td>\n",
       "      <td>0.0</td>\n",
       "      <td>Eredivisie</td>\n",
       "      <td>1992</td>\n",
       "      <td>1992/1993</td>\n",
       "    </tr>\n",
       "  </tbody>\n",
       "</table>\n",
       "</div>"
      ],
      "text/plain": [
       "         club_name        player_name   age        position  \\\n",
       "0  Fortuna Sittard        René Hofman  31.0    Right Winger   \n",
       "1  Fortuna Sittard      Peter Schmitz  21.0         Forward   \n",
       "2  Fortuna Sittard  Kenneth Nysaether  22.0  Centre-Forward   \n",
       "3  Fortuna Sittard      Arno van Zwam  22.0      Goalkeeper   \n",
       "4  Fortuna Sittard     Jerry Taihuttu  22.0  Centre-Forward   \n",
       "\n",
       "  club_involved_name   fee transfer_movement  fee_cleaned league_name  year  \\\n",
       "0            Roda JC     ?                in          NaN  Eredivisie  1992   \n",
       "1      Helmond Sport     ?                in          NaN  Eredivisie  1992   \n",
       "2      Lillestrøm SK     ?                in          NaN  Eredivisie  1992   \n",
       "3        Fortuna U19     -                in          0.0  Eredivisie  1992   \n",
       "4      Helmond Sport  Loan               out          0.0  Eredivisie  1992   \n",
       "\n",
       "      season  \n",
       "0  1992/1993  \n",
       "1  1992/1993  \n",
       "2  1992/1993  \n",
       "3  1992/1993  \n",
       "4  1992/1993  "
      ]
     },
     "execution_count": 5,
     "metadata": {},
     "output_type": "execute_result"
    }
   ],
   "source": [
    "denorm_table.reset_index(drop = True, inplace = True)\n",
    "denorm_table.head()"
   ]
  },
  {
   "cell_type": "markdown",
   "metadata": {},
   "source": [
    "# Preprocessing"
   ]
  },
  {
   "cell_type": "markdown",
   "metadata": {},
   "source": [
    "- Remove duplicated rows"
   ]
  },
  {
   "cell_type": "code",
   "execution_count": 6,
   "metadata": {
    "ExecuteTime": {
     "end_time": "2020-11-28T21:16:21.052313Z",
     "start_time": "2020-11-28T21:16:20.760620Z"
    }
   },
   "outputs": [],
   "source": [
    "denorm_table.drop_duplicates(inplace = True)"
   ]
  },
  {
   "cell_type": "markdown",
   "metadata": {},
   "source": [
    "**Clean data**  \n",
    "**Issues:**  \n",
    "- `club_name` and `club_involved_name` columns are in a different format *(len(`club_involved_name`.unique()) >>> len(`club_name`.unique))*  \n",
    "- Row counts for `transfer_movement` column 'in' > 'out'\n",
    "\n",
    "**Solution:**\n",
    "- Only keep relevant data points: each transaction should have `transfer_movement` = 'in' and 'out' (ledger format)  \n",
    "- Use the club name format in `club_involved_name` column - more specific "
   ]
  },
  {
   "cell_type": "code",
   "execution_count": 7,
   "metadata": {
    "ExecuteTime": {
     "end_time": "2020-11-28T21:16:31.594167Z",
     "start_time": "2020-11-28T21:16:21.053344Z"
    }
   },
   "outputs": [],
   "source": [
    "group = ['player_name', 'age', 'position', 'fee', 'fee_cleaned', 'year', 'season']\n",
    "table = denorm_table.groupby(group).agg({'transfer_movement': 'unique'})"
   ]
  },
  {
   "cell_type": "code",
   "execution_count": 8,
   "metadata": {
    "ExecuteTime": {
     "end_time": "2020-11-28T21:16:31.691802Z",
     "start_time": "2020-11-28T21:16:31.596674Z"
    }
   },
   "outputs": [],
   "source": [
    "# get length of transfer_movement lists\n",
    "table['len'] = [len(x) for x in table['transfer_movement']]"
   ]
  },
  {
   "cell_type": "code",
   "execution_count": 9,
   "metadata": {
    "ExecuteTime": {
     "end_time": "2020-11-28T21:16:31.726402Z",
     "start_time": "2020-11-28T21:16:31.693556Z"
    }
   },
   "outputs": [],
   "source": [
    "# len == 2 means there are ['in', 'out']\n",
    "table = table[table['len'] == 2]"
   ]
  },
  {
   "cell_type": "code",
   "execution_count": 10,
   "metadata": {
    "ExecuteTime": {
     "end_time": "2020-11-28T21:16:31.741538Z",
     "start_time": "2020-11-28T21:16:31.729650Z"
    }
   },
   "outputs": [],
   "source": [
    "table.reset_index(inplace = True)"
   ]
  },
  {
   "cell_type": "code",
   "execution_count": 11,
   "metadata": {
    "ExecuteTime": {
     "end_time": "2020-11-28T21:16:31.993857Z",
     "start_time": "2020-11-28T21:16:31.742999Z"
    }
   },
   "outputs": [],
   "source": [
    "joined_table = pd.merge(table, denorm_table, on = group, how = 'left')"
   ]
  },
  {
   "cell_type": "code",
   "execution_count": 12,
   "metadata": {
    "ExecuteTime": {
     "end_time": "2020-11-28T21:16:32.013837Z",
     "start_time": "2020-11-28T21:16:31.995386Z"
    }
   },
   "outputs": [],
   "source": [
    "# remove irrelevant columns\n",
    "joined_table.drop(columns = ['transfer_movement_x', 'len'], inplace = True)\n",
    "# rename columns\n",
    "joined_table.rename(columns = {'transfer_movement_y': 'transfer_movement'}, inplace = True)"
   ]
  },
  {
   "cell_type": "code",
   "execution_count": 13,
   "metadata": {
    "ExecuteTime": {
     "end_time": "2020-11-28T21:16:32.093897Z",
     "start_time": "2020-11-28T21:16:32.015283Z"
    }
   },
   "outputs": [
    {
     "name": "stdout",
     "output_type": "stream",
     "text": [
      "number of observation: 55158\n"
     ]
    },
    {
     "data": {
      "text/html": [
       "<div>\n",
       "<style scoped>\n",
       "    .dataframe tbody tr th:only-of-type {\n",
       "        vertical-align: middle;\n",
       "    }\n",
       "\n",
       "    .dataframe tbody tr th {\n",
       "        vertical-align: top;\n",
       "    }\n",
       "\n",
       "    .dataframe thead th {\n",
       "        text-align: right;\n",
       "    }\n",
       "</style>\n",
       "<table border=\"1\" class=\"dataframe\">\n",
       "  <thead>\n",
       "    <tr style=\"text-align: right;\">\n",
       "      <th></th>\n",
       "      <th>player_name</th>\n",
       "      <th>age</th>\n",
       "      <th>position</th>\n",
       "      <th>fee</th>\n",
       "      <th>fee_cleaned</th>\n",
       "      <th>year</th>\n",
       "      <th>season</th>\n",
       "      <th>club_name</th>\n",
       "      <th>club_involved_name</th>\n",
       "      <th>transfer_movement</th>\n",
       "      <th>league_name</th>\n",
       "    </tr>\n",
       "  </thead>\n",
       "  <tbody>\n",
       "    <tr>\n",
       "      <th>0</th>\n",
       "      <td>Aapo Halme</td>\n",
       "      <td>21.0</td>\n",
       "      <td>Centre-Back</td>\n",
       "      <td>£203Th.</td>\n",
       "      <td>0.203</td>\n",
       "      <td>2019</td>\n",
       "      <td>2019/2020</td>\n",
       "      <td>Leeds United</td>\n",
       "      <td>Barnsley FC</td>\n",
       "      <td>out</td>\n",
       "      <td>Championship</td>\n",
       "    </tr>\n",
       "    <tr>\n",
       "      <th>1</th>\n",
       "      <td>Aapo Halme</td>\n",
       "      <td>21.0</td>\n",
       "      <td>Centre-Back</td>\n",
       "      <td>£203Th.</td>\n",
       "      <td>0.203</td>\n",
       "      <td>2019</td>\n",
       "      <td>2019/2020</td>\n",
       "      <td>Barnsley FC</td>\n",
       "      <td>Leeds</td>\n",
       "      <td>in</td>\n",
       "      <td>Championship</td>\n",
       "    </tr>\n",
       "    <tr>\n",
       "      <th>2</th>\n",
       "      <td>Aaron Cresswell</td>\n",
       "      <td>24.0</td>\n",
       "      <td>Left-Back</td>\n",
       "      <td>£4.28m</td>\n",
       "      <td>4.280</td>\n",
       "      <td>2014</td>\n",
       "      <td>2014/2015</td>\n",
       "      <td>Ipswich Town</td>\n",
       "      <td>West Ham</td>\n",
       "      <td>out</td>\n",
       "      <td>Championship</td>\n",
       "    </tr>\n",
       "    <tr>\n",
       "      <th>3</th>\n",
       "      <td>Aaron Cresswell</td>\n",
       "      <td>24.0</td>\n",
       "      <td>Left-Back</td>\n",
       "      <td>£4.28m</td>\n",
       "      <td>4.280</td>\n",
       "      <td>2014</td>\n",
       "      <td>2014/2015</td>\n",
       "      <td>West Ham United</td>\n",
       "      <td>Ipswich</td>\n",
       "      <td>in</td>\n",
       "      <td>Premier League</td>\n",
       "    </tr>\n",
       "    <tr>\n",
       "      <th>4</th>\n",
       "      <td>Aaron Hughes</td>\n",
       "      <td>25.0</td>\n",
       "      <td>Centre-Back</td>\n",
       "      <td>£1.35m</td>\n",
       "      <td>1.350</td>\n",
       "      <td>2005</td>\n",
       "      <td>2005/2006</td>\n",
       "      <td>Aston Villa</td>\n",
       "      <td>Newcastle</td>\n",
       "      <td>in</td>\n",
       "      <td>Premier League</td>\n",
       "    </tr>\n",
       "  </tbody>\n",
       "</table>\n",
       "</div>"
      ],
      "text/plain": [
       "       player_name   age     position      fee  fee_cleaned  year     season  \\\n",
       "0       Aapo Halme  21.0  Centre-Back  £203Th.        0.203  2019  2019/2020   \n",
       "1       Aapo Halme  21.0  Centre-Back  £203Th.        0.203  2019  2019/2020   \n",
       "2  Aaron Cresswell  24.0    Left-Back   £4.28m        4.280  2014  2014/2015   \n",
       "3  Aaron Cresswell  24.0    Left-Back   £4.28m        4.280  2014  2014/2015   \n",
       "4     Aaron Hughes  25.0  Centre-Back   £1.35m        1.350  2005  2005/2006   \n",
       "\n",
       "         club_name club_involved_name transfer_movement     league_name  \n",
       "0     Leeds United        Barnsley FC               out    Championship  \n",
       "1      Barnsley FC              Leeds                in    Championship  \n",
       "2     Ipswich Town           West Ham               out    Championship  \n",
       "3  West Ham United            Ipswich                in  Premier League  \n",
       "4      Aston Villa          Newcastle                in  Premier League  "
      ]
     },
     "execution_count": 13,
     "metadata": {},
     "output_type": "execute_result"
    }
   ],
   "source": [
    "print(f'number of observation: {len(joined_table)}')\n",
    "joined_table.head()"
   ]
  },
  {
   "cell_type": "code",
   "execution_count": 14,
   "metadata": {
    "ExecuteTime": {
     "end_time": "2020-11-28T21:16:32.655616Z",
     "start_time": "2020-11-28T21:16:32.095584Z"
    }
   },
   "outputs": [],
   "source": [
    "joined_table.to_csv(os.path.join(cleaned_data_path, 'node_edge_data.csv'), index = False)"
   ]
  },
  {
   "cell_type": "markdown",
   "metadata": {},
   "source": [
    "- Get list of players who were bought at least once (for performance evaluation)"
   ]
  },
  {
   "cell_type": "code",
   "execution_count": 15,
   "metadata": {
    "ExecuteTime": {
     "end_time": "2020-11-28T21:16:33.411361Z",
     "start_time": "2020-11-28T21:16:32.656837Z"
    }
   },
   "outputs": [
    {
     "name": "stdout",
     "output_type": "stream",
     "text": [
      "number of observation: 16102\n"
     ]
    },
    {
     "data": {
      "text/html": [
       "<div>\n",
       "<style scoped>\n",
       "    .dataframe tbody tr th:only-of-type {\n",
       "        vertical-align: middle;\n",
       "    }\n",
       "\n",
       "    .dataframe tbody tr th {\n",
       "        vertical-align: top;\n",
       "    }\n",
       "\n",
       "    .dataframe thead th {\n",
       "        text-align: right;\n",
       "    }\n",
       "</style>\n",
       "<table border=\"1\" class=\"dataframe\">\n",
       "  <thead>\n",
       "    <tr style=\"text-align: right;\">\n",
       "      <th></th>\n",
       "      <th>player_name</th>\n",
       "      <th>age</th>\n",
       "      <th>position</th>\n",
       "      <th>fee</th>\n",
       "      <th>fee_cleaned</th>\n",
       "      <th>year</th>\n",
       "      <th>season</th>\n",
       "      <th>club_name</th>\n",
       "      <th>club_involved_name</th>\n",
       "      <th>transfer_movement</th>\n",
       "      <th>league_name</th>\n",
       "    </tr>\n",
       "  </thead>\n",
       "  <tbody>\n",
       "    <tr>\n",
       "      <th>0</th>\n",
       "      <td>Aapo Halme</td>\n",
       "      <td>21.0</td>\n",
       "      <td>Centre-Back</td>\n",
       "      <td>£203Th.</td>\n",
       "      <td>0.203</td>\n",
       "      <td>2019</td>\n",
       "      <td>2019/2020</td>\n",
       "      <td>Leeds United</td>\n",
       "      <td>Barnsley FC</td>\n",
       "      <td>out</td>\n",
       "      <td>Championship</td>\n",
       "    </tr>\n",
       "    <tr>\n",
       "      <th>1</th>\n",
       "      <td>Aapo Halme</td>\n",
       "      <td>21.0</td>\n",
       "      <td>Centre-Back</td>\n",
       "      <td>£203Th.</td>\n",
       "      <td>0.203</td>\n",
       "      <td>2019</td>\n",
       "      <td>2019/2020</td>\n",
       "      <td>Barnsley FC</td>\n",
       "      <td>Leeds</td>\n",
       "      <td>in</td>\n",
       "      <td>Championship</td>\n",
       "    </tr>\n",
       "    <tr>\n",
       "      <th>2</th>\n",
       "      <td>Aaron Cresswell</td>\n",
       "      <td>24.0</td>\n",
       "      <td>Left-Back</td>\n",
       "      <td>£4.28m</td>\n",
       "      <td>4.280</td>\n",
       "      <td>2014</td>\n",
       "      <td>2014/2015</td>\n",
       "      <td>Ipswich Town</td>\n",
       "      <td>West Ham</td>\n",
       "      <td>out</td>\n",
       "      <td>Championship</td>\n",
       "    </tr>\n",
       "    <tr>\n",
       "      <th>3</th>\n",
       "      <td>Aaron Cresswell</td>\n",
       "      <td>24.0</td>\n",
       "      <td>Left-Back</td>\n",
       "      <td>£4.28m</td>\n",
       "      <td>4.280</td>\n",
       "      <td>2014</td>\n",
       "      <td>2014/2015</td>\n",
       "      <td>West Ham United</td>\n",
       "      <td>Ipswich</td>\n",
       "      <td>in</td>\n",
       "      <td>Premier League</td>\n",
       "    </tr>\n",
       "    <tr>\n",
       "      <th>4</th>\n",
       "      <td>Aaron Hughes</td>\n",
       "      <td>25.0</td>\n",
       "      <td>Centre-Back</td>\n",
       "      <td>£1.35m</td>\n",
       "      <td>1.350</td>\n",
       "      <td>2005</td>\n",
       "      <td>2005/2006</td>\n",
       "      <td>Aston Villa</td>\n",
       "      <td>Newcastle</td>\n",
       "      <td>in</td>\n",
       "      <td>Premier League</td>\n",
       "    </tr>\n",
       "  </tbody>\n",
       "</table>\n",
       "</div>"
      ],
      "text/plain": [
       "       player_name   age     position      fee  fee_cleaned  year     season  \\\n",
       "0       Aapo Halme  21.0  Centre-Back  £203Th.        0.203  2019  2019/2020   \n",
       "1       Aapo Halme  21.0  Centre-Back  £203Th.        0.203  2019  2019/2020   \n",
       "2  Aaron Cresswell  24.0    Left-Back   £4.28m        4.280  2014  2014/2015   \n",
       "3  Aaron Cresswell  24.0    Left-Back   £4.28m        4.280  2014  2014/2015   \n",
       "4     Aaron Hughes  25.0  Centre-Back   £1.35m        1.350  2005  2005/2006   \n",
       "\n",
       "         club_name club_involved_name transfer_movement     league_name  \n",
       "0     Leeds United        Barnsley FC               out    Championship  \n",
       "1      Barnsley FC              Leeds                in    Championship  \n",
       "2     Ipswich Town           West Ham               out    Championship  \n",
       "3  West Ham United            Ipswich                in  Premier League  \n",
       "4      Aston Villa          Newcastle                in  Premier League  "
      ]
     },
     "execution_count": 15,
     "metadata": {},
     "output_type": "execute_result"
    }
   ],
   "source": [
    "pattern = r\"£\"\n",
    "\n",
    "slicer = []\n",
    "\n",
    "for i in range(len(joined_table)):\n",
    "    val = bool(re.match(pattern, str(joined_table['fee'][i])))\n",
    "    slicer.append(val)\n",
    "\n",
    "perf_eval_table = joined_table[slicer]\n",
    "perf_eval_table.reset_index(drop = True, inplace = True)\n",
    "print(f'number of observation: {len(perf_eval_table)}')\n",
    "perf_eval_table.head()"
   ]
  },
  {
   "cell_type": "code",
   "execution_count": 16,
   "metadata": {
    "ExecuteTime": {
     "end_time": "2020-11-28T21:16:33.586060Z",
     "start_time": "2020-11-28T21:16:33.412669Z"
    }
   },
   "outputs": [],
   "source": [
    "perf_eval_table.to_csv(os.path.join(cleaned_data_path, 'perf_eval_table.csv'), index = False)"
   ]
  }
 ],
 "metadata": {
  "kernelspec": {
   "display_name": "Python [conda env:smm638]",
   "language": "python",
   "name": "conda-env-smm638-py"
  },
  "language_info": {
   "codemirror_mode": {
    "name": "ipython",
    "version": 3
   },
   "file_extension": ".py",
   "mimetype": "text/x-python",
   "name": "python",
   "nbconvert_exporter": "python",
   "pygments_lexer": "ipython3",
   "version": "3.8.5"
  },
  "latex_envs": {
   "LaTeX_envs_menu_present": true,
   "autoclose": false,
   "autocomplete": true,
   "bibliofile": "biblio.bib",
   "cite_by": "apalike",
   "current_citInitial": 1,
   "eqLabelWithNumbers": true,
   "eqNumInitial": 1,
   "hotkeys": {
    "equation": "Ctrl-E",
    "itemize": "Ctrl-I"
   },
   "labels_anchors": false,
   "latex_user_defs": false,
   "report_style_numbering": false,
   "user_envs_cfg": false
  },
  "toc": {
   "base_numbering": 1,
   "nav_menu": {},
   "number_sections": true,
   "sideBar": true,
   "skip_h1_title": false,
   "title_cell": "Table of Contents",
   "title_sidebar": "Contents",
   "toc_cell": false,
   "toc_position": {},
   "toc_section_display": true,
   "toc_window_display": false
  },
  "varInspector": {
   "cols": {
    "lenName": 16,
    "lenType": 16,
    "lenVar": 40
   },
   "kernels_config": {
    "python": {
     "delete_cmd_postfix": "",
     "delete_cmd_prefix": "del ",
     "library": "var_list.py",
     "varRefreshCmd": "print(var_dic_list())"
    },
    "r": {
     "delete_cmd_postfix": ") ",
     "delete_cmd_prefix": "rm(",
     "library": "var_list.r",
     "varRefreshCmd": "cat(var_dic_list()) "
    }
   },
   "types_to_exclude": [
    "module",
    "function",
    "builtin_function_or_method",
    "instance",
    "_Feature"
   ],
   "window_display": false
  }
 },
 "nbformat": 4,
 "nbformat_minor": 4
}
