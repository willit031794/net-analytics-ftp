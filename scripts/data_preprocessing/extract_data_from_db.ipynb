{
 "cells": [
  {
   "cell_type": "markdown",
   "metadata": {},
   "source": [
    "# Import relevant libraries"
   ]
  },
  {
   "cell_type": "code",
   "execution_count": 1,
   "metadata": {
    "ExecuteTime": {
     "end_time": "2020-11-27T14:46:44.851210Z",
     "start_time": "2020-11-27T14:46:44.639249Z"
    }
   },
   "outputs": [],
   "source": [
    "import os\n",
    "import re\n",
    "import sqlite3\n",
    "import pandas as pd"
   ]
  },
  {
   "cell_type": "markdown",
   "metadata": {},
   "source": [
    "# Connect to database"
   ]
  },
  {
   "cell_type": "code",
   "execution_count": 3,
   "metadata": {
    "ExecuteTime": {
     "end_time": "2020-11-27T14:48:35.140518Z",
     "start_time": "2020-11-27T14:48:35.137144Z"
    }
   },
   "outputs": [],
   "source": [
    "# set base_path\n",
    "base_path = os.path.join('..', '..')\n",
    "\n",
    "# set db_path\n",
    "db_path = os.path.join(base_path, 'datasets', 'raw_data', 'database.sqlite')"
   ]
  },
  {
   "cell_type": "code",
   "execution_count": 4,
   "metadata": {
    "ExecuteTime": {
     "end_time": "2020-11-27T14:48:38.730089Z",
     "start_time": "2020-11-27T14:48:38.725572Z"
    }
   },
   "outputs": [],
   "source": [
    "# connect to the database\n",
    "connect = sqlite3.connect(db_path)"
   ]
  },
  {
   "cell_type": "markdown",
   "metadata": {},
   "source": [
    "# ETL"
   ]
  },
  {
   "cell_type": "code",
   "execution_count": 5,
   "metadata": {
    "ExecuteTime": {
     "end_time": "2020-11-27T14:50:06.885689Z",
     "start_time": "2020-11-27T14:50:06.882288Z"
    }
   },
   "outputs": [],
   "source": [
    "# cursor\n",
    "cursor = connect.cursor()"
   ]
  },
  {
   "cell_type": "code",
   "execution_count": 9,
   "metadata": {
    "ExecuteTime": {
     "end_time": "2020-11-27T14:50:37.006892Z",
     "start_time": "2020-11-27T14:50:36.999301Z"
    }
   },
   "outputs": [
    {
     "name": "stdout",
     "output_type": "stream",
     "text": [
      "['sqlite_sequence', 'Player_Attributes', 'Player', 'Match', 'League', 'Country', 'Team', 'Team_Attributes']\n"
     ]
    }
   ],
   "source": [
    "# get column names\n",
    "cursor.execute(\"SELECT name FROM sqlite_master WHERE type='table';\")\n",
    "columns = cursor.fetchall()\n",
    "\n",
    "# get only alphanumeric characters\n",
    "pattern = '\\w+'\n",
    "\n",
    "# get column names\n",
    "columns = re.findall(pattern, str(columns))\n",
    "print(columns)"
   ]
  },
  {
   "cell_type": "code",
   "execution_count": 21,
   "metadata": {
    "ExecuteTime": {
     "end_time": "2020-11-27T15:06:41.528449Z",
     "start_time": "2020-11-27T15:05:44.337510Z"
    }
   },
   "outputs": [
    {
     "name": "stdout",
     "output_type": "stream",
     "text": [
      "The table was saved at ../../datasets/cleaned_data/sqlite_sequence.csv\n",
      "The table was saved at ../../datasets/cleaned_data/player_attributes.csv\n",
      "The table was saved at ../../datasets/cleaned_data/player.csv\n",
      "The table was saved at ../../datasets/cleaned_data/match.csv\n",
      "The table was saved at ../../datasets/cleaned_data/league.csv\n",
      "The table was saved at ../../datasets/cleaned_data/country.csv\n",
      "The table was saved at ../../datasets/cleaned_data/team.csv\n",
      "The table was saved at ../../datasets/cleaned_data/team_attributes.csv\n"
     ]
    }
   ],
   "source": [
    "for column in columns: \n",
    "    # generate variable name\n",
    "    var_name = column.lower()\n",
    "    # get table\n",
    "    vars()[var_name] = pd.read_sql_query(f\"SELECT * from {column}\", connect)\n",
    "    # set destination path\n",
    "    file_path = os.path.join(base_path, 'datasets', 'cleaned_data', f'{var_name}.csv')\n",
    "    # save csv\n",
    "    vars()[var_name].to_csv(file_path, index =  False)\n",
    "    \n",
    "    print(f'The table was saved at {file_path}')"
   ]
  }
 ],
 "metadata": {
  "kernelspec": {
   "display_name": "Python [conda env:smm638]",
   "language": "python",
   "name": "conda-env-smm638-py"
  },
  "language_info": {
   "codemirror_mode": {
    "name": "ipython",
    "version": 3
   },
   "file_extension": ".py",
   "mimetype": "text/x-python",
   "name": "python",
   "nbconvert_exporter": "python",
   "pygments_lexer": "ipython3",
   "version": "3.8.5"
  },
  "latex_envs": {
   "LaTeX_envs_menu_present": true,
   "autoclose": false,
   "autocomplete": true,
   "bibliofile": "biblio.bib",
   "cite_by": "apalike",
   "current_citInitial": 1,
   "eqLabelWithNumbers": true,
   "eqNumInitial": 1,
   "hotkeys": {
    "equation": "Ctrl-E",
    "itemize": "Ctrl-I"
   },
   "labels_anchors": false,
   "latex_user_defs": false,
   "report_style_numbering": false,
   "user_envs_cfg": false
  },
  "toc": {
   "base_numbering": 1,
   "nav_menu": {},
   "number_sections": true,
   "sideBar": true,
   "skip_h1_title": false,
   "title_cell": "Table of Contents",
   "title_sidebar": "Contents",
   "toc_cell": false,
   "toc_position": {},
   "toc_section_display": true,
   "toc_window_display": false
  },
  "varInspector": {
   "cols": {
    "lenName": 16,
    "lenType": 16,
    "lenVar": 40
   },
   "kernels_config": {
    "python": {
     "delete_cmd_postfix": "",
     "delete_cmd_prefix": "del ",
     "library": "var_list.py",
     "varRefreshCmd": "print(var_dic_list())"
    },
    "r": {
     "delete_cmd_postfix": ") ",
     "delete_cmd_prefix": "rm(",
     "library": "var_list.r",
     "varRefreshCmd": "cat(var_dic_list()) "
    }
   },
   "types_to_exclude": [
    "module",
    "function",
    "builtin_function_or_method",
    "instance",
    "_Feature"
   ],
   "window_display": false
  }
 },
 "nbformat": 4,
 "nbformat_minor": 4
}
