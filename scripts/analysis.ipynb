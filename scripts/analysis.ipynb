{
 "cells": [
  {
   "cell_type": "markdown",
   "metadata": {},
   "source": [
    "# Import relevant libraries"
   ]
  },
  {
   "cell_type": "code",
   "execution_count": 1,
   "metadata": {
    "ExecuteTime": {
     "end_time": "2020-12-12T22:17:05.126406Z",
     "start_time": "2020-12-12T22:17:03.558620Z"
    }
   },
   "outputs": [],
   "source": [
    "import os\n",
    "import math\n",
    "import copy\n",
    "import numpy as np\n",
    "import pandas as pd\n",
    "import matplotlib.pyplot as plt\n",
    "import seaborn as sns\n",
    "from tqdm.notebook import tqdm"
   ]
  },
  {
   "cell_type": "code",
   "execution_count": 2,
   "metadata": {
    "ExecuteTime": {
     "end_time": "2020-12-12T22:17:05.130637Z",
     "start_time": "2020-12-12T22:17:05.128050Z"
    }
   },
   "outputs": [],
   "source": [
    "# disable false positive warnings\n",
    "pd.options.mode.chained_assignment = None"
   ]
  },
  {
   "cell_type": "markdown",
   "metadata": {
    "ExecuteTime": {
     "end_time": "2020-11-29T13:10:39.169434Z",
     "start_time": "2020-11-29T13:10:39.166337Z"
    }
   },
   "source": [
    "# Setup path"
   ]
  },
  {
   "cell_type": "code",
   "execution_count": 3,
   "metadata": {
    "ExecuteTime": {
     "end_time": "2020-12-12T22:17:05.175818Z",
     "start_time": "2020-12-12T22:17:05.172854Z"
    }
   },
   "outputs": [],
   "source": [
    "# set up paths\n",
    "base_path = '../datasets'\n",
    "cleaned_data_path = os.path.join(base_path, 'cleaned_data')"
   ]
  },
  {
   "cell_type": "markdown",
   "metadata": {},
   "source": [
    "# Load data"
   ]
  },
  {
   "cell_type": "code",
   "execution_count": 4,
   "metadata": {
    "ExecuteTime": {
     "end_time": "2020-12-12T22:17:06.271415Z",
     "start_time": "2020-12-12T22:17:05.754429Z"
    }
   },
   "outputs": [],
   "source": [
    "node_edge_df = pd.read_csv(os.path.join(cleaned_data_path, 'node_edge_data.csv'))\n",
    "perf_eval_df = pd.read_csv(os.path.join(cleaned_data_path, 'perf_eval_table.csv'))"
   ]
  },
  {
   "cell_type": "code",
   "execution_count": 5,
   "metadata": {
    "ExecuteTime": {
     "end_time": "2020-12-12T22:17:06.344616Z",
     "start_time": "2020-12-12T22:17:06.325706Z"
    }
   },
   "outputs": [
    {
     "name": "stdout",
     "output_type": "stream",
     "text": [
      "number of observation: 163001\n"
     ]
    },
    {
     "data": {
      "text/html": [
       "<div>\n",
       "<style scoped>\n",
       "    .dataframe tbody tr th:only-of-type {\n",
       "        vertical-align: middle;\n",
       "    }\n",
       "\n",
       "    .dataframe tbody tr th {\n",
       "        vertical-align: top;\n",
       "    }\n",
       "\n",
       "    .dataframe thead th {\n",
       "        text-align: right;\n",
       "    }\n",
       "</style>\n",
       "<table border=\"1\" class=\"dataframe\">\n",
       "  <thead>\n",
       "    <tr style=\"text-align: right;\">\n",
       "      <th></th>\n",
       "      <th>club_name</th>\n",
       "      <th>player_name</th>\n",
       "      <th>age</th>\n",
       "      <th>position</th>\n",
       "      <th>club_involved_name</th>\n",
       "      <th>fee</th>\n",
       "      <th>transfer_movement</th>\n",
       "      <th>fee_cleaned</th>\n",
       "      <th>year</th>\n",
       "    </tr>\n",
       "  </thead>\n",
       "  <tbody>\n",
       "    <tr>\n",
       "      <th>0</th>\n",
       "      <td>Fortuna Sittard</td>\n",
       "      <td>Rene Hofman</td>\n",
       "      <td>31.0</td>\n",
       "      <td>Right Winger</td>\n",
       "      <td>Roda JC</td>\n",
       "      <td>?</td>\n",
       "      <td>in</td>\n",
       "      <td>NaN</td>\n",
       "      <td>1992</td>\n",
       "    </tr>\n",
       "    <tr>\n",
       "      <th>1</th>\n",
       "      <td>Fortuna Sittard</td>\n",
       "      <td>Peter Schmitz</td>\n",
       "      <td>21.0</td>\n",
       "      <td>Forward</td>\n",
       "      <td>Helmond Sport</td>\n",
       "      <td>?</td>\n",
       "      <td>in</td>\n",
       "      <td>NaN</td>\n",
       "      <td>1992</td>\n",
       "    </tr>\n",
       "    <tr>\n",
       "      <th>2</th>\n",
       "      <td>Fortuna Sittard</td>\n",
       "      <td>Kenneth Nysaether</td>\n",
       "      <td>22.0</td>\n",
       "      <td>Centre-Forward</td>\n",
       "      <td>Lillestrøm SK</td>\n",
       "      <td>?</td>\n",
       "      <td>in</td>\n",
       "      <td>NaN</td>\n",
       "      <td>1992</td>\n",
       "    </tr>\n",
       "    <tr>\n",
       "      <th>3</th>\n",
       "      <td>Fortuna Sittard</td>\n",
       "      <td>Arno van Zwam</td>\n",
       "      <td>22.0</td>\n",
       "      <td>Goalkeeper</td>\n",
       "      <td>Fortuna U19</td>\n",
       "      <td>-</td>\n",
       "      <td>in</td>\n",
       "      <td>0.0</td>\n",
       "      <td>1992</td>\n",
       "    </tr>\n",
       "    <tr>\n",
       "      <th>4</th>\n",
       "      <td>Fortuna Sittard</td>\n",
       "      <td>Jerry Taihuttu</td>\n",
       "      <td>22.0</td>\n",
       "      <td>Centre-Forward</td>\n",
       "      <td>Helmond Sport</td>\n",
       "      <td>Loan</td>\n",
       "      <td>out</td>\n",
       "      <td>0.0</td>\n",
       "      <td>1992</td>\n",
       "    </tr>\n",
       "  </tbody>\n",
       "</table>\n",
       "</div>"
      ],
      "text/plain": [
       "         club_name        player_name   age        position  \\\n",
       "0  Fortuna Sittard        Rene Hofman  31.0    Right Winger   \n",
       "1  Fortuna Sittard      Peter Schmitz  21.0         Forward   \n",
       "2  Fortuna Sittard  Kenneth Nysaether  22.0  Centre-Forward   \n",
       "3  Fortuna Sittard      Arno van Zwam  22.0      Goalkeeper   \n",
       "4  Fortuna Sittard     Jerry Taihuttu  22.0  Centre-Forward   \n",
       "\n",
       "  club_involved_name   fee transfer_movement  fee_cleaned  year  \n",
       "0            Roda JC     ?                in          NaN  1992  \n",
       "1      Helmond Sport     ?                in          NaN  1992  \n",
       "2      Lillestrøm SK     ?                in          NaN  1992  \n",
       "3        Fortuna U19     -                in          0.0  1992  \n",
       "4      Helmond Sport  Loan               out          0.0  1992  "
      ]
     },
     "execution_count": 5,
     "metadata": {},
     "output_type": "execute_result"
    }
   ],
   "source": [
    "print(f'number of observation: {len(node_edge_df)}')\n",
    "node_edge_df.head()"
   ]
  },
  {
   "cell_type": "markdown",
   "metadata": {},
   "source": [
    "# Analysis\n",
    "\n",
    "**Thesis Statement:**\n",
    "\n",
    "Workflow:\n",
    "1) Step1  \n",
    "2) Step2  \n",
    "3) Step3  \n",
    "\n",
    "**To do**\n",
    "- There seems to be a trend on age-price so we dev scaling factor (average price by age with base age) to diminish the effect of age on price.\n",
    "- Identify the effect of homophily (Membership closure) on performance -> performance metric = f(price, scaling_factor) and maybe with combination of other metrics\n",
    "- Identify the behavior of the transfer if it's related to our analysis,   \n",
    "  - if yes: the analysis might be the cause  \n",
    "  - if no: give some recommendation"
   ]
  },
  {
   "cell_type": "markdown",
   "metadata": {},
   "source": [
    "## Fee-Age Analysis"
   ]
  },
  {
   "cell_type": "code",
   "execution_count": 45,
   "metadata": {
    "ExecuteTime": {
     "end_time": "2020-12-13T00:09:56.438788Z",
     "start_time": "2020-12-13T00:09:56.424689Z"
    }
   },
   "outputs": [
    {
     "data": {
      "text/html": [
       "<div>\n",
       "<style scoped>\n",
       "    .dataframe tbody tr th:only-of-type {\n",
       "        vertical-align: middle;\n",
       "    }\n",
       "\n",
       "    .dataframe tbody tr th {\n",
       "        vertical-align: top;\n",
       "    }\n",
       "\n",
       "    .dataframe thead th {\n",
       "        text-align: right;\n",
       "    }\n",
       "</style>\n",
       "<table border=\"1\" class=\"dataframe\">\n",
       "  <thead>\n",
       "    <tr style=\"text-align: right;\">\n",
       "      <th></th>\n",
       "      <th>age</th>\n",
       "      <th>fee_cleaned</th>\n",
       "    </tr>\n",
       "  </thead>\n",
       "  <tbody>\n",
       "    <tr>\n",
       "      <th>0</th>\n",
       "      <td>19.0</td>\n",
       "      <td>0.817</td>\n",
       "    </tr>\n",
       "    <tr>\n",
       "      <th>1</th>\n",
       "      <td>21.0</td>\n",
       "      <td>0.013</td>\n",
       "    </tr>\n",
       "    <tr>\n",
       "      <th>2</th>\n",
       "      <td>25.0</td>\n",
       "      <td>1.170</td>\n",
       "    </tr>\n",
       "    <tr>\n",
       "      <th>3</th>\n",
       "      <td>21.0</td>\n",
       "      <td>0.005</td>\n",
       "    </tr>\n",
       "    <tr>\n",
       "      <th>4</th>\n",
       "      <td>19.0</td>\n",
       "      <td>0.817</td>\n",
       "    </tr>\n",
       "    <tr>\n",
       "      <th>...</th>\n",
       "      <td>...</td>\n",
       "      <td>...</td>\n",
       "    </tr>\n",
       "    <tr>\n",
       "      <th>26589</th>\n",
       "      <td>25.0</td>\n",
       "      <td>2.250</td>\n",
       "    </tr>\n",
       "    <tr>\n",
       "      <th>26590</th>\n",
       "      <td>23.0</td>\n",
       "      <td>4.500</td>\n",
       "    </tr>\n",
       "    <tr>\n",
       "      <th>26591</th>\n",
       "      <td>23.0</td>\n",
       "      <td>0.450</td>\n",
       "    </tr>\n",
       "    <tr>\n",
       "      <th>26592</th>\n",
       "      <td>28.0</td>\n",
       "      <td>2.480</td>\n",
       "    </tr>\n",
       "    <tr>\n",
       "      <th>26593</th>\n",
       "      <td>22.0</td>\n",
       "      <td>0.450</td>\n",
       "    </tr>\n",
       "  </tbody>\n",
       "</table>\n",
       "<p>26594 rows × 2 columns</p>\n",
       "</div>"
      ],
      "text/plain": [
       "        age  fee_cleaned\n",
       "0      19.0        0.817\n",
       "1      21.0        0.013\n",
       "2      25.0        1.170\n",
       "3      21.0        0.005\n",
       "4      19.0        0.817\n",
       "...     ...          ...\n",
       "26589  25.0        2.250\n",
       "26590  23.0        4.500\n",
       "26591  23.0        0.450\n",
       "26592  28.0        2.480\n",
       "26593  22.0        0.450\n",
       "\n",
       "[26594 rows x 2 columns]"
      ]
     },
     "execution_count": 45,
     "metadata": {},
     "output_type": "execute_result"
    }
   ],
   "source": [
    "fee_age = perf_eval_df[['age', 'fee_cleaned']]\n",
    "fee_age"
   ]
  },
  {
   "cell_type": "code",
   "execution_count": 46,
   "metadata": {
    "ExecuteTime": {
     "end_time": "2020-12-13T00:10:00.349379Z",
     "start_time": "2020-12-13T00:09:59.010930Z"
    }
   },
   "outputs": [
    {
     "data": {
      "text/plain": [
       "<AxesSubplot:xlabel='age', ylabel='fee_cleaned'>"
      ]
     },
     "execution_count": 46,
     "metadata": {},
     "output_type": "execute_result"
    },
    {
     "data": {
      "image/png": "[encoded data removed]",
      "text/plain": [
       "<Figure size 432x288 with 1 Axes>"
      ]
     },
     "metadata": {
      "needs_background": "light"
     },
     "output_type": "display_data"
    }
   ],
   "source": [
    "# the variance is quite high\n",
    "sns.lineplot(data = fee_age, x = 'age', y = 'fee_cleaned', estimator= np.mean, ci = 95)"
   ]
  },
  {
   "cell_type": "code",
   "execution_count": 47,
   "metadata": {
    "ExecuteTime": {
     "end_time": "2020-12-13T00:10:04.701080Z",
     "start_time": "2020-12-13T00:10:02.786117Z"
    }
   },
   "outputs": [
    {
     "data": {
      "text/plain": [
       "<AxesSubplot:xlabel='fee_cleaned', ylabel='Count'>"
      ]
     },
     "execution_count": 47,
     "metadata": {},
     "output_type": "execute_result"
    },
    {
     "data": {
      "image/png": "[encoded data removed]",
      "text/plain": [
       "<Figure size 432x288 with 1 Axes>"
      ]
     },
     "metadata": {
      "needs_background": "light"
     },
     "output_type": "display_data"
    }
   ],
   "source": [
    "# heavy-tailed distribution --> median would be a more sensible mid-point measure\n",
    "# as mean would be influenced by the outliers\n",
    "sns.histplot(fee_age['fee_cleaned'], kde = True)"
   ]
  },
  {
   "cell_type": "code",
   "execution_count": 48,
   "metadata": {
    "ExecuteTime": {
     "end_time": "2020-12-13T00:10:08.983486Z",
     "start_time": "2020-12-13T00:10:08.974145Z"
    }
   },
   "outputs": [],
   "source": [
    "# descriptive statistics\n",
    "desc_stat = fee_age.groupby('age')['fee_cleaned']\\\n",
    "                   .agg(['mean', 'median', 'std', 'min', 'max', 'count'])\n",
    "# remove group with small number of observations\n",
    "desc_stat = desc_stat[desc_stat['count'] > 100]"
   ]
  },
  {
   "cell_type": "code",
   "execution_count": 49,
   "metadata": {
    "ExecuteTime": {
     "end_time": "2020-12-13T00:10:12.323754Z",
     "start_time": "2020-12-13T00:10:12.309148Z"
    }
   },
   "outputs": [
    {
     "data": {
      "text/html": [
       "<div>\n",
       "<style scoped>\n",
       "    .dataframe tbody tr th:only-of-type {\n",
       "        vertical-align: middle;\n",
       "    }\n",
       "\n",
       "    .dataframe tbody tr th {\n",
       "        vertical-align: top;\n",
       "    }\n",
       "\n",
       "    .dataframe thead th {\n",
       "        text-align: right;\n",
       "    }\n",
       "</style>\n",
       "<table border=\"1\" class=\"dataframe\">\n",
       "  <thead>\n",
       "    <tr style=\"text-align: right;\">\n",
       "      <th></th>\n",
       "      <th>mean</th>\n",
       "      <th>median</th>\n",
       "      <th>std</th>\n",
       "      <th>min</th>\n",
       "      <th>max</th>\n",
       "      <th>count</th>\n",
       "    </tr>\n",
       "    <tr>\n",
       "      <th>age</th>\n",
       "      <th></th>\n",
       "      <th></th>\n",
       "      <th></th>\n",
       "      <th></th>\n",
       "      <th></th>\n",
       "      <th></th>\n",
       "    </tr>\n",
       "  </thead>\n",
       "  <tbody>\n",
       "    <tr>\n",
       "      <th>17.0</th>\n",
       "      <td>2.476510</td>\n",
       "      <td>0.990</td>\n",
       "      <td>3.844370</td>\n",
       "      <td>0.005</td>\n",
       "      <td>21.60</td>\n",
       "      <td>145</td>\n",
       "    </tr>\n",
       "    <tr>\n",
       "      <th>18.0</th>\n",
       "      <td>3.433969</td>\n",
       "      <td>1.350</td>\n",
       "      <td>6.202667</td>\n",
       "      <td>0.002</td>\n",
       "      <td>40.50</td>\n",
       "      <td>512</td>\n",
       "    </tr>\n",
       "    <tr>\n",
       "      <th>19.0</th>\n",
       "      <td>3.783434</td>\n",
       "      <td>1.350</td>\n",
       "      <td>9.608391</td>\n",
       "      <td>0.005</td>\n",
       "      <td>130.50</td>\n",
       "      <td>1052</td>\n",
       "    </tr>\n",
       "    <tr>\n",
       "      <th>20.0</th>\n",
       "      <td>3.830943</td>\n",
       "      <td>1.580</td>\n",
       "      <td>7.183568</td>\n",
       "      <td>0.009</td>\n",
       "      <td>124.20</td>\n",
       "      <td>1605</td>\n",
       "    </tr>\n",
       "    <tr>\n",
       "      <th>21.0</th>\n",
       "      <td>4.126564</td>\n",
       "      <td>1.530</td>\n",
       "      <td>7.276784</td>\n",
       "      <td>0.005</td>\n",
       "      <td>79.38</td>\n",
       "      <td>2169</td>\n",
       "    </tr>\n",
       "    <tr>\n",
       "      <th>22.0</th>\n",
       "      <td>4.212821</td>\n",
       "      <td>1.620</td>\n",
       "      <td>6.906991</td>\n",
       "      <td>0.004</td>\n",
       "      <td>67.50</td>\n",
       "      <td>2549</td>\n",
       "    </tr>\n",
       "    <tr>\n",
       "      <th>23.0</th>\n",
       "      <td>4.760516</td>\n",
       "      <td>1.980</td>\n",
       "      <td>8.301757</td>\n",
       "      <td>0.009</td>\n",
       "      <td>94.50</td>\n",
       "      <td>2802</td>\n",
       "    </tr>\n",
       "    <tr>\n",
       "      <th>24.0</th>\n",
       "      <td>4.775991</td>\n",
       "      <td>1.980</td>\n",
       "      <td>8.126826</td>\n",
       "      <td>0.008</td>\n",
       "      <td>90.90</td>\n",
       "      <td>2771</td>\n",
       "    </tr>\n",
       "    <tr>\n",
       "      <th>25.0</th>\n",
       "      <td>4.769627</td>\n",
       "      <td>2.120</td>\n",
       "      <td>9.505160</td>\n",
       "      <td>0.009</td>\n",
       "      <td>199.80</td>\n",
       "      <td>2594</td>\n",
       "    </tr>\n",
       "    <tr>\n",
       "      <th>26.0</th>\n",
       "      <td>4.463731</td>\n",
       "      <td>2.160</td>\n",
       "      <td>7.290973</td>\n",
       "      <td>0.009</td>\n",
       "      <td>78.30</td>\n",
       "      <td>2459</td>\n",
       "    </tr>\n",
       "    <tr>\n",
       "      <th>27.0</th>\n",
       "      <td>4.522155</td>\n",
       "      <td>1.800</td>\n",
       "      <td>7.851551</td>\n",
       "      <td>0.004</td>\n",
       "      <td>73.55</td>\n",
       "      <td>2205</td>\n",
       "    </tr>\n",
       "    <tr>\n",
       "      <th>28.0</th>\n",
       "      <td>4.496887</td>\n",
       "      <td>2.030</td>\n",
       "      <td>8.274084</td>\n",
       "      <td>0.009</td>\n",
       "      <td>108.00</td>\n",
       "      <td>1770</td>\n",
       "    </tr>\n",
       "    <tr>\n",
       "      <th>29.0</th>\n",
       "      <td>3.940478</td>\n",
       "      <td>1.630</td>\n",
       "      <td>6.820514</td>\n",
       "      <td>0.016</td>\n",
       "      <td>69.75</td>\n",
       "      <td>1304</td>\n",
       "    </tr>\n",
       "    <tr>\n",
       "      <th>30.0</th>\n",
       "      <td>3.078010</td>\n",
       "      <td>1.440</td>\n",
       "      <td>5.060288</td>\n",
       "      <td>0.021</td>\n",
       "      <td>54.00</td>\n",
       "      <td>1015</td>\n",
       "    </tr>\n",
       "    <tr>\n",
       "      <th>31.0</th>\n",
       "      <td>2.246585</td>\n",
       "      <td>1.130</td>\n",
       "      <td>3.513725</td>\n",
       "      <td>0.018</td>\n",
       "      <td>32.54</td>\n",
       "      <td>710</td>\n",
       "    </tr>\n",
       "    <tr>\n",
       "      <th>32.0</th>\n",
       "      <td>1.540950</td>\n",
       "      <td>0.783</td>\n",
       "      <td>2.184313</td>\n",
       "      <td>0.005</td>\n",
       "      <td>13.59</td>\n",
       "      <td>416</td>\n",
       "    </tr>\n",
       "    <tr>\n",
       "      <th>33.0</th>\n",
       "      <td>2.424093</td>\n",
       "      <td>0.855</td>\n",
       "      <td>9.792374</td>\n",
       "      <td>0.009</td>\n",
       "      <td>105.30</td>\n",
       "      <td>237</td>\n",
       "    </tr>\n",
       "    <tr>\n",
       "      <th>34.0</th>\n",
       "      <td>0.822295</td>\n",
       "      <td>0.450</td>\n",
       "      <td>0.985455</td>\n",
       "      <td>0.014</td>\n",
       "      <td>5.01</td>\n",
       "      <td>139</td>\n",
       "    </tr>\n",
       "  </tbody>\n",
       "</table>\n",
       "</div>"
      ],
      "text/plain": [
       "          mean  median       std    min     max  count\n",
       "age                                                   \n",
       "17.0  2.476510   0.990  3.844370  0.005   21.60    145\n",
       "18.0  3.433969   1.350  6.202667  0.002   40.50    512\n",
       "19.0  3.783434   1.350  9.608391  0.005  130.50   1052\n",
       "20.0  3.830943   1.580  7.183568  0.009  124.20   1605\n",
       "21.0  4.126564   1.530  7.276784  0.005   79.38   2169\n",
       "22.0  4.212821   1.620  6.906991  0.004   67.50   2549\n",
       "23.0  4.760516   1.980  8.301757  0.009   94.50   2802\n",
       "24.0  4.775991   1.980  8.126826  0.008   90.90   2771\n",
       "25.0  4.769627   2.120  9.505160  0.009  199.80   2594\n",
       "26.0  4.463731   2.160  7.290973  0.009   78.30   2459\n",
       "27.0  4.522155   1.800  7.851551  0.004   73.55   2205\n",
       "28.0  4.496887   2.030  8.274084  0.009  108.00   1770\n",
       "29.0  3.940478   1.630  6.820514  0.016   69.75   1304\n",
       "30.0  3.078010   1.440  5.060288  0.021   54.00   1015\n",
       "31.0  2.246585   1.130  3.513725  0.018   32.54    710\n",
       "32.0  1.540950   0.783  2.184313  0.005   13.59    416\n",
       "33.0  2.424093   0.855  9.792374  0.009  105.30    237\n",
       "34.0  0.822295   0.450  0.985455  0.014    5.01    139"
      ]
     },
     "execution_count": 49,
     "metadata": {},
     "output_type": "execute_result"
    }
   ],
   "source": [
    "# There are some outliers that greatly influence the mean and thus using median is more robust\n",
    "desc_stat"
   ]
  },
  {
   "cell_type": "code",
   "execution_count": 50,
   "metadata": {
    "ExecuteTime": {
     "end_time": "2020-12-13T00:10:15.421241Z",
     "start_time": "2020-12-13T00:10:15.219287Z"
    }
   },
   "outputs": [
    {
     "data": {
      "image/png": "[encoded data removed]",
      "text/plain": [
       "<Figure size 576x432 with 1 Axes>"
      ]
     },
     "metadata": {
      "needs_background": "light"
     },
     "output_type": "display_data"
    }
   ],
   "source": [
    "# visualize\n",
    "fig, ax = plt.subplots(figsize = (8, 6))\n",
    "\n",
    "sns.lineplot(data = fee_age, x = 'age', y = 'fee_cleaned', estimator= np.median, ci = None, alpha = 0.5)\n",
    "\n",
    "xlim = (desc_stat.index[0], desc_stat.index[-1])\n",
    "ylim = (min(desc_stat['median']*0.5), max(desc_stat['median'])*1.1)\n",
    "\n",
    "# fit polynomial to smoothen the trend (for adjustment coefficient)\n",
    "x = list(desc_stat['median'].index)\n",
    "y = list(desc_stat['median'])\n",
    "\n",
    "# smoothen the liner\n",
    "fit = np.polyfit(x, y, deg = 2)\n",
    "poly1d = np.poly1d(fit)\n",
    "\n",
    "# add adjustment line\n",
    "plt.plot(x, poly1d(x), '-', c = 'red')\n",
    "\n",
    "# get the turning point (slope < 0)\n",
    "idx = [idx for idx,val in enumerate(np.diff(poly1d(x))) if val < 0][0]\n",
    "\n",
    "# add vertical line at the turning point\n",
    "plt.vlines(x = x[idx], ymin = ylim[0], ymax = ylim[1],\n",
    "           colors = 'red', linestyles = 'dashed')\n",
    "\n",
    "ax.set_xlim(xlim)\n",
    "ax.set_ylim(ylim)\n",
    "\n",
    "plt.show()"
   ]
  },
  {
   "cell_type": "code",
   "execution_count": 51,
   "metadata": {
    "ExecuteTime": {
     "end_time": "2020-12-13T00:10:26.141807Z",
     "start_time": "2020-12-13T00:10:26.127001Z"
    }
   },
   "outputs": [
    {
     "data": {
      "text/html": [
       "<div>\n",
       "<style scoped>\n",
       "    .dataframe tbody tr th:only-of-type {\n",
       "        vertical-align: middle;\n",
       "    }\n",
       "\n",
       "    .dataframe tbody tr th {\n",
       "        vertical-align: top;\n",
       "    }\n",
       "\n",
       "    .dataframe thead th {\n",
       "        text-align: right;\n",
       "    }\n",
       "</style>\n",
       "<table border=\"1\" class=\"dataframe\">\n",
       "  <thead>\n",
       "    <tr style=\"text-align: right;\">\n",
       "      <th></th>\n",
       "      <th>age</th>\n",
       "      <th>coef</th>\n",
       "    </tr>\n",
       "  </thead>\n",
       "  <tbody>\n",
       "    <tr>\n",
       "      <th>0</th>\n",
       "      <td>17.0</td>\n",
       "      <td>1.000000</td>\n",
       "    </tr>\n",
       "    <tr>\n",
       "      <th>1</th>\n",
       "      <td>18.0</td>\n",
       "      <td>0.784209</td>\n",
       "    </tr>\n",
       "    <tr>\n",
       "      <th>2</th>\n",
       "      <td>19.0</td>\n",
       "      <td>0.661457</td>\n",
       "    </tr>\n",
       "    <tr>\n",
       "      <th>3</th>\n",
       "      <td>20.0</td>\n",
       "      <td>0.584819</td>\n",
       "    </tr>\n",
       "    <tr>\n",
       "      <th>4</th>\n",
       "      <td>21.0</td>\n",
       "      <td>0.534897</td>\n",
       "    </tr>\n",
       "    <tr>\n",
       "      <th>5</th>\n",
       "      <td>22.0</td>\n",
       "      <td>0.502366</td>\n",
       "    </tr>\n",
       "    <tr>\n",
       "      <th>6</th>\n",
       "      <td>23.0</td>\n",
       "      <td>0.482366</td>\n",
       "    </tr>\n",
       "    <tr>\n",
       "      <th>7</th>\n",
       "      <td>24.0</td>\n",
       "      <td>0.472339</td>\n",
       "    </tr>\n",
       "    <tr>\n",
       "      <th>8</th>\n",
       "      <td>25.0</td>\n",
       "      <td>0.471119</td>\n",
       "    </tr>\n",
       "    <tr>\n",
       "      <th>9</th>\n",
       "      <td>26.0</td>\n",
       "      <td>0.478570</td>\n",
       "    </tr>\n",
       "    <tr>\n",
       "      <th>10</th>\n",
       "      <td>27.0</td>\n",
       "      <td>0.495544</td>\n",
       "    </tr>\n",
       "    <tr>\n",
       "      <th>11</th>\n",
       "      <td>28.0</td>\n",
       "      <td>0.524141</td>\n",
       "    </tr>\n",
       "    <tr>\n",
       "      <th>12</th>\n",
       "      <td>29.0</td>\n",
       "      <td>0.568422</td>\n",
       "    </tr>\n",
       "    <tr>\n",
       "      <th>13</th>\n",
       "      <td>30.0</td>\n",
       "      <td>0.636091</td>\n",
       "    </tr>\n",
       "    <tr>\n",
       "      <th>14</th>\n",
       "      <td>31.0</td>\n",
       "      <td>0.742710</td>\n",
       "    </tr>\n",
       "    <tr>\n",
       "      <th>15</th>\n",
       "      <td>32.0</td>\n",
       "      <td>0.924033</td>\n",
       "    </tr>\n",
       "    <tr>\n",
       "      <th>16</th>\n",
       "      <td>33.0</td>\n",
       "      <td>1.282913</td>\n",
       "    </tr>\n",
       "    <tr>\n",
       "      <th>17</th>\n",
       "      <td>34.0</td>\n",
       "      <td>2.281995</td>\n",
       "    </tr>\n",
       "  </tbody>\n",
       "</table>\n",
       "</div>"
      ],
      "text/plain": [
       "     age      coef\n",
       "0   17.0  1.000000\n",
       "1   18.0  0.784209\n",
       "2   19.0  0.661457\n",
       "3   20.0  0.584819\n",
       "4   21.0  0.534897\n",
       "5   22.0  0.502366\n",
       "6   23.0  0.482366\n",
       "7   24.0  0.472339\n",
       "8   25.0  0.471119\n",
       "9   26.0  0.478570\n",
       "10  27.0  0.495544\n",
       "11  28.0  0.524141\n",
       "12  29.0  0.568422\n",
       "13  30.0  0.636091\n",
       "14  31.0  0.742710\n",
       "15  32.0  0.924033\n",
       "16  33.0  1.282913\n",
       "17  34.0  2.281995"
      ]
     },
     "execution_count": 51,
     "metadata": {},
     "output_type": "execute_result"
    }
   ],
   "source": [
    "# develop adjustment coefficient\n",
    "fitted_value = poly1d(x)\n",
    "\n",
    "baseline = fitted_value[0]\n",
    "base_value = np.divide(fitted_value, baseline)\n",
    "coef = np.reciprocal(base_value)\n",
    "\n",
    "temp_df = pd.DataFrame(data = {'age': desc_stat['median'].index,\n",
    "                               'coef': coef})\n",
    "temp_df"
   ]
  },
  {
   "cell_type": "code",
   "execution_count": 52,
   "metadata": {
    "ExecuteTime": {
     "end_time": "2020-12-13T00:10:28.894702Z",
     "start_time": "2020-12-13T00:10:28.872864Z"
    }
   },
   "outputs": [
    {
     "data": {
      "text/html": [
       "<div>\n",
       "<style scoped>\n",
       "    .dataframe tbody tr th:only-of-type {\n",
       "        vertical-align: middle;\n",
       "    }\n",
       "\n",
       "    .dataframe tbody tr th {\n",
       "        vertical-align: top;\n",
       "    }\n",
       "\n",
       "    .dataframe thead th {\n",
       "        text-align: right;\n",
       "    }\n",
       "</style>\n",
       "<table border=\"1\" class=\"dataframe\">\n",
       "  <thead>\n",
       "    <tr style=\"text-align: right;\">\n",
       "      <th></th>\n",
       "      <th>age</th>\n",
       "      <th>coef</th>\n",
       "    </tr>\n",
       "  </thead>\n",
       "  <tbody>\n",
       "    <tr>\n",
       "      <th>0</th>\n",
       "      <td>15.0</td>\n",
       "      <td>1.000000</td>\n",
       "    </tr>\n",
       "    <tr>\n",
       "      <th>1</th>\n",
       "      <td>16.0</td>\n",
       "      <td>1.000000</td>\n",
       "    </tr>\n",
       "    <tr>\n",
       "      <th>2</th>\n",
       "      <td>17.0</td>\n",
       "      <td>1.000000</td>\n",
       "    </tr>\n",
       "    <tr>\n",
       "      <th>3</th>\n",
       "      <td>18.0</td>\n",
       "      <td>0.784209</td>\n",
       "    </tr>\n",
       "    <tr>\n",
       "      <th>4</th>\n",
       "      <td>19.0</td>\n",
       "      <td>0.661457</td>\n",
       "    </tr>\n",
       "    <tr>\n",
       "      <th>5</th>\n",
       "      <td>20.0</td>\n",
       "      <td>0.584819</td>\n",
       "    </tr>\n",
       "    <tr>\n",
       "      <th>6</th>\n",
       "      <td>21.0</td>\n",
       "      <td>0.534897</td>\n",
       "    </tr>\n",
       "    <tr>\n",
       "      <th>7</th>\n",
       "      <td>22.0</td>\n",
       "      <td>0.502366</td>\n",
       "    </tr>\n",
       "    <tr>\n",
       "      <th>8</th>\n",
       "      <td>23.0</td>\n",
       "      <td>0.482366</td>\n",
       "    </tr>\n",
       "    <tr>\n",
       "      <th>9</th>\n",
       "      <td>24.0</td>\n",
       "      <td>0.472339</td>\n",
       "    </tr>\n",
       "    <tr>\n",
       "      <th>10</th>\n",
       "      <td>25.0</td>\n",
       "      <td>0.471119</td>\n",
       "    </tr>\n",
       "    <tr>\n",
       "      <th>11</th>\n",
       "      <td>26.0</td>\n",
       "      <td>0.478570</td>\n",
       "    </tr>\n",
       "    <tr>\n",
       "      <th>12</th>\n",
       "      <td>27.0</td>\n",
       "      <td>0.495544</td>\n",
       "    </tr>\n",
       "    <tr>\n",
       "      <th>13</th>\n",
       "      <td>28.0</td>\n",
       "      <td>0.524141</td>\n",
       "    </tr>\n",
       "    <tr>\n",
       "      <th>14</th>\n",
       "      <td>29.0</td>\n",
       "      <td>0.568422</td>\n",
       "    </tr>\n",
       "    <tr>\n",
       "      <th>15</th>\n",
       "      <td>30.0</td>\n",
       "      <td>0.636091</td>\n",
       "    </tr>\n",
       "    <tr>\n",
       "      <th>16</th>\n",
       "      <td>31.0</td>\n",
       "      <td>0.742710</td>\n",
       "    </tr>\n",
       "    <tr>\n",
       "      <th>17</th>\n",
       "      <td>32.0</td>\n",
       "      <td>0.924033</td>\n",
       "    </tr>\n",
       "    <tr>\n",
       "      <th>18</th>\n",
       "      <td>33.0</td>\n",
       "      <td>1.282913</td>\n",
       "    </tr>\n",
       "    <tr>\n",
       "      <th>19</th>\n",
       "      <td>34.0</td>\n",
       "      <td>2.281995</td>\n",
       "    </tr>\n",
       "    <tr>\n",
       "      <th>20</th>\n",
       "      <td>35.0</td>\n",
       "      <td>2.281995</td>\n",
       "    </tr>\n",
       "    <tr>\n",
       "      <th>21</th>\n",
       "      <td>36.0</td>\n",
       "      <td>2.281995</td>\n",
       "    </tr>\n",
       "    <tr>\n",
       "      <th>22</th>\n",
       "      <td>37.0</td>\n",
       "      <td>2.281995</td>\n",
       "    </tr>\n",
       "    <tr>\n",
       "      <th>23</th>\n",
       "      <td>38.0</td>\n",
       "      <td>2.281995</td>\n",
       "    </tr>\n",
       "    <tr>\n",
       "      <th>24</th>\n",
       "      <td>39.0</td>\n",
       "      <td>2.281995</td>\n",
       "    </tr>\n",
       "  </tbody>\n",
       "</table>\n",
       "</div>"
      ],
      "text/plain": [
       "     age      coef\n",
       "0   15.0  1.000000\n",
       "1   16.0  1.000000\n",
       "2   17.0  1.000000\n",
       "3   18.0  0.784209\n",
       "4   19.0  0.661457\n",
       "5   20.0  0.584819\n",
       "6   21.0  0.534897\n",
       "7   22.0  0.502366\n",
       "8   23.0  0.482366\n",
       "9   24.0  0.472339\n",
       "10  25.0  0.471119\n",
       "11  26.0  0.478570\n",
       "12  27.0  0.495544\n",
       "13  28.0  0.524141\n",
       "14  29.0  0.568422\n",
       "15  30.0  0.636091\n",
       "16  31.0  0.742710\n",
       "17  32.0  0.924033\n",
       "18  33.0  1.282913\n",
       "19  34.0  2.281995\n",
       "20  35.0  2.281995\n",
       "21  36.0  2.281995\n",
       "22  37.0  2.281995\n",
       "23  38.0  2.281995\n",
       "24  39.0  2.281995"
      ]
     },
     "execution_count": 52,
     "metadata": {},
     "output_type": "execute_result"
    }
   ],
   "source": [
    "# extend age range to cover the data using lower-upper bound coefficient\n",
    "age_df = pd.DataFrame(data = {'age': sorted(fee_age['age'].unique())})\n",
    "adj_coef_table = pd.merge(age_df, temp_df, on = 'age', how = 'left')\n",
    "adj_coef_table['coef'] = adj_coef_table['coef'].interpolate(method = 'linear', limit_direction = 'both')\n",
    "adj_coef_table"
   ]
  },
  {
   "cell_type": "markdown",
   "metadata": {},
   "source": [
    "## Homophily Analysis"
   ]
  },
  {
   "cell_type": "code",
   "execution_count": 6,
   "metadata": {
    "ExecuteTime": {
     "end_time": "2020-12-12T22:17:12.203544Z",
     "start_time": "2020-12-12T22:17:12.185291Z"
    }
   },
   "outputs": [
    {
     "name": "stdout",
     "output_type": "stream",
     "text": [
      "number of observation: 163001\n"
     ]
    },
    {
     "data": {
      "text/html": [
       "<div>\n",
       "<style scoped>\n",
       "    .dataframe tbody tr th:only-of-type {\n",
       "        vertical-align: middle;\n",
       "    }\n",
       "\n",
       "    .dataframe tbody tr th {\n",
       "        vertical-align: top;\n",
       "    }\n",
       "\n",
       "    .dataframe thead th {\n",
       "        text-align: right;\n",
       "    }\n",
       "</style>\n",
       "<table border=\"1\" class=\"dataframe\">\n",
       "  <thead>\n",
       "    <tr style=\"text-align: right;\">\n",
       "      <th></th>\n",
       "      <th>club_name</th>\n",
       "      <th>player_name</th>\n",
       "      <th>age</th>\n",
       "      <th>position</th>\n",
       "      <th>club_involved_name</th>\n",
       "      <th>fee</th>\n",
       "      <th>transfer_movement</th>\n",
       "      <th>fee_cleaned</th>\n",
       "      <th>year</th>\n",
       "    </tr>\n",
       "  </thead>\n",
       "  <tbody>\n",
       "    <tr>\n",
       "      <th>0</th>\n",
       "      <td>Fortuna Sittard</td>\n",
       "      <td>Rene Hofman</td>\n",
       "      <td>31.0</td>\n",
       "      <td>Right Winger</td>\n",
       "      <td>Roda JC</td>\n",
       "      <td>?</td>\n",
       "      <td>in</td>\n",
       "      <td>NaN</td>\n",
       "      <td>1992</td>\n",
       "    </tr>\n",
       "    <tr>\n",
       "      <th>1</th>\n",
       "      <td>Fortuna Sittard</td>\n",
       "      <td>Peter Schmitz</td>\n",
       "      <td>21.0</td>\n",
       "      <td>Forward</td>\n",
       "      <td>Helmond Sport</td>\n",
       "      <td>?</td>\n",
       "      <td>in</td>\n",
       "      <td>NaN</td>\n",
       "      <td>1992</td>\n",
       "    </tr>\n",
       "    <tr>\n",
       "      <th>2</th>\n",
       "      <td>Fortuna Sittard</td>\n",
       "      <td>Kenneth Nysaether</td>\n",
       "      <td>22.0</td>\n",
       "      <td>Centre-Forward</td>\n",
       "      <td>Lillestrøm SK</td>\n",
       "      <td>?</td>\n",
       "      <td>in</td>\n",
       "      <td>NaN</td>\n",
       "      <td>1992</td>\n",
       "    </tr>\n",
       "    <tr>\n",
       "      <th>3</th>\n",
       "      <td>Fortuna Sittard</td>\n",
       "      <td>Arno van Zwam</td>\n",
       "      <td>22.0</td>\n",
       "      <td>Goalkeeper</td>\n",
       "      <td>Fortuna U19</td>\n",
       "      <td>-</td>\n",
       "      <td>in</td>\n",
       "      <td>0.0</td>\n",
       "      <td>1992</td>\n",
       "    </tr>\n",
       "    <tr>\n",
       "      <th>4</th>\n",
       "      <td>Fortuna Sittard</td>\n",
       "      <td>Jerry Taihuttu</td>\n",
       "      <td>22.0</td>\n",
       "      <td>Centre-Forward</td>\n",
       "      <td>Helmond Sport</td>\n",
       "      <td>Loan</td>\n",
       "      <td>out</td>\n",
       "      <td>0.0</td>\n",
       "      <td>1992</td>\n",
       "    </tr>\n",
       "  </tbody>\n",
       "</table>\n",
       "</div>"
      ],
      "text/plain": [
       "         club_name        player_name   age        position  \\\n",
       "0  Fortuna Sittard        Rene Hofman  31.0    Right Winger   \n",
       "1  Fortuna Sittard      Peter Schmitz  21.0         Forward   \n",
       "2  Fortuna Sittard  Kenneth Nysaether  22.0  Centre-Forward   \n",
       "3  Fortuna Sittard      Arno van Zwam  22.0      Goalkeeper   \n",
       "4  Fortuna Sittard     Jerry Taihuttu  22.0  Centre-Forward   \n",
       "\n",
       "  club_involved_name   fee transfer_movement  fee_cleaned  year  \n",
       "0            Roda JC     ?                in          NaN  1992  \n",
       "1      Helmond Sport     ?                in          NaN  1992  \n",
       "2      Lillestrøm SK     ?                in          NaN  1992  \n",
       "3        Fortuna U19     -                in          0.0  1992  \n",
       "4      Helmond Sport  Loan               out          0.0  1992  "
      ]
     },
     "execution_count": 6,
     "metadata": {},
     "output_type": "execute_result"
    }
   ],
   "source": [
    "print(f'number of observation: {len(node_edge_df)}')\n",
    "node_edge_df.head()"
   ]
  },
  {
   "cell_type": "markdown",
   "metadata": {},
   "source": [
    "### Create structured data"
   ]
  },
  {
   "cell_type": "raw",
   "metadata": {},
   "source": [
    "\"\"\"\n",
    "Example of designed nested dictionary  \n",
    "{ `Year1` : { `Club1` : [Player1, Player2, Player3....],\n",
    "              `Club2` : [Player1, Player2, Player3....],\n",
    "                      :\n",
    "                      :\n",
    "                      :\n",
    "        }  \n",
    "  `Year2` : { `Club1` : [Player1, Player2, Player3....],\n",
    "              `Club2` : [Player1, Player2, Player3....],\n",
    "                      :\n",
    "                      :\n",
    "                      :\n",
    "        }\n",
    "}\n",
    "\"\"\""
   ]
  },
  {
   "cell_type": "code",
   "execution_count": 7,
   "metadata": {
    "ExecuteTime": {
     "end_time": "2020-12-12T22:17:12.748234Z",
     "start_time": "2020-12-12T22:17:12.712469Z"
    }
   },
   "outputs": [],
   "source": [
    "# 2 components needed: 'year_list', 'club_list'\n",
    "year_list = sorted(sorted(node_edge_df['year'].unique()))\n",
    "club_list = sorted(node_edge_df['club_name'].unique())"
   ]
  },
  {
   "cell_type": "code",
   "execution_count": 8,
   "metadata": {
    "ExecuteTime": {
     "end_time": "2020-12-12T22:17:12.855422Z",
     "start_time": "2020-12-12T22:17:12.851949Z"
    }
   },
   "outputs": [],
   "source": [
    "# define function to remove elements in a list from another list\n",
    "def remove_elem_by_list(list1, list2):\n",
    "    for elem in list2:\n",
    "        try:\n",
    "            list1.remove(elem)\n",
    "        except Exception:\n",
    "            pass\n",
    "    return list1"
   ]
  },
  {
   "cell_type": "code",
   "execution_count": 9,
   "metadata": {
    "ExecuteTime": {
     "end_time": "2020-12-12T22:17:35.387237Z",
     "start_time": "2020-12-12T22:17:12.993308Z"
    }
   },
   "outputs": [
    {
     "data": {
      "application/vnd.jupyter.widget-view+json": {
       "model_id": "5f7a0eb6ea3547258f880035d4614573",
       "version_major": 2,
       "version_minor": 0
      },
      "text/plain": [
       "HBox(children=(HTML(value=''), FloatProgress(value=0.0, max=29.0), HTML(value='')))"
      ]
     },
     "metadata": {},
     "output_type": "display_data"
    },
    {
     "name": "stdout",
     "output_type": "stream",
     "text": [
      "\n"
     ]
    }
   ],
   "source": [
    "# nested dictionary: year: `club_member`\n",
    "nested_dict = {}\n",
    "prev_year = None\n",
    "\n",
    "# loop over year:\n",
    "for year in tqdm(year_list):\n",
    "\n",
    "    if prev_year in nested_dict.keys():\n",
    "\n",
    "        # retrieve club-player info in the previous year for the second year and so on\n",
    "        club_member = copy.deepcopy(nested_dict[prev_year])\n",
    "\n",
    "    else:\n",
    "        # initiate a dictionary of clubs (keys) and their affiliated players (values)\n",
    "        club_member = {}\n",
    "\n",
    "    # subset data by year\n",
    "    data = node_edge_df[node_edge_df['year'] == year]\n",
    "\n",
    "    # subset for transfer_movement == 'in', 'out'\n",
    "    data_in = data[data['transfer_movement'] == 'in']\n",
    "    data_out = data[data['transfer_movement'] == 'out']\n",
    "\n",
    "    # loop over club:\n",
    "    for club in club_list:\n",
    "\n",
    "        # subset data by club\n",
    "        temp_data_in = data_in[data_in['club_name'] == club]\n",
    "        temp_data_out = data_out[data_out['club_name'] == club]\n",
    "\n",
    "        # update all players in that club in the dictionary (`club_member`)\n",
    "        player_list_in = list(temp_data_in['player_name'])\n",
    "        player_list_out = list(temp_data_out['player_name'])\n",
    "\n",
    "        if prev_year in nested_dict.keys():\n",
    "\n",
    "            # catch bug (The case when club has no member yet)\n",
    "            if club_member[club] is None:\n",
    "                club_member[club] = []\n",
    "\n",
    "            # adjust for members who move in\n",
    "            club_member[club].extend(player_list_in)\n",
    "            # adjust for members who move out\n",
    "            remove_elem_by_list(club_member[club], player_list_out)\n",
    "\n",
    "        else:\n",
    "            # update club_member info\n",
    "            club_member[club] = remove_elem_by_list(player_list_in,\n",
    "                                                    player_list_out)\n",
    "\n",
    "    # store `club_member` in `nested_dict`\n",
    "    nested_dict[year] = club_member\n",
    "\n",
    "    # set previous year\n",
    "    prev_year = year"
   ]
  },
  {
   "cell_type": "markdown",
   "metadata": {},
   "source": [
    "### Analysis"
   ]
  },
  {
   "cell_type": "code",
   "execution_count": 10,
   "metadata": {
    "ExecuteTime": {
     "end_time": "2020-12-12T22:17:35.754599Z",
     "start_time": "2020-12-12T22:17:35.625355Z"
    }
   },
   "outputs": [],
   "source": [
    "# subset only `transfer_movement` == 'in'; we want to analyze the number of ties a player has\n",
    "# before entering a team\n",
    "df = node_edge_df[node_edge_df['transfer_movement'] == 'in']\n",
    "df.reset_index(drop=True, inplace=True)\n",
    "# clean the table\n",
    "df.drop_duplicates(inplace=True)"
   ]
  },
  {
   "cell_type": "code",
   "execution_count": 11,
   "metadata": {
    "ExecuteTime": {
     "end_time": "2020-12-12T22:17:36.164041Z",
     "start_time": "2020-12-12T22:17:35.989798Z"
    }
   },
   "outputs": [
    {
     "name": "stdout",
     "output_type": "stream",
     "text": [
      "number of observation: 78625\n"
     ]
    },
    {
     "data": {
      "text/html": [
       "<div>\n",
       "<style scoped>\n",
       "    .dataframe tbody tr th:only-of-type {\n",
       "        vertical-align: middle;\n",
       "    }\n",
       "\n",
       "    .dataframe tbody tr th {\n",
       "        vertical-align: top;\n",
       "    }\n",
       "\n",
       "    .dataframe thead th {\n",
       "        text-align: right;\n",
       "    }\n",
       "</style>\n",
       "<table border=\"1\" class=\"dataframe\">\n",
       "  <thead>\n",
       "    <tr style=\"text-align: right;\">\n",
       "      <th></th>\n",
       "      <th>club_name</th>\n",
       "      <th>player_name</th>\n",
       "      <th>age</th>\n",
       "      <th>position</th>\n",
       "      <th>club_involved_name</th>\n",
       "      <th>fee</th>\n",
       "      <th>transfer_movement</th>\n",
       "      <th>fee_cleaned</th>\n",
       "      <th>year</th>\n",
       "      <th>num_transfer</th>\n",
       "      <th>max_transfer</th>\n",
       "    </tr>\n",
       "  </thead>\n",
       "  <tbody>\n",
       "    <tr>\n",
       "      <th>0</th>\n",
       "      <td>Fortuna Sittard</td>\n",
       "      <td>Rene Hofman</td>\n",
       "      <td>31.0</td>\n",
       "      <td>Right Winger</td>\n",
       "      <td>Roda JC</td>\n",
       "      <td>?</td>\n",
       "      <td>in</td>\n",
       "      <td>NaN</td>\n",
       "      <td>1992</td>\n",
       "      <td>1</td>\n",
       "      <td>1</td>\n",
       "    </tr>\n",
       "    <tr>\n",
       "      <th>1</th>\n",
       "      <td>Fortuna Sittard</td>\n",
       "      <td>Peter Schmitz</td>\n",
       "      <td>21.0</td>\n",
       "      <td>Forward</td>\n",
       "      <td>Helmond Sport</td>\n",
       "      <td>?</td>\n",
       "      <td>in</td>\n",
       "      <td>NaN</td>\n",
       "      <td>1992</td>\n",
       "      <td>1</td>\n",
       "      <td>1</td>\n",
       "    </tr>\n",
       "    <tr>\n",
       "      <th>2</th>\n",
       "      <td>Fortuna Sittard</td>\n",
       "      <td>Kenneth Nysaether</td>\n",
       "      <td>22.0</td>\n",
       "      <td>Centre-Forward</td>\n",
       "      <td>Lillestrøm SK</td>\n",
       "      <td>?</td>\n",
       "      <td>in</td>\n",
       "      <td>NaN</td>\n",
       "      <td>1992</td>\n",
       "      <td>1</td>\n",
       "      <td>1</td>\n",
       "    </tr>\n",
       "    <tr>\n",
       "      <th>3</th>\n",
       "      <td>Fortuna Sittard</td>\n",
       "      <td>Arno van Zwam</td>\n",
       "      <td>22.0</td>\n",
       "      <td>Goalkeeper</td>\n",
       "      <td>Fortuna U19</td>\n",
       "      <td>-</td>\n",
       "      <td>in</td>\n",
       "      <td>0.0</td>\n",
       "      <td>1992</td>\n",
       "      <td>1</td>\n",
       "      <td>2</td>\n",
       "    </tr>\n",
       "    <tr>\n",
       "      <th>4</th>\n",
       "      <td>Dordrecht'90</td>\n",
       "      <td>Michel Langerak</td>\n",
       "      <td>23.0</td>\n",
       "      <td>Attacking Midfield</td>\n",
       "      <td>VVV-Venlo</td>\n",
       "      <td>?</td>\n",
       "      <td>in</td>\n",
       "      <td>NaN</td>\n",
       "      <td>1992</td>\n",
       "      <td>1</td>\n",
       "      <td>3</td>\n",
       "    </tr>\n",
       "  </tbody>\n",
       "</table>\n",
       "</div>"
      ],
      "text/plain": [
       "         club_name        player_name   age            position  \\\n",
       "0  Fortuna Sittard        Rene Hofman  31.0        Right Winger   \n",
       "1  Fortuna Sittard      Peter Schmitz  21.0             Forward   \n",
       "2  Fortuna Sittard  Kenneth Nysaether  22.0      Centre-Forward   \n",
       "3  Fortuna Sittard      Arno van Zwam  22.0          Goalkeeper   \n",
       "4     Dordrecht'90    Michel Langerak  23.0  Attacking Midfield   \n",
       "\n",
       "  club_involved_name fee transfer_movement  fee_cleaned  year  num_transfer  \\\n",
       "0            Roda JC   ?                in          NaN  1992             1   \n",
       "1      Helmond Sport   ?                in          NaN  1992             1   \n",
       "2      Lillestrøm SK   ?                in          NaN  1992             1   \n",
       "3        Fortuna U19   -                in          0.0  1992             1   \n",
       "4          VVV-Venlo   ?                in          NaN  1992             1   \n",
       "\n",
       "   max_transfer  \n",
       "0             1  \n",
       "1             1  \n",
       "2             1  \n",
       "3             2  \n",
       "4             3  "
      ]
     },
     "execution_count": 11,
     "metadata": {},
     "output_type": "execute_result"
    }
   ],
   "source": [
    "# add column `num_transfer` which represent the number of time a player moved\n",
    "df['count'] = 1\n",
    "df['num_transfer'] = df.groupby('player_name')['count'].cumcount() + 1\n",
    "df['max_transfer'] = df.groupby('player_name')['num_transfer'].transform(\n",
    "    np.max)\n",
    "df.drop(columns='count', inplace=True)\n",
    "print(f'number of observation: {len(df)}')\n",
    "df.head()"
   ]
  },
  {
   "cell_type": "raw",
   "metadata": {
    "ExecuteTime": {
     "end_time": "2020-12-02T02:00:21.007926Z",
     "start_time": "2020-12-02T02:00:20.993965Z"
    }
   },
   "source": [
    "\"\"\"\n",
    "\n",
    "`was_in` nested dictionary structure:\n",
    "\n",
    "{ `player1` : { `club1`: { `Year1` : [Player1, Player2, Player3....] <- from the affiliated club,\n",
    "                           `Year2` : [Player1, Player2, Player3....] <- from the affiliated club,\n",
    "                                   : }\n",
    "              { `club2`: { `Year1` : [Player1, Player2, Player3....] <- from the affiliated club,\n",
    "                           `Year2` : [Player1, Player2, Player3....] <- from the affiliated club,\n",
    "                                   : }\n",
    "                                   :\n",
    "              }  \n",
    "  `player2` : { `club1`: { `Year1` : [Player1, Player2, Player3....] <- from the affiliated club,\n",
    "                           `Year2` : [Player1, Player2, Player3....] <- from the affiliated club,\n",
    "                                   : }\n",
    "              { `club2`: { `Year1` : [Player1, Player2, Player3....] <- from the affiliated club,\n",
    "                           `Year2` : [Player1, Player2, Player3....] <- from the affiliated club,\n",
    "                                   : }\n",
    "                                   :\n",
    "              }\n",
    "}\n",
    "\"\"\""
   ]
  },
  {
   "cell_type": "code",
   "execution_count": 13,
   "metadata": {
    "ExecuteTime": {
     "end_time": "2020-12-12T22:17:36.727680Z",
     "start_time": "2020-12-12T22:17:36.701693Z"
    }
   },
   "outputs": [
    {
     "name": "stdout",
     "output_type": "stream",
     "text": [
      "Number of players: 28976\n",
      "Number of clubs: 401\n"
     ]
    }
   ],
   "source": [
    "# get player_list\n",
    "player_list = list(df['player_name'].unique())\n",
    "print(f'Number of players: {len(player_list)}')\n",
    "print(f'Number of clubs: {len(df.club_name.unique())}')"
   ]
  },
  {
   "cell_type": "code",
   "execution_count": 14,
   "metadata": {
    "ExecuteTime": {
     "end_time": "2020-12-12T22:24:18.161825Z",
     "start_time": "2020-12-12T22:17:36.990565Z"
    },
    "scrolled": true
   },
   "outputs": [
    {
     "data": {
      "application/vnd.jupyter.widget-view+json": {
       "model_id": "61befddf10e7468e88f727e3d0372aa6",
       "version_major": 2,
       "version_minor": 0
      },
      "text/plain": [
       "HBox(children=(HTML(value=''), FloatProgress(value=0.0, max=28976.0), HTML(value='')))"
      ]
     },
     "metadata": {},
     "output_type": "display_data"
    },
    {
     "name": "stdout",
     "output_type": "stream",
     "text": [
      "\n"
     ]
    }
   ],
   "source": [
    "# initiate a nested dictionary ---> {`was_in` {`aff_clubs` {`year_member`} } }\n",
    "was_in = {}\n",
    "\n",
    "# loop over the dataset\n",
    "for player in tqdm(player_list):\n",
    "\n",
    "    # subset df by player\n",
    "    temp_df = df[df['player_name'] == player]\n",
    "\n",
    "    # reset_index\n",
    "    temp_df.reset_index(drop=True, inplace=True)\n",
    "\n",
    "    # initiate inside dictionaries\n",
    "    aff_clubs = {}\n",
    "    \"\"\"\n",
    "    loop over the dataset to get the year and club name \n",
    "    this represent that a player stay in a club from year A - year B \n",
    "    in this case, we can ignore the last row because no further analysis is needed\n",
    "    as the next transaction has not occurred yet\n",
    "    \"\"\"\n",
    "\n",
    "    for row in range(len(temp_df) - 1):\n",
    "\n",
    "        # initiate inside dictionaries\n",
    "        year_member = {}\n",
    "\n",
    "        club_name = temp_df.iloc[row]['club_name']\n",
    "\n",
    "        year_list = np.arange(temp_df.iloc[row]['year'],\n",
    "                              temp_df.iloc[row + 1]['year'])\n",
    "\n",
    "        # get the affiliated player each year from `nested_dict`\n",
    "        for year in year_list:\n",
    "\n",
    "            # just in case some years are missing\n",
    "            if year not in nested_dict.keys():\n",
    "\n",
    "                pass\n",
    "\n",
    "            else:\n",
    "\n",
    "                aff_players = nested_dict[year][club_name]\n",
    "\n",
    "                # add data to `year_member`\n",
    "                year_member[year] = aff_players\n",
    "\n",
    "        # add data to aff_club\n",
    "\n",
    "        # adjust for the case when player moves back to the club he's been before\n",
    "        if club_name in aff_clubs.keys():\n",
    "\n",
    "            aff_clubs[club_name].update(year_member)\n",
    "\n",
    "        else:\n",
    "\n",
    "            aff_clubs[club_name] = year_member\n",
    "\n",
    "    # add data to was_in\n",
    "    was_in[player] = aff_clubs"
   ]
  },
  {
   "cell_type": "code",
   "execution_count": 15,
   "metadata": {
    "ExecuteTime": {
     "end_time": "2020-12-12T22:24:20.194463Z",
     "start_time": "2020-12-12T22:24:20.191779Z"
    }
   },
   "outputs": [],
   "source": [
    "# was_in"
   ]
  },
  {
   "cell_type": "code",
   "execution_count": 16,
   "metadata": {
    "ExecuteTime": {
     "end_time": "2020-12-12T22:24:22.213735Z",
     "start_time": "2020-12-12T22:24:22.093727Z"
    }
   },
   "outputs": [
    {
     "name": "stdout",
     "output_type": "stream",
     "text": [
      "number of observation: 78625\n"
     ]
    },
    {
     "data": {
      "text/html": [
       "<div>\n",
       "<style scoped>\n",
       "    .dataframe tbody tr th:only-of-type {\n",
       "        vertical-align: middle;\n",
       "    }\n",
       "\n",
       "    .dataframe tbody tr th {\n",
       "        vertical-align: top;\n",
       "    }\n",
       "\n",
       "    .dataframe thead th {\n",
       "        text-align: right;\n",
       "    }\n",
       "</style>\n",
       "<table border=\"1\" class=\"dataframe\">\n",
       "  <thead>\n",
       "    <tr style=\"text-align: right;\">\n",
       "      <th></th>\n",
       "      <th>club_name</th>\n",
       "      <th>player_name</th>\n",
       "      <th>age</th>\n",
       "      <th>position</th>\n",
       "      <th>club_involved_name</th>\n",
       "      <th>fee</th>\n",
       "      <th>transfer_movement</th>\n",
       "      <th>fee_cleaned</th>\n",
       "      <th>year</th>\n",
       "      <th>num_transfer</th>\n",
       "      <th>max_transfer</th>\n",
       "    </tr>\n",
       "  </thead>\n",
       "  <tbody>\n",
       "    <tr>\n",
       "      <th>0</th>\n",
       "      <td>AS Monaco</td>\n",
       "      <td>Aadil Assana</td>\n",
       "      <td>20.0</td>\n",
       "      <td>Defensive Midfield</td>\n",
       "      <td>Clermont Foot</td>\n",
       "      <td>End of loanJun 30, 2013</td>\n",
       "      <td>in</td>\n",
       "      <td>0.000</td>\n",
       "      <td>2013</td>\n",
       "      <td>1</td>\n",
       "      <td>2</td>\n",
       "    </tr>\n",
       "    <tr>\n",
       "      <th>1</th>\n",
       "      <td>AS Monaco</td>\n",
       "      <td>Aadil Assana</td>\n",
       "      <td>20.0</td>\n",
       "      <td>Defensive Midfield</td>\n",
       "      <td>CA Bastia</td>\n",
       "      <td>End of loanJan 20, 2014</td>\n",
       "      <td>in</td>\n",
       "      <td>0.000</td>\n",
       "      <td>2013</td>\n",
       "      <td>2</td>\n",
       "      <td>2</td>\n",
       "    </tr>\n",
       "    <tr>\n",
       "      <th>2</th>\n",
       "      <td>Leeds United</td>\n",
       "      <td>Aapo Halme</td>\n",
       "      <td>19.0</td>\n",
       "      <td>Centre-Back</td>\n",
       "      <td>HJK Helsinki</td>\n",
       "      <td>£504Th.</td>\n",
       "      <td>in</td>\n",
       "      <td>0.504</td>\n",
       "      <td>2017</td>\n",
       "      <td>1</td>\n",
       "      <td>2</td>\n",
       "    </tr>\n",
       "    <tr>\n",
       "      <th>3</th>\n",
       "      <td>Barnsley FC</td>\n",
       "      <td>Aapo Halme</td>\n",
       "      <td>21.0</td>\n",
       "      <td>Centre-Back</td>\n",
       "      <td>Leeds</td>\n",
       "      <td>£203Th.</td>\n",
       "      <td>in</td>\n",
       "      <td>0.203</td>\n",
       "      <td>2019</td>\n",
       "      <td>2</td>\n",
       "      <td>2</td>\n",
       "    </tr>\n",
       "    <tr>\n",
       "      <th>4</th>\n",
       "      <td>Bristol City</td>\n",
       "      <td>Aaron Amadi-Holloway</td>\n",
       "      <td>18.0</td>\n",
       "      <td>Centre-Forward</td>\n",
       "      <td>Bristol City U18</td>\n",
       "      <td>-</td>\n",
       "      <td>in</td>\n",
       "      <td>0.000</td>\n",
       "      <td>2011</td>\n",
       "      <td>1</td>\n",
       "      <td>2</td>\n",
       "    </tr>\n",
       "  </tbody>\n",
       "</table>\n",
       "</div>"
      ],
      "text/plain": [
       "      club_name           player_name   age            position  \\\n",
       "0     AS Monaco          Aadil Assana  20.0  Defensive Midfield   \n",
       "1     AS Monaco          Aadil Assana  20.0  Defensive Midfield   \n",
       "2  Leeds United            Aapo Halme  19.0         Centre-Back   \n",
       "3   Barnsley FC            Aapo Halme  21.0         Centre-Back   \n",
       "4  Bristol City  Aaron Amadi-Holloway  18.0      Centre-Forward   \n",
       "\n",
       "  club_involved_name                      fee transfer_movement  fee_cleaned  \\\n",
       "0      Clermont Foot  End of loanJun 30, 2013                in        0.000   \n",
       "1          CA Bastia  End of loanJan 20, 2014                in        0.000   \n",
       "2       HJK Helsinki                  £504Th.                in        0.504   \n",
       "3              Leeds                  £203Th.                in        0.203   \n",
       "4   Bristol City U18                        -                in        0.000   \n",
       "\n",
       "   year  num_transfer  max_transfer  \n",
       "0  2013             1             2  \n",
       "1  2013             2             2  \n",
       "2  2017             1             2  \n",
       "3  2019             2             2  \n",
       "4  2011             1             2  "
      ]
     },
     "execution_count": 16,
     "metadata": {},
     "output_type": "execute_result"
    }
   ],
   "source": [
    "# table we will use\n",
    "df.sort_values(['player_name', 'num_transfer'], inplace=True)\n",
    "df.reset_index(drop=True, inplace=True)\n",
    "print(f'number of observation: {len(df)}')\n",
    "df.head()"
   ]
  },
  {
   "cell_type": "code",
   "execution_count": 17,
   "metadata": {
    "ExecuteTime": {
     "end_time": "2020-12-12T22:24:30.199027Z",
     "start_time": "2020-12-12T22:24:24.185448Z"
    }
   },
   "outputs": [
    {
     "data": {
      "application/vnd.jupyter.widget-view+json": {
       "model_id": "2dcbc82d2825424481fb184ec27e907d",
       "version_major": 2,
       "version_minor": 0
      },
      "text/plain": [
       "HBox(children=(HTML(value=''), FloatProgress(value=0.0, max=78625.0), HTML(value='')))"
      ]
     },
     "metadata": {},
     "output_type": "display_data"
    },
    {
     "name": "stdout",
     "output_type": "stream",
     "text": [
      "\n"
     ]
    }
   ],
   "source": [
    "# generate `k` column\n",
    "\n",
    "# initiate a list\n",
    "k = []\n",
    "k_names = []\n",
    "\n",
    "# loop over the dataset\n",
    "for i in tqdm(range(len(df))):\n",
    "\n",
    "    # there is nothing to do with the `k` for the first transfer\n",
    "    if df['num_transfer'][i] == 1:\n",
    "\n",
    "        k.append(None)\n",
    "        k_names.append([])\n",
    "\n",
    "    else:\n",
    "\n",
    "        # get necessary variables (keys)\n",
    "        player = df['player_name'][i]\n",
    "        prev_club = df['club_name'][i - 1]\n",
    "        club = df['club_name'][i]\n",
    "        prev_year = df['year'][i - 1]\n",
    "        this_year = df['year'][i]\n",
    "        year_range = np.arange(prev_year, this_year)\n",
    "\n",
    "        # get all the affiliated players\n",
    "        aff_players = []\n",
    "        for year in year_range:\n",
    "\n",
    "            # just in case some years are missing\n",
    "            if year not in nested_dict.keys():\n",
    "\n",
    "                pass\n",
    "\n",
    "            else:\n",
    "\n",
    "                aff_player = was_in[player][prev_club][year]\n",
    "                aff_players.extend(aff_player)\n",
    "\n",
    "        # get all member in the club player is joining\n",
    "        in_club_player = nested_dict[this_year][club]\n",
    "\n",
    "        if df['num_transfer'][i] > 2:\n",
    "            # accumulate affiliated players\n",
    "            aff_players = set.union(set(prev_set), set(aff_players))\n",
    "\n",
    "        # get `k_names`, `k_val`\n",
    "        k_name = list(\n",
    "            set.intersection(set(aff_players), set(in_club_player)) -\n",
    "            set([player]))\n",
    "        k_val = len(k_name)\n",
    "\n",
    "        # append data\n",
    "        k_names.append(k_name)\n",
    "        k.append(k_val)\n",
    "\n",
    "        # previous affiliated player set\n",
    "        prev_set = set(aff_players)\n",
    "\n",
    "# add `k` column\n",
    "df['k'] = k\n",
    "# add `k_name` column\n",
    "df['k_name'] = k_names"
   ]
  },
  {
   "cell_type": "code",
   "execution_count": 22,
   "metadata": {
    "ExecuteTime": {
     "end_time": "2020-12-12T23:56:18.731647Z",
     "start_time": "2020-12-12T23:56:18.693675Z"
    }
   },
   "outputs": [
    {
     "data": {
      "text/html": [
       "<div>\n",
       "<style scoped>\n",
       "    .dataframe tbody tr th:only-of-type {\n",
       "        vertical-align: middle;\n",
       "    }\n",
       "\n",
       "    .dataframe tbody tr th {\n",
       "        vertical-align: top;\n",
       "    }\n",
       "\n",
       "    .dataframe thead th {\n",
       "        text-align: right;\n",
       "    }\n",
       "</style>\n",
       "<table border=\"1\" class=\"dataframe\">\n",
       "  <thead>\n",
       "    <tr style=\"text-align: right;\">\n",
       "      <th></th>\n",
       "      <th>k</th>\n",
       "      <th>count</th>\n",
       "      <th>pk</th>\n",
       "    </tr>\n",
       "  </thead>\n",
       "  <tbody>\n",
       "    <tr>\n",
       "      <th>0</th>\n",
       "      <td>0.0</td>\n",
       "      <td>19685</td>\n",
       "      <td>0.396483</td>\n",
       "    </tr>\n",
       "    <tr>\n",
       "      <th>1</th>\n",
       "      <td>1.0</td>\n",
       "      <td>7430</td>\n",
       "      <td>0.149651</td>\n",
       "    </tr>\n",
       "    <tr>\n",
       "      <th>2</th>\n",
       "      <td>2.0</td>\n",
       "      <td>3280</td>\n",
       "      <td>0.066064</td>\n",
       "    </tr>\n",
       "    <tr>\n",
       "      <th>3</th>\n",
       "      <td>3.0</td>\n",
       "      <td>1505</td>\n",
       "      <td>0.030313</td>\n",
       "    </tr>\n",
       "    <tr>\n",
       "      <th>4</th>\n",
       "      <td>4.0</td>\n",
       "      <td>751</td>\n",
       "      <td>0.015126</td>\n",
       "    </tr>\n",
       "    <tr>\n",
       "      <th>5</th>\n",
       "      <td>5.0</td>\n",
       "      <td>462</td>\n",
       "      <td>0.009305</td>\n",
       "    </tr>\n",
       "    <tr>\n",
       "      <th>6</th>\n",
       "      <td>6.0</td>\n",
       "      <td>338</td>\n",
       "      <td>0.006808</td>\n",
       "    </tr>\n",
       "  </tbody>\n",
       "</table>\n",
       "</div>"
      ],
      "text/plain": [
       "     k  count        pk\n",
       "0  0.0  19685  0.396483\n",
       "1  1.0   7430  0.149651\n",
       "2  2.0   3280  0.066064\n",
       "3  3.0   1505  0.030313\n",
       "4  4.0    751  0.015126\n",
       "5  5.0    462  0.009305\n",
       "6  6.0    338  0.006808"
      ]
     },
     "execution_count": 22,
     "metadata": {},
     "output_type": "execute_result"
    }
   ],
   "source": [
    "# get k-pk table\n",
    "k_count = df[['k']].dropna()\n",
    "k_count['count'] = 1\n",
    "k_count = pd.DataFrame(k_count.groupby('k')['count'].agg('count'))\n",
    "k_count.reset_index(inplace=True)\n",
    "k_count['pk'] = k_count['count'] / sum(k_count['count'])\n",
    "\n",
    "k_pk = k_count\n",
    "# hardcode: further `k` does not seem relevant anymore\n",
    "xmax = 6\n",
    "k_pk = k_pk[k_pk['k'] <= xmax]\n",
    "k_pk"
   ]
  },
  {
   "cell_type": "code",
   "execution_count": 24,
   "metadata": {
    "ExecuteTime": {
     "end_time": "2020-12-12T23:59:58.316274Z",
     "start_time": "2020-12-12T23:59:58.146290Z"
    }
   },
   "outputs": [
    {
     "data": {
      "text/plain": [
       "[<matplotlib.lines.Line2D at 0x7fb24dfa27f0>]"
      ]
     },
     "execution_count": 24,
     "metadata": {},
     "output_type": "execute_result"
    },
    {
     "data": {
      "image/png": "[encoded data removed]",
      "text/plain": [
       "<Figure size 432x288 with 1 Axes>"
      ]
     },
     "metadata": {
      "needs_background": "light"
     },
     "output_type": "display_data"
    }
   ],
   "source": [
    "plt.plot(k_pk['k'], k_pk['pk'], color='black')"
   ]
  },
  {
   "cell_type": "markdown",
   "metadata": {},
   "source": [
    "### Test the existence of homophily"
   ]
  },
  {
   "cell_type": "markdown",
   "metadata": {},
   "source": [
    "#### Null case simulation\n",
    "In this section, we simulated 10 random networks for the football data. Here are some important features:\n",
    "1) The simulated data follow the same proportion of the number of transfers by players in the network  \n",
    "2) The simulated data assume players only transfer within the 8 major leagues and are always in a club until 2020 (No retire or without club)"
   ]
  },
  {
   "cell_type": "code",
   "execution_count": 20,
   "metadata": {
    "ExecuteTime": {
     "end_time": "2020-12-12T22:24:37.794298Z",
     "start_time": "2020-12-12T22:24:37.441684Z"
    }
   },
   "outputs": [],
   "source": [
    "# # load data\n",
    "# node_edge_df = pd.read_csv(os.path.join(cleaned_data_path, 'node_edge_data.csv'))"
   ]
  },
  {
   "cell_type": "code",
   "execution_count": 21,
   "metadata": {
    "ExecuteTime": {
     "end_time": "2020-12-12T22:24:40.081487Z",
     "start_time": "2020-12-12T22:24:40.075209Z"
    }
   },
   "outputs": [],
   "source": [
    "# #select only necessary columns\n",
    "# data_simul = node_edge_df[['player_name', 'club_name', 'transfer_movement', 'year']]"
   ]
  },
  {
   "cell_type": "code",
   "execution_count": null,
   "metadata": {
    "ExecuteTime": {
     "end_time": "2020-12-12T02:17:55.120032Z",
     "start_time": "2020-12-12T02:17:55.108318Z"
    }
   },
   "outputs": [],
   "source": [
    "# data_simul"
   ]
  },
  {
   "cell_type": "code",
   "execution_count": null,
   "metadata": {
    "ExecuteTime": {
     "end_time": "2020-12-12T02:10:02.332278Z",
     "start_time": "2020-12-12T02:10:02.327454Z"
    }
   },
   "outputs": [],
   "source": [
    "# len(data_simul)"
   ]
  },
  {
   "cell_type": "code",
   "execution_count": null,
   "metadata": {
    "ExecuteTime": {
     "end_time": "2020-12-12T02:10:05.761289Z",
     "start_time": "2020-12-12T02:10:05.503214Z"
    }
   },
   "outputs": [],
   "source": [
    "# # set-up\n",
    "\n",
    "# player_name_list = data_simul['player_name'].unique()\n",
    "# club_name_list = data_simul['club_name'].unique()\n",
    "# year_list = data_simul['year'].unique()\n",
    "\n",
    "# # in-out distribution (just get the `in` and multiply by 2: assume that the data is cleaned)\n",
    "# in_num = sum(data_simul['transfer_movement'] == 'in')\n",
    "\n",
    "# # number of movement distribution\n",
    "# num_move = pd.DataFrame(data_simul.groupby(['player_name', 'year'])['transfer_movement'].agg('count'))\n",
    "# num_move['count'] = 1\n",
    "# num_move = num_move.groupby('transfer_movement')['count'].agg('sum')\n",
    "# num_move = pd.DataFrame(num_move).reset_index()\n",
    "# num_move['transfer_movement'] = [math.ceil(num/2) for num in num_move['transfer_movement']]\n",
    "# num_move = num_move.groupby('transfer_movement')['count'].agg('sum')\n",
    "# num_move = num_move / np.sum(num_move)\n",
    "# num_move = round(num_move * in_num)\n",
    "# num_move = pd.DataFrame(num_move).reset_index()"
   ]
  },
  {
   "cell_type": "code",
   "execution_count": null,
   "metadata": {
    "ExecuteTime": {
     "end_time": "2020-12-12T02:10:08.955275Z",
     "start_time": "2020-12-12T02:10:08.948723Z"
    }
   },
   "outputs": [],
   "source": [
    "# num_move"
   ]
  },
  {
   "cell_type": "code",
   "execution_count": null,
   "metadata": {
    "ExecuteTime": {
     "end_time": "2020-12-12T02:12:36.522460Z",
     "start_time": "2020-12-12T02:12:25.994394Z"
    }
   },
   "outputs": [],
   "source": [
    "# # get column names\n",
    "# col_names = data_simul.columns\n",
    "\n",
    "# # simulate data\n",
    "# rows = []\n",
    "# for t, count in zip(num_move['transfer_movement'], num_move['count']):\n",
    "#     for i in tqdm(range(int(count))):\n",
    "#         # get each column value\n",
    "#         player_name = np.repeat(np.random.choice(player_name_list, 1), t)\n",
    "#         club_name = np.random.choice(club_name_list, t, replace = False)\n",
    "#         transfer_movement = np.repeat('in', t)\n",
    "#         year = np.random.choice(year_list, t, replace = False)\n",
    "#         # format data\n",
    "#         row = list(zip(player_name, club_name, transfer_movement, year))\n",
    "#         # add to the list\n",
    "#         rows.extend(row)\n",
    "\n",
    "# # create dataframe\n",
    "# null_case = pd.DataFrame(data = rows, columns = col_names)\n",
    "# print(f'number of observation: {len(null_case)}')\n",
    "# null_case.head()"
   ]
  },
  {
   "cell_type": "code",
   "execution_count": null,
   "metadata": {
    "ExecuteTime": {
     "end_time": "2020-12-12T02:28:14.714920Z",
     "start_time": "2020-12-12T02:28:14.470924Z"
    }
   },
   "outputs": [],
   "source": [
    "# # sort data\n",
    "# null_case = null_case.sort_values(by = ['player_name', 'year'])\n",
    "\n",
    "# # add column `num_transfer` which represent the number of time a player moved\n",
    "# null_case['count'] = 1\n",
    "# null_case['num_transfer'] = null_case.groupby('player_name')['count'].cumcount() + 1\n",
    "# null_case['max_transfer'] = null_case.groupby('player_name')['num_transfer'].transform(np.max)\n",
    "# null_case.drop(columns = 'count', inplace = True)\n",
    "# null_case.reset_index(drop = True, inplace = True)\n",
    "# print(f'number of observation: {len(null_case)}')\n",
    "# null_case"
   ]
  },
  {
   "cell_type": "code",
   "execution_count": null,
   "metadata": {
    "ExecuteTime": {
     "end_time": "2020-12-12T02:29:24.716244Z",
     "start_time": "2020-12-12T02:28:19.474101Z"
    }
   },
   "outputs": [],
   "source": [
    "# # add `transfer_movement` == 'out'\n",
    "# to_add = []\n",
    "# for i in tqdm(range(len(null_case))):\n",
    "#     if (null_case.iloc[i]['num_transfer'] > 1) & \\\n",
    "#     (null_case.iloc[i]['num_transfer'] < null_case.iloc[i]['max_transfer']):\n",
    "#         # create the 'out' case\n",
    "#         row = list(null_case.iloc[i].replace('in', 'out'))\n",
    "#         # add to `to_add` list\n",
    "#         to_add.append(row)\n",
    "\n",
    "# # add data to dataframe\n",
    "# extend = pd.DataFrame(data = to_add, columns = null_case.columns)\n",
    "# null_case = pd.concat([null_case, extend], axis = 0).reset_index(drop = True)\n",
    "# null_case.drop(columns = ['num_transfer', 'max_transfer'], inplace = True)\n",
    "# null_case.sort_values(by = ['player_name', 'year']).reset_index(drop = True, inplace = True)\n",
    "# null_case"
   ]
  },
  {
   "cell_type": "markdown",
   "metadata": {},
   "source": [
    "#### Null case analysis"
   ]
  },
  {
   "cell_type": "code",
   "execution_count": null,
   "metadata": {
    "ExecuteTime": {
     "end_time": "2020-12-12T02:29:29.406556Z",
     "start_time": "2020-12-12T02:29:29.385566Z"
    }
   },
   "outputs": [],
   "source": [
    "# # 2 components needed: 'year_list', 'club_list'\n",
    "# year_list = sorted(sorted(null_case['year'].unique()))\n",
    "# club_list = sorted(null_case['club_name'].unique())"
   ]
  },
  {
   "cell_type": "code",
   "execution_count": null,
   "metadata": {
    "ExecuteTime": {
     "end_time": "2020-12-12T02:29:53.295523Z",
     "start_time": "2020-12-12T02:29:33.932023Z"
    }
   },
   "outputs": [],
   "source": [
    "# # nested dictionary: year: `club_member`\n",
    "# nested_dict = {}\n",
    "# prev_year = None\n",
    "\n",
    "# # loop over year:\n",
    "# for year in tqdm(year_list):\n",
    "\n",
    "#     if prev_year in nested_dict.keys():\n",
    "\n",
    "#         # retrieve club-player info in the previous year for the second year and so on\n",
    "#         club_member = copy.deepcopy(nested_dict[prev_year])\n",
    "\n",
    "#     else:\n",
    "#         # initiate a dictionary of clubs (keys) and their affiliated players (values)\n",
    "#         club_member = {}\n",
    "\n",
    "#     # subset data by year\n",
    "#     data = null_case[null_case['year'] == year]\n",
    "\n",
    "#     # subset for transfer_movement == 'in', 'out'\n",
    "#     data_in = data[data['transfer_movement'] == 'in']\n",
    "#     data_out = data[data['transfer_movement'] == 'out']\n",
    "\n",
    "#     # loop over club:\n",
    "#     for club in club_list:\n",
    "\n",
    "#         # subset data by club\n",
    "#         temp_data_in = data_in[data_in['club_name'] == club]\n",
    "#         temp_data_out = data_out[data_out['club_name'] == club]\n",
    "\n",
    "#         # update all players in that club in the dictionary (`club_member`)\n",
    "#         player_list_in = list(temp_data_in['player_name'])\n",
    "#         player_list_out = list(temp_data_out['player_name'])\n",
    "\n",
    "#         if prev_year in nested_dict.keys():\n",
    "\n",
    "#             # catch bug\n",
    "#             if club_member[club] is None:\n",
    "#                 club_member[club] = []\n",
    "\n",
    "#             # adjust for members who move in\n",
    "#             club_member[club].extend(player_list_in)\n",
    "#             # adjust for members who move out\n",
    "#             remove_elem_by_list(club_member[club], player_list_out)\n",
    "\n",
    "#         else:\n",
    "#             # update club_member info\n",
    "#             club_member[club] = remove_elem_by_list(player_list_in, player_list_out)\n",
    "\n",
    "#     # store `club_member` in `nested_dict`\n",
    "#     nested_dict[year] = club_member\n",
    "\n",
    "#     # set previous year\n",
    "#     prev_year = year"
   ]
  },
  {
   "cell_type": "code",
   "execution_count": null,
   "metadata": {
    "ExecuteTime": {
     "end_time": "2020-12-12T02:29:58.004154Z",
     "start_time": "2020-12-12T02:29:57.967334Z"
    }
   },
   "outputs": [],
   "source": [
    "# df = null_case[null_case['transfer_movement'] == 'in']"
   ]
  },
  {
   "cell_type": "code",
   "execution_count": null,
   "metadata": {
    "ExecuteTime": {
     "end_time": "2020-12-12T02:30:03.210048Z",
     "start_time": "2020-12-12T02:30:03.062007Z"
    }
   },
   "outputs": [],
   "source": [
    "# # add column `num_transfer` which represent the number of time a player moved\n",
    "# df['count'] = 1\n",
    "# df['num_transfer'] = df.groupby('player_name')['count'].cumcount() + 1\n",
    "# df['max_transfer'] = df.groupby('player_name')['num_transfer'].transform(np.max)\n",
    "# df.drop(columns = 'count', inplace = True)\n",
    "# print(f'number of observation: {len(df)}')\n",
    "# df"
   ]
  },
  {
   "cell_type": "code",
   "execution_count": null,
   "metadata": {
    "ExecuteTime": {
     "end_time": "2020-12-12T02:30:07.986940Z",
     "start_time": "2020-12-12T02:30:07.956349Z"
    }
   },
   "outputs": [],
   "source": [
    "# # get player_list\n",
    "# player_list = list(df['player_name'].unique())\n",
    "# print(f'Number of players: {len(player_list)}')\n",
    "# print(f'Number of clubs: {len(df.club_name.unique())}')"
   ]
  },
  {
   "cell_type": "code",
   "execution_count": null,
   "metadata": {
    "ExecuteTime": {
     "end_time": "2020-12-12T02:38:29.631695Z",
     "start_time": "2020-12-12T02:30:13.292179Z"
    }
   },
   "outputs": [],
   "source": [
    "# # initiate a nested dictionary ---> {`was_in` {`aff_clubs` {`year_member`} } }\n",
    "# was_in = {}\n",
    "\n",
    "# # loop over the dataset\n",
    "# for player in tqdm(player_list):\n",
    "\n",
    "#     # subset df by player\n",
    "#     temp_df = df[df['player_name'] == player]\n",
    "\n",
    "#     # reset_index\n",
    "#     temp_df.reset_index(drop = True, inplace = True)\n",
    "\n",
    "#     # initiate inside dictionaries\n",
    "#     aff_clubs = {}\n",
    "\n",
    "#     \"\"\"\n",
    "#     loop over the dataset to get the year and club name\n",
    "#     this represent that a player stay in a club from year A - year B\n",
    "#     in this case, we can ignore the last row because no further analysis is needed\n",
    "#     as the next transaction has not occurred yet\n",
    "#     \"\"\"\n",
    "\n",
    "#     for row in range(len(temp_df) - 1):\n",
    "\n",
    "#         # initiate inside dictionaries\n",
    "#         year_member = {}\n",
    "\n",
    "#         club_name = temp_df.iloc[row]['club_name']\n",
    "\n",
    "#         year_list = np.arange(temp_df.iloc[row]['year'], temp_df.iloc[row + 1]['year'])\n",
    "\n",
    "#         # get the affiliated player each year from `nested_dict`\n",
    "#         for year in year_list:\n",
    "\n",
    "#             # just in case some years are missing\n",
    "#             if year not in nested_dict.keys():\n",
    "\n",
    "#                 pass\n",
    "\n",
    "#             else:\n",
    "\n",
    "#                 aff_players = nested_dict[year][club_name]\n",
    "\n",
    "#                 # add data to `year_member`\n",
    "#                 year_member[year] = aff_players\n",
    "\n",
    "#         # add data to aff_club\n",
    "\n",
    "#         # adjust for the case when player moves back to the club he's been before\n",
    "#         if club_name in aff_clubs.keys():\n",
    "\n",
    "#                 aff_clubs[club_name].update(year_member)\n",
    "\n",
    "#         else:\n",
    "\n",
    "#             aff_clubs[club_name] = year_member\n",
    "\n",
    "#     # add data to was_in\n",
    "#     was_in[player] = aff_clubs"
   ]
  },
  {
   "cell_type": "code",
   "execution_count": null,
   "metadata": {
    "ExecuteTime": {
     "end_time": "2020-12-12T02:38:49.057136Z",
     "start_time": "2020-12-12T02:38:48.966261Z"
    }
   },
   "outputs": [],
   "source": [
    "# # table we will use\n",
    "# df.sort_values(['player_name', 'num_transfer'], inplace = True)\n",
    "# df.reset_index(drop = True, inplace = True)\n",
    "# df"
   ]
  },
  {
   "cell_type": "code",
   "execution_count": null,
   "metadata": {
    "ExecuteTime": {
     "end_time": "2020-12-12T02:39:16.859315Z",
     "start_time": "2020-12-12T02:39:08.083469Z"
    }
   },
   "outputs": [],
   "source": [
    "# # generate `k` column\n",
    "\n",
    "# # initiate a list\n",
    "# k = []\n",
    "# k_names = []\n",
    "\n",
    "# # loop over the dataset\n",
    "# for i in tqdm(range(len(df))):\n",
    "\n",
    "#     # there is nothing to do with the `k` for the first transfer\n",
    "#     if df['num_transfer'][i] == 1:\n",
    "\n",
    "#         k.append(None)\n",
    "#         k_names.append([])\n",
    "\n",
    "#     else:\n",
    "\n",
    "#         # get necessary variables (keys)\n",
    "#         player = df['player_name'][i]\n",
    "#         prev_club = df['club_name'][i-1]\n",
    "#         club = df['club_name'][i]\n",
    "#         prev_year = df['year'][i-1]\n",
    "#         this_year = df['year'][i]\n",
    "#         year_range = np.arange(prev_year, this_year)\n",
    "\n",
    "#         # get all the affiliated players\n",
    "#         aff_players = []\n",
    "#         for year in year_range:\n",
    "\n",
    "#             # just in case some years are missing\n",
    "#             if year not in nested_dict.keys():\n",
    "\n",
    "#                 pass\n",
    "\n",
    "#             else:\n",
    "\n",
    "#                 aff_player = was_in[player][prev_club][year]\n",
    "#                 aff_players.extend(aff_player)\n",
    "\n",
    "#         # get all member in the club player is joining\n",
    "#         in_club_player = nested_dict[this_year][club]\n",
    "\n",
    "#         if df['num_transfer'][i] > 2:\n",
    "#             # accumulate affiliated players\n",
    "#             aff_players = set.union(set(prev_set), set(aff_players))\n",
    "\n",
    "#         # get `k_names`, `k_val`\n",
    "#         k_name = list(set.intersection(set(aff_players), set(in_club_player)) - set([player]))\n",
    "#         k_val = len(k_name)\n",
    "\n",
    "#         # append data\n",
    "#         k_names.append(k_name)\n",
    "#         k.append(k_val)\n",
    "\n",
    "#         # previous affiliated player set\n",
    "#         prev_set = set(aff_players)\n",
    "\n",
    "# # add `k` column\n",
    "# df['k'] = k\n",
    "# # add `k_name` column\n",
    "# df['k_name'] = k_names"
   ]
  },
  {
   "cell_type": "code",
   "execution_count": null,
   "metadata": {
    "ExecuteTime": {
     "end_time": "2020-12-12T02:39:35.067404Z",
     "start_time": "2020-12-12T02:39:35.034545Z"
    }
   },
   "outputs": [],
   "source": [
    "# # get k-pk table\n",
    "# k_count = df[['k']].dropna()\n",
    "# k_count['count'] = 1\n",
    "# k_count = pd.DataFrame(k_count.groupby('k')['count'].agg('count'))\n",
    "# k_count.reset_index(inplace = True)\n",
    "# k_count['pk'] = k_count['count'] / sum(k_count['count'])\n",
    "\n",
    "# k_pk = k_count\n",
    "# # hardcode: further `k` does not seem relevant anymore\n",
    "# # xmax = 6\n",
    "# # k_pk = k_pk[k_pk['k'] <= xmax]\n",
    "# k_pk"
   ]
  },
  {
   "cell_type": "code",
   "execution_count": null,
   "metadata": {
    "ExecuteTime": {
     "end_time": "2020-12-12T02:39:54.007873Z",
     "start_time": "2020-12-12T02:39:53.650359Z"
    }
   },
   "outputs": [],
   "source": [
    "# plt.bar(k_pk['k'],\n",
    "#          k_pk['pk'],\n",
    "#          color = 'black')"
   ]
  },
  {
   "cell_type": "markdown",
   "metadata": {},
   "source": [
    "#### Iteration"
   ]
  },
  {
   "cell_type": "code",
   "execution_count": 20,
   "metadata": {
    "ExecuteTime": {
     "end_time": "2020-12-12T18:09:04.433865Z",
     "start_time": "2020-12-12T16:35:28.020762Z"
    },
    "collapsed": true
   },
   "outputs": [
    {
     "data": {
      "application/vnd.jupyter.widget-view+json": {
       "model_id": "5e8ea3195e1349069db79b9c63218054",
       "version_major": 2,
       "version_minor": 0
      },
      "text/plain": [
       "HBox(children=(HTML(value=''), FloatProgress(value=0.0, max=10.0), HTML(value='')))"
      ]
     },
     "metadata": {},
     "output_type": "display_data"
    },
    {
     "data": {
      "application/vnd.jupyter.widget-view+json": {
       "model_id": "b1479327d07146618ce46b56dabb5f21",
       "version_major": 2,
       "version_minor": 0
      },
      "text/plain": [
       "HBox(children=(HTML(value=''), FloatProgress(value=0.0, max=69090.0), HTML(value='')))"
      ]
     },
     "metadata": {},
     "output_type": "display_data"
    },
    {
     "name": "stdout",
     "output_type": "stream",
     "text": [
      "\n"
     ]
    },
    {
     "data": {
      "application/vnd.jupyter.widget-view+json": {
       "model_id": "9c71ed5a4987483dabeb5d25ee4f4b5b",
       "version_major": 2,
       "version_minor": 0
      },
      "text/plain": [
       "HBox(children=(HTML(value=''), FloatProgress(value=0.0, max=8007.0), HTML(value='')))"
      ]
     },
     "metadata": {},
     "output_type": "display_data"
    },
    {
     "name": "stdout",
     "output_type": "stream",
     "text": [
      "\n"
     ]
    },
    {
     "data": {
      "application/vnd.jupyter.widget-view+json": {
       "model_id": "6dc510ff3b094ab78d59ebba3c24446f",
       "version_major": 2,
       "version_minor": 0
      },
      "text/plain": [
       "HBox(children=(HTML(value=''), FloatProgress(value=0.0, max=1249.0), HTML(value='')))"
      ]
     },
     "metadata": {},
     "output_type": "display_data"
    },
    {
     "name": "stdout",
     "output_type": "stream",
     "text": [
      "\n"
     ]
    },
    {
     "data": {
      "application/vnd.jupyter.widget-view+json": {
       "model_id": "9518d74f8e89412e8f322b3d88373af7",
       "version_major": 2,
       "version_minor": 0
      },
      "text/plain": [
       "HBox(children=(HTML(value=''), FloatProgress(value=0.0, max=280.0), HTML(value='')))"
      ]
     },
     "metadata": {},
     "output_type": "display_data"
    },
    {
     "name": "stdout",
     "output_type": "stream",
     "text": [
      "\n"
     ]
    },
    {
     "data": {
      "application/vnd.jupyter.widget-view+json": {
       "model_id": "8e0e6e4b01e54b0dbb173ff50c8a2aa2",
       "version_major": 2,
       "version_minor": 0
      },
      "text/plain": [
       "HBox(children=(HTML(value=''), FloatProgress(value=0.0, max=89971.0), HTML(value='')))"
      ]
     },
     "metadata": {},
     "output_type": "display_data"
    },
    {
     "name": "stdout",
     "output_type": "stream",
     "text": [
      "\n"
     ]
    },
    {
     "data": {
      "application/vnd.jupyter.widget-view+json": {
       "model_id": "5d55792fc77e4c3493c2b492636307ae",
       "version_major": 2,
       "version_minor": 0
      },
      "text/plain": [
       "HBox(children=(HTML(value=''), FloatProgress(value=0.0, max=29.0), HTML(value='')))"
      ]
     },
     "metadata": {},
     "output_type": "display_data"
    },
    {
     "name": "stdout",
     "output_type": "stream",
     "text": [
      "\n"
     ]
    },
    {
     "data": {
      "application/vnd.jupyter.widget-view+json": {
       "model_id": "c9622484db1d4aefbf8d3daa3fc002d4",
       "version_major": 2,
       "version_minor": 0
      },
      "text/plain": [
       "HBox(children=(HTML(value=''), FloatProgress(value=0.0, max=30808.0), HTML(value='')))"
      ]
     },
     "metadata": {},
     "output_type": "display_data"
    },
    {
     "name": "stdout",
     "output_type": "stream",
     "text": [
      "\n"
     ]
    },
    {
     "data": {
      "application/vnd.jupyter.widget-view+json": {
       "model_id": "93ffa56932434c18ac891714d08a6eea",
       "version_major": 2,
       "version_minor": 0
      },
      "text/plain": [
       "HBox(children=(HTML(value=''), FloatProgress(value=0.0, max=89971.0), HTML(value='')))"
      ]
     },
     "metadata": {},
     "output_type": "display_data"
    },
    {
     "name": "stdout",
     "output_type": "stream",
     "text": [
      "\n",
      "    Number of iteration: 1\n",
      "    len(k_pk): 111\n"
     ]
    },
    {
     "data": {
      "application/vnd.jupyter.widget-view+json": {
       "model_id": "85d3dcec020749ef9abd10b3f9f140f9",
       "version_major": 2,
       "version_minor": 0
      },
      "text/plain": [
       "HBox(children=(HTML(value=''), FloatProgress(value=0.0, max=69090.0), HTML(value='')))"
      ]
     },
     "metadata": {},
     "output_type": "display_data"
    },
    {
     "name": "stdout",
     "output_type": "stream",
     "text": [
      "\n"
     ]
    },
    {
     "data": {
      "application/vnd.jupyter.widget-view+json": {
       "model_id": "361ece51ab954341b288fc1e1f7c19cf",
       "version_major": 2,
       "version_minor": 0
      },
      "text/plain": [
       "HBox(children=(HTML(value=''), FloatProgress(value=0.0, max=8007.0), HTML(value='')))"
      ]
     },
     "metadata": {},
     "output_type": "display_data"
    },
    {
     "name": "stdout",
     "output_type": "stream",
     "text": [
      "\n"
     ]
    },
    {
     "data": {
      "application/vnd.jupyter.widget-view+json": {
       "model_id": "099a22b8f8c748aebcad03500ef2ad21",
       "version_major": 2,
       "version_minor": 0
      },
      "text/plain": [
       "HBox(children=(HTML(value=''), FloatProgress(value=0.0, max=1249.0), HTML(value='')))"
      ]
     },
     "metadata": {},
     "output_type": "display_data"
    },
    {
     "name": "stdout",
     "output_type": "stream",
     "text": [
      "\n"
     ]
    },
    {
     "data": {
      "application/vnd.jupyter.widget-view+json": {
       "model_id": "183f14f920074e9c95df39e33aa298b2",
       "version_major": 2,
       "version_minor": 0
      },
      "text/plain": [
       "HBox(children=(HTML(value=''), FloatProgress(value=0.0, max=280.0), HTML(value='')))"
      ]
     },
     "metadata": {},
     "output_type": "display_data"
    },
    {
     "name": "stdout",
     "output_type": "stream",
     "text": [
      "\n"
     ]
    },
    {
     "data": {
      "application/vnd.jupyter.widget-view+json": {
       "model_id": "d129a2a553fe45d88c6401d29d44f338",
       "version_major": 2,
       "version_minor": 0
      },
      "text/plain": [
       "HBox(children=(HTML(value=''), FloatProgress(value=0.0, max=89971.0), HTML(value='')))"
      ]
     },
     "metadata": {},
     "output_type": "display_data"
    },
    {
     "name": "stdout",
     "output_type": "stream",
     "text": [
      "\n"
     ]
    },
    {
     "data": {
      "application/vnd.jupyter.widget-view+json": {
       "model_id": "1059e064b15546889123cf318c014f37",
       "version_major": 2,
       "version_minor": 0
      },
      "text/plain": [
       "HBox(children=(HTML(value=''), FloatProgress(value=0.0, max=29.0), HTML(value='')))"
      ]
     },
     "metadata": {},
     "output_type": "display_data"
    },
    {
     "name": "stdout",
     "output_type": "stream",
     "text": [
      "\n"
     ]
    },
    {
     "data": {
      "application/vnd.jupyter.widget-view+json": {
       "model_id": "6edebac40dc24c038a551ecbfce24dff",
       "version_major": 2,
       "version_minor": 0
      },
      "text/plain": [
       "HBox(children=(HTML(value=''), FloatProgress(value=0.0, max=30718.0), HTML(value='')))"
      ]
     },
     "metadata": {},
     "output_type": "display_data"
    },
    {
     "name": "stdout",
     "output_type": "stream",
     "text": [
      "\n"
     ]
    },
    {
     "data": {
      "application/vnd.jupyter.widget-view+json": {
       "model_id": "6aeacd1b4f40483fa7ed560f9d2b9492",
       "version_major": 2,
       "version_minor": 0
      },
      "text/plain": [
       "HBox(children=(HTML(value=''), FloatProgress(value=0.0, max=89971.0), HTML(value='')))"
      ]
     },
     "metadata": {},
     "output_type": "display_data"
    },
    {
     "name": "stdout",
     "output_type": "stream",
     "text": [
      "\n",
      "    Number of iteration: 2\n",
      "    len(k_pk): 223\n"
     ]
    },
    {
     "data": {
      "application/vnd.jupyter.widget-view+json": {
       "model_id": "243a5657025e4bebabbd40b42f606a7f",
       "version_major": 2,
       "version_minor": 0
      },
      "text/plain": [
       "HBox(children=(HTML(value=''), FloatProgress(value=0.0, max=69090.0), HTML(value='')))"
      ]
     },
     "metadata": {},
     "output_type": "display_data"
    },
    {
     "name": "stdout",
     "output_type": "stream",
     "text": [
      "\n"
     ]
    },
    {
     "data": {
      "application/vnd.jupyter.widget-view+json": {
       "model_id": "f5eb169e52de47cca60984b9e49143fa",
       "version_major": 2,
       "version_minor": 0
      },
      "text/plain": [
       "HBox(children=(HTML(value=''), FloatProgress(value=0.0, max=8007.0), HTML(value='')))"
      ]
     },
     "metadata": {},
     "output_type": "display_data"
    },
    {
     "name": "stdout",
     "output_type": "stream",
     "text": [
      "\n"
     ]
    },
    {
     "data": {
      "application/vnd.jupyter.widget-view+json": {
       "model_id": "d83709f235184fb5ac9b71424e2c197c",
       "version_major": 2,
       "version_minor": 0
      },
      "text/plain": [
       "HBox(children=(HTML(value=''), FloatProgress(value=0.0, max=1249.0), HTML(value='')))"
      ]
     },
     "metadata": {},
     "output_type": "display_data"
    },
    {
     "name": "stdout",
     "output_type": "stream",
     "text": [
      "\n"
     ]
    },
    {
     "data": {
      "application/vnd.jupyter.widget-view+json": {
       "model_id": "22dcd190c20646dcb73c93e97456220c",
       "version_major": 2,
       "version_minor": 0
      },
      "text/plain": [
       "HBox(children=(HTML(value=''), FloatProgress(value=0.0, max=280.0), HTML(value='')))"
      ]
     },
     "metadata": {},
     "output_type": "display_data"
    },
    {
     "name": "stdout",
     "output_type": "stream",
     "text": [
      "\n"
     ]
    },
    {
     "data": {
      "application/vnd.jupyter.widget-view+json": {
       "model_id": "a00f5b7e83ce49efbd9f30159e89d3f7",
       "version_major": 2,
       "version_minor": 0
      },
      "text/plain": [
       "HBox(children=(HTML(value=''), FloatProgress(value=0.0, max=89971.0), HTML(value='')))"
      ]
     },
     "metadata": {},
     "output_type": "display_data"
    },
    {
     "name": "stdout",
     "output_type": "stream",
     "text": [
      "\n"
     ]
    },
    {
     "data": {
      "application/vnd.jupyter.widget-view+json": {
       "model_id": "e1078243d65a420280f665d48cc14958",
       "version_major": 2,
       "version_minor": 0
      },
      "text/plain": [
       "HBox(children=(HTML(value=''), FloatProgress(value=0.0, max=29.0), HTML(value='')))"
      ]
     },
     "metadata": {},
     "output_type": "display_data"
    },
    {
     "name": "stdout",
     "output_type": "stream",
     "text": [
      "\n"
     ]
    },
    {
     "data": {
      "application/vnd.jupyter.widget-view+json": {
       "model_id": "e4877eb3882f40d6b6584fc612c343c9",
       "version_major": 2,
       "version_minor": 0
      },
      "text/plain": [
       "HBox(children=(HTML(value=''), FloatProgress(value=0.0, max=30721.0), HTML(value='')))"
      ]
     },
     "metadata": {},
     "output_type": "display_data"
    },
    {
     "name": "stdout",
     "output_type": "stream",
     "text": [
      "\n"
     ]
    },
    {
     "data": {
      "application/vnd.jupyter.widget-view+json": {
       "model_id": "4873440107924c4f8fd04040afd00bba",
       "version_major": 2,
       "version_minor": 0
      },
      "text/plain": [
       "HBox(children=(HTML(value=''), FloatProgress(value=0.0, max=89971.0), HTML(value='')))"
      ]
     },
     "metadata": {},
     "output_type": "display_data"
    },
    {
     "name": "stdout",
     "output_type": "stream",
     "text": [
      "\n",
      "    Number of iteration: 3\n",
      "    len(k_pk): 336\n"
     ]
    },
    {
     "data": {
      "application/vnd.jupyter.widget-view+json": {
       "model_id": "5864a27ff1044137ab8795f6570f8aa9",
       "version_major": 2,
       "version_minor": 0
      },
      "text/plain": [
       "HBox(children=(HTML(value=''), FloatProgress(value=0.0, max=69090.0), HTML(value='')))"
      ]
     },
     "metadata": {},
     "output_type": "display_data"
    },
    {
     "name": "stdout",
     "output_type": "stream",
     "text": [
      "\n"
     ]
    },
    {
     "data": {
      "application/vnd.jupyter.widget-view+json": {
       "model_id": "d6d0510381b540d79ccf2123ca71b345",
       "version_major": 2,
       "version_minor": 0
      },
      "text/plain": [
       "HBox(children=(HTML(value=''), FloatProgress(value=0.0, max=8007.0), HTML(value='')))"
      ]
     },
     "metadata": {},
     "output_type": "display_data"
    },
    {
     "name": "stdout",
     "output_type": "stream",
     "text": [
      "\n"
     ]
    },
    {
     "data": {
      "application/vnd.jupyter.widget-view+json": {
       "model_id": "16adc2e479114c19ad09cc16528dcddc",
       "version_major": 2,
       "version_minor": 0
      },
      "text/plain": [
       "HBox(children=(HTML(value=''), FloatProgress(value=0.0, max=1249.0), HTML(value='')))"
      ]
     },
     "metadata": {},
     "output_type": "display_data"
    },
    {
     "name": "stdout",
     "output_type": "stream",
     "text": [
      "\n"
     ]
    },
    {
     "data": {
      "application/vnd.jupyter.widget-view+json": {
       "model_id": "a5c6fb586d65442d8e39703370bc047f",
       "version_major": 2,
       "version_minor": 0
      },
      "text/plain": [
       "HBox(children=(HTML(value=''), FloatProgress(value=0.0, max=280.0), HTML(value='')))"
      ]
     },
     "metadata": {},
     "output_type": "display_data"
    },
    {
     "name": "stdout",
     "output_type": "stream",
     "text": [
      "\n"
     ]
    },
    {
     "data": {
      "application/vnd.jupyter.widget-view+json": {
       "model_id": "c6d1e69aebb2486fb719a86efe505f9a",
       "version_major": 2,
       "version_minor": 0
      },
      "text/plain": [
       "HBox(children=(HTML(value=''), FloatProgress(value=0.0, max=89971.0), HTML(value='')))"
      ]
     },
     "metadata": {},
     "output_type": "display_data"
    },
    {
     "name": "stdout",
     "output_type": "stream",
     "text": [
      "\n"
     ]
    },
    {
     "data": {
      "application/vnd.jupyter.widget-view+json": {
       "model_id": "c55b2ee8d730473fb18aace0dff58e5b",
       "version_major": 2,
       "version_minor": 0
      },
      "text/plain": [
       "HBox(children=(HTML(value=''), FloatProgress(value=0.0, max=29.0), HTML(value='')))"
      ]
     },
     "metadata": {},
     "output_type": "display_data"
    },
    {
     "name": "stdout",
     "output_type": "stream",
     "text": [
      "\n"
     ]
    },
    {
     "data": {
      "application/vnd.jupyter.widget-view+json": {
       "model_id": "40da7436213c4cd199fda5fa03618d3d",
       "version_major": 2,
       "version_minor": 0
      },
      "text/plain": [
       "HBox(children=(HTML(value=''), FloatProgress(value=0.0, max=30785.0), HTML(value='')))"
      ]
     },
     "metadata": {},
     "output_type": "display_data"
    },
    {
     "name": "stdout",
     "output_type": "stream",
     "text": [
      "\n"
     ]
    },
    {
     "data": {
      "application/vnd.jupyter.widget-view+json": {
       "model_id": "718f727b33524c11971ca058a2003e3c",
       "version_major": 2,
       "version_minor": 0
      },
      "text/plain": [
       "HBox(children=(HTML(value=''), FloatProgress(value=0.0, max=89971.0), HTML(value='')))"
      ]
     },
     "metadata": {},
     "output_type": "display_data"
    },
    {
     "name": "stdout",
     "output_type": "stream",
     "text": [
      "\n",
      "    Number of iteration: 4\n",
      "    len(k_pk): 440\n"
     ]
    },
    {
     "data": {
      "application/vnd.jupyter.widget-view+json": {
       "model_id": "044c5f00d8384eecb6289a510fc835df",
       "version_major": 2,
       "version_minor": 0
      },
      "text/plain": [
       "HBox(children=(HTML(value=''), FloatProgress(value=0.0, max=69090.0), HTML(value='')))"
      ]
     },
     "metadata": {},
     "output_type": "display_data"
    },
    {
     "name": "stdout",
     "output_type": "stream",
     "text": [
      "\n"
     ]
    },
    {
     "data": {
      "application/vnd.jupyter.widget-view+json": {
       "model_id": "a120815c0c5e4667b5cd2a2fa330c5ff",
       "version_major": 2,
       "version_minor": 0
      },
      "text/plain": [
       "HBox(children=(HTML(value=''), FloatProgress(value=0.0, max=8007.0), HTML(value='')))"
      ]
     },
     "metadata": {},
     "output_type": "display_data"
    },
    {
     "name": "stdout",
     "output_type": "stream",
     "text": [
      "\n"
     ]
    },
    {
     "data": {
      "application/vnd.jupyter.widget-view+json": {
       "model_id": "356a53959bed45df82d2c934bf7c34cf",
       "version_major": 2,
       "version_minor": 0
      },
      "text/plain": [
       "HBox(children=(HTML(value=''), FloatProgress(value=0.0, max=1249.0), HTML(value='')))"
      ]
     },
     "metadata": {},
     "output_type": "display_data"
    },
    {
     "name": "stdout",
     "output_type": "stream",
     "text": [
      "\n"
     ]
    },
    {
     "data": {
      "application/vnd.jupyter.widget-view+json": {
       "model_id": "aebbc740bb124d81812d2ba02de40410",
       "version_major": 2,
       "version_minor": 0
      },
      "text/plain": [
       "HBox(children=(HTML(value=''), FloatProgress(value=0.0, max=280.0), HTML(value='')))"
      ]
     },
     "metadata": {},
     "output_type": "display_data"
    },
    {
     "name": "stdout",
     "output_type": "stream",
     "text": [
      "\n"
     ]
    },
    {
     "data": {
      "application/vnd.jupyter.widget-view+json": {
       "model_id": "9a21fa5c07e641f2aa878014e5943787",
       "version_major": 2,
       "version_minor": 0
      },
      "text/plain": [
       "HBox(children=(HTML(value=''), FloatProgress(value=0.0, max=89971.0), HTML(value='')))"
      ]
     },
     "metadata": {},
     "output_type": "display_data"
    },
    {
     "name": "stdout",
     "output_type": "stream",
     "text": [
      "\n"
     ]
    },
    {
     "data": {
      "application/vnd.jupyter.widget-view+json": {
       "model_id": "39ac66e85e1b479a8849cd90658c490a",
       "version_major": 2,
       "version_minor": 0
      },
      "text/plain": [
       "HBox(children=(HTML(value=''), FloatProgress(value=0.0, max=29.0), HTML(value='')))"
      ]
     },
     "metadata": {},
     "output_type": "display_data"
    },
    {
     "name": "stdout",
     "output_type": "stream",
     "text": [
      "\n"
     ]
    },
    {
     "data": {
      "application/vnd.jupyter.widget-view+json": {
       "model_id": "eb4f5075b79240ad817c45d46962ad14",
       "version_major": 2,
       "version_minor": 0
      },
      "text/plain": [
       "HBox(children=(HTML(value=''), FloatProgress(value=0.0, max=30766.0), HTML(value='')))"
      ]
     },
     "metadata": {},
     "output_type": "display_data"
    },
    {
     "name": "stdout",
     "output_type": "stream",
     "text": [
      "\n"
     ]
    },
    {
     "data": {
      "application/vnd.jupyter.widget-view+json": {
       "model_id": "8ccf073e82824238a331f2550d4ebe45",
       "version_major": 2,
       "version_minor": 0
      },
      "text/plain": [
       "HBox(children=(HTML(value=''), FloatProgress(value=0.0, max=89971.0), HTML(value='')))"
      ]
     },
     "metadata": {},
     "output_type": "display_data"
    },
    {
     "name": "stdout",
     "output_type": "stream",
     "text": [
      "\n",
      "    Number of iteration: 5\n",
      "    len(k_pk): 550\n"
     ]
    },
    {
     "data": {
      "application/vnd.jupyter.widget-view+json": {
       "model_id": "95d0e9f0dc9d4a259a91a621b3c52b16",
       "version_major": 2,
       "version_minor": 0
      },
      "text/plain": [
       "HBox(children=(HTML(value=''), FloatProgress(value=0.0, max=69090.0), HTML(value='')))"
      ]
     },
     "metadata": {},
     "output_type": "display_data"
    },
    {
     "name": "stdout",
     "output_type": "stream",
     "text": [
      "\n"
     ]
    },
    {
     "data": {
      "application/vnd.jupyter.widget-view+json": {
       "model_id": "d48c9be97c25436e9ba7559d4c08265b",
       "version_major": 2,
       "version_minor": 0
      },
      "text/plain": [
       "HBox(children=(HTML(value=''), FloatProgress(value=0.0, max=8007.0), HTML(value='')))"
      ]
     },
     "metadata": {},
     "output_type": "display_data"
    },
    {
     "name": "stdout",
     "output_type": "stream",
     "text": [
      "\n"
     ]
    },
    {
     "data": {
      "application/vnd.jupyter.widget-view+json": {
       "model_id": "ff7e5a53aa4d4b9b98332f2c62582976",
       "version_major": 2,
       "version_minor": 0
      },
      "text/plain": [
       "HBox(children=(HTML(value=''), FloatProgress(value=0.0, max=1249.0), HTML(value='')))"
      ]
     },
     "metadata": {},
     "output_type": "display_data"
    },
    {
     "name": "stdout",
     "output_type": "stream",
     "text": [
      "\n"
     ]
    },
    {
     "data": {
      "application/vnd.jupyter.widget-view+json": {
       "model_id": "67502ba4e2674ca182623a0665144965",
       "version_major": 2,
       "version_minor": 0
      },
      "text/plain": [
       "HBox(children=(HTML(value=''), FloatProgress(value=0.0, max=280.0), HTML(value='')))"
      ]
     },
     "metadata": {},
     "output_type": "display_data"
    },
    {
     "name": "stdout",
     "output_type": "stream",
     "text": [
      "\n"
     ]
    },
    {
     "data": {
      "application/vnd.jupyter.widget-view+json": {
       "model_id": "8a80b02346da46bba10e8dd7e9c55d89",
       "version_major": 2,
       "version_minor": 0
      },
      "text/plain": [
       "HBox(children=(HTML(value=''), FloatProgress(value=0.0, max=89971.0), HTML(value='')))"
      ]
     },
     "metadata": {},
     "output_type": "display_data"
    },
    {
     "name": "stdout",
     "output_type": "stream",
     "text": [
      "\n"
     ]
    },
    {
     "data": {
      "application/vnd.jupyter.widget-view+json": {
       "model_id": "1f03cac6ffb64a079f3dbd7be77f5fb7",
       "version_major": 2,
       "version_minor": 0
      },
      "text/plain": [
       "HBox(children=(HTML(value=''), FloatProgress(value=0.0, max=29.0), HTML(value='')))"
      ]
     },
     "metadata": {},
     "output_type": "display_data"
    },
    {
     "name": "stdout",
     "output_type": "stream",
     "text": [
      "\n"
     ]
    },
    {
     "data": {
      "application/vnd.jupyter.widget-view+json": {
       "model_id": "6ca34d7f2de5490a85038dda1112ad63",
       "version_major": 2,
       "version_minor": 0
      },
      "text/plain": [
       "HBox(children=(HTML(value=''), FloatProgress(value=0.0, max=30793.0), HTML(value='')))"
      ]
     },
     "metadata": {},
     "output_type": "display_data"
    },
    {
     "name": "stdout",
     "output_type": "stream",
     "text": [
      "\n"
     ]
    },
    {
     "data": {
      "application/vnd.jupyter.widget-view+json": {
       "model_id": "40503bfe16f142e787650045a0f964a1",
       "version_major": 2,
       "version_minor": 0
      },
      "text/plain": [
       "HBox(children=(HTML(value=''), FloatProgress(value=0.0, max=89971.0), HTML(value='')))"
      ]
     },
     "metadata": {},
     "output_type": "display_data"
    },
    {
     "name": "stdout",
     "output_type": "stream",
     "text": [
      "\n",
      "    Number of iteration: 6\n",
      "    len(k_pk): 663\n"
     ]
    },
    {
     "data": {
      "application/vnd.jupyter.widget-view+json": {
       "model_id": "0c13cde5b03e4a9d970e2fa5ef6b7c10",
       "version_major": 2,
       "version_minor": 0
      },
      "text/plain": [
       "HBox(children=(HTML(value=''), FloatProgress(value=0.0, max=69090.0), HTML(value='')))"
      ]
     },
     "metadata": {},
     "output_type": "display_data"
    },
    {
     "name": "stdout",
     "output_type": "stream",
     "text": [
      "\n"
     ]
    },
    {
     "data": {
      "application/vnd.jupyter.widget-view+json": {
       "model_id": "d3c92f672a52423bac4c06c3ce299f47",
       "version_major": 2,
       "version_minor": 0
      },
      "text/plain": [
       "HBox(children=(HTML(value=''), FloatProgress(value=0.0, max=8007.0), HTML(value='')))"
      ]
     },
     "metadata": {},
     "output_type": "display_data"
    },
    {
     "name": "stdout",
     "output_type": "stream",
     "text": [
      "\n"
     ]
    },
    {
     "data": {
      "application/vnd.jupyter.widget-view+json": {
       "model_id": "8dabf07707c241aeab67cd5aeb502823",
       "version_major": 2,
       "version_minor": 0
      },
      "text/plain": [
       "HBox(children=(HTML(value=''), FloatProgress(value=0.0, max=1249.0), HTML(value='')))"
      ]
     },
     "metadata": {},
     "output_type": "display_data"
    },
    {
     "name": "stdout",
     "output_type": "stream",
     "text": [
      "\n"
     ]
    },
    {
     "data": {
      "application/vnd.jupyter.widget-view+json": {
       "model_id": "993608e10c97427a954d8030acbfcd3d",
       "version_major": 2,
       "version_minor": 0
      },
      "text/plain": [
       "HBox(children=(HTML(value=''), FloatProgress(value=0.0, max=280.0), HTML(value='')))"
      ]
     },
     "metadata": {},
     "output_type": "display_data"
    },
    {
     "name": "stdout",
     "output_type": "stream",
     "text": [
      "\n"
     ]
    },
    {
     "data": {
      "application/vnd.jupyter.widget-view+json": {
       "model_id": "e8aa7726212b4d49b4dff64f0766493d",
       "version_major": 2,
       "version_minor": 0
      },
      "text/plain": [
       "HBox(children=(HTML(value=''), FloatProgress(value=0.0, max=89971.0), HTML(value='')))"
      ]
     },
     "metadata": {},
     "output_type": "display_data"
    },
    {
     "name": "stdout",
     "output_type": "stream",
     "text": [
      "\n"
     ]
    },
    {
     "data": {
      "application/vnd.jupyter.widget-view+json": {
       "model_id": "ba7cbeea8675449db3f553463686818f",
       "version_major": 2,
       "version_minor": 0
      },
      "text/plain": [
       "HBox(children=(HTML(value=''), FloatProgress(value=0.0, max=29.0), HTML(value='')))"
      ]
     },
     "metadata": {},
     "output_type": "display_data"
    },
    {
     "name": "stdout",
     "output_type": "stream",
     "text": [
      "\n"
     ]
    },
    {
     "data": {
      "application/vnd.jupyter.widget-view+json": {
       "model_id": "29c4b1c1e69b4e688f54972b5d9db26b",
       "version_major": 2,
       "version_minor": 0
      },
      "text/plain": [
       "HBox(children=(HTML(value=''), FloatProgress(value=0.0, max=30766.0), HTML(value='')))"
      ]
     },
     "metadata": {},
     "output_type": "display_data"
    },
    {
     "name": "stdout",
     "output_type": "stream",
     "text": [
      "\n"
     ]
    },
    {
     "data": {
      "application/vnd.jupyter.widget-view+json": {
       "model_id": "208e851004dc40e9ba5818b8fc57e19a",
       "version_major": 2,
       "version_minor": 0
      },
      "text/plain": [
       "HBox(children=(HTML(value=''), FloatProgress(value=0.0, max=89971.0), HTML(value='')))"
      ]
     },
     "metadata": {},
     "output_type": "display_data"
    },
    {
     "name": "stdout",
     "output_type": "stream",
     "text": [
      "\n",
      "    Number of iteration: 7\n",
      "    len(k_pk): 769\n"
     ]
    },
    {
     "data": {
      "application/vnd.jupyter.widget-view+json": {
       "model_id": "826cd386e0804d2391fd783c131b4fd2",
       "version_major": 2,
       "version_minor": 0
      },
      "text/plain": [
       "HBox(children=(HTML(value=''), FloatProgress(value=0.0, max=69090.0), HTML(value='')))"
      ]
     },
     "metadata": {},
     "output_type": "display_data"
    },
    {
     "name": "stdout",
     "output_type": "stream",
     "text": [
      "\n"
     ]
    },
    {
     "data": {
      "application/vnd.jupyter.widget-view+json": {
       "model_id": "45d49041b59c42e0bafe20ae6c1d445d",
       "version_major": 2,
       "version_minor": 0
      },
      "text/plain": [
       "HBox(children=(HTML(value=''), FloatProgress(value=0.0, max=8007.0), HTML(value='')))"
      ]
     },
     "metadata": {},
     "output_type": "display_data"
    },
    {
     "name": "stdout",
     "output_type": "stream",
     "text": [
      "\n"
     ]
    },
    {
     "data": {
      "application/vnd.jupyter.widget-view+json": {
       "model_id": "93cc285a6a3d41a1a98493624d93ebb8",
       "version_major": 2,
       "version_minor": 0
      },
      "text/plain": [
       "HBox(children=(HTML(value=''), FloatProgress(value=0.0, max=1249.0), HTML(value='')))"
      ]
     },
     "metadata": {},
     "output_type": "display_data"
    },
    {
     "name": "stdout",
     "output_type": "stream",
     "text": [
      "\n"
     ]
    },
    {
     "data": {
      "application/vnd.jupyter.widget-view+json": {
       "model_id": "ed625d17aeb5424893b2db70f7663ad7",
       "version_major": 2,
       "version_minor": 0
      },
      "text/plain": [
       "HBox(children=(HTML(value=''), FloatProgress(value=0.0, max=280.0), HTML(value='')))"
      ]
     },
     "metadata": {},
     "output_type": "display_data"
    },
    {
     "name": "stdout",
     "output_type": "stream",
     "text": [
      "\n"
     ]
    },
    {
     "data": {
      "application/vnd.jupyter.widget-view+json": {
       "model_id": "0f371bb12ca64090b543f86d4014ffc8",
       "version_major": 2,
       "version_minor": 0
      },
      "text/plain": [
       "HBox(children=(HTML(value=''), FloatProgress(value=0.0, max=89971.0), HTML(value='')))"
      ]
     },
     "metadata": {},
     "output_type": "display_data"
    },
    {
     "name": "stdout",
     "output_type": "stream",
     "text": [
      "\n"
     ]
    },
    {
     "data": {
      "application/vnd.jupyter.widget-view+json": {
       "model_id": "9f7734661ee744709cda929a97ec131e",
       "version_major": 2,
       "version_minor": 0
      },
      "text/plain": [
       "HBox(children=(HTML(value=''), FloatProgress(value=0.0, max=29.0), HTML(value='')))"
      ]
     },
     "metadata": {},
     "output_type": "display_data"
    },
    {
     "name": "stdout",
     "output_type": "stream",
     "text": [
      "\n"
     ]
    },
    {
     "data": {
      "application/vnd.jupyter.widget-view+json": {
       "model_id": "e55df538a1b4407894ab284b75ddc232",
       "version_major": 2,
       "version_minor": 0
      },
      "text/plain": [
       "HBox(children=(HTML(value=''), FloatProgress(value=0.0, max=30786.0), HTML(value='')))"
      ]
     },
     "metadata": {},
     "output_type": "display_data"
    },
    {
     "name": "stdout",
     "output_type": "stream",
     "text": [
      "\n"
     ]
    },
    {
     "data": {
      "application/vnd.jupyter.widget-view+json": {
       "model_id": "a3fce734a16547aa9ceb108779ac9f53",
       "version_major": 2,
       "version_minor": 0
      },
      "text/plain": [
       "HBox(children=(HTML(value=''), FloatProgress(value=0.0, max=89971.0), HTML(value='')))"
      ]
     },
     "metadata": {},
     "output_type": "display_data"
    },
    {
     "name": "stdout",
     "output_type": "stream",
     "text": [
      "\n",
      "    Number of iteration: 8\n",
      "    len(k_pk): 882\n"
     ]
    },
    {
     "data": {
      "application/vnd.jupyter.widget-view+json": {
       "model_id": "d346c80cbb8b498bb3f3793c3d6329f8",
       "version_major": 2,
       "version_minor": 0
      },
      "text/plain": [
       "HBox(children=(HTML(value=''), FloatProgress(value=0.0, max=69090.0), HTML(value='')))"
      ]
     },
     "metadata": {},
     "output_type": "display_data"
    },
    {
     "name": "stdout",
     "output_type": "stream",
     "text": [
      "\n"
     ]
    },
    {
     "data": {
      "application/vnd.jupyter.widget-view+json": {
       "model_id": "b66494a4260044aa954f121b076f37d5",
       "version_major": 2,
       "version_minor": 0
      },
      "text/plain": [
       "HBox(children=(HTML(value=''), FloatProgress(value=0.0, max=8007.0), HTML(value='')))"
      ]
     },
     "metadata": {},
     "output_type": "display_data"
    },
    {
     "name": "stdout",
     "output_type": "stream",
     "text": [
      "\n"
     ]
    },
    {
     "data": {
      "application/vnd.jupyter.widget-view+json": {
       "model_id": "cf295fe083b84ab3b103c35505748643",
       "version_major": 2,
       "version_minor": 0
      },
      "text/plain": [
       "HBox(children=(HTML(value=''), FloatProgress(value=0.0, max=1249.0), HTML(value='')))"
      ]
     },
     "metadata": {},
     "output_type": "display_data"
    },
    {
     "name": "stdout",
     "output_type": "stream",
     "text": [
      "\n"
     ]
    },
    {
     "data": {
      "application/vnd.jupyter.widget-view+json": {
       "model_id": "0571088b944445cd82cdec0eaf71c252",
       "version_major": 2,
       "version_minor": 0
      },
      "text/plain": [
       "HBox(children=(HTML(value=''), FloatProgress(value=0.0, max=280.0), HTML(value='')))"
      ]
     },
     "metadata": {},
     "output_type": "display_data"
    },
    {
     "name": "stdout",
     "output_type": "stream",
     "text": [
      "\n"
     ]
    },
    {
     "data": {
      "application/vnd.jupyter.widget-view+json": {
       "model_id": "a04a0cc87155436fa923062cffa05b85",
       "version_major": 2,
       "version_minor": 0
      },
      "text/plain": [
       "HBox(children=(HTML(value=''), FloatProgress(value=0.0, max=89971.0), HTML(value='')))"
      ]
     },
     "metadata": {},
     "output_type": "display_data"
    },
    {
     "name": "stdout",
     "output_type": "stream",
     "text": [
      "\n"
     ]
    },
    {
     "data": {
      "application/vnd.jupyter.widget-view+json": {
       "model_id": "010b0854d9cf49f0b87ad11b952020db",
       "version_major": 2,
       "version_minor": 0
      },
      "text/plain": [
       "HBox(children=(HTML(value=''), FloatProgress(value=0.0, max=29.0), HTML(value='')))"
      ]
     },
     "metadata": {},
     "output_type": "display_data"
    },
    {
     "name": "stdout",
     "output_type": "stream",
     "text": [
      "\n"
     ]
    },
    {
     "data": {
      "application/vnd.jupyter.widget-view+json": {
       "model_id": "80c30453a45848318554abf85b71876e",
       "version_major": 2,
       "version_minor": 0
      },
      "text/plain": [
       "HBox(children=(HTML(value=''), FloatProgress(value=0.0, max=30835.0), HTML(value='')))"
      ]
     },
     "metadata": {},
     "output_type": "display_data"
    },
    {
     "name": "stdout",
     "output_type": "stream",
     "text": [
      "\n"
     ]
    },
    {
     "data": {
      "application/vnd.jupyter.widget-view+json": {
       "model_id": "89c4539b20e0497e8830e904200fd9ca",
       "version_major": 2,
       "version_minor": 0
      },
      "text/plain": [
       "HBox(children=(HTML(value=''), FloatProgress(value=0.0, max=89971.0), HTML(value='')))"
      ]
     },
     "metadata": {},
     "output_type": "display_data"
    },
    {
     "name": "stdout",
     "output_type": "stream",
     "text": [
      "\n",
      "    Number of iteration: 9\n",
      "    len(k_pk): 991\n"
     ]
    },
    {
     "data": {
      "application/vnd.jupyter.widget-view+json": {
       "model_id": "ba96782bdc224ffeab6d036369ffdd2d",
       "version_major": 2,
       "version_minor": 0
      },
      "text/plain": [
       "HBox(children=(HTML(value=''), FloatProgress(value=0.0, max=69090.0), HTML(value='')))"
      ]
     },
     "metadata": {},
     "output_type": "display_data"
    },
    {
     "name": "stdout",
     "output_type": "stream",
     "text": [
      "\n"
     ]
    },
    {
     "data": {
      "application/vnd.jupyter.widget-view+json": {
       "model_id": "88d1b37f87b54c519bc370bf1ffc3661",
       "version_major": 2,
       "version_minor": 0
      },
      "text/plain": [
       "HBox(children=(HTML(value=''), FloatProgress(value=0.0, max=8007.0), HTML(value='')))"
      ]
     },
     "metadata": {},
     "output_type": "display_data"
    },
    {
     "name": "stdout",
     "output_type": "stream",
     "text": [
      "\n"
     ]
    },
    {
     "data": {
      "application/vnd.jupyter.widget-view+json": {
       "model_id": "938b776b628549f6b2c1d9675daaab29",
       "version_major": 2,
       "version_minor": 0
      },
      "text/plain": [
       "HBox(children=(HTML(value=''), FloatProgress(value=0.0, max=1249.0), HTML(value='')))"
      ]
     },
     "metadata": {},
     "output_type": "display_data"
    },
    {
     "name": "stdout",
     "output_type": "stream",
     "text": [
      "\n"
     ]
    },
    {
     "data": {
      "application/vnd.jupyter.widget-view+json": {
       "model_id": "59015c3ce71e4baba4b65e4e6cbf78d8",
       "version_major": 2,
       "version_minor": 0
      },
      "text/plain": [
       "HBox(children=(HTML(value=''), FloatProgress(value=0.0, max=280.0), HTML(value='')))"
      ]
     },
     "metadata": {},
     "output_type": "display_data"
    },
    {
     "name": "stdout",
     "output_type": "stream",
     "text": [
      "\n"
     ]
    },
    {
     "data": {
      "application/vnd.jupyter.widget-view+json": {
       "model_id": "6b3c4ac1ce394f64954f7afb809ad8be",
       "version_major": 2,
       "version_minor": 0
      },
      "text/plain": [
       "HBox(children=(HTML(value=''), FloatProgress(value=0.0, max=89971.0), HTML(value='')))"
      ]
     },
     "metadata": {},
     "output_type": "display_data"
    },
    {
     "name": "stdout",
     "output_type": "stream",
     "text": [
      "\n"
     ]
    },
    {
     "data": {
      "application/vnd.jupyter.widget-view+json": {
       "model_id": "2f770d1cccf5412fbf5d929c4e7d262e",
       "version_major": 2,
       "version_minor": 0
      },
      "text/plain": [
       "HBox(children=(HTML(value=''), FloatProgress(value=0.0, max=29.0), HTML(value='')))"
      ]
     },
     "metadata": {},
     "output_type": "display_data"
    },
    {
     "name": "stdout",
     "output_type": "stream",
     "text": [
      "\n"
     ]
    },
    {
     "data": {
      "application/vnd.jupyter.widget-view+json": {
       "model_id": "4dcc332b57e04562a149fad89c8d1644",
       "version_major": 2,
       "version_minor": 0
      },
      "text/plain": [
       "HBox(children=(HTML(value=''), FloatProgress(value=0.0, max=30795.0), HTML(value='')))"
      ]
     },
     "metadata": {},
     "output_type": "display_data"
    },
    {
     "name": "stdout",
     "output_type": "stream",
     "text": [
      "\n"
     ]
    },
    {
     "data": {
      "application/vnd.jupyter.widget-view+json": {
       "model_id": "12dc2f04d23e4edaad915b9bc82fb79e",
       "version_major": 2,
       "version_minor": 0
      },
      "text/plain": [
       "HBox(children=(HTML(value=''), FloatProgress(value=0.0, max=89971.0), HTML(value='')))"
      ]
     },
     "metadata": {},
     "output_type": "display_data"
    },
    {
     "name": "stdout",
     "output_type": "stream",
     "text": [
      "\n",
      "    Number of iteration: 10\n",
      "    len(k_pk): 1104\n",
      "\n"
     ]
    }
   ],
   "source": [
    "# # set seed\n",
    "# np.random.seed(777)\n",
    "\n",
    "# # simulate data 10 times\n",
    "# t = 10\n",
    "\n",
    "# for n in tqdm(range(t)):\n",
    "#     # load data\n",
    "#     node_edge_df = pd.read_csv(os.path.join(cleaned_data_path, 'node_edge_data.csv'))\n",
    "\n",
    "#     #select only necessary columns\n",
    "#     data_simul = node_edge_df[['player_name', 'club_name', 'transfer_movement', 'year']]\n",
    "\n",
    "#     # set-up\n",
    "#     player_name_list = data_simul['player_name'].unique()\n",
    "#     club_name_list = data_simul['club_name'].unique()\n",
    "#     year_list = data_simul['year'].unique()\n",
    "\n",
    "#     # in-out distribution (just get the `in` and multiply by 2: assume that the data is cleaned)\n",
    "#     in_num = sum(data_simul['transfer_movement'] == 'in')\n",
    "\n",
    "#     # number of movement distribution\n",
    "#     num_move = pd.DataFrame(data_simul.groupby(['player_name', 'year'])['transfer_movement'].agg('count'))\n",
    "#     num_move['count'] = 1\n",
    "#     num_move = num_move.groupby('transfer_movement')['count'].agg('sum')\n",
    "#     num_move = pd.DataFrame(num_move).reset_index()\n",
    "#     num_move['transfer_movement'] = [math.ceil(num/2) for num in num_move['transfer_movement']]\n",
    "#     num_move = num_move.groupby('transfer_movement')['count'].agg('sum')\n",
    "#     num_move = num_move / np.sum(num_move)\n",
    "#     num_move = round(num_move * in_num)\n",
    "#     num_move = pd.DataFrame(num_move).reset_index()\n",
    "\n",
    "#     # get column names\n",
    "#     col_names = data_simul.columns\n",
    "\n",
    "#     # simulate data\n",
    "#     rows = []\n",
    "#     for t, count in zip(num_move['transfer_movement'], num_move['count']):\n",
    "#         for i in tqdm(range(int(count))):\n",
    "#             # get each column value\n",
    "#             player_name = np.repeat(np.random.choice(player_name_list, 1), t)\n",
    "#             club_name = np.random.choice(club_name_list, t, replace = False)\n",
    "#             transfer_movement = np.repeat('in', t)\n",
    "#             year = np.random.choice(year_list, t, replace = False)\n",
    "#             # format data\n",
    "#             row = list(zip(player_name, club_name, transfer_movement, year))\n",
    "#             # add to the list\n",
    "#             rows.extend(row)\n",
    "\n",
    "#     # create dataframe\n",
    "#     null_case = pd.DataFrame(data = rows, columns = col_names)\n",
    "\n",
    "#     # sort data\n",
    "#     null_case = null_case.sort_values(by = ['player_name', 'year'])\n",
    "\n",
    "#     # add column `num_transfer` which represent the number of time a player moved\n",
    "#     null_case['count'] = 1\n",
    "#     null_case['num_transfer'] = null_case.groupby('player_name')['count'].cumcount() + 1\n",
    "#     null_case['max_transfer'] = null_case.groupby('player_name')['num_transfer'].transform(np.max)\n",
    "#     null_case.drop(columns = 'count', inplace = True)\n",
    "#     null_case.reset_index(drop = True, inplace = True)\n",
    "\n",
    "#     # add `transfer_movement` == 'out'\n",
    "#     to_add = []\n",
    "#     for i in tqdm(range(len(null_case))):\n",
    "#         if (null_case.iloc[i]['num_transfer'] > 1) & \\\n",
    "#         (null_case.iloc[i]['num_transfer'] < null_case.iloc[i]['max_transfer']):\n",
    "#             # create the 'out' case\n",
    "#             row = list(null_case.iloc[i].replace('in', 'out'))\n",
    "#             # add to `to_add` list\n",
    "#             to_add.append(row)\n",
    "\n",
    "#     # add data to dataframe\n",
    "#     extend = pd.DataFrame(data = to_add, columns = null_case.columns)\n",
    "#     null_case = pd.concat([null_case, extend], axis = 0).reset_index(drop = True)\n",
    "#     null_case.drop(columns = ['num_transfer', 'max_transfer'], inplace = True)\n",
    "#     null_case.sort_values(by = ['player_name', 'year']).reset_index(drop = True, inplace = True)\n",
    "\n",
    "#     # 2 components needed: 'year_list', 'club_list'\n",
    "#     year_list = sorted(sorted(null_case['year'].unique()))\n",
    "#     club_list = sorted(null_case['club_name'].unique())\n",
    "\n",
    "#     # nested dictionary: year: `club_member`\n",
    "#     nested_dict = {}\n",
    "#     prev_year = None\n",
    "\n",
    "#     # loop over year:\n",
    "#     for year in tqdm(year_list):\n",
    "\n",
    "#         if prev_year in nested_dict.keys():\n",
    "\n",
    "#             # retrieve club-player info in the previous year for the second year and so on\n",
    "#             club_member = copy.deepcopy(nested_dict[prev_year])\n",
    "\n",
    "#         else:\n",
    "#             # initiate a dictionary of clubs (keys) and their affiliated players (values)\n",
    "#             club_member = {}\n",
    "\n",
    "#         # subset data by year\n",
    "#         data = null_case[null_case['year'] == year]\n",
    "\n",
    "#         # subset for transfer_movement == 'in', 'out'\n",
    "#         data_in = data[data['transfer_movement'] == 'in']\n",
    "#         data_out = data[data['transfer_movement'] == 'out']\n",
    "\n",
    "#         # loop over club:\n",
    "#         for club in club_list:\n",
    "\n",
    "#             # subset data by club\n",
    "#             temp_data_in = data_in[data_in['club_name'] == club]\n",
    "#             temp_data_out = data_out[data_out['club_name'] == club]\n",
    "\n",
    "#             # update all players in that club in the dictionary (`club_member`)\n",
    "#             player_list_in = list(temp_data_in['player_name'])\n",
    "#             player_list_out = list(temp_data_out['player_name'])\n",
    "\n",
    "#             if prev_year in nested_dict.keys():\n",
    "\n",
    "#                 # catch bug\n",
    "#                 if club_member[club] is None:\n",
    "#                     club_member[club] = []\n",
    "\n",
    "#                 # adjust for members who move in\n",
    "#                 club_member[club].extend(player_list_in)\n",
    "#                 # adjust for members who move out\n",
    "#                 remove_elem_by_list(club_member[club], player_list_out)\n",
    "\n",
    "#             else:\n",
    "#                 # update club_member info\n",
    "#                 club_member[club] = remove_elem_by_list(player_list_in, player_list_out)\n",
    "\n",
    "#         # store `club_member` in `nested_dict`\n",
    "#         nested_dict[year] = club_member\n",
    "\n",
    "#         # set previous year\n",
    "#         prev_year = year\n",
    "\n",
    "#     # set-up\n",
    "#     df = null_case[null_case['transfer_movement'] == 'in']\n",
    "\n",
    "#     # add column `num_transfer` which represent the number of time a player moved\n",
    "#     df['count'] = 1\n",
    "#     df['num_transfer'] = df.groupby('player_name')['count'].cumcount() + 1\n",
    "#     df['max_transfer'] = df.groupby('player_name')['num_transfer'].transform(np.max)\n",
    "#     df.drop(columns = 'count', inplace = True)\n",
    "\n",
    "#     # get player_list\n",
    "#     player_list = list(df['player_name'].unique())\n",
    "\n",
    "#     # initiate a nested dictionary ---> {`was_in` {`aff_clubs` {`year_member`} } }\n",
    "#     was_in = {}\n",
    "\n",
    "#     # loop over the dataset\n",
    "#     for player in tqdm(player_list):\n",
    "\n",
    "#         # subset df by player\n",
    "#         temp_df = df[df['player_name'] == player]\n",
    "\n",
    "#         # reset_index\n",
    "#         temp_df.reset_index(drop = True, inplace = True)\n",
    "\n",
    "#         # initiate inside dictionaries\n",
    "#         aff_clubs = {}\n",
    "\n",
    "#         \"\"\"\n",
    "#         loop over the dataset to get the year and club name\n",
    "#         this represent that a player stay in a club from year A - year B\n",
    "#         in this case, we can ignore the last row because no further analysis is needed\n",
    "#         as the next transaction has not occurred yet\n",
    "#         \"\"\"\n",
    "\n",
    "#         for row in range(len(temp_df) - 1):\n",
    "\n",
    "#             # initiate inside dictionaries\n",
    "#             year_member = {}\n",
    "\n",
    "#             club_name = temp_df.iloc[row]['club_name']\n",
    "\n",
    "#             year_list = np.arange(temp_df.iloc[row]['year'], temp_df.iloc[row + 1]['year'])\n",
    "\n",
    "#             # get the affiliated player each year from `nested_dict`\n",
    "#             for year in year_list:\n",
    "\n",
    "#                 aff_players = nested_dict[year][club_name]\n",
    "\n",
    "#                 # add data to `year_member`\n",
    "#                 year_member[year] = aff_players\n",
    "\n",
    "#             # add data to aff_club\n",
    "\n",
    "#             # adjust for the case when player moves back to the club he's been before\n",
    "#             if club_name in aff_clubs.keys():\n",
    "\n",
    "#                     aff_clubs[club_name].update(year_member)\n",
    "\n",
    "#             else:\n",
    "\n",
    "#                 aff_clubs[club_name] = year_member\n",
    "\n",
    "#         # add data to was_in\n",
    "#         was_in[player] = aff_clubs\n",
    "\n",
    "#     # table we will use\n",
    "#     df.sort_values(['player_name', 'num_transfer'], inplace = True)\n",
    "#     df.reset_index(drop = True, inplace = True)\n",
    "\n",
    "#     # generate `k` column\n",
    "\n",
    "#     # initiate a list\n",
    "#     k = []\n",
    "#     k_names = []\n",
    "\n",
    "#     # loop over the dataset\n",
    "#     for i in tqdm(range(len(df))):\n",
    "\n",
    "#         # there is nothing to do with the `k` for the first transfer\n",
    "#         if df['num_transfer'][i] == 1:\n",
    "\n",
    "#             k.append(None)\n",
    "#             k_names.append([])\n",
    "\n",
    "#         else:\n",
    "\n",
    "#             # get necessary variables (keys)\n",
    "#             player = df['player_name'][i]\n",
    "#             prev_club = df['club_name'][i-1]\n",
    "#             club = df['club_name'][i]\n",
    "#             prev_year = df['year'][i-1]\n",
    "#             this_year = df['year'][i]\n",
    "#             year_range = np.arange(prev_year, this_year)\n",
    "\n",
    "#             # get all the affiliated players\n",
    "#             aff_players = []\n",
    "#             for year in year_range:\n",
    "\n",
    "#                 # just in case some years are missing\n",
    "#                 if year not in nested_dict.keys():\n",
    "\n",
    "#                     pass\n",
    "\n",
    "#                 else:\n",
    "\n",
    "#                     aff_player = was_in[player][prev_club][year]\n",
    "#                     aff_players.extend(aff_player)\n",
    "\n",
    "#             # get all member in the club player is joining\n",
    "#             in_club_player = nested_dict[this_year][club]\n",
    "\n",
    "#             if df['num_transfer'][i] > 2:\n",
    "#                 # accumulate affiliated players\n",
    "#                 aff_players = set.union(set(prev_set), set(aff_players))\n",
    "\n",
    "#             # get `k_names`, `k_val`\n",
    "#             k_name = list(set.intersection(set(aff_players), set(in_club_player)) - set([player]))\n",
    "#             k_val = len(k_name)\n",
    "\n",
    "#             # append data\n",
    "#             k_names.append(k_name)\n",
    "#             k.append(k_val)\n",
    "\n",
    "#             # previous affiliated player set\n",
    "#             prev_set = set(aff_players)\n",
    "\n",
    "#     # add `k` column\n",
    "#     df['k'] = k\n",
    "#     # add `k_name` column\n",
    "#     df['k_name'] = k_names\n",
    "\n",
    "#     # get k-pk table\n",
    "#     k_count = df[['k']].dropna()\n",
    "#     k_count['count'] = 1\n",
    "#     k_count = pd.DataFrame(k_count.groupby('k')['count'].agg('count'))\n",
    "#     k_count.reset_index(inplace = True)\n",
    "#     k_count['pk'] = k_count['count'] / sum(k_count['count'])\n",
    "#     k_count = k_count.drop(columns = 'count')\n",
    "\n",
    "#     if n == 0:\n",
    "#         k_pk = k_count\n",
    "#     else:\n",
    "#         k_pk = pd.concat((k_pk, k_count))\n",
    "\n",
    "#     # save file\n",
    "#     out_path = os.path.join('output', 'k_pk.csv')\n",
    "#     k_pk.to_csv(out_path)\n",
    "\n",
    "#     # print confirming result\n",
    "#     print(f'\\\n",
    "#     Number of iteration: {n+1}\\n\\\n",
    "#     len(k_pk): {len(k_pk)}')"
   ]
  },
  {
   "cell_type": "markdown",
   "metadata": {},
   "source": [
    "#### Hypothesis Testing"
   ]
  },
  {
   "cell_type": "code",
   "execution_count": 36,
   "metadata": {
    "ExecuteTime": {
     "end_time": "2020-12-13T00:04:48.358475Z",
     "start_time": "2020-12-13T00:04:48.351874Z"
    }
   },
   "outputs": [],
   "source": [
    "file_path = os.path.join('output', 'k_pk.csv')\n",
    "null_k_pk = pd.read_csv(file_path)"
   ]
  },
  {
   "cell_type": "code",
   "execution_count": 37,
   "metadata": {
    "ExecuteTime": {
     "end_time": "2020-12-13T00:04:50.681975Z",
     "start_time": "2020-12-13T00:04:50.675951Z"
    }
   },
   "outputs": [],
   "source": [
    "null_k_pk = pd.DataFrame(null_k_pk.groupby('k')['pk'].agg(['mean', 'std']))"
   ]
  },
  {
   "cell_type": "code",
   "execution_count": 38,
   "metadata": {
    "ExecuteTime": {
     "end_time": "2020-12-13T00:04:53.067919Z",
     "start_time": "2020-12-13T00:04:53.063116Z"
    }
   },
   "outputs": [],
   "source": [
    "null_k_pk = null_k_pk.rename(columns={\n",
    "    'mean': 'simul_mean',\n",
    "    'std': 'simul_std'\n",
    "})"
   ]
  },
  {
   "cell_type": "code",
   "execution_count": 39,
   "metadata": {
    "ExecuteTime": {
     "end_time": "2020-12-13T00:04:56.416149Z",
     "start_time": "2020-12-13T00:04:56.410567Z"
    }
   },
   "outputs": [],
   "source": [
    "null_k_pk.reset_index(inplace=True)"
   ]
  },
  {
   "cell_type": "code",
   "execution_count": 40,
   "metadata": {
    "ExecuteTime": {
     "end_time": "2020-12-13T00:04:59.022660Z",
     "start_time": "2020-12-13T00:04:59.009493Z"
    }
   },
   "outputs": [
    {
     "data": {
      "text/html": [
       "<div>\n",
       "<style scoped>\n",
       "    .dataframe tbody tr th:only-of-type {\n",
       "        vertical-align: middle;\n",
       "    }\n",
       "\n",
       "    .dataframe tbody tr th {\n",
       "        vertical-align: top;\n",
       "    }\n",
       "\n",
       "    .dataframe thead th {\n",
       "        text-align: right;\n",
       "    }\n",
       "</style>\n",
       "<table border=\"1\" class=\"dataframe\">\n",
       "  <thead>\n",
       "    <tr style=\"text-align: right;\">\n",
       "      <th></th>\n",
       "      <th>k</th>\n",
       "      <th>count</th>\n",
       "      <th>pk</th>\n",
       "      <th>simul_mean</th>\n",
       "      <th>simul_std</th>\n",
       "    </tr>\n",
       "  </thead>\n",
       "  <tbody>\n",
       "    <tr>\n",
       "      <th>0</th>\n",
       "      <td>0.0</td>\n",
       "      <td>19685</td>\n",
       "      <td>0.396483</td>\n",
       "      <td>0.848249</td>\n",
       "      <td>0.001509</td>\n",
       "    </tr>\n",
       "    <tr>\n",
       "      <th>1</th>\n",
       "      <td>1.0</td>\n",
       "      <td>7430</td>\n",
       "      <td>0.149651</td>\n",
       "      <td>0.121424</td>\n",
       "      <td>0.001127</td>\n",
       "    </tr>\n",
       "    <tr>\n",
       "      <th>2</th>\n",
       "      <td>2.0</td>\n",
       "      <td>3280</td>\n",
       "      <td>0.066064</td>\n",
       "      <td>0.021301</td>\n",
       "      <td>0.000655</td>\n",
       "    </tr>\n",
       "    <tr>\n",
       "      <th>3</th>\n",
       "      <td>3.0</td>\n",
       "      <td>1505</td>\n",
       "      <td>0.030313</td>\n",
       "      <td>0.003767</td>\n",
       "      <td>0.000294</td>\n",
       "    </tr>\n",
       "    <tr>\n",
       "      <th>4</th>\n",
       "      <td>4.0</td>\n",
       "      <td>751</td>\n",
       "      <td>0.015126</td>\n",
       "      <td>0.000647</td>\n",
       "      <td>0.000135</td>\n",
       "    </tr>\n",
       "    <tr>\n",
       "      <th>5</th>\n",
       "      <td>5.0</td>\n",
       "      <td>462</td>\n",
       "      <td>0.009305</td>\n",
       "      <td>0.000135</td>\n",
       "      <td>0.000047</td>\n",
       "    </tr>\n",
       "    <tr>\n",
       "      <th>6</th>\n",
       "      <td>6.0</td>\n",
       "      <td>338</td>\n",
       "      <td>0.006808</td>\n",
       "      <td>0.000021</td>\n",
       "      <td>0.000011</td>\n",
       "    </tr>\n",
       "  </tbody>\n",
       "</table>\n",
       "</div>"
      ],
      "text/plain": [
       "     k  count        pk  simul_mean  simul_std\n",
       "0  0.0  19685  0.396483    0.848249   0.001509\n",
       "1  1.0   7430  0.149651    0.121424   0.001127\n",
       "2  2.0   3280  0.066064    0.021301   0.000655\n",
       "3  3.0   1505  0.030313    0.003767   0.000294\n",
       "4  4.0    751  0.015126    0.000647   0.000135\n",
       "5  5.0    462  0.009305    0.000135   0.000047\n",
       "6  6.0    338  0.006808    0.000021   0.000011"
      ]
     },
     "execution_count": 40,
     "metadata": {},
     "output_type": "execute_result"
    }
   ],
   "source": [
    "k_pk_table = pd.merge(k_pk, null_k_pk, on='k', how='left')\n",
    "k_pk_table"
   ]
  },
  {
   "cell_type": "code",
   "execution_count": 43,
   "metadata": {
    "ExecuteTime": {
     "end_time": "2020-12-13T00:05:25.768139Z",
     "start_time": "2020-12-13T00:05:25.755128Z"
    }
   },
   "outputs": [
    {
     "data": {
      "text/html": [
       "<div>\n",
       "<style scoped>\n",
       "    .dataframe tbody tr th:only-of-type {\n",
       "        vertical-align: middle;\n",
       "    }\n",
       "\n",
       "    .dataframe tbody tr th {\n",
       "        vertical-align: top;\n",
       "    }\n",
       "\n",
       "    .dataframe thead th {\n",
       "        text-align: right;\n",
       "    }\n",
       "</style>\n",
       "<table border=\"1\" class=\"dataframe\">\n",
       "  <thead>\n",
       "    <tr style=\"text-align: right;\">\n",
       "      <th></th>\n",
       "      <th>k</th>\n",
       "      <th>count</th>\n",
       "      <th>pk</th>\n",
       "      <th>simul_mean</th>\n",
       "      <th>simul_std</th>\n",
       "      <th>z</th>\n",
       "    </tr>\n",
       "  </thead>\n",
       "  <tbody>\n",
       "    <tr>\n",
       "      <th>0</th>\n",
       "      <td>0.0</td>\n",
       "      <td>19685</td>\n",
       "      <td>0.396483</td>\n",
       "      <td>0.848249</td>\n",
       "      <td>0.001509</td>\n",
       "      <td>-299.446550</td>\n",
       "    </tr>\n",
       "    <tr>\n",
       "      <th>1</th>\n",
       "      <td>1.0</td>\n",
       "      <td>7430</td>\n",
       "      <td>0.149651</td>\n",
       "      <td>0.121424</td>\n",
       "      <td>0.001127</td>\n",
       "      <td>25.051744</td>\n",
       "    </tr>\n",
       "    <tr>\n",
       "      <th>2</th>\n",
       "      <td>2.0</td>\n",
       "      <td>3280</td>\n",
       "      <td>0.066064</td>\n",
       "      <td>0.021301</td>\n",
       "      <td>0.000655</td>\n",
       "      <td>68.305408</td>\n",
       "    </tr>\n",
       "    <tr>\n",
       "      <th>3</th>\n",
       "      <td>3.0</td>\n",
       "      <td>1505</td>\n",
       "      <td>0.030313</td>\n",
       "      <td>0.003767</td>\n",
       "      <td>0.000294</td>\n",
       "      <td>90.318421</td>\n",
       "    </tr>\n",
       "    <tr>\n",
       "      <th>4</th>\n",
       "      <td>4.0</td>\n",
       "      <td>751</td>\n",
       "      <td>0.015126</td>\n",
       "      <td>0.000647</td>\n",
       "      <td>0.000135</td>\n",
       "      <td>106.890270</td>\n",
       "    </tr>\n",
       "    <tr>\n",
       "      <th>5</th>\n",
       "      <td>5.0</td>\n",
       "      <td>462</td>\n",
       "      <td>0.009305</td>\n",
       "      <td>0.000135</td>\n",
       "      <td>0.000047</td>\n",
       "      <td>194.807989</td>\n",
       "    </tr>\n",
       "    <tr>\n",
       "      <th>6</th>\n",
       "      <td>6.0</td>\n",
       "      <td>338</td>\n",
       "      <td>0.006808</td>\n",
       "      <td>0.000021</td>\n",
       "      <td>0.000011</td>\n",
       "      <td>602.502713</td>\n",
       "    </tr>\n",
       "  </tbody>\n",
       "</table>\n",
       "</div>"
      ],
      "text/plain": [
       "     k  count        pk  simul_mean  simul_std           z\n",
       "0  0.0  19685  0.396483    0.848249   0.001509 -299.446550\n",
       "1  1.0   7430  0.149651    0.121424   0.001127   25.051744\n",
       "2  2.0   3280  0.066064    0.021301   0.000655   68.305408\n",
       "3  3.0   1505  0.030313    0.003767   0.000294   90.318421\n",
       "4  4.0    751  0.015126    0.000647   0.000135  106.890270\n",
       "5  5.0    462  0.009305    0.000135   0.000047  194.807989\n",
       "6  6.0    338  0.006808    0.000021   0.000011  602.502713"
      ]
     },
     "execution_count": 43,
     "metadata": {},
     "output_type": "execute_result"
    }
   ],
   "source": [
    "k_pk_table['z'] = (k_pk_table['pk'] -\n",
    "                   k_pk_table['simul_mean']) / k_pk_table['simul_std']\n",
    "k_pk_table"
   ]
  },
  {
   "cell_type": "markdown",
   "metadata": {},
   "source": [
    "#### Visualization"
   ]
  },
  {
   "cell_type": "code",
   "execution_count": 105,
   "metadata": {
    "ExecuteTime": {
     "end_time": "2020-12-13T02:17:23.588904Z",
     "start_time": "2020-12-13T02:17:23.583122Z"
    }
   },
   "outputs": [],
   "source": [
    "# compute 95% confidence interval (z = 1.96)\n",
    "# we simulated 10 random networks\n",
    "n = 10\n",
    "z = 1.96\n",
    "k_pk_table['upper_bound'] = k_pk_table['simul_mean'] + (z * k_pk_table['simul_std']) / np.sqrt(n)\n",
    "k_pk_table['lower_bound'] = k_pk_table['simul_mean'] - (z * k_pk_table['simul_std']) / np.sqrt(n)"
   ]
  },
  {
   "cell_type": "code",
   "execution_count": 106,
   "metadata": {
    "ExecuteTime": {
     "end_time": "2020-12-13T02:17:26.914143Z",
     "start_time": "2020-12-13T02:17:26.895975Z"
    }
   },
   "outputs": [
    {
     "data": {
      "text/html": [
       "<div>\n",
       "<style scoped>\n",
       "    .dataframe tbody tr th:only-of-type {\n",
       "        vertical-align: middle;\n",
       "    }\n",
       "\n",
       "    .dataframe tbody tr th {\n",
       "        vertical-align: top;\n",
       "    }\n",
       "\n",
       "    .dataframe thead th {\n",
       "        text-align: right;\n",
       "    }\n",
       "</style>\n",
       "<table border=\"1\" class=\"dataframe\">\n",
       "  <thead>\n",
       "    <tr style=\"text-align: right;\">\n",
       "      <th></th>\n",
       "      <th>k</th>\n",
       "      <th>count</th>\n",
       "      <th>pk</th>\n",
       "      <th>simul_mean</th>\n",
       "      <th>simul_std</th>\n",
       "      <th>z</th>\n",
       "      <th>upper_bound</th>\n",
       "      <th>lower_bound</th>\n",
       "    </tr>\n",
       "  </thead>\n",
       "  <tbody>\n",
       "    <tr>\n",
       "      <th>0</th>\n",
       "      <td>0.0</td>\n",
       "      <td>19685</td>\n",
       "      <td>0.396483</td>\n",
       "      <td>0.848249</td>\n",
       "      <td>0.001509</td>\n",
       "      <td>-299.446550</td>\n",
       "      <td>0.849184</td>\n",
       "      <td>0.847314</td>\n",
       "    </tr>\n",
       "    <tr>\n",
       "      <th>1</th>\n",
       "      <td>1.0</td>\n",
       "      <td>7430</td>\n",
       "      <td>0.149651</td>\n",
       "      <td>0.121424</td>\n",
       "      <td>0.001127</td>\n",
       "      <td>25.051744</td>\n",
       "      <td>0.122122</td>\n",
       "      <td>0.120725</td>\n",
       "    </tr>\n",
       "    <tr>\n",
       "      <th>2</th>\n",
       "      <td>2.0</td>\n",
       "      <td>3280</td>\n",
       "      <td>0.066064</td>\n",
       "      <td>0.021301</td>\n",
       "      <td>0.000655</td>\n",
       "      <td>68.305408</td>\n",
       "      <td>0.021708</td>\n",
       "      <td>0.020895</td>\n",
       "    </tr>\n",
       "    <tr>\n",
       "      <th>3</th>\n",
       "      <td>3.0</td>\n",
       "      <td>1505</td>\n",
       "      <td>0.030313</td>\n",
       "      <td>0.003767</td>\n",
       "      <td>0.000294</td>\n",
       "      <td>90.318421</td>\n",
       "      <td>0.003949</td>\n",
       "      <td>0.003585</td>\n",
       "    </tr>\n",
       "    <tr>\n",
       "      <th>4</th>\n",
       "      <td>4.0</td>\n",
       "      <td>751</td>\n",
       "      <td>0.015126</td>\n",
       "      <td>0.000647</td>\n",
       "      <td>0.000135</td>\n",
       "      <td>106.890270</td>\n",
       "      <td>0.000731</td>\n",
       "      <td>0.000563</td>\n",
       "    </tr>\n",
       "    <tr>\n",
       "      <th>5</th>\n",
       "      <td>5.0</td>\n",
       "      <td>462</td>\n",
       "      <td>0.009305</td>\n",
       "      <td>0.000135</td>\n",
       "      <td>0.000047</td>\n",
       "      <td>194.807989</td>\n",
       "      <td>0.000164</td>\n",
       "      <td>0.000106</td>\n",
       "    </tr>\n",
       "    <tr>\n",
       "      <th>6</th>\n",
       "      <td>6.0</td>\n",
       "      <td>338</td>\n",
       "      <td>0.006808</td>\n",
       "      <td>0.000021</td>\n",
       "      <td>0.000011</td>\n",
       "      <td>602.502713</td>\n",
       "      <td>0.000028</td>\n",
       "      <td>0.000014</td>\n",
       "    </tr>\n",
       "  </tbody>\n",
       "</table>\n",
       "</div>"
      ],
      "text/plain": [
       "     k  count        pk  simul_mean  simul_std           z  upper_bound  \\\n",
       "0  0.0  19685  0.396483    0.848249   0.001509 -299.446550     0.849184   \n",
       "1  1.0   7430  0.149651    0.121424   0.001127   25.051744     0.122122   \n",
       "2  2.0   3280  0.066064    0.021301   0.000655   68.305408     0.021708   \n",
       "3  3.0   1505  0.030313    0.003767   0.000294   90.318421     0.003949   \n",
       "4  4.0    751  0.015126    0.000647   0.000135  106.890270     0.000731   \n",
       "5  5.0    462  0.009305    0.000135   0.000047  194.807989     0.000164   \n",
       "6  6.0    338  0.006808    0.000021   0.000011  602.502713     0.000028   \n",
       "\n",
       "   lower_bound  \n",
       "0     0.847314  \n",
       "1     0.120725  \n",
       "2     0.020895  \n",
       "3     0.003585  \n",
       "4     0.000563  \n",
       "5     0.000106  \n",
       "6     0.000014  "
      ]
     },
     "execution_count": 106,
     "metadata": {},
     "output_type": "execute_result"
    }
   ],
   "source": [
    "k_pk_table"
   ]
  },
  {
   "cell_type": "code",
   "execution_count": 137,
   "metadata": {
    "ExecuteTime": {
     "end_time": "2020-12-13T02:32:05.269667Z",
     "start_time": "2020-12-13T02:32:05.078131Z"
    }
   },
   "outputs": [
    {
     "data": {
      "image/png": "[encoded data removed]",
      "text/plain": [
       "<Figure size 864x576 with 1 Axes>"
      ]
     },
     "metadata": {
      "needs_background": "light"
     },
     "output_type": "display_data"
    }
   ],
   "source": [
    "\"\"\"\n",
    "MAYBE WE NEED TO SPLIT THE CHART INTO 7 CHARTS\n",
    "\"\"\"\n",
    "\n",
    "# create figure \n",
    "fig = plt.figure(figsize=(12, 8))\n",
    "\n",
    "# add plot\n",
    "ax = fig.add_subplot(1, 1, 1)\n",
    "\n",
    "colors = ['mediumslateblue', 'mediumblue', 'palevioletred', 'firebrick', 'darkred', 'red', 'blue', 'yellow']\n",
    "\n",
    "for i in range(len(k_pk_table)):\n",
    "\n",
    "    # data series\n",
    "    x = k_pk_table.loc[i, 'k']\n",
    "    y = k_pk_table.loc[i, 'simul_mean']\n",
    "    y_high = k_pk_table.loc[i, 'upper_bound']\n",
    "    y_low = k_pk_table.loc[i, 'lower_bound']\n",
    "\n",
    "    # plot data\n",
    "    ax.errorbar(x, y, fmt='o',\n",
    "                yerr=np.absolute(y_low - y_high)/2,\n",
    "                elinewidth=1,\n",
    "                markerfacecolor = colors[i],\n",
    "                markeredgecolor = colors[i],\n",
    "                ecolor = colors[i]\n",
    "                )    \n",
    "\n",
    "# set ticks and title\n",
    "\n",
    "ax.set_ylim(0, 1)\n",
    "# ax.set_xticks(np.arange(len(k_pk_table)))\n",
    "# ax.set_yticks(np.arange(-0.4, -0.1, 0.1))\n",
    "ax.set_xlabel('k')\n",
    "ax.set_ylabel('p(k)')\n",
    "ax.set_title('Hypothesis Testing')\n",
    "\n",
    "\n",
    "plt.show()"
   ]
  },
  {
   "cell_type": "markdown",
   "metadata": {},
   "source": [
    "## Homophily-Performance Analysis"
   ]
  },
  {
   "cell_type": "code",
   "execution_count": 44,
   "metadata": {
    "ExecuteTime": {
     "end_time": "2020-12-13T00:08:54.287304Z",
     "start_time": "2020-12-13T00:08:54.256805Z"
    }
   },
   "outputs": [
    {
     "data": {
      "text/html": [
       "<div>\n",
       "<style scoped>\n",
       "    .dataframe tbody tr th:only-of-type {\n",
       "        vertical-align: middle;\n",
       "    }\n",
       "\n",
       "    .dataframe tbody tr th {\n",
       "        vertical-align: top;\n",
       "    }\n",
       "\n",
       "    .dataframe thead th {\n",
       "        text-align: right;\n",
       "    }\n",
       "</style>\n",
       "<table border=\"1\" class=\"dataframe\">\n",
       "  <thead>\n",
       "    <tr style=\"text-align: right;\">\n",
       "      <th></th>\n",
       "      <th>club_name</th>\n",
       "      <th>player_name</th>\n",
       "      <th>age</th>\n",
       "      <th>position</th>\n",
       "      <th>club_involved_name</th>\n",
       "      <th>fee</th>\n",
       "      <th>transfer_movement</th>\n",
       "      <th>fee_cleaned</th>\n",
       "      <th>year</th>\n",
       "      <th>num_transfer</th>\n",
       "      <th>max_transfer</th>\n",
       "      <th>k</th>\n",
       "      <th>k_name</th>\n",
       "    </tr>\n",
       "  </thead>\n",
       "  <tbody>\n",
       "    <tr>\n",
       "      <th>0</th>\n",
       "      <td>AS Monaco</td>\n",
       "      <td>Aadil Assana</td>\n",
       "      <td>20.0</td>\n",
       "      <td>Defensive Midfield</td>\n",
       "      <td>Clermont Foot</td>\n",
       "      <td>End of loanJun 30, 2013</td>\n",
       "      <td>in</td>\n",
       "      <td>0.000</td>\n",
       "      <td>2013</td>\n",
       "      <td>1</td>\n",
       "      <td>2</td>\n",
       "      <td>NaN</td>\n",
       "      <td>[]</td>\n",
       "    </tr>\n",
       "    <tr>\n",
       "      <th>1</th>\n",
       "      <td>AS Monaco</td>\n",
       "      <td>Aadil Assana</td>\n",
       "      <td>20.0</td>\n",
       "      <td>Defensive Midfield</td>\n",
       "      <td>CA Bastia</td>\n",
       "      <td>End of loanJan 20, 2014</td>\n",
       "      <td>in</td>\n",
       "      <td>0.000</td>\n",
       "      <td>2013</td>\n",
       "      <td>2</td>\n",
       "      <td>2</td>\n",
       "      <td>0.0</td>\n",
       "      <td>[]</td>\n",
       "    </tr>\n",
       "    <tr>\n",
       "      <th>2</th>\n",
       "      <td>Leeds United</td>\n",
       "      <td>Aapo Halme</td>\n",
       "      <td>19.0</td>\n",
       "      <td>Centre-Back</td>\n",
       "      <td>HJK Helsinki</td>\n",
       "      <td>£504Th.</td>\n",
       "      <td>in</td>\n",
       "      <td>0.504</td>\n",
       "      <td>2017</td>\n",
       "      <td>1</td>\n",
       "      <td>2</td>\n",
       "      <td>NaN</td>\n",
       "      <td>[]</td>\n",
       "    </tr>\n",
       "    <tr>\n",
       "      <th>3</th>\n",
       "      <td>Barnsley FC</td>\n",
       "      <td>Aapo Halme</td>\n",
       "      <td>21.0</td>\n",
       "      <td>Centre-Back</td>\n",
       "      <td>Leeds</td>\n",
       "      <td>£203Th.</td>\n",
       "      <td>in</td>\n",
       "      <td>0.203</td>\n",
       "      <td>2019</td>\n",
       "      <td>2</td>\n",
       "      <td>2</td>\n",
       "      <td>1.0</td>\n",
       "      <td>[Jacob Burns]</td>\n",
       "    </tr>\n",
       "    <tr>\n",
       "      <th>4</th>\n",
       "      <td>Bristol City</td>\n",
       "      <td>Aaron Amadi-Holloway</td>\n",
       "      <td>18.0</td>\n",
       "      <td>Centre-Forward</td>\n",
       "      <td>Bristol City U18</td>\n",
       "      <td>-</td>\n",
       "      <td>in</td>\n",
       "      <td>0.000</td>\n",
       "      <td>2011</td>\n",
       "      <td>1</td>\n",
       "      <td>2</td>\n",
       "      <td>NaN</td>\n",
       "      <td>[]</td>\n",
       "    </tr>\n",
       "    <tr>\n",
       "      <th>...</th>\n",
       "      <td>...</td>\n",
       "      <td>...</td>\n",
       "      <td>...</td>\n",
       "      <td>...</td>\n",
       "      <td>...</td>\n",
       "      <td>...</td>\n",
       "      <td>...</td>\n",
       "      <td>...</td>\n",
       "      <td>...</td>\n",
       "      <td>...</td>\n",
       "      <td>...</td>\n",
       "      <td>...</td>\n",
       "      <td>...</td>\n",
       "    </tr>\n",
       "    <tr>\n",
       "      <th>78620</th>\n",
       "      <td>SC Freiburg</td>\n",
       "      <td>Zvonko Pamic</td>\n",
       "      <td>19.0</td>\n",
       "      <td>Central Midfield</td>\n",
       "      <td>Bay. Leverkusen</td>\n",
       "      <td>Loan</td>\n",
       "      <td>in</td>\n",
       "      <td>0.000</td>\n",
       "      <td>2010</td>\n",
       "      <td>2</td>\n",
       "      <td>5</td>\n",
       "      <td>0.0</td>\n",
       "      <td>[]</td>\n",
       "    </tr>\n",
       "    <tr>\n",
       "      <th>78621</th>\n",
       "      <td>Bayer 04 Leverkusen</td>\n",
       "      <td>Zvonko Pamic</td>\n",
       "      <td>20.0</td>\n",
       "      <td>Central Midfield</td>\n",
       "      <td>SC Freiburg</td>\n",
       "      <td>End of loanJun 30, 2011</td>\n",
       "      <td>in</td>\n",
       "      <td>0.000</td>\n",
       "      <td>2011</td>\n",
       "      <td>3</td>\n",
       "      <td>5</td>\n",
       "      <td>0.0</td>\n",
       "      <td>[]</td>\n",
       "    </tr>\n",
       "    <tr>\n",
       "      <th>78622</th>\n",
       "      <td>Bayer 04 Leverkusen</td>\n",
       "      <td>Zvonko Pamic</td>\n",
       "      <td>21.0</td>\n",
       "      <td>Central Midfield</td>\n",
       "      <td>MSV Duisburg</td>\n",
       "      <td>End of loanJun 30, 2012</td>\n",
       "      <td>in</td>\n",
       "      <td>0.000</td>\n",
       "      <td>2012</td>\n",
       "      <td>4</td>\n",
       "      <td>5</td>\n",
       "      <td>14.0</td>\n",
       "      <td>[Sidney Sam, Andre Schurrle, Manuel Friedrich,...</td>\n",
       "    </tr>\n",
       "    <tr>\n",
       "      <th>78623</th>\n",
       "      <td>Bayer 04 Leverkusen</td>\n",
       "      <td>Zvonko Pamic</td>\n",
       "      <td>21.0</td>\n",
       "      <td>Central Midfield</td>\n",
       "      <td>MSV Duisburg</td>\n",
       "      <td>End of loanDec 31, 2012</td>\n",
       "      <td>in</td>\n",
       "      <td>0.000</td>\n",
       "      <td>2012</td>\n",
       "      <td>5</td>\n",
       "      <td>5</td>\n",
       "      <td>14.0</td>\n",
       "      <td>[Sidney Sam, Andre Schurrle, Manuel Friedrich,...</td>\n",
       "    </tr>\n",
       "    <tr>\n",
       "      <th>78624</th>\n",
       "      <td>Dinamo Moscow</td>\n",
       "      <td>Zydrunas Karcemarskas</td>\n",
       "      <td>20.0</td>\n",
       "      <td>Goalkeeper</td>\n",
       "      <td>Dinamo M II</td>\n",
       "      <td>-</td>\n",
       "      <td>in</td>\n",
       "      <td>0.000</td>\n",
       "      <td>2003</td>\n",
       "      <td>1</td>\n",
       "      <td>1</td>\n",
       "      <td>NaN</td>\n",
       "      <td>[]</td>\n",
       "    </tr>\n",
       "  </tbody>\n",
       "</table>\n",
       "<p>78625 rows × 13 columns</p>\n",
       "</div>"
      ],
      "text/plain": [
       "                 club_name            player_name   age            position  \\\n",
       "0                AS Monaco           Aadil Assana  20.0  Defensive Midfield   \n",
       "1                AS Monaco           Aadil Assana  20.0  Defensive Midfield   \n",
       "2             Leeds United             Aapo Halme  19.0         Centre-Back   \n",
       "3              Barnsley FC             Aapo Halme  21.0         Centre-Back   \n",
       "4             Bristol City   Aaron Amadi-Holloway  18.0      Centre-Forward   \n",
       "...                    ...                    ...   ...                 ...   \n",
       "78620          SC Freiburg           Zvonko Pamic  19.0    Central Midfield   \n",
       "78621  Bayer 04 Leverkusen           Zvonko Pamic  20.0    Central Midfield   \n",
       "78622  Bayer 04 Leverkusen           Zvonko Pamic  21.0    Central Midfield   \n",
       "78623  Bayer 04 Leverkusen           Zvonko Pamic  21.0    Central Midfield   \n",
       "78624        Dinamo Moscow  Zydrunas Karcemarskas  20.0          Goalkeeper   \n",
       "\n",
       "      club_involved_name                      fee transfer_movement  \\\n",
       "0          Clermont Foot  End of loanJun 30, 2013                in   \n",
       "1              CA Bastia  End of loanJan 20, 2014                in   \n",
       "2           HJK Helsinki                  £504Th.                in   \n",
       "3                  Leeds                  £203Th.                in   \n",
       "4       Bristol City U18                        -                in   \n",
       "...                  ...                      ...               ...   \n",
       "78620    Bay. Leverkusen                     Loan                in   \n",
       "78621        SC Freiburg  End of loanJun 30, 2011                in   \n",
       "78622       MSV Duisburg  End of loanJun 30, 2012                in   \n",
       "78623       MSV Duisburg  End of loanDec 31, 2012                in   \n",
       "78624        Dinamo M II                        -                in   \n",
       "\n",
       "       fee_cleaned  year  num_transfer  max_transfer     k  \\\n",
       "0            0.000  2013             1             2   NaN   \n",
       "1            0.000  2013             2             2   0.0   \n",
       "2            0.504  2017             1             2   NaN   \n",
       "3            0.203  2019             2             2   1.0   \n",
       "4            0.000  2011             1             2   NaN   \n",
       "...            ...   ...           ...           ...   ...   \n",
       "78620        0.000  2010             2             5   0.0   \n",
       "78621        0.000  2011             3             5   0.0   \n",
       "78622        0.000  2012             4             5  14.0   \n",
       "78623        0.000  2012             5             5  14.0   \n",
       "78624        0.000  2003             1             1   NaN   \n",
       "\n",
       "                                                  k_name  \n",
       "0                                                     []  \n",
       "1                                                     []  \n",
       "2                                                     []  \n",
       "3                                          [Jacob Burns]  \n",
       "4                                                     []  \n",
       "...                                                  ...  \n",
       "78620                                                 []  \n",
       "78621                                                 []  \n",
       "78622  [Sidney Sam, Andre Schurrle, Manuel Friedrich,...  \n",
       "78623  [Sidney Sam, Andre Schurrle, Manuel Friedrich,...  \n",
       "78624                                                 []  \n",
       "\n",
       "[78625 rows x 13 columns]"
      ]
     },
     "execution_count": 44,
     "metadata": {},
     "output_type": "execute_result"
    }
   ],
   "source": [
    "df"
   ]
  },
  {
   "cell_type": "markdown",
   "metadata": {},
   "source": [
    "### Performance Analysis (Fee)"
   ]
  },
  {
   "cell_type": "code",
   "execution_count": 62,
   "metadata": {
    "ExecuteTime": {
     "end_time": "2020-12-13T00:25:59.002716Z",
     "start_time": "2020-12-13T00:25:58.988774Z"
    }
   },
   "outputs": [
    {
     "data": {
      "text/html": [
       "<div>\n",
       "<style scoped>\n",
       "    .dataframe tbody tr th:only-of-type {\n",
       "        vertical-align: middle;\n",
       "    }\n",
       "\n",
       "    .dataframe tbody tr th {\n",
       "        vertical-align: top;\n",
       "    }\n",
       "\n",
       "    .dataframe thead th {\n",
       "        text-align: right;\n",
       "    }\n",
       "</style>\n",
       "<table border=\"1\" class=\"dataframe\">\n",
       "  <thead>\n",
       "    <tr style=\"text-align: right;\">\n",
       "      <th></th>\n",
       "      <th>club_name</th>\n",
       "      <th>player_name</th>\n",
       "      <th>age</th>\n",
       "      <th>position</th>\n",
       "      <th>club_involved_name</th>\n",
       "      <th>transfer_movement</th>\n",
       "      <th>fee_cleaned</th>\n",
       "      <th>year</th>\n",
       "      <th>adjusted_fee</th>\n",
       "    </tr>\n",
       "  </thead>\n",
       "  <tbody>\n",
       "    <tr>\n",
       "      <th>0</th>\n",
       "      <td>Ajax Amsterdam</td>\n",
       "      <td>Marc Overmars</td>\n",
       "      <td>19.0</td>\n",
       "      <td>Left Winger</td>\n",
       "      <td>Willem II</td>\n",
       "      <td>in</td>\n",
       "      <td>0.817</td>\n",
       "      <td>1992</td>\n",
       "      <td>0.540411</td>\n",
       "    </tr>\n",
       "    <tr>\n",
       "      <th>1</th>\n",
       "      <td>Ajax Amsterdam</td>\n",
       "      <td>Jari Litmanen</td>\n",
       "      <td>21.0</td>\n",
       "      <td>Attacking Midfield</td>\n",
       "      <td>MYPA</td>\n",
       "      <td>in</td>\n",
       "      <td>0.013</td>\n",
       "      <td>1992</td>\n",
       "      <td>0.006954</td>\n",
       "    </tr>\n",
       "    <tr>\n",
       "      <th>2</th>\n",
       "      <td>Ajax Amsterdam</td>\n",
       "      <td>Aron Winter</td>\n",
       "      <td>25.0</td>\n",
       "      <td>Defensive Midfield</td>\n",
       "      <td>Lazio</td>\n",
       "      <td>out</td>\n",
       "      <td>1.170</td>\n",
       "      <td>1992</td>\n",
       "      <td>0.551210</td>\n",
       "    </tr>\n",
       "    <tr>\n",
       "      <th>3</th>\n",
       "      <td>Sparta Rotterdam</td>\n",
       "      <td>Winston Bogarde</td>\n",
       "      <td>21.0</td>\n",
       "      <td>Centre-Back</td>\n",
       "      <td>Excelsior</td>\n",
       "      <td>in</td>\n",
       "      <td>0.005</td>\n",
       "      <td>1992</td>\n",
       "      <td>0.002674</td>\n",
       "    </tr>\n",
       "    <tr>\n",
       "      <th>4</th>\n",
       "      <td>Willem II Tilburg</td>\n",
       "      <td>Marc Overmars</td>\n",
       "      <td>19.0</td>\n",
       "      <td>Left Winger</td>\n",
       "      <td>Ajax</td>\n",
       "      <td>out</td>\n",
       "      <td>0.817</td>\n",
       "      <td>1992</td>\n",
       "      <td>0.540411</td>\n",
       "    </tr>\n",
       "  </tbody>\n",
       "</table>\n",
       "</div>"
      ],
      "text/plain": [
       "           club_name      player_name   age            position  \\\n",
       "0     Ajax Amsterdam    Marc Overmars  19.0         Left Winger   \n",
       "1     Ajax Amsterdam    Jari Litmanen  21.0  Attacking Midfield   \n",
       "2     Ajax Amsterdam      Aron Winter  25.0  Defensive Midfield   \n",
       "3   Sparta Rotterdam  Winston Bogarde  21.0         Centre-Back   \n",
       "4  Willem II Tilburg    Marc Overmars  19.0         Left Winger   \n",
       "\n",
       "  club_involved_name transfer_movement  fee_cleaned  year  adjusted_fee  \n",
       "0          Willem II                in        0.817  1992      0.540411  \n",
       "1               MYPA                in        0.013  1992      0.006954  \n",
       "2              Lazio               out        1.170  1992      0.551210  \n",
       "3          Excelsior                in        0.005  1992      0.002674  \n",
       "4               Ajax               out        0.817  1992      0.540411  "
      ]
     },
     "execution_count": 62,
     "metadata": {},
     "output_type": "execute_result"
    }
   ],
   "source": [
    "perf_eval_df.head()"
   ]
  },
  {
   "cell_type": "code",
   "execution_count": 63,
   "metadata": {
    "ExecuteTime": {
     "end_time": "2020-12-13T00:26:01.386249Z",
     "start_time": "2020-12-13T00:26:01.378192Z"
    }
   },
   "outputs": [
    {
     "data": {
      "text/html": [
       "<div>\n",
       "<style scoped>\n",
       "    .dataframe tbody tr th:only-of-type {\n",
       "        vertical-align: middle;\n",
       "    }\n",
       "\n",
       "    .dataframe tbody tr th {\n",
       "        vertical-align: top;\n",
       "    }\n",
       "\n",
       "    .dataframe thead th {\n",
       "        text-align: right;\n",
       "    }\n",
       "</style>\n",
       "<table border=\"1\" class=\"dataframe\">\n",
       "  <thead>\n",
       "    <tr style=\"text-align: right;\">\n",
       "      <th></th>\n",
       "      <th>age</th>\n",
       "      <th>coef</th>\n",
       "    </tr>\n",
       "  </thead>\n",
       "  <tbody>\n",
       "    <tr>\n",
       "      <th>0</th>\n",
       "      <td>15.0</td>\n",
       "      <td>1.000000</td>\n",
       "    </tr>\n",
       "    <tr>\n",
       "      <th>1</th>\n",
       "      <td>16.0</td>\n",
       "      <td>1.000000</td>\n",
       "    </tr>\n",
       "    <tr>\n",
       "      <th>2</th>\n",
       "      <td>17.0</td>\n",
       "      <td>1.000000</td>\n",
       "    </tr>\n",
       "    <tr>\n",
       "      <th>3</th>\n",
       "      <td>18.0</td>\n",
       "      <td>0.784209</td>\n",
       "    </tr>\n",
       "    <tr>\n",
       "      <th>4</th>\n",
       "      <td>19.0</td>\n",
       "      <td>0.661457</td>\n",
       "    </tr>\n",
       "  </tbody>\n",
       "</table>\n",
       "</div>"
      ],
      "text/plain": [
       "    age      coef\n",
       "0  15.0  1.000000\n",
       "1  16.0  1.000000\n",
       "2  17.0  1.000000\n",
       "3  18.0  0.784209\n",
       "4  19.0  0.661457"
      ]
     },
     "execution_count": 63,
     "metadata": {},
     "output_type": "execute_result"
    }
   ],
   "source": [
    "adj_coef_table.head()"
   ]
  },
  {
   "cell_type": "code",
   "execution_count": 65,
   "metadata": {
    "ExecuteTime": {
     "end_time": "2020-12-13T00:26:08.439938Z",
     "start_time": "2020-12-13T00:26:08.407330Z"
    }
   },
   "outputs": [
    {
     "data": {
      "text/html": [
       "<div>\n",
       "<style scoped>\n",
       "    .dataframe tbody tr th:only-of-type {\n",
       "        vertical-align: middle;\n",
       "    }\n",
       "\n",
       "    .dataframe tbody tr th {\n",
       "        vertical-align: top;\n",
       "    }\n",
       "\n",
       "    .dataframe thead th {\n",
       "        text-align: right;\n",
       "    }\n",
       "</style>\n",
       "<table border=\"1\" class=\"dataframe\">\n",
       "  <thead>\n",
       "    <tr style=\"text-align: right;\">\n",
       "      <th></th>\n",
       "      <th>club_name</th>\n",
       "      <th>player_name</th>\n",
       "      <th>age</th>\n",
       "      <th>transfer_movement</th>\n",
       "      <th>fee_cleaned</th>\n",
       "      <th>year</th>\n",
       "      <th>adjusted_fee</th>\n",
       "    </tr>\n",
       "  </thead>\n",
       "  <tbody>\n",
       "    <tr>\n",
       "      <th>0</th>\n",
       "      <td>Ajax Amsterdam</td>\n",
       "      <td>Marc Overmars</td>\n",
       "      <td>19.0</td>\n",
       "      <td>in</td>\n",
       "      <td>0.817</td>\n",
       "      <td>1992</td>\n",
       "      <td>0.540411</td>\n",
       "    </tr>\n",
       "    <tr>\n",
       "      <th>1</th>\n",
       "      <td>Ajax Amsterdam</td>\n",
       "      <td>Jari Litmanen</td>\n",
       "      <td>21.0</td>\n",
       "      <td>in</td>\n",
       "      <td>0.013</td>\n",
       "      <td>1992</td>\n",
       "      <td>0.006954</td>\n",
       "    </tr>\n",
       "    <tr>\n",
       "      <th>2</th>\n",
       "      <td>Ajax Amsterdam</td>\n",
       "      <td>Aron Winter</td>\n",
       "      <td>25.0</td>\n",
       "      <td>out</td>\n",
       "      <td>1.170</td>\n",
       "      <td>1992</td>\n",
       "      <td>0.551210</td>\n",
       "    </tr>\n",
       "    <tr>\n",
       "      <th>3</th>\n",
       "      <td>Sparta Rotterdam</td>\n",
       "      <td>Winston Bogarde</td>\n",
       "      <td>21.0</td>\n",
       "      <td>in</td>\n",
       "      <td>0.005</td>\n",
       "      <td>1992</td>\n",
       "      <td>0.002674</td>\n",
       "    </tr>\n",
       "    <tr>\n",
       "      <th>4</th>\n",
       "      <td>Willem II Tilburg</td>\n",
       "      <td>Marc Overmars</td>\n",
       "      <td>19.0</td>\n",
       "      <td>out</td>\n",
       "      <td>0.817</td>\n",
       "      <td>1992</td>\n",
       "      <td>0.540411</td>\n",
       "    </tr>\n",
       "  </tbody>\n",
       "</table>\n",
       "</div>"
      ],
      "text/plain": [
       "           club_name      player_name   age transfer_movement  fee_cleaned  \\\n",
       "0     Ajax Amsterdam    Marc Overmars  19.0                in        0.817   \n",
       "1     Ajax Amsterdam    Jari Litmanen  21.0                in        0.013   \n",
       "2     Ajax Amsterdam      Aron Winter  25.0               out        1.170   \n",
       "3   Sparta Rotterdam  Winston Bogarde  21.0                in        0.005   \n",
       "4  Willem II Tilburg    Marc Overmars  19.0               out        0.817   \n",
       "\n",
       "   year  adjusted_fee  \n",
       "0  1992      0.540411  \n",
       "1  1992      0.006954  \n",
       "2  1992      0.551210  \n",
       "3  1992      0.002674  \n",
       "4  1992      0.540411  "
      ]
     },
     "execution_count": 65,
     "metadata": {},
     "output_type": "execute_result"
    }
   ],
   "source": [
    "# add `adjusted_fee` column which adjusted for player's age\n",
    "perf_eval_df = pd.merge(perf_eval_df, adj_coef_table, on='age', how='left')\n",
    "perf_eval_df['adjusted_fee'] = np.multiply(perf_eval_df['fee_cleaned'],\n",
    "                                           perf_eval_df['coef'])\n",
    "\n",
    "# remove `coef` column\n",
    "perf_eval_df.drop(columns=['coef', 'position', 'club_involved_name'], inplace=True)\n",
    "perf_eval_df.head()"
   ]
  },
  {
   "cell_type": "code",
   "execution_count": 66,
   "metadata": {
    "ExecuteTime": {
     "end_time": "2020-12-13T00:26:10.996241Z",
     "start_time": "2020-12-13T00:26:10.849641Z"
    }
   },
   "outputs": [
    {
     "data": {
      "text/html": [
       "<div>\n",
       "<style scoped>\n",
       "    .dataframe tbody tr th:only-of-type {\n",
       "        vertical-align: middle;\n",
       "    }\n",
       "\n",
       "    .dataframe tbody tr th {\n",
       "        vertical-align: top;\n",
       "    }\n",
       "\n",
       "    .dataframe thead th {\n",
       "        text-align: right;\n",
       "    }\n",
       "</style>\n",
       "<table border=\"1\" class=\"dataframe\">\n",
       "  <thead>\n",
       "    <tr style=\"text-align: right;\">\n",
       "      <th></th>\n",
       "      <th>club_name</th>\n",
       "      <th>player_name</th>\n",
       "      <th>age</th>\n",
       "      <th>position</th>\n",
       "      <th>club_involved_name</th>\n",
       "      <th>fee</th>\n",
       "      <th>transfer_movement</th>\n",
       "      <th>fee_cleaned</th>\n",
       "      <th>year</th>\n",
       "      <th>num_transfer</th>\n",
       "      <th>max_transfer</th>\n",
       "      <th>k</th>\n",
       "      <th>k_name</th>\n",
       "      <th>adjusted_fee</th>\n",
       "    </tr>\n",
       "  </thead>\n",
       "  <tbody>\n",
       "    <tr>\n",
       "      <th>0</th>\n",
       "      <td>AS Monaco</td>\n",
       "      <td>Aadil Assana</td>\n",
       "      <td>20.0</td>\n",
       "      <td>Defensive Midfield</td>\n",
       "      <td>Clermont Foot</td>\n",
       "      <td>End of loanJun 30, 2013</td>\n",
       "      <td>in</td>\n",
       "      <td>0.000</td>\n",
       "      <td>2013</td>\n",
       "      <td>1</td>\n",
       "      <td>2</td>\n",
       "      <td>NaN</td>\n",
       "      <td>[]</td>\n",
       "      <td>NaN</td>\n",
       "    </tr>\n",
       "    <tr>\n",
       "      <th>1</th>\n",
       "      <td>AS Monaco</td>\n",
       "      <td>Aadil Assana</td>\n",
       "      <td>20.0</td>\n",
       "      <td>Defensive Midfield</td>\n",
       "      <td>CA Bastia</td>\n",
       "      <td>End of loanJan 20, 2014</td>\n",
       "      <td>in</td>\n",
       "      <td>0.000</td>\n",
       "      <td>2013</td>\n",
       "      <td>2</td>\n",
       "      <td>2</td>\n",
       "      <td>0.0</td>\n",
       "      <td>[]</td>\n",
       "      <td>NaN</td>\n",
       "    </tr>\n",
       "    <tr>\n",
       "      <th>2</th>\n",
       "      <td>Leeds United</td>\n",
       "      <td>Aapo Halme</td>\n",
       "      <td>19.0</td>\n",
       "      <td>Centre-Back</td>\n",
       "      <td>HJK Helsinki</td>\n",
       "      <td>£504Th.</td>\n",
       "      <td>in</td>\n",
       "      <td>0.504</td>\n",
       "      <td>2017</td>\n",
       "      <td>1</td>\n",
       "      <td>2</td>\n",
       "      <td>NaN</td>\n",
       "      <td>[]</td>\n",
       "      <td>0.333374</td>\n",
       "    </tr>\n",
       "    <tr>\n",
       "      <th>3</th>\n",
       "      <td>Barnsley FC</td>\n",
       "      <td>Aapo Halme</td>\n",
       "      <td>21.0</td>\n",
       "      <td>Centre-Back</td>\n",
       "      <td>Leeds</td>\n",
       "      <td>£203Th.</td>\n",
       "      <td>in</td>\n",
       "      <td>0.203</td>\n",
       "      <td>2019</td>\n",
       "      <td>2</td>\n",
       "      <td>2</td>\n",
       "      <td>1.0</td>\n",
       "      <td>[Jacob Burns]</td>\n",
       "      <td>0.108584</td>\n",
       "    </tr>\n",
       "    <tr>\n",
       "      <th>4</th>\n",
       "      <td>Bristol City</td>\n",
       "      <td>Aaron Amadi-Holloway</td>\n",
       "      <td>18.0</td>\n",
       "      <td>Centre-Forward</td>\n",
       "      <td>Bristol City U18</td>\n",
       "      <td>-</td>\n",
       "      <td>in</td>\n",
       "      <td>0.000</td>\n",
       "      <td>2011</td>\n",
       "      <td>1</td>\n",
       "      <td>2</td>\n",
       "      <td>NaN</td>\n",
       "      <td>[]</td>\n",
       "      <td>NaN</td>\n",
       "    </tr>\n",
       "  </tbody>\n",
       "</table>\n",
       "</div>"
      ],
      "text/plain": [
       "      club_name           player_name   age            position  \\\n",
       "0     AS Monaco          Aadil Assana  20.0  Defensive Midfield   \n",
       "1     AS Monaco          Aadil Assana  20.0  Defensive Midfield   \n",
       "2  Leeds United            Aapo Halme  19.0         Centre-Back   \n",
       "3   Barnsley FC            Aapo Halme  21.0         Centre-Back   \n",
       "4  Bristol City  Aaron Amadi-Holloway  18.0      Centre-Forward   \n",
       "\n",
       "  club_involved_name                      fee transfer_movement  fee_cleaned  \\\n",
       "0      Clermont Foot  End of loanJun 30, 2013                in        0.000   \n",
       "1          CA Bastia  End of loanJan 20, 2014                in        0.000   \n",
       "2       HJK Helsinki                  £504Th.                in        0.504   \n",
       "3              Leeds                  £203Th.                in        0.203   \n",
       "4   Bristol City U18                        -                in        0.000   \n",
       "\n",
       "   year  num_transfer  max_transfer    k         k_name  adjusted_fee  \n",
       "0  2013             1             2  NaN             []           NaN  \n",
       "1  2013             2             2  0.0             []           NaN  \n",
       "2  2017             1             2  NaN             []      0.333374  \n",
       "3  2019             2             2  1.0  [Jacob Burns]      0.108584  \n",
       "4  2011             1             2  NaN             []           NaN  "
      ]
     },
     "execution_count": 66,
     "metadata": {},
     "output_type": "execute_result"
    }
   ],
   "source": [
    "merge_on = ['club_name', 'player_name', 'age', 'transfer_movement', 'fee_cleaned', 'year']\n",
    "perf_eval_table = pd.merge(df, perf_eval_df, on = merge_on, how = 'left')\n",
    "perf_eval_table.head()"
   ]
  },
  {
   "cell_type": "code",
   "execution_count": 61,
   "metadata": {
    "ExecuteTime": {
     "end_time": "2020-12-13T00:23:56.955785Z",
     "start_time": "2020-12-13T00:23:56.883508Z"
    }
   },
   "outputs": [
    {
     "name": "stdout",
     "output_type": "stream",
     "text": [
      "number of observation: 66474\n"
     ]
    },
    {
     "data": {
      "text/html": [
       "<div>\n",
       "<style scoped>\n",
       "    .dataframe tbody tr th:only-of-type {\n",
       "        vertical-align: middle;\n",
       "    }\n",
       "\n",
       "    .dataframe tbody tr th {\n",
       "        vertical-align: top;\n",
       "    }\n",
       "\n",
       "    .dataframe thead th {\n",
       "        text-align: right;\n",
       "    }\n",
       "</style>\n",
       "<table border=\"1\" class=\"dataframe\">\n",
       "  <thead>\n",
       "    <tr style=\"text-align: right;\">\n",
       "      <th></th>\n",
       "      <th>club_name</th>\n",
       "      <th>player_name</th>\n",
       "      <th>age</th>\n",
       "      <th>position_x</th>\n",
       "      <th>club_involved_name_x</th>\n",
       "      <th>fee</th>\n",
       "      <th>transfer_movement</th>\n",
       "      <th>fee_cleaned</th>\n",
       "      <th>year</th>\n",
       "      <th>num_transfer</th>\n",
       "      <th>max_transfer</th>\n",
       "      <th>k</th>\n",
       "      <th>k_name</th>\n",
       "      <th>position_y</th>\n",
       "      <th>club_involved_name_y</th>\n",
       "      <th>adjusted_fee</th>\n",
       "    </tr>\n",
       "  </thead>\n",
       "  <tbody>\n",
       "    <tr>\n",
       "      <th>0</th>\n",
       "      <td>AS Monaco</td>\n",
       "      <td>Aadil Assana</td>\n",
       "      <td>20.0</td>\n",
       "      <td>Defensive Midfield</td>\n",
       "      <td>Clermont Foot</td>\n",
       "      <td>End of loanJun 30, 2013</td>\n",
       "      <td>in</td>\n",
       "      <td>0.000</td>\n",
       "      <td>2013</td>\n",
       "      <td>1</td>\n",
       "      <td>2</td>\n",
       "      <td>NaN</td>\n",
       "      <td>[]</td>\n",
       "      <td>NaN</td>\n",
       "      <td>NaN</td>\n",
       "      <td>NaN</td>\n",
       "    </tr>\n",
       "    <tr>\n",
       "      <th>1</th>\n",
       "      <td>AS Monaco</td>\n",
       "      <td>Aadil Assana</td>\n",
       "      <td>20.0</td>\n",
       "      <td>Defensive Midfield</td>\n",
       "      <td>CA Bastia</td>\n",
       "      <td>End of loanJan 20, 2014</td>\n",
       "      <td>in</td>\n",
       "      <td>0.000</td>\n",
       "      <td>2013</td>\n",
       "      <td>2</td>\n",
       "      <td>2</td>\n",
       "      <td>0.0</td>\n",
       "      <td>[]</td>\n",
       "      <td>NaN</td>\n",
       "      <td>NaN</td>\n",
       "      <td>NaN</td>\n",
       "    </tr>\n",
       "    <tr>\n",
       "      <th>2</th>\n",
       "      <td>Leeds United</td>\n",
       "      <td>Aapo Halme</td>\n",
       "      <td>19.0</td>\n",
       "      <td>Centre-Back</td>\n",
       "      <td>HJK Helsinki</td>\n",
       "      <td>£504Th.</td>\n",
       "      <td>in</td>\n",
       "      <td>0.504</td>\n",
       "      <td>2017</td>\n",
       "      <td>1</td>\n",
       "      <td>2</td>\n",
       "      <td>NaN</td>\n",
       "      <td>[]</td>\n",
       "      <td>Centre-Back</td>\n",
       "      <td>HJK Helsinki</td>\n",
       "      <td>0.333374</td>\n",
       "    </tr>\n",
       "    <tr>\n",
       "      <th>3</th>\n",
       "      <td>Barnsley FC</td>\n",
       "      <td>Aapo Halme</td>\n",
       "      <td>21.0</td>\n",
       "      <td>Centre-Back</td>\n",
       "      <td>Leeds</td>\n",
       "      <td>£203Th.</td>\n",
       "      <td>in</td>\n",
       "      <td>0.203</td>\n",
       "      <td>2019</td>\n",
       "      <td>2</td>\n",
       "      <td>2</td>\n",
       "      <td>1.0</td>\n",
       "      <td>[Jacob Burns]</td>\n",
       "      <td>Centre-Back</td>\n",
       "      <td>Leeds</td>\n",
       "      <td>0.108584</td>\n",
       "    </tr>\n",
       "    <tr>\n",
       "      <th>4</th>\n",
       "      <td>Bristol City</td>\n",
       "      <td>Aaron Amadi-Holloway</td>\n",
       "      <td>18.0</td>\n",
       "      <td>Centre-Forward</td>\n",
       "      <td>Bristol City U18</td>\n",
       "      <td>-</td>\n",
       "      <td>in</td>\n",
       "      <td>0.000</td>\n",
       "      <td>2011</td>\n",
       "      <td>1</td>\n",
       "      <td>2</td>\n",
       "      <td>NaN</td>\n",
       "      <td>[]</td>\n",
       "      <td>NaN</td>\n",
       "      <td>NaN</td>\n",
       "      <td>NaN</td>\n",
       "    </tr>\n",
       "  </tbody>\n",
       "</table>\n",
       "</div>"
      ],
      "text/plain": [
       "      club_name           player_name   age          position_x  \\\n",
       "0     AS Monaco          Aadil Assana  20.0  Defensive Midfield   \n",
       "1     AS Monaco          Aadil Assana  20.0  Defensive Midfield   \n",
       "2  Leeds United            Aapo Halme  19.0         Centre-Back   \n",
       "3   Barnsley FC            Aapo Halme  21.0         Centre-Back   \n",
       "4  Bristol City  Aaron Amadi-Holloway  18.0      Centre-Forward   \n",
       "\n",
       "  club_involved_name_x                      fee transfer_movement  \\\n",
       "0        Clermont Foot  End of loanJun 30, 2013                in   \n",
       "1            CA Bastia  End of loanJan 20, 2014                in   \n",
       "2         HJK Helsinki                  £504Th.                in   \n",
       "3                Leeds                  £203Th.                in   \n",
       "4     Bristol City U18                        -                in   \n",
       "\n",
       "   fee_cleaned  year  num_transfer  max_transfer    k         k_name  \\\n",
       "0        0.000  2013             1             2  NaN             []   \n",
       "1        0.000  2013             2             2  0.0             []   \n",
       "2        0.504  2017             1             2  NaN             []   \n",
       "3        0.203  2019             2             2  1.0  [Jacob Burns]   \n",
       "4        0.000  2011             1             2  NaN             []   \n",
       "\n",
       "    position_y club_involved_name_y  adjusted_fee  \n",
       "0          NaN                  NaN           NaN  \n",
       "1          NaN                  NaN           NaN  \n",
       "2  Centre-Back         HJK Helsinki      0.333374  \n",
       "3  Centre-Back                Leeds      0.108584  \n",
       "4          NaN                  NaN           NaN  "
      ]
     },
     "execution_count": 61,
     "metadata": {},
     "output_type": "execute_result"
    }
   ],
   "source": [
    "# only select the players that have at least two transfers to see the improvement\n",
    "target_player = list(perf_eval_table[perf_eval_table['num_transfer'] > 1]['player_name'])\n",
    "\n",
    "perf_eval_table = perf_eval_table[perf_eval_table['player_name'].isin(target_player)]\n",
    "perf_eval_table.reset_index(drop=True, inplace=True)\n",
    "print(f'number of observation: {len(perf_eval_table)}')\n",
    "perf_eval_table.head()"
   ]
  },
  {
   "cell_type": "code",
   "execution_count": 72,
   "metadata": {
    "ExecuteTime": {
     "end_time": "2020-12-13T00:31:36.477253Z",
     "start_time": "2020-12-13T00:31:36.448154Z"
    }
   },
   "outputs": [
    {
     "name": "stdout",
     "output_type": "stream",
     "text": [
      "number of observation: 15673\n"
     ]
    },
    {
     "data": {
      "text/html": [
       "<div>\n",
       "<style scoped>\n",
       "    .dataframe tbody tr th:only-of-type {\n",
       "        vertical-align: middle;\n",
       "    }\n",
       "\n",
       "    .dataframe tbody tr th {\n",
       "        vertical-align: top;\n",
       "    }\n",
       "\n",
       "    .dataframe thead th {\n",
       "        text-align: right;\n",
       "    }\n",
       "</style>\n",
       "<table border=\"1\" class=\"dataframe\">\n",
       "  <thead>\n",
       "    <tr style=\"text-align: right;\">\n",
       "      <th></th>\n",
       "      <th>club_name</th>\n",
       "      <th>player_name</th>\n",
       "      <th>age</th>\n",
       "      <th>position</th>\n",
       "      <th>club_involved_name</th>\n",
       "      <th>fee</th>\n",
       "      <th>transfer_movement</th>\n",
       "      <th>fee_cleaned</th>\n",
       "      <th>year</th>\n",
       "      <th>num_transfer</th>\n",
       "      <th>max_transfer</th>\n",
       "      <th>k</th>\n",
       "      <th>k_name</th>\n",
       "      <th>adjusted_fee</th>\n",
       "    </tr>\n",
       "  </thead>\n",
       "  <tbody>\n",
       "    <tr>\n",
       "      <th>2</th>\n",
       "      <td>Leeds United</td>\n",
       "      <td>Aapo Halme</td>\n",
       "      <td>19.0</td>\n",
       "      <td>Centre-Back</td>\n",
       "      <td>HJK Helsinki</td>\n",
       "      <td>£504Th.</td>\n",
       "      <td>in</td>\n",
       "      <td>0.504</td>\n",
       "      <td>2017</td>\n",
       "      <td>1</td>\n",
       "      <td>2</td>\n",
       "      <td>NaN</td>\n",
       "      <td>[]</td>\n",
       "      <td>0.333374</td>\n",
       "    </tr>\n",
       "    <tr>\n",
       "      <th>3</th>\n",
       "      <td>Barnsley FC</td>\n",
       "      <td>Aapo Halme</td>\n",
       "      <td>21.0</td>\n",
       "      <td>Centre-Back</td>\n",
       "      <td>Leeds</td>\n",
       "      <td>£203Th.</td>\n",
       "      <td>in</td>\n",
       "      <td>0.203</td>\n",
       "      <td>2019</td>\n",
       "      <td>2</td>\n",
       "      <td>2</td>\n",
       "      <td>1.0</td>\n",
       "      <td>[Jacob Burns]</td>\n",
       "      <td>0.108584</td>\n",
       "    </tr>\n",
       "    <tr>\n",
       "      <th>18</th>\n",
       "      <td>Reading FC</td>\n",
       "      <td>Aaron Brown</td>\n",
       "      <td>22.0</td>\n",
       "      <td>Centre-Back</td>\n",
       "      <td>Tamworth</td>\n",
       "      <td>£135Th.</td>\n",
       "      <td>in</td>\n",
       "      <td>0.135</td>\n",
       "      <td>2005</td>\n",
       "      <td>6</td>\n",
       "      <td>9</td>\n",
       "      <td>1.0</td>\n",
       "      <td>[Leroy Lita]</td>\n",
       "      <td>0.067819</td>\n",
       "    </tr>\n",
       "    <tr>\n",
       "      <th>26</th>\n",
       "      <td>Wolverhampton Wanderers</td>\n",
       "      <td>Aaron Collins</td>\n",
       "      <td>18.0</td>\n",
       "      <td>Centre-Forward</td>\n",
       "      <td>Newport County</td>\n",
       "      <td>£69Th.</td>\n",
       "      <td>in</td>\n",
       "      <td>0.069</td>\n",
       "      <td>2015</td>\n",
       "      <td>1</td>\n",
       "      <td>6</td>\n",
       "      <td>NaN</td>\n",
       "      <td>[]</td>\n",
       "      <td>0.054110</td>\n",
       "    </tr>\n",
       "    <tr>\n",
       "      <th>33</th>\n",
       "      <td>Ipswich Town</td>\n",
       "      <td>Aaron Cresswell</td>\n",
       "      <td>21.0</td>\n",
       "      <td>Left-Back</td>\n",
       "      <td>Tranmere Rovers</td>\n",
       "      <td>£248Th.</td>\n",
       "      <td>in</td>\n",
       "      <td>0.248</td>\n",
       "      <td>2011</td>\n",
       "      <td>1</td>\n",
       "      <td>2</td>\n",
       "      <td>NaN</td>\n",
       "      <td>[]</td>\n",
       "      <td>0.132654</td>\n",
       "    </tr>\n",
       "  </tbody>\n",
       "</table>\n",
       "</div>"
      ],
      "text/plain": [
       "                  club_name      player_name   age        position  \\\n",
       "2              Leeds United       Aapo Halme  19.0     Centre-Back   \n",
       "3               Barnsley FC       Aapo Halme  21.0     Centre-Back   \n",
       "18               Reading FC      Aaron Brown  22.0     Centre-Back   \n",
       "26  Wolverhampton Wanderers    Aaron Collins  18.0  Centre-Forward   \n",
       "33             Ipswich Town  Aaron Cresswell  21.0       Left-Back   \n",
       "\n",
       "   club_involved_name      fee transfer_movement  fee_cleaned  year  \\\n",
       "2        HJK Helsinki  £504Th.                in        0.504  2017   \n",
       "3               Leeds  £203Th.                in        0.203  2019   \n",
       "18           Tamworth  £135Th.                in        0.135  2005   \n",
       "26     Newport County   £69Th.                in        0.069  2015   \n",
       "33    Tranmere Rovers  £248Th.                in        0.248  2011   \n",
       "\n",
       "    num_transfer  max_transfer    k         k_name  adjusted_fee  \n",
       "2              1             2  NaN             []      0.333374  \n",
       "3              2             2  1.0  [Jacob Burns]      0.108584  \n",
       "18             6             9  1.0   [Leroy Lita]      0.067819  \n",
       "26             1             6  NaN             []      0.054110  \n",
       "33             1             2  NaN             []      0.132654  "
      ]
     },
     "execution_count": 72,
     "metadata": {},
     "output_type": "execute_result"
    }
   ],
   "source": [
    "# only select transfers that include money transfer\n",
    "perf_eval_table = perf_eval_table[perf_eval_table['adjusted_fee'].notna()]\n",
    "print(f'number of observation: {len(perf_eval_table)}')\n",
    "perf_eval_table.head()"
   ]
  },
  {
   "cell_type": "code",
   "execution_count": 73,
   "metadata": {
    "ExecuteTime": {
     "end_time": "2020-12-13T00:32:09.100893Z",
     "start_time": "2020-12-13T00:32:09.068053Z"
    }
   },
   "outputs": [],
   "source": [
    "# change in fee as a proxy of performance --> `perf_change`\n",
    "perf_eval_table['perf_change'] = perf_eval_table.groupby('player_name')['fee_cleaned'].pct_change()"
   ]
  },
  {
   "cell_type": "code",
   "execution_count": 74,
   "metadata": {
    "ExecuteTime": {
     "end_time": "2020-12-13T00:33:24.580074Z",
     "start_time": "2020-12-13T00:33:24.554601Z"
    }
   },
   "outputs": [],
   "source": [
    "# change in adjusted fee as a proxy of performance --> `perf_change_adjusted`\n",
    "group = perf_eval_table.groupby('player_name')\n",
    "perf_eval_table['perf_change_adjusted'] = group['adjusted_fee'].pct_change()"
   ]
  },
  {
   "cell_type": "code",
   "execution_count": 76,
   "metadata": {
    "ExecuteTime": {
     "end_time": "2020-12-13T01:00:42.215391Z",
     "start_time": "2020-12-13T01:00:42.181561Z"
    }
   },
   "outputs": [
    {
     "data": {
      "text/html": [
       "<div>\n",
       "<style scoped>\n",
       "    .dataframe tbody tr th:only-of-type {\n",
       "        vertical-align: middle;\n",
       "    }\n",
       "\n",
       "    .dataframe tbody tr th {\n",
       "        vertical-align: top;\n",
       "    }\n",
       "\n",
       "    .dataframe thead th {\n",
       "        text-align: right;\n",
       "    }\n",
       "</style>\n",
       "<table border=\"1\" class=\"dataframe\">\n",
       "  <thead>\n",
       "    <tr style=\"text-align: right;\">\n",
       "      <th></th>\n",
       "      <th>club_name</th>\n",
       "      <th>player_name</th>\n",
       "      <th>age</th>\n",
       "      <th>position</th>\n",
       "      <th>club_involved_name</th>\n",
       "      <th>fee</th>\n",
       "      <th>transfer_movement</th>\n",
       "      <th>fee_cleaned</th>\n",
       "      <th>year</th>\n",
       "      <th>num_transfer</th>\n",
       "      <th>max_transfer</th>\n",
       "      <th>k</th>\n",
       "      <th>k_name</th>\n",
       "      <th>adjusted_fee</th>\n",
       "      <th>perf_change</th>\n",
       "      <th>perf_change_adjusted</th>\n",
       "    </tr>\n",
       "  </thead>\n",
       "  <tbody>\n",
       "    <tr>\n",
       "      <th>2</th>\n",
       "      <td>Leeds United</td>\n",
       "      <td>Aapo Halme</td>\n",
       "      <td>19.0</td>\n",
       "      <td>Centre-Back</td>\n",
       "      <td>HJK Helsinki</td>\n",
       "      <td>£504Th.</td>\n",
       "      <td>in</td>\n",
       "      <td>0.504</td>\n",
       "      <td>2017</td>\n",
       "      <td>1</td>\n",
       "      <td>2</td>\n",
       "      <td>NaN</td>\n",
       "      <td>[]</td>\n",
       "      <td>0.333374</td>\n",
       "      <td>NaN</td>\n",
       "      <td>NaN</td>\n",
       "    </tr>\n",
       "    <tr>\n",
       "      <th>3</th>\n",
       "      <td>Barnsley FC</td>\n",
       "      <td>Aapo Halme</td>\n",
       "      <td>21.0</td>\n",
       "      <td>Centre-Back</td>\n",
       "      <td>Leeds</td>\n",
       "      <td>£203Th.</td>\n",
       "      <td>in</td>\n",
       "      <td>0.203</td>\n",
       "      <td>2019</td>\n",
       "      <td>2</td>\n",
       "      <td>2</td>\n",
       "      <td>1.0</td>\n",
       "      <td>[Jacob Burns]</td>\n",
       "      <td>0.108584</td>\n",
       "      <td>-0.597222</td>\n",
       "      <td>-0.674288</td>\n",
       "    </tr>\n",
       "    <tr>\n",
       "      <th>18</th>\n",
       "      <td>Reading FC</td>\n",
       "      <td>Aaron Brown</td>\n",
       "      <td>22.0</td>\n",
       "      <td>Centre-Back</td>\n",
       "      <td>Tamworth</td>\n",
       "      <td>£135Th.</td>\n",
       "      <td>in</td>\n",
       "      <td>0.135</td>\n",
       "      <td>2005</td>\n",
       "      <td>6</td>\n",
       "      <td>9</td>\n",
       "      <td>1.0</td>\n",
       "      <td>[Leroy Lita]</td>\n",
       "      <td>0.067819</td>\n",
       "      <td>NaN</td>\n",
       "      <td>NaN</td>\n",
       "    </tr>\n",
       "    <tr>\n",
       "      <th>26</th>\n",
       "      <td>Wolverhampton Wanderers</td>\n",
       "      <td>Aaron Collins</td>\n",
       "      <td>18.0</td>\n",
       "      <td>Centre-Forward</td>\n",
       "      <td>Newport County</td>\n",
       "      <td>£69Th.</td>\n",
       "      <td>in</td>\n",
       "      <td>0.069</td>\n",
       "      <td>2015</td>\n",
       "      <td>1</td>\n",
       "      <td>6</td>\n",
       "      <td>NaN</td>\n",
       "      <td>[]</td>\n",
       "      <td>0.054110</td>\n",
       "      <td>NaN</td>\n",
       "      <td>NaN</td>\n",
       "    </tr>\n",
       "    <tr>\n",
       "      <th>33</th>\n",
       "      <td>Ipswich Town</td>\n",
       "      <td>Aaron Cresswell</td>\n",
       "      <td>21.0</td>\n",
       "      <td>Left-Back</td>\n",
       "      <td>Tranmere Rovers</td>\n",
       "      <td>£248Th.</td>\n",
       "      <td>in</td>\n",
       "      <td>0.248</td>\n",
       "      <td>2011</td>\n",
       "      <td>1</td>\n",
       "      <td>2</td>\n",
       "      <td>NaN</td>\n",
       "      <td>[]</td>\n",
       "      <td>0.132654</td>\n",
       "      <td>NaN</td>\n",
       "      <td>NaN</td>\n",
       "    </tr>\n",
       "    <tr>\n",
       "      <th>...</th>\n",
       "      <td>...</td>\n",
       "      <td>...</td>\n",
       "      <td>...</td>\n",
       "      <td>...</td>\n",
       "      <td>...</td>\n",
       "      <td>...</td>\n",
       "      <td>...</td>\n",
       "      <td>...</td>\n",
       "      <td>...</td>\n",
       "      <td>...</td>\n",
       "      <td>...</td>\n",
       "      <td>...</td>\n",
       "      <td>...</td>\n",
       "      <td>...</td>\n",
       "      <td>...</td>\n",
       "      <td>...</td>\n",
       "    </tr>\n",
       "    <tr>\n",
       "      <th>78794</th>\n",
       "      <td>Alania Vladikavkaz</td>\n",
       "      <td>Zurab Menteshashvili</td>\n",
       "      <td>22.0</td>\n",
       "      <td>Central Midfield</td>\n",
       "      <td>Skonto Riga</td>\n",
       "      <td>£180k</td>\n",
       "      <td>in</td>\n",
       "      <td>0.180</td>\n",
       "      <td>2002</td>\n",
       "      <td>1</td>\n",
       "      <td>2</td>\n",
       "      <td>NaN</td>\n",
       "      <td>[]</td>\n",
       "      <td>0.090426</td>\n",
       "      <td>NaN</td>\n",
       "      <td>NaN</td>\n",
       "    </tr>\n",
       "    <tr>\n",
       "      <th>78804</th>\n",
       "      <td>VfL Wolfsburg</td>\n",
       "      <td>Zvjezdan Misimovic</td>\n",
       "      <td>26.0</td>\n",
       "      <td>Attacking Midfield</td>\n",
       "      <td>1.FC Nuremberg</td>\n",
       "      <td>£3.60m</td>\n",
       "      <td>in</td>\n",
       "      <td>3.600</td>\n",
       "      <td>2008</td>\n",
       "      <td>3</td>\n",
       "      <td>4</td>\n",
       "      <td>0.0</td>\n",
       "      <td>[]</td>\n",
       "      <td>1.722852</td>\n",
       "      <td>NaN</td>\n",
       "      <td>NaN</td>\n",
       "    </tr>\n",
       "    <tr>\n",
       "      <th>78805</th>\n",
       "      <td>Dinamo Moscow</td>\n",
       "      <td>Zvjezdan Misimovic</td>\n",
       "      <td>28.0</td>\n",
       "      <td>Attacking Midfield</td>\n",
       "      <td>Galatasaray</td>\n",
       "      <td>£4.05m</td>\n",
       "      <td>in</td>\n",
       "      <td>4.050</td>\n",
       "      <td>2010</td>\n",
       "      <td>4</td>\n",
       "      <td>4</td>\n",
       "      <td>0.0</td>\n",
       "      <td>[]</td>\n",
       "      <td>2.122770</td>\n",
       "      <td>0.125000</td>\n",
       "      <td>0.232125</td>\n",
       "    </tr>\n",
       "    <tr>\n",
       "      <th>78808</th>\n",
       "      <td>VfB Stuttgart</td>\n",
       "      <td>Zvonimir Soldo</td>\n",
       "      <td>28.0</td>\n",
       "      <td>Defensive Midfield</td>\n",
       "      <td>Croatia Zagreb</td>\n",
       "      <td>£900Th.</td>\n",
       "      <td>in</td>\n",
       "      <td>0.900</td>\n",
       "      <td>1996</td>\n",
       "      <td>1</td>\n",
       "      <td>1</td>\n",
       "      <td>NaN</td>\n",
       "      <td>[]</td>\n",
       "      <td>0.471727</td>\n",
       "      <td>NaN</td>\n",
       "      <td>NaN</td>\n",
       "    </tr>\n",
       "    <tr>\n",
       "      <th>78811</th>\n",
       "      <td>Bayer 04 Leverkusen</td>\n",
       "      <td>Zvonko Pamic</td>\n",
       "      <td>19.0</td>\n",
       "      <td>Central Midfield</td>\n",
       "      <td>HNK Rijeka</td>\n",
       "      <td>£450Th.</td>\n",
       "      <td>in</td>\n",
       "      <td>0.450</td>\n",
       "      <td>2010</td>\n",
       "      <td>1</td>\n",
       "      <td>5</td>\n",
       "      <td>NaN</td>\n",
       "      <td>[]</td>\n",
       "      <td>0.297656</td>\n",
       "      <td>NaN</td>\n",
       "      <td>NaN</td>\n",
       "    </tr>\n",
       "  </tbody>\n",
       "</table>\n",
       "<p>15673 rows × 16 columns</p>\n",
       "</div>"
      ],
      "text/plain": [
       "                     club_name           player_name   age  \\\n",
       "2                 Leeds United            Aapo Halme  19.0   \n",
       "3                  Barnsley FC            Aapo Halme  21.0   \n",
       "18                  Reading FC           Aaron Brown  22.0   \n",
       "26     Wolverhampton Wanderers         Aaron Collins  18.0   \n",
       "33                Ipswich Town       Aaron Cresswell  21.0   \n",
       "...                        ...                   ...   ...   \n",
       "78794       Alania Vladikavkaz  Zurab Menteshashvili  22.0   \n",
       "78804            VfL Wolfsburg    Zvjezdan Misimovic  26.0   \n",
       "78805            Dinamo Moscow    Zvjezdan Misimovic  28.0   \n",
       "78808            VfB Stuttgart        Zvonimir Soldo  28.0   \n",
       "78811      Bayer 04 Leverkusen          Zvonko Pamic  19.0   \n",
       "\n",
       "                 position club_involved_name      fee transfer_movement  \\\n",
       "2             Centre-Back       HJK Helsinki  £504Th.                in   \n",
       "3             Centre-Back              Leeds  £203Th.                in   \n",
       "18            Centre-Back           Tamworth  £135Th.                in   \n",
       "26         Centre-Forward     Newport County   £69Th.                in   \n",
       "33              Left-Back    Tranmere Rovers  £248Th.                in   \n",
       "...                   ...                ...      ...               ...   \n",
       "78794    Central Midfield        Skonto Riga    £180k                in   \n",
       "78804  Attacking Midfield     1.FC Nuremberg   £3.60m                in   \n",
       "78805  Attacking Midfield        Galatasaray   £4.05m                in   \n",
       "78808  Defensive Midfield     Croatia Zagreb  £900Th.                in   \n",
       "78811    Central Midfield         HNK Rijeka  £450Th.                in   \n",
       "\n",
       "       fee_cleaned  year  num_transfer  max_transfer    k         k_name  \\\n",
       "2            0.504  2017             1             2  NaN             []   \n",
       "3            0.203  2019             2             2  1.0  [Jacob Burns]   \n",
       "18           0.135  2005             6             9  1.0   [Leroy Lita]   \n",
       "26           0.069  2015             1             6  NaN             []   \n",
       "33           0.248  2011             1             2  NaN             []   \n",
       "...            ...   ...           ...           ...  ...            ...   \n",
       "78794        0.180  2002             1             2  NaN             []   \n",
       "78804        3.600  2008             3             4  0.0             []   \n",
       "78805        4.050  2010             4             4  0.0             []   \n",
       "78808        0.900  1996             1             1  NaN             []   \n",
       "78811        0.450  2010             1             5  NaN             []   \n",
       "\n",
       "       adjusted_fee  perf_change  perf_change_adjusted  \n",
       "2          0.333374          NaN                   NaN  \n",
       "3          0.108584    -0.597222             -0.674288  \n",
       "18         0.067819          NaN                   NaN  \n",
       "26         0.054110          NaN                   NaN  \n",
       "33         0.132654          NaN                   NaN  \n",
       "...             ...          ...                   ...  \n",
       "78794      0.090426          NaN                   NaN  \n",
       "78804      1.722852          NaN                   NaN  \n",
       "78805      2.122770     0.125000              0.232125  \n",
       "78808      0.471727          NaN                   NaN  \n",
       "78811      0.297656          NaN                   NaN  \n",
       "\n",
       "[15673 rows x 16 columns]"
      ]
     },
     "execution_count": 76,
     "metadata": {},
     "output_type": "execute_result"
    }
   ],
   "source": [
    "perf_eval_table"
   ]
  },
  {
   "cell_type": "code",
   "execution_count": 77,
   "metadata": {
    "ExecuteTime": {
     "end_time": "2020-12-13T01:10:24.361632Z",
     "start_time": "2020-12-13T01:10:24.348009Z"
    }
   },
   "outputs": [
    {
     "data": {
      "text/html": [
       "<div>\n",
       "<style scoped>\n",
       "    .dataframe tbody tr th:only-of-type {\n",
       "        vertical-align: middle;\n",
       "    }\n",
       "\n",
       "    .dataframe tbody tr th {\n",
       "        vertical-align: top;\n",
       "    }\n",
       "\n",
       "    .dataframe thead th {\n",
       "        text-align: right;\n",
       "    }\n",
       "</style>\n",
       "<table border=\"1\" class=\"dataframe\">\n",
       "  <thead>\n",
       "    <tr style=\"text-align: right;\">\n",
       "      <th></th>\n",
       "      <th>k</th>\n",
       "      <th>perf_change</th>\n",
       "      <th>perf_change_adjusted</th>\n",
       "    </tr>\n",
       "  </thead>\n",
       "  <tbody>\n",
       "    <tr>\n",
       "      <th>3</th>\n",
       "      <td>1.0</td>\n",
       "      <td>-0.597222</td>\n",
       "      <td>-0.674288</td>\n",
       "    </tr>\n",
       "    <tr>\n",
       "      <th>34</th>\n",
       "      <td>1.0</td>\n",
       "      <td>16.258065</td>\n",
       "      <td>14.239675</td>\n",
       "    </tr>\n",
       "    <tr>\n",
       "      <th>48</th>\n",
       "      <td>1.0</td>\n",
       "      <td>0.000000</td>\n",
       "      <td>0.051844</td>\n",
       "    </tr>\n",
       "    <tr>\n",
       "      <th>63</th>\n",
       "      <td>25.0</td>\n",
       "      <td>4.000000</td>\n",
       "      <td>2.341844</td>\n",
       "    </tr>\n",
       "    <tr>\n",
       "      <th>64</th>\n",
       "      <td>1.0</td>\n",
       "      <td>-0.716667</td>\n",
       "      <td>-0.656150</td>\n",
       "    </tr>\n",
       "  </tbody>\n",
       "</table>\n",
       "</div>"
      ],
      "text/plain": [
       "       k  perf_change  perf_change_adjusted\n",
       "3    1.0    -0.597222             -0.674288\n",
       "34   1.0    16.258065             14.239675\n",
       "48   1.0     0.000000              0.051844\n",
       "63  25.0     4.000000              2.341844\n",
       "64   1.0    -0.716667             -0.656150"
      ]
     },
     "execution_count": 77,
     "metadata": {},
     "output_type": "execute_result"
    }
   ],
   "source": [
    "# get `k-perf` table\n",
    "k_perf = perf_eval_table[['k', 'perf_change', 'perf_change_adjusted']].dropna()\n",
    "k_perf.head()"
   ]
  },
  {
   "cell_type": "code",
   "execution_count": 83,
   "metadata": {
    "ExecuteTime": {
     "end_time": "2020-12-13T01:15:21.525341Z",
     "start_time": "2020-12-13T01:15:21.516866Z"
    }
   },
   "outputs": [],
   "source": [
    "# get average fee change per k\n",
    "k_perf_plot = pd.DataFrame(\n",
    "    k_perf.groupby('k')['perf_change_adjusted'].agg(['median',\n",
    "                                                     'count'])).reset_index()\n",
    "# use the same k-threshold as homophily analysis\n",
    "xmax = 6\n",
    "k_perf_plot = k_perf_plot[k_perf_plot['k'] <= xmax]"
   ]
  },
  {
   "cell_type": "code",
   "execution_count": 84,
   "metadata": {
    "ExecuteTime": {
     "end_time": "2020-12-13T01:15:25.338328Z",
     "start_time": "2020-12-13T01:15:25.328826Z"
    }
   },
   "outputs": [
    {
     "data": {
      "text/html": [
       "<div>\n",
       "<style scoped>\n",
       "    .dataframe tbody tr th:only-of-type {\n",
       "        vertical-align: middle;\n",
       "    }\n",
       "\n",
       "    .dataframe tbody tr th {\n",
       "        vertical-align: top;\n",
       "    }\n",
       "\n",
       "    .dataframe thead th {\n",
       "        text-align: right;\n",
       "    }\n",
       "</style>\n",
       "<table border=\"1\" class=\"dataframe\">\n",
       "  <thead>\n",
       "    <tr style=\"text-align: right;\">\n",
       "      <th></th>\n",
       "      <th>k</th>\n",
       "      <th>median</th>\n",
       "      <th>count</th>\n",
       "    </tr>\n",
       "  </thead>\n",
       "  <tbody>\n",
       "    <tr>\n",
       "      <th>0</th>\n",
       "      <td>0.0</td>\n",
       "      <td>0.325797</td>\n",
       "      <td>2862</td>\n",
       "    </tr>\n",
       "    <tr>\n",
       "      <th>1</th>\n",
       "      <td>1.0</td>\n",
       "      <td>0.274839</td>\n",
       "      <td>1218</td>\n",
       "    </tr>\n",
       "    <tr>\n",
       "      <th>2</th>\n",
       "      <td>2.0</td>\n",
       "      <td>0.191991</td>\n",
       "      <td>507</td>\n",
       "    </tr>\n",
       "    <tr>\n",
       "      <th>3</th>\n",
       "      <td>3.0</td>\n",
       "      <td>-0.050725</td>\n",
       "      <td>227</td>\n",
       "    </tr>\n",
       "    <tr>\n",
       "      <th>4</th>\n",
       "      <td>4.0</td>\n",
       "      <td>0.049107</td>\n",
       "      <td>107</td>\n",
       "    </tr>\n",
       "    <tr>\n",
       "      <th>5</th>\n",
       "      <td>5.0</td>\n",
       "      <td>0.017381</td>\n",
       "      <td>49</td>\n",
       "    </tr>\n",
       "    <tr>\n",
       "      <th>6</th>\n",
       "      <td>6.0</td>\n",
       "      <td>-0.231824</td>\n",
       "      <td>32</td>\n",
       "    </tr>\n",
       "  </tbody>\n",
       "</table>\n",
       "</div>"
      ],
      "text/plain": [
       "     k    median  count\n",
       "0  0.0  0.325797   2862\n",
       "1  1.0  0.274839   1218\n",
       "2  2.0  0.191991    507\n",
       "3  3.0 -0.050725    227\n",
       "4  4.0  0.049107    107\n",
       "5  5.0  0.017381     49\n",
       "6  6.0 -0.231824     32"
      ]
     },
     "execution_count": 84,
     "metadata": {},
     "output_type": "execute_result"
    }
   ],
   "source": [
    "k_perf_plot"
   ]
  },
  {
   "cell_type": "code",
   "execution_count": 87,
   "metadata": {
    "ExecuteTime": {
     "end_time": "2020-12-13T01:17:55.338156Z",
     "start_time": "2020-12-13T01:17:54.542698Z"
    }
   },
   "outputs": [
    {
     "data": {
      "text/plain": [
       "Text(0.5, 1.0, 'Performance - Homophily (adjusted)')"
      ]
     },
     "execution_count": 87,
     "metadata": {},
     "output_type": "execute_result"
    },
    {
     "data": {
      "image/png": "[encoded data removed]",
      "text/plain": [
       "<Figure size 864x576 with 1 Axes>"
      ]
     },
     "metadata": {
      "needs_background": "light"
     },
     "output_type": "display_data"
    }
   ],
   "source": [
    "fig = plt.figure(figsize=(12, 8))\n",
    "\n",
    "ax = fig.add_subplot(1, 1, 1)\n",
    "\n",
    "\"\"\"Performance-Homophily with age adjustment\"\"\"\n",
    "ax.plot(k_perf_plot['k'], k_perf_plot['median'], color='black')\n",
    "\n",
    "ax.set_xlabel('Homophily', size=14)\n",
    "ax.set_ylabel('Change in Performance', size=14)\n",
    "ax.set_title('Performance - Homophily (adjusted)', size=16)"
   ]
  },
  {
   "cell_type": "markdown",
   "metadata": {},
   "source": [
    "## Tenure Analysis\n",
    "Data is not sorted properly, tenure analysis cant be done"
   ]
  },
  {
   "cell_type": "code",
   "execution_count": 88,
   "metadata": {
    "ExecuteTime": {
     "end_time": "2020-12-13T01:46:44.043937Z",
     "start_time": "2020-12-13T01:46:44.022821Z"
    }
   },
   "outputs": [
    {
     "data": {
      "text/html": [
       "<div>\n",
       "<style scoped>\n",
       "    .dataframe tbody tr th:only-of-type {\n",
       "        vertical-align: middle;\n",
       "    }\n",
       "\n",
       "    .dataframe tbody tr th {\n",
       "        vertical-align: top;\n",
       "    }\n",
       "\n",
       "    .dataframe thead th {\n",
       "        text-align: right;\n",
       "    }\n",
       "</style>\n",
       "<table border=\"1\" class=\"dataframe\">\n",
       "  <thead>\n",
       "    <tr style=\"text-align: right;\">\n",
       "      <th></th>\n",
       "      <th>club_name</th>\n",
       "      <th>player_name</th>\n",
       "      <th>age</th>\n",
       "      <th>position</th>\n",
       "      <th>club_involved_name</th>\n",
       "      <th>fee</th>\n",
       "      <th>transfer_movement</th>\n",
       "      <th>fee_cleaned</th>\n",
       "      <th>year</th>\n",
       "      <th>num_transfer</th>\n",
       "      <th>max_transfer</th>\n",
       "      <th>k</th>\n",
       "      <th>k_name</th>\n",
       "    </tr>\n",
       "  </thead>\n",
       "  <tbody>\n",
       "    <tr>\n",
       "      <th>0</th>\n",
       "      <td>AS Monaco</td>\n",
       "      <td>Aadil Assana</td>\n",
       "      <td>20.0</td>\n",
       "      <td>Defensive Midfield</td>\n",
       "      <td>Clermont Foot</td>\n",
       "      <td>End of loanJun 30, 2013</td>\n",
       "      <td>in</td>\n",
       "      <td>0.000</td>\n",
       "      <td>2013</td>\n",
       "      <td>1</td>\n",
       "      <td>2</td>\n",
       "      <td>NaN</td>\n",
       "      <td>[]</td>\n",
       "    </tr>\n",
       "    <tr>\n",
       "      <th>1</th>\n",
       "      <td>AS Monaco</td>\n",
       "      <td>Aadil Assana</td>\n",
       "      <td>20.0</td>\n",
       "      <td>Defensive Midfield</td>\n",
       "      <td>CA Bastia</td>\n",
       "      <td>End of loanJan 20, 2014</td>\n",
       "      <td>in</td>\n",
       "      <td>0.000</td>\n",
       "      <td>2013</td>\n",
       "      <td>2</td>\n",
       "      <td>2</td>\n",
       "      <td>0.0</td>\n",
       "      <td>[]</td>\n",
       "    </tr>\n",
       "    <tr>\n",
       "      <th>2</th>\n",
       "      <td>Leeds United</td>\n",
       "      <td>Aapo Halme</td>\n",
       "      <td>19.0</td>\n",
       "      <td>Centre-Back</td>\n",
       "      <td>HJK Helsinki</td>\n",
       "      <td>£504Th.</td>\n",
       "      <td>in</td>\n",
       "      <td>0.504</td>\n",
       "      <td>2017</td>\n",
       "      <td>1</td>\n",
       "      <td>2</td>\n",
       "      <td>NaN</td>\n",
       "      <td>[]</td>\n",
       "    </tr>\n",
       "    <tr>\n",
       "      <th>3</th>\n",
       "      <td>Barnsley FC</td>\n",
       "      <td>Aapo Halme</td>\n",
       "      <td>21.0</td>\n",
       "      <td>Centre-Back</td>\n",
       "      <td>Leeds</td>\n",
       "      <td>£203Th.</td>\n",
       "      <td>in</td>\n",
       "      <td>0.203</td>\n",
       "      <td>2019</td>\n",
       "      <td>2</td>\n",
       "      <td>2</td>\n",
       "      <td>1.0</td>\n",
       "      <td>[Jacob Burns]</td>\n",
       "    </tr>\n",
       "    <tr>\n",
       "      <th>4</th>\n",
       "      <td>Bristol City</td>\n",
       "      <td>Aaron Amadi-Holloway</td>\n",
       "      <td>18.0</td>\n",
       "      <td>Centre-Forward</td>\n",
       "      <td>Bristol City U18</td>\n",
       "      <td>-</td>\n",
       "      <td>in</td>\n",
       "      <td>0.000</td>\n",
       "      <td>2011</td>\n",
       "      <td>1</td>\n",
       "      <td>2</td>\n",
       "      <td>NaN</td>\n",
       "      <td>[]</td>\n",
       "    </tr>\n",
       "  </tbody>\n",
       "</table>\n",
       "</div>"
      ],
      "text/plain": [
       "      club_name           player_name   age            position  \\\n",
       "0     AS Monaco          Aadil Assana  20.0  Defensive Midfield   \n",
       "1     AS Monaco          Aadil Assana  20.0  Defensive Midfield   \n",
       "2  Leeds United            Aapo Halme  19.0         Centre-Back   \n",
       "3   Barnsley FC            Aapo Halme  21.0         Centre-Back   \n",
       "4  Bristol City  Aaron Amadi-Holloway  18.0      Centre-Forward   \n",
       "\n",
       "  club_involved_name                      fee transfer_movement  fee_cleaned  \\\n",
       "0      Clermont Foot  End of loanJun 30, 2013                in        0.000   \n",
       "1          CA Bastia  End of loanJan 20, 2014                in        0.000   \n",
       "2       HJK Helsinki                  £504Th.                in        0.504   \n",
       "3              Leeds                  £203Th.                in        0.203   \n",
       "4   Bristol City U18                        -                in        0.000   \n",
       "\n",
       "   year  num_transfer  max_transfer    k         k_name  \n",
       "0  2013             1             2  NaN             []  \n",
       "1  2013             2             2  0.0             []  \n",
       "2  2017             1             2  NaN             []  \n",
       "3  2019             2             2  1.0  [Jacob Burns]  \n",
       "4  2011             1             2  NaN             []  "
      ]
     },
     "execution_count": 88,
     "metadata": {},
     "output_type": "execute_result"
    }
   ],
   "source": [
    "df.head()"
   ]
  },
  {
   "cell_type": "code",
   "execution_count": 90,
   "metadata": {
    "ExecuteTime": {
     "end_time": "2020-12-13T01:59:44.373974Z",
     "start_time": "2020-12-13T01:49:24.206829Z"
    }
   },
   "outputs": [
    {
     "data": {
      "application/vnd.jupyter.widget-view+json": {
       "model_id": "4ec68ed3348d47c48c94c48b6d735fd6",
       "version_major": 2,
       "version_minor": 0
      },
      "text/plain": [
       "HBox(children=(HTML(value=''), FloatProgress(value=0.0, max=78625.0), HTML(value='')))"
      ]
     },
     "metadata": {},
     "output_type": "display_data"
    },
    {
     "name": "stdout",
     "output_type": "stream",
     "text": [
      "\n"
     ]
    },
    {
     "data": {
      "text/html": [
       "<div>\n",
       "<style scoped>\n",
       "    .dataframe tbody tr th:only-of-type {\n",
       "        vertical-align: middle;\n",
       "    }\n",
       "\n",
       "    .dataframe tbody tr th {\n",
       "        vertical-align: top;\n",
       "    }\n",
       "\n",
       "    .dataframe thead th {\n",
       "        text-align: right;\n",
       "    }\n",
       "</style>\n",
       "<table border=\"1\" class=\"dataframe\">\n",
       "  <thead>\n",
       "    <tr style=\"text-align: right;\">\n",
       "      <th></th>\n",
       "      <th>club_name</th>\n",
       "      <th>player_name</th>\n",
       "      <th>age</th>\n",
       "      <th>position</th>\n",
       "      <th>club_involved_name</th>\n",
       "      <th>fee</th>\n",
       "      <th>transfer_movement</th>\n",
       "      <th>fee_cleaned</th>\n",
       "      <th>year</th>\n",
       "      <th>num_transfer</th>\n",
       "      <th>max_transfer</th>\n",
       "      <th>k</th>\n",
       "      <th>k_name</th>\n",
       "      <th>num_year_stay</th>\n",
       "    </tr>\n",
       "  </thead>\n",
       "  <tbody>\n",
       "    <tr>\n",
       "      <th>0</th>\n",
       "      <td>AS Monaco</td>\n",
       "      <td>Aadil Assana</td>\n",
       "      <td>20.0</td>\n",
       "      <td>Defensive Midfield</td>\n",
       "      <td>Clermont Foot</td>\n",
       "      <td>End of loanJun 30, 2013</td>\n",
       "      <td>in</td>\n",
       "      <td>0.000</td>\n",
       "      <td>2013</td>\n",
       "      <td>1</td>\n",
       "      <td>2</td>\n",
       "      <td>NaN</td>\n",
       "      <td>[]</td>\n",
       "      <td>0</td>\n",
       "    </tr>\n",
       "    <tr>\n",
       "      <th>1</th>\n",
       "      <td>AS Monaco</td>\n",
       "      <td>Aadil Assana</td>\n",
       "      <td>20.0</td>\n",
       "      <td>Defensive Midfield</td>\n",
       "      <td>CA Bastia</td>\n",
       "      <td>End of loanJan 20, 2014</td>\n",
       "      <td>in</td>\n",
       "      <td>0.000</td>\n",
       "      <td>2013</td>\n",
       "      <td>2</td>\n",
       "      <td>2</td>\n",
       "      <td>0.0</td>\n",
       "      <td>[]</td>\n",
       "      <td>7</td>\n",
       "    </tr>\n",
       "    <tr>\n",
       "      <th>2</th>\n",
       "      <td>Leeds United</td>\n",
       "      <td>Aapo Halme</td>\n",
       "      <td>19.0</td>\n",
       "      <td>Centre-Back</td>\n",
       "      <td>HJK Helsinki</td>\n",
       "      <td>£504Th.</td>\n",
       "      <td>in</td>\n",
       "      <td>0.504</td>\n",
       "      <td>2017</td>\n",
       "      <td>1</td>\n",
       "      <td>2</td>\n",
       "      <td>NaN</td>\n",
       "      <td>[]</td>\n",
       "      <td>2</td>\n",
       "    </tr>\n",
       "    <tr>\n",
       "      <th>3</th>\n",
       "      <td>Barnsley FC</td>\n",
       "      <td>Aapo Halme</td>\n",
       "      <td>21.0</td>\n",
       "      <td>Centre-Back</td>\n",
       "      <td>Leeds</td>\n",
       "      <td>£203Th.</td>\n",
       "      <td>in</td>\n",
       "      <td>0.203</td>\n",
       "      <td>2019</td>\n",
       "      <td>2</td>\n",
       "      <td>2</td>\n",
       "      <td>1.0</td>\n",
       "      <td>[Jacob Burns]</td>\n",
       "      <td>1</td>\n",
       "    </tr>\n",
       "    <tr>\n",
       "      <th>4</th>\n",
       "      <td>Bristol City</td>\n",
       "      <td>Aaron Amadi-Holloway</td>\n",
       "      <td>18.0</td>\n",
       "      <td>Centre-Forward</td>\n",
       "      <td>Bristol City U18</td>\n",
       "      <td>-</td>\n",
       "      <td>in</td>\n",
       "      <td>0.000</td>\n",
       "      <td>2011</td>\n",
       "      <td>1</td>\n",
       "      <td>2</td>\n",
       "      <td>NaN</td>\n",
       "      <td>[]</td>\n",
       "      <td>0</td>\n",
       "    </tr>\n",
       "  </tbody>\n",
       "</table>\n",
       "</div>"
      ],
      "text/plain": [
       "      club_name           player_name   age            position  \\\n",
       "0     AS Monaco          Aadil Assana  20.0  Defensive Midfield   \n",
       "1     AS Monaco          Aadil Assana  20.0  Defensive Midfield   \n",
       "2  Leeds United            Aapo Halme  19.0         Centre-Back   \n",
       "3   Barnsley FC            Aapo Halme  21.0         Centre-Back   \n",
       "4  Bristol City  Aaron Amadi-Holloway  18.0      Centre-Forward   \n",
       "\n",
       "  club_involved_name                      fee transfer_movement  fee_cleaned  \\\n",
       "0      Clermont Foot  End of loanJun 30, 2013                in        0.000   \n",
       "1          CA Bastia  End of loanJan 20, 2014                in        0.000   \n",
       "2       HJK Helsinki                  £504Th.                in        0.504   \n",
       "3              Leeds                  £203Th.                in        0.203   \n",
       "4   Bristol City U18                        -                in        0.000   \n",
       "\n",
       "   year  num_transfer  max_transfer    k         k_name  num_year_stay  \n",
       "0  2013             1             2  NaN             []              0  \n",
       "1  2013             2             2  0.0             []              7  \n",
       "2  2017             1             2  NaN             []              2  \n",
       "3  2019             2             2  1.0  [Jacob Burns]              1  \n",
       "4  2011             1             2  NaN             []              0  "
      ]
     },
     "execution_count": 90,
     "metadata": {},
     "output_type": "execute_result"
    }
   ],
   "source": [
    "# get number of years in the club\n",
    "num_year_stay = []\n",
    "for i in tqdm(range(len(df))):\n",
    "    if df['num_transfer'][i] < df['max_transfer'][i]:\n",
    "        val = df['year'][i + 1] - df['year'][i]\n",
    "        num_year_stay.append(val)\n",
    "    else:\n",
    "        val = max(df['year']) - df['year'][i]\n",
    "        num_year_stay.append(val)\n",
    "df['num_year_stay'] = num_year_stay\n",
    "df.head()"
   ]
  },
  {
   "cell_type": "code",
   "execution_count": null,
   "metadata": {
    "ExecuteTime": {
     "end_time": "2020-12-10T15:22:40.688898Z",
     "start_time": "2020-12-10T15:22:40.683076Z"
    }
   },
   "outputs": [],
   "source": [
    "# average number of year stayed by k\n",
    "for_num_year = df[['num_year_stay', 'k']].dropna()"
   ]
  },
  {
   "cell_type": "code",
   "execution_count": null,
   "metadata": {
    "ExecuteTime": {
     "end_time": "2020-12-10T15:22:41.328967Z",
     "start_time": "2020-12-10T15:22:41.317533Z"
    }
   },
   "outputs": [],
   "source": [
    "num_year_df = pd.DataFrame(\n",
    "    for_num_year.groupby('k')['num_year_stay'].agg(['mean',\n",
    "                                                    'count'])).reset_index()\n",
    "num_year_df.head()"
   ]
  },
  {
   "cell_type": "code",
   "execution_count": null,
   "metadata": {
    "ExecuteTime": {
     "end_time": "2020-12-10T15:22:41.987735Z",
     "start_time": "2020-12-10T15:22:41.973646Z"
    }
   },
   "outputs": [],
   "source": [
    "# get `k-perf` table\n",
    "k_perf = df[['k', 'perf_change', 'perf_change_adjusted']].dropna()\n",
    "k_perf.head()"
   ]
  },
  {
   "cell_type": "code",
   "execution_count": null,
   "metadata": {
    "ExecuteTime": {
     "end_time": "2020-12-10T15:22:42.689592Z",
     "start_time": "2020-12-10T15:22:42.679103Z"
    }
   },
   "outputs": [],
   "source": [
    "k_perf.sort_values(by='k', ascending=False).head()"
   ]
  },
  {
   "cell_type": "code",
   "execution_count": null,
   "metadata": {
    "ExecuteTime": {
     "end_time": "2020-12-10T15:22:43.343638Z",
     "start_time": "2020-12-10T15:22:43.327161Z"
    }
   },
   "outputs": [],
   "source": [
    "pd.DataFrame(k_perf.groupby('k')['perf_change'].agg(['median',\n",
    "                                                     'count'])).reset_index()"
   ]
  },
  {
   "cell_type": "code",
   "execution_count": null,
   "metadata": {
    "ExecuteTime": {
     "end_time": "2020-12-10T15:22:43.987335Z",
     "start_time": "2020-12-10T15:22:43.969358Z"
    }
   },
   "outputs": [],
   "source": [
    "pd.DataFrame(\n",
    "    k_perf.groupby('k')['perf_change_adjusted'].agg(['median',\n",
    "                                                     'count'])).reset_index()"
   ]
  },
  {
   "cell_type": "markdown",
   "metadata": {},
   "source": [
    "#### Visualization"
   ]
  },
  {
   "cell_type": "code",
   "execution_count": null,
   "metadata": {
    "ExecuteTime": {
     "end_time": "2020-12-10T15:23:55.501849Z",
     "start_time": "2020-12-10T15:23:55.467688Z"
    }
   },
   "outputs": [],
   "source": [
    "# get average perf_change by k\n",
    "table = pd.DataFrame(k_perf.groupby('k')['perf_change']\\\n",
    "                     .agg(['mean', 'median', 'mad', 'count'])).reset_index()"
   ]
  },
  {
   "cell_type": "code",
   "execution_count": null,
   "metadata": {
    "ExecuteTime": {
     "end_time": "2020-12-10T15:24:50.614279Z",
     "start_time": "2020-12-10T15:24:50.610452Z"
    }
   },
   "outputs": [],
   "source": [
    "table['pk'] = table['count'] / sum(table['count'])"
   ]
  },
  {
   "cell_type": "code",
   "execution_count": null,
   "metadata": {
    "ExecuteTime": {
     "end_time": "2020-12-10T15:25:15.722556Z",
     "start_time": "2020-12-10T15:25:15.689986Z"
    }
   },
   "outputs": [],
   "source": [
    "# get average perf_change_adjusted by k\n",
    "table2 = pd.DataFrame(k_perf.groupby('k')['perf_change_adjusted']\\\n",
    "                      .agg(['mean', 'median', 'mad', 'count'])).reset_index()"
   ]
  },
  {
   "cell_type": "code",
   "execution_count": null,
   "metadata": {
    "ExecuteTime": {
     "end_time": "2020-12-10T15:25:28.074824Z",
     "start_time": "2020-12-10T15:25:28.071292Z"
    }
   },
   "outputs": [],
   "source": [
    "table2['pk'] = table['count'] / sum(table['count'])"
   ]
  },
  {
   "cell_type": "code",
   "execution_count": null,
   "metadata": {
    "ExecuteTime": {
     "end_time": "2020-12-10T15:25:29.175476Z",
     "start_time": "2020-12-10T15:25:29.171254Z"
    }
   },
   "outputs": [],
   "source": [
    "# get the index where `count` >= 30\n",
    "xmax = max(table[table['count'] >= 30].index)\n",
    "\n",
    "table = table[:xmax + 1]\n",
    "table2 = table2[:xmax + 1]"
   ]
  },
  {
   "cell_type": "code",
   "execution_count": null,
   "metadata": {
    "ExecuteTime": {
     "end_time": "2020-12-10T15:25:30.572249Z",
     "start_time": "2020-12-10T15:25:30.560184Z"
    },
    "scrolled": true
   },
   "outputs": [],
   "source": [
    "# set-up\n",
    "table.rename(columns={'median': 'med_perf_change'}, inplace=True)\n",
    "table"
   ]
  },
  {
   "cell_type": "code",
   "execution_count": null,
   "metadata": {
    "ExecuteTime": {
     "end_time": "2020-12-10T15:25:32.730883Z",
     "start_time": "2020-12-10T15:25:32.710738Z"
    }
   },
   "outputs": [],
   "source": [
    "# set-up\n",
    "table2.rename(columns={'median': 'med_perf_change'}, inplace=True)\n",
    "table2"
   ]
  },
  {
   "cell_type": "code",
   "execution_count": null,
   "metadata": {
    "ExecuteTime": {
     "end_time": "2020-12-10T15:25:37.532744Z",
     "start_time": "2020-12-10T15:25:37.523539Z"
    }
   },
   "outputs": [],
   "source": [
    "# set-up\n",
    "num_year_df = num_year_df[:xmax + 1]\n",
    "num_year_df.rename(columns={'mean': 'average_year_stayed'}, inplace=True)\n",
    "num_year_df"
   ]
  },
  {
   "cell_type": "code",
   "execution_count": null,
   "metadata": {
    "ExecuteTime": {
     "end_time": "2020-12-10T15:26:13.424235Z",
     "start_time": "2020-12-10T15:26:12.850099Z"
    }
   },
   "outputs": [],
   "source": [
    "fig = plt.figure(figsize=(14, 14))\n",
    "\n",
    "ax0 = fig.add_subplot(2, 2, 1)\n",
    "ax1 = fig.add_subplot(2, 2, 2)\n",
    "ax2 = fig.add_subplot(2, 2, 3)\n",
    "ax3 = fig.add_subplot(2, 2, 4)\n",
    "\"\"\"Performance-Homophily without age adjustment\"\"\"\n",
    "ax0.plot(table['k'], table['med_perf_change'], color='black')\n",
    "\n",
    "ax0.set_xlabel('Homophily', size=14)\n",
    "ax0.set_ylabel('Change in Performance', size=14)\n",
    "ax0.set_title('Performance - Homophily', size=16)\n",
    "\n",
    "# get x limit\n",
    "ylim = ax0.get_ylim()\n",
    "\n",
    "# ax0.set_xlim((0,xmax))\n",
    "# ax0.set_ylim((-1,1))\n",
    "\"\"\"Performance-Homophily with age adjustment\"\"\"\n",
    "ax1.plot(table['k'], table2['med_perf_change'], color='black')\n",
    "\n",
    "ax1.set_xlabel('Homophily', size=14)\n",
    "ax1.set_ylabel('Change in Performance', size=14)\n",
    "ax1.set_title('Performance - Homophily (adjusted)', size=16)\n",
    "\n",
    "# ax1.set_xlim((0,xmax))\n",
    "ax1.set_ylim(ylim)\n",
    "\"\"\"Tenure-Homophily\"\"\"\n",
    "ax2.bar(x=num_year_df['k'], height=num_year_df['average_year_stayed'])\n",
    "\n",
    "ax2.set_xlabel('Homophily', size=14)\n",
    "ax2.set_ylabel('Tenure', size=14)\n",
    "ax2.set_title('Tenure - Homophily', size=16)\n",
    "\n",
    "# ax2.set_xlim((-1,xmax))\n",
    "\"\"\"k-count (Homophily)\"\"\"\n",
    "ax3.bar(x=table['k'], height=table['pk'])\n",
    "\n",
    "ax3.set_xlabel('k', size=14)\n",
    "ax3.set_ylabel('pk', size=14)\n",
    "ax3.set_title('k - pk (Homophily)', size=16)\n",
    "\n",
    "plt.show()"
   ]
  },
  {
   "cell_type": "markdown",
   "metadata": {},
   "source": [
    "## Top player similarity analysis"
   ]
  },
  {
   "cell_type": "code",
   "execution_count": 139,
   "metadata": {
    "ExecuteTime": {
     "end_time": "2020-12-13T02:34:43.077187Z",
     "start_time": "2020-12-13T02:34:42.976465Z"
    }
   },
   "outputs": [],
   "source": [
    "rating_df = pd.read_csv(os.path.join(cleaned_data_path, 'player_rating.csv'))"
   ]
  },
  {
   "cell_type": "code",
   "execution_count": 140,
   "metadata": {
    "ExecuteTime": {
     "end_time": "2020-12-13T02:34:45.561756Z",
     "start_time": "2020-12-13T02:34:45.529183Z"
    }
   },
   "outputs": [],
   "source": [
    "rating_eval_df = pd.merge(perf_eval_df,\n",
    "                          rating_df,\n",
    "                          on=['player_name', 'year'],\n",
    "                          how='inner')"
   ]
  },
  {
   "cell_type": "code",
   "execution_count": 143,
   "metadata": {
    "ExecuteTime": {
     "end_time": "2020-12-13T02:35:22.347438Z",
     "start_time": "2020-12-13T02:35:22.326151Z"
    }
   },
   "outputs": [
    {
     "data": {
      "text/html": [
       "<div>\n",
       "<style scoped>\n",
       "    .dataframe tbody tr th:only-of-type {\n",
       "        vertical-align: middle;\n",
       "    }\n",
       "\n",
       "    .dataframe tbody tr th {\n",
       "        vertical-align: top;\n",
       "    }\n",
       "\n",
       "    .dataframe thead th {\n",
       "        text-align: right;\n",
       "    }\n",
       "</style>\n",
       "<table border=\"1\" class=\"dataframe\">\n",
       "  <thead>\n",
       "    <tr style=\"text-align: right;\">\n",
       "      <th></th>\n",
       "      <th>club_name</th>\n",
       "      <th>player_name</th>\n",
       "      <th>age</th>\n",
       "      <th>transfer_movement</th>\n",
       "      <th>fee_cleaned</th>\n",
       "      <th>year</th>\n",
       "      <th>adjusted_fee</th>\n",
       "      <th>overall_rating</th>\n",
       "    </tr>\n",
       "  </thead>\n",
       "  <tbody>\n",
       "    <tr>\n",
       "      <th>0</th>\n",
       "      <td>PSV Eindhoven</td>\n",
       "      <td>Danny Koevermans</td>\n",
       "      <td>28.0</td>\n",
       "      <td>in</td>\n",
       "      <td>6.21</td>\n",
       "      <td>2007</td>\n",
       "      <td>3.254914</td>\n",
       "      <td>70.0</td>\n",
       "    </tr>\n",
       "    <tr>\n",
       "      <th>1</th>\n",
       "      <td>AZ Alkmaar</td>\n",
       "      <td>Danny Koevermans</td>\n",
       "      <td>28.0</td>\n",
       "      <td>out</td>\n",
       "      <td>6.21</td>\n",
       "      <td>2007</td>\n",
       "      <td>3.254914</td>\n",
       "      <td>70.0</td>\n",
       "    </tr>\n",
       "    <tr>\n",
       "      <th>2</th>\n",
       "      <td>PSV Eindhoven</td>\n",
       "      <td>Danko Lazovic</td>\n",
       "      <td>24.0</td>\n",
       "      <td>in</td>\n",
       "      <td>5.40</td>\n",
       "      <td>2007</td>\n",
       "      <td>2.550630</td>\n",
       "      <td>75.5</td>\n",
       "    </tr>\n",
       "    <tr>\n",
       "      <th>3</th>\n",
       "      <td>Vitesse Arnhem</td>\n",
       "      <td>Danko Lazovic</td>\n",
       "      <td>24.0</td>\n",
       "      <td>out</td>\n",
       "      <td>5.40</td>\n",
       "      <td>2007</td>\n",
       "      <td>2.550630</td>\n",
       "      <td>75.5</td>\n",
       "    </tr>\n",
       "    <tr>\n",
       "      <th>4</th>\n",
       "      <td>PSV Eindhoven</td>\n",
       "      <td>Kenneth Perez</td>\n",
       "      <td>32.0</td>\n",
       "      <td>in</td>\n",
       "      <td>0.90</td>\n",
       "      <td>2007</td>\n",
       "      <td>0.831630</td>\n",
       "      <td>77.0</td>\n",
       "    </tr>\n",
       "    <tr>\n",
       "      <th>...</th>\n",
       "      <td>...</td>\n",
       "      <td>...</td>\n",
       "      <td>...</td>\n",
       "      <td>...</td>\n",
       "      <td>...</td>\n",
       "      <td>...</td>\n",
       "      <td>...</td>\n",
       "      <td>...</td>\n",
       "    </tr>\n",
       "    <tr>\n",
       "      <th>8791</th>\n",
       "      <td>Deportivo de La Coruña</td>\n",
       "      <td>Przemyslaw Tyton</td>\n",
       "      <td>29.0</td>\n",
       "      <td>in</td>\n",
       "      <td>0.45</td>\n",
       "      <td>2016</td>\n",
       "      <td>0.255790</td>\n",
       "      <td>76.0</td>\n",
       "    </tr>\n",
       "    <tr>\n",
       "      <th>8792</th>\n",
       "      <td>Real Sociedad</td>\n",
       "      <td>Willian Jose</td>\n",
       "      <td>24.0</td>\n",
       "      <td>in</td>\n",
       "      <td>5.40</td>\n",
       "      <td>2016</td>\n",
       "      <td>2.550630</td>\n",
       "      <td>71.0</td>\n",
       "    </tr>\n",
       "    <tr>\n",
       "      <th>8793</th>\n",
       "      <td>Valencia CF</td>\n",
       "      <td>Nani</td>\n",
       "      <td>29.0</td>\n",
       "      <td>in</td>\n",
       "      <td>7.65</td>\n",
       "      <td>2016</td>\n",
       "      <td>4.348427</td>\n",
       "      <td>82.0</td>\n",
       "    </tr>\n",
       "    <tr>\n",
       "      <th>8794</th>\n",
       "      <td>CA Osasuna</td>\n",
       "      <td>Fran Merida</td>\n",
       "      <td>26.0</td>\n",
       "      <td>in</td>\n",
       "      <td>0.45</td>\n",
       "      <td>2016</td>\n",
       "      <td>0.215357</td>\n",
       "      <td>71.0</td>\n",
       "    </tr>\n",
       "    <tr>\n",
       "      <th>8795</th>\n",
       "      <td>CD Leganés</td>\n",
       "      <td>Erik Moran</td>\n",
       "      <td>25.0</td>\n",
       "      <td>in</td>\n",
       "      <td>0.18</td>\n",
       "      <td>2016</td>\n",
       "      <td>0.084801</td>\n",
       "      <td>70.0</td>\n",
       "    </tr>\n",
       "  </tbody>\n",
       "</table>\n",
       "<p>8796 rows × 8 columns</p>\n",
       "</div>"
      ],
      "text/plain": [
       "                   club_name       player_name   age transfer_movement  \\\n",
       "0              PSV Eindhoven  Danny Koevermans  28.0                in   \n",
       "1                 AZ Alkmaar  Danny Koevermans  28.0               out   \n",
       "2              PSV Eindhoven     Danko Lazovic  24.0                in   \n",
       "3             Vitesse Arnhem     Danko Lazovic  24.0               out   \n",
       "4              PSV Eindhoven     Kenneth Perez  32.0                in   \n",
       "...                      ...               ...   ...               ...   \n",
       "8791  Deportivo de La Coruña  Przemyslaw Tyton  29.0                in   \n",
       "8792           Real Sociedad      Willian Jose  24.0                in   \n",
       "8793             Valencia CF              Nani  29.0                in   \n",
       "8794              CA Osasuna       Fran Merida  26.0                in   \n",
       "8795              CD Leganés        Erik Moran  25.0                in   \n",
       "\n",
       "      fee_cleaned  year  adjusted_fee  overall_rating  \n",
       "0            6.21  2007      3.254914            70.0  \n",
       "1            6.21  2007      3.254914            70.0  \n",
       "2            5.40  2007      2.550630            75.5  \n",
       "3            5.40  2007      2.550630            75.5  \n",
       "4            0.90  2007      0.831630            77.0  \n",
       "...           ...   ...           ...             ...  \n",
       "8791         0.45  2016      0.255790            76.0  \n",
       "8792         5.40  2016      2.550630            71.0  \n",
       "8793         7.65  2016      4.348427            82.0  \n",
       "8794         0.45  2016      0.215357            71.0  \n",
       "8795         0.18  2016      0.084801            70.0  \n",
       "\n",
       "[8796 rows x 8 columns]"
      ]
     },
     "execution_count": 143,
     "metadata": {},
     "output_type": "execute_result"
    }
   ],
   "source": [
    "rating_eval_df"
   ]
  },
  {
   "cell_type": "code",
   "execution_count": 144,
   "metadata": {
    "ExecuteTime": {
     "end_time": "2020-12-13T02:35:37.346222Z",
     "start_time": "2020-12-13T02:35:37.327656Z"
    }
   },
   "outputs": [
    {
     "data": {
      "text/plain": [
       "array(['Angel Di Maria', 'Arjen Robben', 'Arturo Vidal',\n",
       "       'Bastian Schweinsteiger', 'Carlos Tevez', 'Cesc Fabregas',\n",
       "       'Cristiano Ronaldo', 'David Silva', 'David Villa',\n",
       "       'Dimitar Berbatov', 'Eden Hazard', 'Edinson Cavani',\n",
       "       'Ezequiel Lavezzi', 'Fernando Torres', 'Franck Ribery',\n",
       "       'Gabriel Milito', 'Gareth Bale', 'Gonzalo Higuain', 'Hugo Lloris',\n",
       "       'James Rodriguez', 'Juan Mata', 'Luca Toni', 'Lucio',\n",
       "       'Luis Suarez', 'Luka Modric', 'Manuel Neuer', 'Mario Gomez',\n",
       "       'Mats Hummels', 'Miroslav Klose', 'Paul Pogba',\n",
       "       'Rafael van der Vaart', 'Robin van Persie', 'Ronaldinho',\n",
       "       'Roy Makaay', 'Samir Nasri', \"Samuel Eto'o\", 'Sergio Aguero',\n",
       "       'Thiago Silva', 'Thierry Henry', 'Wesley Sneijder', 'Ze Roberto',\n",
       "       'Zlatan Ibrahimovic'], dtype=object)"
      ]
     },
     "execution_count": 144,
     "metadata": {},
     "output_type": "execute_result"
    }
   ],
   "source": [
    "rating_eval_df = pd.DataFrame(\n",
    "    rating_eval_df.groupby(['player_name', 'age'])['overall_rating'].agg('mean'))\n",
    "rating_eval_df.reset_index(inplace=True)\n",
    "top_player_list = rating_eval_df[\n",
    "    rating_eval_df['overall_rating'] > 85]['player_name'].unique()\n",
    "top_player_list"
   ]
  },
  {
   "cell_type": "code",
   "execution_count": 147,
   "metadata": {
    "ExecuteTime": {
     "end_time": "2020-12-13T02:36:45.770002Z",
     "start_time": "2020-12-13T02:36:45.763761Z"
    }
   },
   "outputs": [],
   "source": [
    "top_eval = perf_eval_table[perf_eval_table['player_name'].isin(top_player_list)]"
   ]
  },
  {
   "cell_type": "code",
   "execution_count": 148,
   "metadata": {
    "ExecuteTime": {
     "end_time": "2020-12-13T02:36:48.372869Z",
     "start_time": "2020-12-13T02:36:48.351715Z"
    },
    "scrolled": false
   },
   "outputs": [
    {
     "data": {
      "text/html": [
       "<div>\n",
       "<style scoped>\n",
       "    .dataframe tbody tr th:only-of-type {\n",
       "        vertical-align: middle;\n",
       "    }\n",
       "\n",
       "    .dataframe tbody tr th {\n",
       "        vertical-align: top;\n",
       "    }\n",
       "\n",
       "    .dataframe thead th {\n",
       "        text-align: right;\n",
       "    }\n",
       "</style>\n",
       "<table border=\"1\" class=\"dataframe\">\n",
       "  <thead>\n",
       "    <tr style=\"text-align: right;\">\n",
       "      <th></th>\n",
       "      <th>club_name</th>\n",
       "      <th>player_name</th>\n",
       "      <th>age</th>\n",
       "      <th>year</th>\n",
       "      <th>club_involved_name</th>\n",
       "      <th>adjusted_fee</th>\n",
       "      <th>k</th>\n",
       "      <th>perf_change_adjusted</th>\n",
       "    </tr>\n",
       "  </thead>\n",
       "  <tbody>\n",
       "    <tr>\n",
       "      <th>65516</th>\n",
       "      <td>Deportivo de La Coruña</td>\n",
       "      <td>Roy Makaay</td>\n",
       "      <td>24.0</td>\n",
       "      <td>1999</td>\n",
       "      <td>CD Tenerife</td>\n",
       "      <td>3.655903</td>\n",
       "      <td>1.0</td>\n",
       "      <td>0.347661</td>\n",
       "    </tr>\n",
       "    <tr>\n",
       "      <th>72531</th>\n",
       "      <td>Arsenal FC</td>\n",
       "      <td>Thierry Henry</td>\n",
       "      <td>21.0</td>\n",
       "      <td>1999</td>\n",
       "      <td>Juventus</td>\n",
       "      <td>7.750657</td>\n",
       "      <td>0.0</td>\n",
       "      <td>0.288000</td>\n",
       "    </tr>\n",
       "    <tr>\n",
       "      <th>67114</th>\n",
       "      <td>RCD Mallorca</td>\n",
       "      <td>Samuel Eto'o</td>\n",
       "      <td>18.0</td>\n",
       "      <td>1999</td>\n",
       "      <td>Real Madrid</td>\n",
       "      <td>3.176046</td>\n",
       "      <td>0.0</td>\n",
       "      <td>NaN</td>\n",
       "    </tr>\n",
       "    <tr>\n",
       "      <th>78558</th>\n",
       "      <td>Bayern Munich</td>\n",
       "      <td>Ze Roberto</td>\n",
       "      <td>27.0</td>\n",
       "      <td>2002</td>\n",
       "      <td>Bay. Leverkusen</td>\n",
       "      <td>4.236900</td>\n",
       "      <td>0.0</td>\n",
       "      <td>0.394220</td>\n",
       "    </tr>\n",
       "    <tr>\n",
       "      <th>65517</th>\n",
       "      <td>Bayern Munich</td>\n",
       "      <td>Roy Makaay</td>\n",
       "      <td>28.0</td>\n",
       "      <td>2003</td>\n",
       "      <td>Dep. La Coruña</td>\n",
       "      <td>9.319222</td>\n",
       "      <td>0.0</td>\n",
       "      <td>1.549089</td>\n",
       "    </tr>\n",
       "    <tr>\n",
       "      <th>...</th>\n",
       "      <td>...</td>\n",
       "      <td>...</td>\n",
       "      <td>...</td>\n",
       "      <td>...</td>\n",
       "      <td>...</td>\n",
       "      <td>...</td>\n",
       "      <td>...</td>\n",
       "      <td>...</td>\n",
       "    </tr>\n",
       "    <tr>\n",
       "      <th>12249</th>\n",
       "      <td>AS Monaco</td>\n",
       "      <td>Cesc Fabregas</td>\n",
       "      <td>31.0</td>\n",
       "      <td>2018</td>\n",
       "      <td>Chelsea</td>\n",
       "      <td>6.015951</td>\n",
       "      <td>1.0</td>\n",
       "      <td>-0.591242</td>\n",
       "    </tr>\n",
       "    <tr>\n",
       "      <th>7892</th>\n",
       "      <td>FC Barcelona</td>\n",
       "      <td>Arturo Vidal</td>\n",
       "      <td>31.0</td>\n",
       "      <td>2018</td>\n",
       "      <td>Bayern Munich</td>\n",
       "      <td>12.031901</td>\n",
       "      <td>1.0</td>\n",
       "      <td>-0.350255</td>\n",
       "    </tr>\n",
       "    <tr>\n",
       "      <th>50313</th>\n",
       "      <td>Borussia Dortmund</td>\n",
       "      <td>Mats Hummels</td>\n",
       "      <td>30.0</td>\n",
       "      <td>2019</td>\n",
       "      <td>Bayern Munich</td>\n",
       "      <td>17.460695</td>\n",
       "      <td>5.0</td>\n",
       "      <td>0.118585</td>\n",
       "    </tr>\n",
       "    <tr>\n",
       "      <th>20729</th>\n",
       "      <td>Real Madrid</td>\n",
       "      <td>Eden Hazard</td>\n",
       "      <td>28.0</td>\n",
       "      <td>2019</td>\n",
       "      <td>Chelsea</td>\n",
       "      <td>54.248566</td>\n",
       "      <td>1.0</td>\n",
       "      <td>2.219642</td>\n",
       "    </tr>\n",
       "    <tr>\n",
       "      <th>45491</th>\n",
       "      <td>Granada CF</td>\n",
       "      <td>Luis Suarez</td>\n",
       "      <td>22.0</td>\n",
       "      <td>2020</td>\n",
       "      <td>Watford</td>\n",
       "      <td>3.164905</td>\n",
       "      <td>0.0</td>\n",
       "      <td>-0.913165</td>\n",
       "    </tr>\n",
       "  </tbody>\n",
       "</table>\n",
       "<p>66 rows × 8 columns</p>\n",
       "</div>"
      ],
      "text/plain": [
       "                    club_name    player_name   age  year club_involved_name  \\\n",
       "65516  Deportivo de La Coruña     Roy Makaay  24.0  1999        CD Tenerife   \n",
       "72531              Arsenal FC  Thierry Henry  21.0  1999           Juventus   \n",
       "67114            RCD Mallorca   Samuel Eto'o  18.0  1999        Real Madrid   \n",
       "78558           Bayern Munich     Ze Roberto  27.0  2002    Bay. Leverkusen   \n",
       "65517           Bayern Munich     Roy Makaay  28.0  2003     Dep. La Coruña   \n",
       "...                       ...            ...   ...   ...                ...   \n",
       "12249               AS Monaco  Cesc Fabregas  31.0  2018            Chelsea   \n",
       "7892             FC Barcelona   Arturo Vidal  31.0  2018      Bayern Munich   \n",
       "50313       Borussia Dortmund   Mats Hummels  30.0  2019      Bayern Munich   \n",
       "20729             Real Madrid    Eden Hazard  28.0  2019            Chelsea   \n",
       "45491              Granada CF    Luis Suarez  22.0  2020            Watford   \n",
       "\n",
       "       adjusted_fee    k  perf_change_adjusted  \n",
       "65516      3.655903  1.0              0.347661  \n",
       "72531      7.750657  0.0              0.288000  \n",
       "67114      3.176046  0.0                   NaN  \n",
       "78558      4.236900  0.0              0.394220  \n",
       "65517      9.319222  0.0              1.549089  \n",
       "...             ...  ...                   ...  \n",
       "12249      6.015951  1.0             -0.591242  \n",
       "7892      12.031901  1.0             -0.350255  \n",
       "50313     17.460695  5.0              0.118585  \n",
       "20729     54.248566  1.0              2.219642  \n",
       "45491      3.164905  0.0             -0.913165  \n",
       "\n",
       "[66 rows x 8 columns]"
      ]
     },
     "execution_count": 148,
     "metadata": {},
     "output_type": "execute_result"
    }
   ],
   "source": [
    "top_eval[top_eval['num_transfer'] >= 3][[\n",
    "    'club_name', 'player_name', 'age', 'year', 'club_involved_name',\n",
    "    'adjusted_fee', 'k', 'perf_change_adjusted'\n",
    "]].sort_values(by='year')"
   ]
  },
  {
   "cell_type": "code",
   "execution_count": 149,
   "metadata": {
    "ExecuteTime": {
     "end_time": "2020-12-13T02:36:52.799001Z",
     "start_time": "2020-12-13T02:36:52.677123Z"
    }
   },
   "outputs": [
    {
     "data": {
      "text/html": [
       "<div>\n",
       "<style scoped>\n",
       "    .dataframe tbody tr th:only-of-type {\n",
       "        vertical-align: middle;\n",
       "    }\n",
       "\n",
       "    .dataframe tbody tr th {\n",
       "        vertical-align: top;\n",
       "    }\n",
       "\n",
       "    .dataframe thead th {\n",
       "        text-align: right;\n",
       "    }\n",
       "</style>\n",
       "<table border=\"1\" class=\"dataframe\">\n",
       "  <thead>\n",
       "    <tr style=\"text-align: right;\">\n",
       "      <th></th>\n",
       "      <th>transfer_movement</th>\n",
       "    </tr>\n",
       "    <tr>\n",
       "      <th>club_name</th>\n",
       "      <th></th>\n",
       "    </tr>\n",
       "  </thead>\n",
       "  <tbody>\n",
       "    <tr>\n",
       "      <th>Real Madrid</th>\n",
       "      <td>11</td>\n",
       "    </tr>\n",
       "    <tr>\n",
       "      <th>Bayern Munich</th>\n",
       "      <td>11</td>\n",
       "    </tr>\n",
       "    <tr>\n",
       "      <th>FC Barcelona</th>\n",
       "      <td>9</td>\n",
       "    </tr>\n",
       "    <tr>\n",
       "      <th>Manchester United</th>\n",
       "      <td>7</td>\n",
       "    </tr>\n",
       "    <tr>\n",
       "      <th>Juventus FC</th>\n",
       "      <td>6</td>\n",
       "    </tr>\n",
       "    <tr>\n",
       "      <th>Paris Saint-Germain</th>\n",
       "      <td>6</td>\n",
       "    </tr>\n",
       "    <tr>\n",
       "      <th>Tottenham Hotspur</th>\n",
       "      <td>5</td>\n",
       "    </tr>\n",
       "    <tr>\n",
       "      <th>Chelsea FC</th>\n",
       "      <td>5</td>\n",
       "    </tr>\n",
       "    <tr>\n",
       "      <th>Manchester City</th>\n",
       "      <td>4</td>\n",
       "    </tr>\n",
       "    <tr>\n",
       "      <th>FC Internazionale</th>\n",
       "      <td>4</td>\n",
       "    </tr>\n",
       "    <tr>\n",
       "      <th>AC Milan</th>\n",
       "      <td>4</td>\n",
       "    </tr>\n",
       "    <tr>\n",
       "      <th>Bayer 04 Leverkusen</th>\n",
       "      <td>4</td>\n",
       "    </tr>\n",
       "    <tr>\n",
       "      <th>Arsenal FC</th>\n",
       "      <td>4</td>\n",
       "    </tr>\n",
       "    <tr>\n",
       "      <th>SSC Napoli</th>\n",
       "      <td>3</td>\n",
       "    </tr>\n",
       "    <tr>\n",
       "      <th>Hamburger SV</th>\n",
       "      <td>3</td>\n",
       "    </tr>\n",
       "    <tr>\n",
       "      <th>Atlético Madrid</th>\n",
       "      <td>2</td>\n",
       "    </tr>\n",
       "    <tr>\n",
       "      <th>AS Monaco</th>\n",
       "      <td>2</td>\n",
       "    </tr>\n",
       "    <tr>\n",
       "      <th>Ajax Amsterdam</th>\n",
       "      <td>2</td>\n",
       "    </tr>\n",
       "    <tr>\n",
       "      <th>Borussia Dortmund</th>\n",
       "      <td>2</td>\n",
       "    </tr>\n",
       "    <tr>\n",
       "      <th>FC Porto</th>\n",
       "      <td>2</td>\n",
       "    </tr>\n",
       "    <tr>\n",
       "      <th>Liverpool FC</th>\n",
       "      <td>2</td>\n",
       "    </tr>\n",
       "    <tr>\n",
       "      <th>ACF Fiorentina</th>\n",
       "      <td>2</td>\n",
       "    </tr>\n",
       "    <tr>\n",
       "      <th>VfB Stuttgart</th>\n",
       "      <td>1</td>\n",
       "    </tr>\n",
       "    <tr>\n",
       "      <th>SL Benfica</th>\n",
       "      <td>1</td>\n",
       "    </tr>\n",
       "    <tr>\n",
       "      <th>Real Zaragoza</th>\n",
       "      <td>1</td>\n",
       "    </tr>\n",
       "    <tr>\n",
       "      <th>Valencia CF</th>\n",
       "      <td>1</td>\n",
       "    </tr>\n",
       "    <tr>\n",
       "      <th>SV Werder Bremen</th>\n",
       "      <td>1</td>\n",
       "    </tr>\n",
       "    <tr>\n",
       "      <th>VfL Wolfsburg</th>\n",
       "      <td>1</td>\n",
       "    </tr>\n",
       "    <tr>\n",
       "      <th>US Palermo</th>\n",
       "      <td>1</td>\n",
       "    </tr>\n",
       "    <tr>\n",
       "      <th>RCD Mallorca</th>\n",
       "      <td>1</td>\n",
       "    </tr>\n",
       "    <tr>\n",
       "      <th>Granada CF</th>\n",
       "      <td>1</td>\n",
       "    </tr>\n",
       "    <tr>\n",
       "      <th>PSV Eindhoven</th>\n",
       "      <td>1</td>\n",
       "    </tr>\n",
       "    <tr>\n",
       "      <th>Olympique Lyon</th>\n",
       "      <td>1</td>\n",
       "    </tr>\n",
       "    <tr>\n",
       "      <th>Hertha BSC</th>\n",
       "      <td>1</td>\n",
       "    </tr>\n",
       "    <tr>\n",
       "      <th>Fulham FC</th>\n",
       "      <td>1</td>\n",
       "    </tr>\n",
       "    <tr>\n",
       "      <th>Feyenoord Rotterdam</th>\n",
       "      <td>1</td>\n",
       "    </tr>\n",
       "    <tr>\n",
       "      <th>FC Schalke 04</th>\n",
       "      <td>1</td>\n",
       "    </tr>\n",
       "    <tr>\n",
       "      <th>FC Groningen</th>\n",
       "      <td>1</td>\n",
       "    </tr>\n",
       "    <tr>\n",
       "      <th>Dinamo Moscow</th>\n",
       "      <td>1</td>\n",
       "    </tr>\n",
       "    <tr>\n",
       "      <th>Deportivo de La Coruña</th>\n",
       "      <td>1</td>\n",
       "    </tr>\n",
       "    <tr>\n",
       "      <th>CD Tenerife</th>\n",
       "      <td>1</td>\n",
       "    </tr>\n",
       "    <tr>\n",
       "      <th>Brescia Calcio</th>\n",
       "      <td>1</td>\n",
       "    </tr>\n",
       "    <tr>\n",
       "      <th>West Ham United</th>\n",
       "      <td>1</td>\n",
       "    </tr>\n",
       "  </tbody>\n",
       "</table>\n",
       "</div>"
      ],
      "text/plain": [
       "                        transfer_movement\n",
       "club_name                                \n",
       "Real Madrid                            11\n",
       "Bayern Munich                          11\n",
       "FC Barcelona                            9\n",
       "Manchester United                       7\n",
       "Juventus FC                             6\n",
       "Paris Saint-Germain                     6\n",
       "Tottenham Hotspur                       5\n",
       "Chelsea FC                              5\n",
       "Manchester City                         4\n",
       "FC Internazionale                       4\n",
       "AC Milan                                4\n",
       "Bayer 04 Leverkusen                     4\n",
       "Arsenal FC                              4\n",
       "SSC Napoli                              3\n",
       "Hamburger SV                            3\n",
       "Atlético Madrid                         2\n",
       "AS Monaco                               2\n",
       "Ajax Amsterdam                          2\n",
       "Borussia Dortmund                       2\n",
       "FC Porto                                2\n",
       "Liverpool FC                            2\n",
       "ACF Fiorentina                          2\n",
       "VfB Stuttgart                           1\n",
       "SL Benfica                              1\n",
       "Real Zaragoza                           1\n",
       "Valencia CF                             1\n",
       "SV Werder Bremen                        1\n",
       "VfL Wolfsburg                           1\n",
       "US Palermo                              1\n",
       "RCD Mallorca                            1\n",
       "Granada CF                              1\n",
       "PSV Eindhoven                           1\n",
       "Olympique Lyon                          1\n",
       "Hertha BSC                              1\n",
       "Fulham FC                               1\n",
       "Feyenoord Rotterdam                     1\n",
       "FC Schalke 04                           1\n",
       "FC Groningen                            1\n",
       "Dinamo Moscow                           1\n",
       "Deportivo de La Coruña                  1\n",
       "CD Tenerife                             1\n",
       "Brescia Calcio                          1\n",
       "West Ham United                         1"
      ]
     },
     "execution_count": 149,
     "metadata": {},
     "output_type": "execute_result"
    }
   ],
   "source": [
    "pd.DataFrame(top_eval.groupby('club_name')['transfer_movement'].agg('count'))\\\n",
    ".sort_values(by = 'transfer_movement', ascending = False)"
   ]
  },
  {
   "cell_type": "code",
   "execution_count": 157,
   "metadata": {
    "ExecuteTime": {
     "end_time": "2020-12-13T02:38:31.503866Z",
     "start_time": "2020-12-13T02:38:31.497673Z"
    }
   },
   "outputs": [],
   "source": [
    "player_in_madrid = top_eval[top_eval['club_name'] ==\n",
    "                            'Real Madrid']['player_name'].unique()\n",
    "player_in_bayern = top_eval[top_eval['club_name'] ==\n",
    "                            'Bayern Munich']['player_name'].unique()\n",
    "player_in_barcelona = top_eval[top_eval['club_name'] ==\n",
    "                            'FC Barcelona']['player_name'].unique()"
   ]
  },
  {
   "cell_type": "code",
   "execution_count": 158,
   "metadata": {
    "ExecuteTime": {
     "end_time": "2020-12-13T02:38:34.008475Z",
     "start_time": "2020-12-13T02:38:33.958006Z"
    },
    "scrolled": true
   },
   "outputs": [
    {
     "data": {
      "text/html": [
       "<div>\n",
       "<style scoped>\n",
       "    .dataframe tbody tr th:only-of-type {\n",
       "        vertical-align: middle;\n",
       "    }\n",
       "\n",
       "    .dataframe tbody tr th {\n",
       "        vertical-align: top;\n",
       "    }\n",
       "\n",
       "    .dataframe thead th {\n",
       "        text-align: right;\n",
       "    }\n",
       "</style>\n",
       "<table border=\"1\" class=\"dataframe\">\n",
       "  <thead>\n",
       "    <tr style=\"text-align: right;\">\n",
       "      <th></th>\n",
       "      <th>club_name</th>\n",
       "      <th>player_name</th>\n",
       "      <th>age</th>\n",
       "      <th>position</th>\n",
       "      <th>club_involved_name</th>\n",
       "      <th>fee</th>\n",
       "      <th>transfer_movement</th>\n",
       "      <th>fee_cleaned</th>\n",
       "      <th>year</th>\n",
       "      <th>num_transfer</th>\n",
       "      <th>max_transfer</th>\n",
       "      <th>k</th>\n",
       "      <th>k_name</th>\n",
       "      <th>adjusted_fee</th>\n",
       "      <th>perf_change</th>\n",
       "      <th>perf_change_adjusted</th>\n",
       "    </tr>\n",
       "  </thead>\n",
       "  <tbody>\n",
       "    <tr>\n",
       "      <th>6331</th>\n",
       "      <td>SL Benfica</td>\n",
       "      <td>Angel Di Maria</td>\n",
       "      <td>19.0</td>\n",
       "      <td>Right Winger</td>\n",
       "      <td>CA Rosario</td>\n",
       "      <td>£7.20m</td>\n",
       "      <td>in</td>\n",
       "      <td>7.20</td>\n",
       "      <td>2007</td>\n",
       "      <td>1</td>\n",
       "      <td>4</td>\n",
       "      <td>NaN</td>\n",
       "      <td>[]</td>\n",
       "      <td>4.762492</td>\n",
       "      <td>NaN</td>\n",
       "      <td>NaN</td>\n",
       "    </tr>\n",
       "    <tr>\n",
       "      <th>6332</th>\n",
       "      <td>Real Madrid</td>\n",
       "      <td>Angel Di Maria</td>\n",
       "      <td>22.0</td>\n",
       "      <td>Right Winger</td>\n",
       "      <td>Benfica</td>\n",
       "      <td>£29.70m</td>\n",
       "      <td>in</td>\n",
       "      <td>29.70</td>\n",
       "      <td>2010</td>\n",
       "      <td>2</td>\n",
       "      <td>4</td>\n",
       "      <td>0.0</td>\n",
       "      <td>[]</td>\n",
       "      <td>14.920267</td>\n",
       "      <td>3.125000</td>\n",
       "      <td>2.132870</td>\n",
       "    </tr>\n",
       "    <tr>\n",
       "      <th>6333</th>\n",
       "      <td>Manchester United</td>\n",
       "      <td>Angel Di Maria</td>\n",
       "      <td>26.0</td>\n",
       "      <td>Right Winger</td>\n",
       "      <td>Real Madrid</td>\n",
       "      <td>£67.50m</td>\n",
       "      <td>in</td>\n",
       "      <td>67.50</td>\n",
       "      <td>2014</td>\n",
       "      <td>3</td>\n",
       "      <td>4</td>\n",
       "      <td>0.0</td>\n",
       "      <td>[]</td>\n",
       "      <td>32.303477</td>\n",
       "      <td>1.272727</td>\n",
       "      <td>1.165074</td>\n",
       "    </tr>\n",
       "    <tr>\n",
       "      <th>6334</th>\n",
       "      <td>Paris Saint-Germain</td>\n",
       "      <td>Angel Di Maria</td>\n",
       "      <td>27.0</td>\n",
       "      <td>Right Winger</td>\n",
       "      <td>Man Utd</td>\n",
       "      <td>£56.70m</td>\n",
       "      <td>in</td>\n",
       "      <td>56.70</td>\n",
       "      <td>2015</td>\n",
       "      <td>4</td>\n",
       "      <td>4</td>\n",
       "      <td>1.0</td>\n",
       "      <td>[David Luiz]</td>\n",
       "      <td>28.097335</td>\n",
       "      <td>-0.160000</td>\n",
       "      <td>-0.130207</td>\n",
       "    </tr>\n",
       "    <tr>\n",
       "      <th>7405</th>\n",
       "      <td>PSV Eindhoven</td>\n",
       "      <td>Arjen Robben</td>\n",
       "      <td>18.0</td>\n",
       "      <td>Right Winger</td>\n",
       "      <td>FC Groningen</td>\n",
       "      <td>£3.87m</td>\n",
       "      <td>in</td>\n",
       "      <td>3.87</td>\n",
       "      <td>2002</td>\n",
       "      <td>2</td>\n",
       "      <td>6</td>\n",
       "      <td>0.0</td>\n",
       "      <td>[]</td>\n",
       "      <td>3.034889</td>\n",
       "      <td>NaN</td>\n",
       "      <td>NaN</td>\n",
       "    </tr>\n",
       "    <tr>\n",
       "      <th>7406</th>\n",
       "      <td>Chelsea FC</td>\n",
       "      <td>Arjen Robben</td>\n",
       "      <td>20.0</td>\n",
       "      <td>Right Winger</td>\n",
       "      <td>PSV Eindhoven</td>\n",
       "      <td>£16.20m</td>\n",
       "      <td>in</td>\n",
       "      <td>16.20</td>\n",
       "      <td>2004</td>\n",
       "      <td>3</td>\n",
       "      <td>6</td>\n",
       "      <td>2.0</td>\n",
       "      <td>[Eidur Gudjohnsen, Mateja Kezman]</td>\n",
       "      <td>9.474073</td>\n",
       "      <td>3.186047</td>\n",
       "      <td>2.121720</td>\n",
       "    </tr>\n",
       "    <tr>\n",
       "      <th>7407</th>\n",
       "      <td>Real Madrid</td>\n",
       "      <td>Arjen Robben</td>\n",
       "      <td>23.0</td>\n",
       "      <td>Right Winger</td>\n",
       "      <td>Chelsea</td>\n",
       "      <td>£31.50m</td>\n",
       "      <td>in</td>\n",
       "      <td>31.50</td>\n",
       "      <td>2007</td>\n",
       "      <td>4</td>\n",
       "      <td>6</td>\n",
       "      <td>0.0</td>\n",
       "      <td>[]</td>\n",
       "      <td>15.194519</td>\n",
       "      <td>0.944444</td>\n",
       "      <td>0.603800</td>\n",
       "    </tr>\n",
       "    <tr>\n",
       "      <th>7408</th>\n",
       "      <td>Bayern Munich</td>\n",
       "      <td>Arjen Robben</td>\n",
       "      <td>25.0</td>\n",
       "      <td>Right Winger</td>\n",
       "      <td>Real Madrid</td>\n",
       "      <td>£22.50m</td>\n",
       "      <td>in</td>\n",
       "      <td>22.50</td>\n",
       "      <td>2009</td>\n",
       "      <td>5</td>\n",
       "      <td>6</td>\n",
       "      <td>1.0</td>\n",
       "      <td>[Mark van Bommel]</td>\n",
       "      <td>10.600184</td>\n",
       "      <td>-0.285714</td>\n",
       "      <td>-0.302368</td>\n",
       "    </tr>\n",
       "    <tr>\n",
       "      <th>14804</th>\n",
       "      <td>Manchester United</td>\n",
       "      <td>Cristiano Ronaldo</td>\n",
       "      <td>18.0</td>\n",
       "      <td>Left Winger</td>\n",
       "      <td>Sporting CP</td>\n",
       "      <td>£17.10m</td>\n",
       "      <td>in</td>\n",
       "      <td>17.10</td>\n",
       "      <td>2003</td>\n",
       "      <td>2</td>\n",
       "      <td>4</td>\n",
       "      <td>0.0</td>\n",
       "      <td>[]</td>\n",
       "      <td>13.409973</td>\n",
       "      <td>NaN</td>\n",
       "      <td>NaN</td>\n",
       "    </tr>\n",
       "    <tr>\n",
       "      <th>14805</th>\n",
       "      <td>Real Madrid</td>\n",
       "      <td>Cristiano Ronaldo</td>\n",
       "      <td>24.0</td>\n",
       "      <td>Left Winger</td>\n",
       "      <td>Man Utd</td>\n",
       "      <td>£84.60m</td>\n",
       "      <td>in</td>\n",
       "      <td>84.60</td>\n",
       "      <td>2009</td>\n",
       "      <td>3</td>\n",
       "      <td>4</td>\n",
       "      <td>0.0</td>\n",
       "      <td>[]</td>\n",
       "      <td>39.959872</td>\n",
       "      <td>3.947368</td>\n",
       "      <td>1.979862</td>\n",
       "    </tr>\n",
       "    <tr>\n",
       "      <th>14806</th>\n",
       "      <td>Juventus FC</td>\n",
       "      <td>Cristiano Ronaldo</td>\n",
       "      <td>33.0</td>\n",
       "      <td>Left Winger</td>\n",
       "      <td>Real Madrid</td>\n",
       "      <td>£105.30m</td>\n",
       "      <td>in</td>\n",
       "      <td>105.30</td>\n",
       "      <td>2018</td>\n",
       "      <td>4</td>\n",
       "      <td>4</td>\n",
       "      <td>1.0</td>\n",
       "      <td>[Sami Khedira]</td>\n",
       "      <td>135.090758</td>\n",
       "      <td>0.244681</td>\n",
       "      <td>2.380660</td>\n",
       "    </tr>\n",
       "    <tr>\n",
       "      <th>20728</th>\n",
       "      <td>Chelsea FC</td>\n",
       "      <td>Eden Hazard</td>\n",
       "      <td>21.0</td>\n",
       "      <td>Left Winger</td>\n",
       "      <td>LOSC Lille</td>\n",
       "      <td>£31.50m</td>\n",
       "      <td>in</td>\n",
       "      <td>31.50</td>\n",
       "      <td>2012</td>\n",
       "      <td>2</td>\n",
       "      <td>3</td>\n",
       "      <td>0.0</td>\n",
       "      <td>[]</td>\n",
       "      <td>16.849254</td>\n",
       "      <td>NaN</td>\n",
       "      <td>NaN</td>\n",
       "    </tr>\n",
       "    <tr>\n",
       "      <th>20729</th>\n",
       "      <td>Real Madrid</td>\n",
       "      <td>Eden Hazard</td>\n",
       "      <td>28.0</td>\n",
       "      <td>Left Winger</td>\n",
       "      <td>Chelsea</td>\n",
       "      <td>£103.50m</td>\n",
       "      <td>in</td>\n",
       "      <td>103.50</td>\n",
       "      <td>2019</td>\n",
       "      <td>3</td>\n",
       "      <td>3</td>\n",
       "      <td>1.0</td>\n",
       "      <td>[Thibaut Courtois]</td>\n",
       "      <td>54.248566</td>\n",
       "      <td>2.285714</td>\n",
       "      <td>2.219642</td>\n",
       "    </tr>\n",
       "    <tr>\n",
       "      <th>26401</th>\n",
       "      <td>Tottenham Hotspur</td>\n",
       "      <td>Gareth Bale</td>\n",
       "      <td>17.0</td>\n",
       "      <td>Right Winger</td>\n",
       "      <td>Southampton</td>\n",
       "      <td>£13.23m</td>\n",
       "      <td>in</td>\n",
       "      <td>13.23</td>\n",
       "      <td>2007</td>\n",
       "      <td>2</td>\n",
       "      <td>4</td>\n",
       "      <td>0.0</td>\n",
       "      <td>[]</td>\n",
       "      <td>13.230000</td>\n",
       "      <td>NaN</td>\n",
       "      <td>NaN</td>\n",
       "    </tr>\n",
       "    <tr>\n",
       "      <th>26402</th>\n",
       "      <td>Real Madrid</td>\n",
       "      <td>Gareth Bale</td>\n",
       "      <td>24.0</td>\n",
       "      <td>Right Winger</td>\n",
       "      <td>Spurs</td>\n",
       "      <td>£90.90m</td>\n",
       "      <td>in</td>\n",
       "      <td>90.90</td>\n",
       "      <td>2013</td>\n",
       "      <td>3</td>\n",
       "      <td>4</td>\n",
       "      <td>1.0</td>\n",
       "      <td>[Luka Modric]</td>\n",
       "      <td>42.935608</td>\n",
       "      <td>5.870748</td>\n",
       "      <td>2.245322</td>\n",
       "    </tr>\n",
       "    <tr>\n",
       "      <th>28518</th>\n",
       "      <td>Real Madrid</td>\n",
       "      <td>Gonzalo Higuain</td>\n",
       "      <td>19.0</td>\n",
       "      <td>Centre-Forward</td>\n",
       "      <td>River Plate</td>\n",
       "      <td>£10.80m</td>\n",
       "      <td>in</td>\n",
       "      <td>10.80</td>\n",
       "      <td>2006</td>\n",
       "      <td>1</td>\n",
       "      <td>5</td>\n",
       "      <td>NaN</td>\n",
       "      <td>[]</td>\n",
       "      <td>7.143738</td>\n",
       "      <td>NaN</td>\n",
       "      <td>NaN</td>\n",
       "    </tr>\n",
       "    <tr>\n",
       "      <th>28519</th>\n",
       "      <td>SSC Napoli</td>\n",
       "      <td>Gonzalo Higuain</td>\n",
       "      <td>25.0</td>\n",
       "      <td>Centre-Forward</td>\n",
       "      <td>Real Madrid</td>\n",
       "      <td>£35.10m</td>\n",
       "      <td>in</td>\n",
       "      <td>35.10</td>\n",
       "      <td>2013</td>\n",
       "      <td>2</td>\n",
       "      <td>5</td>\n",
       "      <td>2.0</td>\n",
       "      <td>[Jose Callejon, Raul Albiol]</td>\n",
       "      <td>16.536287</td>\n",
       "      <td>2.250000</td>\n",
       "      <td>1.314795</td>\n",
       "    </tr>\n",
       "    <tr>\n",
       "      <th>28520</th>\n",
       "      <td>Juventus FC</td>\n",
       "      <td>Gonzalo Higuain</td>\n",
       "      <td>28.0</td>\n",
       "      <td>Centre-Forward</td>\n",
       "      <td>SSC Napoli</td>\n",
       "      <td>£81.00m</td>\n",
       "      <td>in</td>\n",
       "      <td>81.00</td>\n",
       "      <td>2016</td>\n",
       "      <td>3</td>\n",
       "      <td>5</td>\n",
       "      <td>3.0</td>\n",
       "      <td>[Sami Khedira, Emerson, Fabio Cannavaro]</td>\n",
       "      <td>42.455399</td>\n",
       "      <td>1.307692</td>\n",
       "      <td>1.567408</td>\n",
       "    </tr>\n",
       "    <tr>\n",
       "      <th>33312</th>\n",
       "      <td>FC Porto</td>\n",
       "      <td>James Rodriguez</td>\n",
       "      <td>18.0</td>\n",
       "      <td>Attacking Midfield</td>\n",
       "      <td>CA Banfield</td>\n",
       "      <td>£6.62m</td>\n",
       "      <td>in</td>\n",
       "      <td>6.62</td>\n",
       "      <td>2010</td>\n",
       "      <td>1</td>\n",
       "      <td>6</td>\n",
       "      <td>NaN</td>\n",
       "      <td>[]</td>\n",
       "      <td>5.191463</td>\n",
       "      <td>NaN</td>\n",
       "      <td>NaN</td>\n",
       "    </tr>\n",
       "    <tr>\n",
       "      <th>33313</th>\n",
       "      <td>AS Monaco</td>\n",
       "      <td>James Rodriguez</td>\n",
       "      <td>21.0</td>\n",
       "      <td>Attacking Midfield</td>\n",
       "      <td>FC Porto</td>\n",
       "      <td>£40.50m</td>\n",
       "      <td>in</td>\n",
       "      <td>40.50</td>\n",
       "      <td>2013</td>\n",
       "      <td>2</td>\n",
       "      <td>6</td>\n",
       "      <td>2.0</td>\n",
       "      <td>[Joao Moutinho, Falcao]</td>\n",
       "      <td>21.663326</td>\n",
       "      <td>5.117825</td>\n",
       "      <td>3.172875</td>\n",
       "    </tr>\n",
       "    <tr>\n",
       "      <th>33314</th>\n",
       "      <td>Real Madrid</td>\n",
       "      <td>James Rodriguez</td>\n",
       "      <td>23.0</td>\n",
       "      <td>Attacking Midfield</td>\n",
       "      <td>Monaco</td>\n",
       "      <td>£67.50m</td>\n",
       "      <td>in</td>\n",
       "      <td>67.50</td>\n",
       "      <td>2014</td>\n",
       "      <td>3</td>\n",
       "      <td>6</td>\n",
       "      <td>0.0</td>\n",
       "      <td>[]</td>\n",
       "      <td>32.559683</td>\n",
       "      <td>0.666667</td>\n",
       "      <td>0.502986</td>\n",
       "    </tr>\n",
       "    <tr>\n",
       "      <th>45591</th>\n",
       "      <td>Tottenham Hotspur</td>\n",
       "      <td>Luka Modric</td>\n",
       "      <td>22.0</td>\n",
       "      <td>Central Midfield</td>\n",
       "      <td>Dinamo Zagreb</td>\n",
       "      <td>£18.90m</td>\n",
       "      <td>in</td>\n",
       "      <td>18.90</td>\n",
       "      <td>2008</td>\n",
       "      <td>1</td>\n",
       "      <td>2</td>\n",
       "      <td>NaN</td>\n",
       "      <td>[]</td>\n",
       "      <td>9.494715</td>\n",
       "      <td>NaN</td>\n",
       "      <td>NaN</td>\n",
       "    </tr>\n",
       "    <tr>\n",
       "      <th>45592</th>\n",
       "      <td>Real Madrid</td>\n",
       "      <td>Luka Modric</td>\n",
       "      <td>26.0</td>\n",
       "      <td>Central Midfield</td>\n",
       "      <td>Spurs</td>\n",
       "      <td>£31.50m</td>\n",
       "      <td>in</td>\n",
       "      <td>31.50</td>\n",
       "      <td>2012</td>\n",
       "      <td>2</td>\n",
       "      <td>2</td>\n",
       "      <td>0.0</td>\n",
       "      <td>[]</td>\n",
       "      <td>15.074956</td>\n",
       "      <td>0.666667</td>\n",
       "      <td>0.587721</td>\n",
       "    </tr>\n",
       "    <tr>\n",
       "      <th>61691</th>\n",
       "      <td>Hamburger SV</td>\n",
       "      <td>Rafael van der Vaart</td>\n",
       "      <td>22.0</td>\n",
       "      <td>Attacking Midfield</td>\n",
       "      <td>Ajax</td>\n",
       "      <td>£4.59m</td>\n",
       "      <td>in</td>\n",
       "      <td>4.59</td>\n",
       "      <td>2005</td>\n",
       "      <td>2</td>\n",
       "      <td>6</td>\n",
       "      <td>1.0</td>\n",
       "      <td>[Nigel de Jong]</td>\n",
       "      <td>2.305859</td>\n",
       "      <td>NaN</td>\n",
       "      <td>NaN</td>\n",
       "    </tr>\n",
       "    <tr>\n",
       "      <th>61692</th>\n",
       "      <td>Real Madrid</td>\n",
       "      <td>Rafael van der Vaart</td>\n",
       "      <td>25.0</td>\n",
       "      <td>Attacking Midfield</td>\n",
       "      <td>Hamburger SV</td>\n",
       "      <td>£13.50m</td>\n",
       "      <td>in</td>\n",
       "      <td>13.50</td>\n",
       "      <td>2008</td>\n",
       "      <td>3</td>\n",
       "      <td>6</td>\n",
       "      <td>1.0</td>\n",
       "      <td>[Wesley Sneijder]</td>\n",
       "      <td>6.360110</td>\n",
       "      <td>1.941176</td>\n",
       "      <td>1.758239</td>\n",
       "    </tr>\n",
       "    <tr>\n",
       "      <th>61693</th>\n",
       "      <td>Tottenham Hotspur</td>\n",
       "      <td>Rafael van der Vaart</td>\n",
       "      <td>27.0</td>\n",
       "      <td>Attacking Midfield</td>\n",
       "      <td>Real Madrid</td>\n",
       "      <td>£9.45m</td>\n",
       "      <td>in</td>\n",
       "      <td>9.45</td>\n",
       "      <td>2010</td>\n",
       "      <td>4</td>\n",
       "      <td>6</td>\n",
       "      <td>1.0</td>\n",
       "      <td>[Steven Pienaar]</td>\n",
       "      <td>4.682889</td>\n",
       "      <td>-0.300000</td>\n",
       "      <td>-0.263709</td>\n",
       "    </tr>\n",
       "    <tr>\n",
       "      <th>61694</th>\n",
       "      <td>Hamburger SV</td>\n",
       "      <td>Rafael van der Vaart</td>\n",
       "      <td>29.0</td>\n",
       "      <td>Attacking Midfield</td>\n",
       "      <td>Spurs</td>\n",
       "      <td>£11.70m</td>\n",
       "      <td>in</td>\n",
       "      <td>11.70</td>\n",
       "      <td>2012</td>\n",
       "      <td>5</td>\n",
       "      <td>6</td>\n",
       "      <td>0.0</td>\n",
       "      <td>[]</td>\n",
       "      <td>6.650535</td>\n",
       "      <td>0.238095</td>\n",
       "      <td>0.420178</td>\n",
       "    </tr>\n",
       "    <tr>\n",
       "      <th>76954</th>\n",
       "      <td>Real Madrid</td>\n",
       "      <td>Wesley Sneijder</td>\n",
       "      <td>23.0</td>\n",
       "      <td>Attacking Midfield</td>\n",
       "      <td>Ajax</td>\n",
       "      <td>£24.30m</td>\n",
       "      <td>in</td>\n",
       "      <td>24.30</td>\n",
       "      <td>2007</td>\n",
       "      <td>2</td>\n",
       "      <td>4</td>\n",
       "      <td>0.0</td>\n",
       "      <td>[]</td>\n",
       "      <td>11.721486</td>\n",
       "      <td>NaN</td>\n",
       "      <td>NaN</td>\n",
       "    </tr>\n",
       "    <tr>\n",
       "      <th>76955</th>\n",
       "      <td>FC Internazionale</td>\n",
       "      <td>Wesley Sneijder</td>\n",
       "      <td>25.0</td>\n",
       "      <td>Attacking Midfield</td>\n",
       "      <td>Real Madrid</td>\n",
       "      <td>£13.50m</td>\n",
       "      <td>in</td>\n",
       "      <td>13.50</td>\n",
       "      <td>2009</td>\n",
       "      <td>3</td>\n",
       "      <td>4</td>\n",
       "      <td>1.0</td>\n",
       "      <td>[Cristian Chivu]</td>\n",
       "      <td>6.360110</td>\n",
       "      <td>-0.444444</td>\n",
       "      <td>-0.457397</td>\n",
       "    </tr>\n",
       "    <tr>\n",
       "      <th>78553</th>\n",
       "      <td>Real Madrid</td>\n",
       "      <td>Ze Roberto</td>\n",
       "      <td>22.0</td>\n",
       "      <td>Left Midfield</td>\n",
       "      <td>Portuguesa</td>\n",
       "      <td>£8.10m</td>\n",
       "      <td>in</td>\n",
       "      <td>8.10</td>\n",
       "      <td>1996</td>\n",
       "      <td>1</td>\n",
       "      <td>13</td>\n",
       "      <td>NaN</td>\n",
       "      <td>[]</td>\n",
       "      <td>4.069164</td>\n",
       "      <td>NaN</td>\n",
       "      <td>NaN</td>\n",
       "    </tr>\n",
       "    <tr>\n",
       "      <th>78554</th>\n",
       "      <td>Bayer 04 Leverkusen</td>\n",
       "      <td>Ze Roberto</td>\n",
       "      <td>23.0</td>\n",
       "      <td>Left Midfield</td>\n",
       "      <td>Real Madrid</td>\n",
       "      <td>£6.30m</td>\n",
       "      <td>in</td>\n",
       "      <td>6.30</td>\n",
       "      <td>1998</td>\n",
       "      <td>2</td>\n",
       "      <td>13</td>\n",
       "      <td>0.0</td>\n",
       "      <td>[]</td>\n",
       "      <td>3.038904</td>\n",
       "      <td>-0.222222</td>\n",
       "      <td>-0.253187</td>\n",
       "    </tr>\n",
       "    <tr>\n",
       "      <th>78558</th>\n",
       "      <td>Bayern Munich</td>\n",
       "      <td>Ze Roberto</td>\n",
       "      <td>27.0</td>\n",
       "      <td>Left Midfield</td>\n",
       "      <td>Bay. Leverkusen</td>\n",
       "      <td>£8.55m</td>\n",
       "      <td>in</td>\n",
       "      <td>8.55</td>\n",
       "      <td>2002</td>\n",
       "      <td>6</td>\n",
       "      <td>13</td>\n",
       "      <td>0.0</td>\n",
       "      <td>[]</td>\n",
       "      <td>4.236900</td>\n",
       "      <td>0.357143</td>\n",
       "      <td>0.394220</td>\n",
       "    </tr>\n",
       "    <tr>\n",
       "      <th>78563</th>\n",
       "      <td>FC Schalke 04</td>\n",
       "      <td>Ze Roberto</td>\n",
       "      <td>27.0</td>\n",
       "      <td>Attacking Midfield</td>\n",
       "      <td>Botafogo</td>\n",
       "      <td>£2.70m</td>\n",
       "      <td>in</td>\n",
       "      <td>2.70</td>\n",
       "      <td>2007</td>\n",
       "      <td>11</td>\n",
       "      <td>13</td>\n",
       "      <td>0.0</td>\n",
       "      <td>[]</td>\n",
       "      <td>1.337968</td>\n",
       "      <td>-0.684211</td>\n",
       "      <td>-0.684211</td>\n",
       "    </tr>\n",
       "    <tr>\n",
       "      <th>78564</th>\n",
       "      <td>Hamburger SV</td>\n",
       "      <td>Ze Roberto</td>\n",
       "      <td>34.0</td>\n",
       "      <td>Left Midfield</td>\n",
       "      <td>Nacional</td>\n",
       "      <td>£3.60m</td>\n",
       "      <td>in</td>\n",
       "      <td>3.60</td>\n",
       "      <td>2009</td>\n",
       "      <td>12</td>\n",
       "      <td>13</td>\n",
       "      <td>0.0</td>\n",
       "      <td>[]</td>\n",
       "      <td>8.215183</td>\n",
       "      <td>0.333333</td>\n",
       "      <td>5.140043</td>\n",
       "    </tr>\n",
       "  </tbody>\n",
       "</table>\n",
       "</div>"
      ],
      "text/plain": [
       "                 club_name           player_name   age            position  \\\n",
       "6331            SL Benfica        Angel Di Maria  19.0        Right Winger   \n",
       "6332           Real Madrid        Angel Di Maria  22.0        Right Winger   \n",
       "6333     Manchester United        Angel Di Maria  26.0        Right Winger   \n",
       "6334   Paris Saint-Germain        Angel Di Maria  27.0        Right Winger   \n",
       "7405         PSV Eindhoven          Arjen Robben  18.0        Right Winger   \n",
       "7406            Chelsea FC          Arjen Robben  20.0        Right Winger   \n",
       "7407           Real Madrid          Arjen Robben  23.0        Right Winger   \n",
       "7408         Bayern Munich          Arjen Robben  25.0        Right Winger   \n",
       "14804    Manchester United     Cristiano Ronaldo  18.0         Left Winger   \n",
       "14805          Real Madrid     Cristiano Ronaldo  24.0         Left Winger   \n",
       "14806          Juventus FC     Cristiano Ronaldo  33.0         Left Winger   \n",
       "20728           Chelsea FC           Eden Hazard  21.0         Left Winger   \n",
       "20729          Real Madrid           Eden Hazard  28.0         Left Winger   \n",
       "26401    Tottenham Hotspur           Gareth Bale  17.0        Right Winger   \n",
       "26402          Real Madrid           Gareth Bale  24.0        Right Winger   \n",
       "28518          Real Madrid       Gonzalo Higuain  19.0      Centre-Forward   \n",
       "28519           SSC Napoli       Gonzalo Higuain  25.0      Centre-Forward   \n",
       "28520          Juventus FC       Gonzalo Higuain  28.0      Centre-Forward   \n",
       "33312             FC Porto       James Rodriguez  18.0  Attacking Midfield   \n",
       "33313            AS Monaco       James Rodriguez  21.0  Attacking Midfield   \n",
       "33314          Real Madrid       James Rodriguez  23.0  Attacking Midfield   \n",
       "45591    Tottenham Hotspur           Luka Modric  22.0    Central Midfield   \n",
       "45592          Real Madrid           Luka Modric  26.0    Central Midfield   \n",
       "61691         Hamburger SV  Rafael van der Vaart  22.0  Attacking Midfield   \n",
       "61692          Real Madrid  Rafael van der Vaart  25.0  Attacking Midfield   \n",
       "61693    Tottenham Hotspur  Rafael van der Vaart  27.0  Attacking Midfield   \n",
       "61694         Hamburger SV  Rafael van der Vaart  29.0  Attacking Midfield   \n",
       "76954          Real Madrid       Wesley Sneijder  23.0  Attacking Midfield   \n",
       "76955    FC Internazionale       Wesley Sneijder  25.0  Attacking Midfield   \n",
       "78553          Real Madrid            Ze Roberto  22.0       Left Midfield   \n",
       "78554  Bayer 04 Leverkusen            Ze Roberto  23.0       Left Midfield   \n",
       "78558        Bayern Munich            Ze Roberto  27.0       Left Midfield   \n",
       "78563        FC Schalke 04            Ze Roberto  27.0  Attacking Midfield   \n",
       "78564         Hamburger SV            Ze Roberto  34.0       Left Midfield   \n",
       "\n",
       "      club_involved_name       fee transfer_movement  fee_cleaned  year  \\\n",
       "6331          CA Rosario    £7.20m                in         7.20  2007   \n",
       "6332             Benfica   £29.70m                in        29.70  2010   \n",
       "6333         Real Madrid   £67.50m                in        67.50  2014   \n",
       "6334             Man Utd   £56.70m                in        56.70  2015   \n",
       "7405        FC Groningen    £3.87m                in         3.87  2002   \n",
       "7406       PSV Eindhoven   £16.20m                in        16.20  2004   \n",
       "7407             Chelsea   £31.50m                in        31.50  2007   \n",
       "7408         Real Madrid   £22.50m                in        22.50  2009   \n",
       "14804        Sporting CP   £17.10m                in        17.10  2003   \n",
       "14805            Man Utd   £84.60m                in        84.60  2009   \n",
       "14806        Real Madrid  £105.30m                in       105.30  2018   \n",
       "20728         LOSC Lille   £31.50m                in        31.50  2012   \n",
       "20729            Chelsea  £103.50m                in       103.50  2019   \n",
       "26401        Southampton   £13.23m                in        13.23  2007   \n",
       "26402              Spurs   £90.90m                in        90.90  2013   \n",
       "28518        River Plate   £10.80m                in        10.80  2006   \n",
       "28519        Real Madrid   £35.10m                in        35.10  2013   \n",
       "28520         SSC Napoli   £81.00m                in        81.00  2016   \n",
       "33312        CA Banfield    £6.62m                in         6.62  2010   \n",
       "33313           FC Porto   £40.50m                in        40.50  2013   \n",
       "33314             Monaco   £67.50m                in        67.50  2014   \n",
       "45591      Dinamo Zagreb   £18.90m                in        18.90  2008   \n",
       "45592              Spurs   £31.50m                in        31.50  2012   \n",
       "61691               Ajax    £4.59m                in         4.59  2005   \n",
       "61692       Hamburger SV   £13.50m                in        13.50  2008   \n",
       "61693        Real Madrid    £9.45m                in         9.45  2010   \n",
       "61694              Spurs   £11.70m                in        11.70  2012   \n",
       "76954               Ajax   £24.30m                in        24.30  2007   \n",
       "76955        Real Madrid   £13.50m                in        13.50  2009   \n",
       "78553         Portuguesa    £8.10m                in         8.10  1996   \n",
       "78554        Real Madrid    £6.30m                in         6.30  1998   \n",
       "78558    Bay. Leverkusen    £8.55m                in         8.55  2002   \n",
       "78563           Botafogo    £2.70m                in         2.70  2007   \n",
       "78564           Nacional    £3.60m                in         3.60  2009   \n",
       "\n",
       "       num_transfer  max_transfer    k  \\\n",
       "6331              1             4  NaN   \n",
       "6332              2             4  0.0   \n",
       "6333              3             4  0.0   \n",
       "6334              4             4  1.0   \n",
       "7405              2             6  0.0   \n",
       "7406              3             6  2.0   \n",
       "7407              4             6  0.0   \n",
       "7408              5             6  1.0   \n",
       "14804             2             4  0.0   \n",
       "14805             3             4  0.0   \n",
       "14806             4             4  1.0   \n",
       "20728             2             3  0.0   \n",
       "20729             3             3  1.0   \n",
       "26401             2             4  0.0   \n",
       "26402             3             4  1.0   \n",
       "28518             1             5  NaN   \n",
       "28519             2             5  2.0   \n",
       "28520             3             5  3.0   \n",
       "33312             1             6  NaN   \n",
       "33313             2             6  2.0   \n",
       "33314             3             6  0.0   \n",
       "45591             1             2  NaN   \n",
       "45592             2             2  0.0   \n",
       "61691             2             6  1.0   \n",
       "61692             3             6  1.0   \n",
       "61693             4             6  1.0   \n",
       "61694             5             6  0.0   \n",
       "76954             2             4  0.0   \n",
       "76955             3             4  1.0   \n",
       "78553             1            13  NaN   \n",
       "78554             2            13  0.0   \n",
       "78558             6            13  0.0   \n",
       "78563            11            13  0.0   \n",
       "78564            12            13  0.0   \n",
       "\n",
       "                                         k_name  adjusted_fee  perf_change  \\\n",
       "6331                                         []      4.762492          NaN   \n",
       "6332                                         []     14.920267     3.125000   \n",
       "6333                                         []     32.303477     1.272727   \n",
       "6334                               [David Luiz]     28.097335    -0.160000   \n",
       "7405                                         []      3.034889          NaN   \n",
       "7406          [Eidur Gudjohnsen, Mateja Kezman]      9.474073     3.186047   \n",
       "7407                                         []     15.194519     0.944444   \n",
       "7408                          [Mark van Bommel]     10.600184    -0.285714   \n",
       "14804                                        []     13.409973          NaN   \n",
       "14805                                        []     39.959872     3.947368   \n",
       "14806                            [Sami Khedira]    135.090758     0.244681   \n",
       "20728                                        []     16.849254          NaN   \n",
       "20729                        [Thibaut Courtois]     54.248566     2.285714   \n",
       "26401                                        []     13.230000          NaN   \n",
       "26402                             [Luka Modric]     42.935608     5.870748   \n",
       "28518                                        []      7.143738          NaN   \n",
       "28519              [Jose Callejon, Raul Albiol]     16.536287     2.250000   \n",
       "28520  [Sami Khedira, Emerson, Fabio Cannavaro]     42.455399     1.307692   \n",
       "33312                                        []      5.191463          NaN   \n",
       "33313                   [Joao Moutinho, Falcao]     21.663326     5.117825   \n",
       "33314                                        []     32.559683     0.666667   \n",
       "45591                                        []      9.494715          NaN   \n",
       "45592                                        []     15.074956     0.666667   \n",
       "61691                           [Nigel de Jong]      2.305859          NaN   \n",
       "61692                         [Wesley Sneijder]      6.360110     1.941176   \n",
       "61693                          [Steven Pienaar]      4.682889    -0.300000   \n",
       "61694                                        []      6.650535     0.238095   \n",
       "76954                                        []     11.721486          NaN   \n",
       "76955                          [Cristian Chivu]      6.360110    -0.444444   \n",
       "78553                                        []      4.069164          NaN   \n",
       "78554                                        []      3.038904    -0.222222   \n",
       "78558                                        []      4.236900     0.357143   \n",
       "78563                                        []      1.337968    -0.684211   \n",
       "78564                                        []      8.215183     0.333333   \n",
       "\n",
       "       perf_change_adjusted  \n",
       "6331                    NaN  \n",
       "6332               2.132870  \n",
       "6333               1.165074  \n",
       "6334              -0.130207  \n",
       "7405                    NaN  \n",
       "7406               2.121720  \n",
       "7407               0.603800  \n",
       "7408              -0.302368  \n",
       "14804                   NaN  \n",
       "14805              1.979862  \n",
       "14806              2.380660  \n",
       "20728                   NaN  \n",
       "20729              2.219642  \n",
       "26401                   NaN  \n",
       "26402              2.245322  \n",
       "28518                   NaN  \n",
       "28519              1.314795  \n",
       "28520              1.567408  \n",
       "33312                   NaN  \n",
       "33313              3.172875  \n",
       "33314              0.502986  \n",
       "45591                   NaN  \n",
       "45592              0.587721  \n",
       "61691                   NaN  \n",
       "61692              1.758239  \n",
       "61693             -0.263709  \n",
       "61694              0.420178  \n",
       "76954                   NaN  \n",
       "76955             -0.457397  \n",
       "78553                   NaN  \n",
       "78554             -0.253187  \n",
       "78558              0.394220  \n",
       "78563             -0.684211  \n",
       "78564              5.140043  "
      ]
     },
     "execution_count": 158,
     "metadata": {},
     "output_type": "execute_result"
    }
   ],
   "source": [
    "top_eval[top_eval['player_name'].isin(player_in_madrid)]"
   ]
  },
  {
   "cell_type": "code",
   "execution_count": 159,
   "metadata": {
    "ExecuteTime": {
     "end_time": "2020-12-13T02:38:36.500604Z",
     "start_time": "2020-12-13T02:38:36.447768Z"
    }
   },
   "outputs": [
    {
     "data": {
      "text/html": [
       "<div>\n",
       "<style scoped>\n",
       "    .dataframe tbody tr th:only-of-type {\n",
       "        vertical-align: middle;\n",
       "    }\n",
       "\n",
       "    .dataframe tbody tr th {\n",
       "        vertical-align: top;\n",
       "    }\n",
       "\n",
       "    .dataframe thead th {\n",
       "        text-align: right;\n",
       "    }\n",
       "</style>\n",
       "<table border=\"1\" class=\"dataframe\">\n",
       "  <thead>\n",
       "    <tr style=\"text-align: right;\">\n",
       "      <th></th>\n",
       "      <th>club_name</th>\n",
       "      <th>player_name</th>\n",
       "      <th>age</th>\n",
       "      <th>position</th>\n",
       "      <th>club_involved_name</th>\n",
       "      <th>fee</th>\n",
       "      <th>transfer_movement</th>\n",
       "      <th>fee_cleaned</th>\n",
       "      <th>year</th>\n",
       "      <th>num_transfer</th>\n",
       "      <th>max_transfer</th>\n",
       "      <th>k</th>\n",
       "      <th>k_name</th>\n",
       "      <th>adjusted_fee</th>\n",
       "      <th>perf_change</th>\n",
       "      <th>perf_change_adjusted</th>\n",
       "    </tr>\n",
       "  </thead>\n",
       "  <tbody>\n",
       "    <tr>\n",
       "      <th>7405</th>\n",
       "      <td>PSV Eindhoven</td>\n",
       "      <td>Arjen Robben</td>\n",
       "      <td>18.0</td>\n",
       "      <td>Right Winger</td>\n",
       "      <td>FC Groningen</td>\n",
       "      <td>£3.87m</td>\n",
       "      <td>in</td>\n",
       "      <td>3.870</td>\n",
       "      <td>2002</td>\n",
       "      <td>2</td>\n",
       "      <td>6</td>\n",
       "      <td>0.0</td>\n",
       "      <td>[]</td>\n",
       "      <td>3.034889</td>\n",
       "      <td>NaN</td>\n",
       "      <td>NaN</td>\n",
       "    </tr>\n",
       "    <tr>\n",
       "      <th>7406</th>\n",
       "      <td>Chelsea FC</td>\n",
       "      <td>Arjen Robben</td>\n",
       "      <td>20.0</td>\n",
       "      <td>Right Winger</td>\n",
       "      <td>PSV Eindhoven</td>\n",
       "      <td>£16.20m</td>\n",
       "      <td>in</td>\n",
       "      <td>16.200</td>\n",
       "      <td>2004</td>\n",
       "      <td>3</td>\n",
       "      <td>6</td>\n",
       "      <td>2.0</td>\n",
       "      <td>[Eidur Gudjohnsen, Mateja Kezman]</td>\n",
       "      <td>9.474073</td>\n",
       "      <td>3.186047</td>\n",
       "      <td>2.121720</td>\n",
       "    </tr>\n",
       "    <tr>\n",
       "      <th>7407</th>\n",
       "      <td>Real Madrid</td>\n",
       "      <td>Arjen Robben</td>\n",
       "      <td>23.0</td>\n",
       "      <td>Right Winger</td>\n",
       "      <td>Chelsea</td>\n",
       "      <td>£31.50m</td>\n",
       "      <td>in</td>\n",
       "      <td>31.500</td>\n",
       "      <td>2007</td>\n",
       "      <td>4</td>\n",
       "      <td>6</td>\n",
       "      <td>0.0</td>\n",
       "      <td>[]</td>\n",
       "      <td>15.194519</td>\n",
       "      <td>0.944444</td>\n",
       "      <td>0.603800</td>\n",
       "    </tr>\n",
       "    <tr>\n",
       "      <th>7408</th>\n",
       "      <td>Bayern Munich</td>\n",
       "      <td>Arjen Robben</td>\n",
       "      <td>25.0</td>\n",
       "      <td>Right Winger</td>\n",
       "      <td>Real Madrid</td>\n",
       "      <td>£22.50m</td>\n",
       "      <td>in</td>\n",
       "      <td>22.500</td>\n",
       "      <td>2009</td>\n",
       "      <td>5</td>\n",
       "      <td>6</td>\n",
       "      <td>1.0</td>\n",
       "      <td>[Mark van Bommel]</td>\n",
       "      <td>10.600184</td>\n",
       "      <td>-0.285714</td>\n",
       "      <td>-0.302368</td>\n",
       "    </tr>\n",
       "    <tr>\n",
       "      <th>7889</th>\n",
       "      <td>Bayer 04 Leverkusen</td>\n",
       "      <td>Arturo Vidal</td>\n",
       "      <td>20.0</td>\n",
       "      <td>Central Midfield</td>\n",
       "      <td>Colo Colo</td>\n",
       "      <td>£4.68m</td>\n",
       "      <td>in</td>\n",
       "      <td>4.680</td>\n",
       "      <td>2007</td>\n",
       "      <td>1</td>\n",
       "      <td>5</td>\n",
       "      <td>NaN</td>\n",
       "      <td>[]</td>\n",
       "      <td>2.736954</td>\n",
       "      <td>NaN</td>\n",
       "      <td>NaN</td>\n",
       "    </tr>\n",
       "    <tr>\n",
       "      <th>7890</th>\n",
       "      <td>Juventus FC</td>\n",
       "      <td>Arturo Vidal</td>\n",
       "      <td>24.0</td>\n",
       "      <td>Central Midfield</td>\n",
       "      <td>Bay. Leverkusen</td>\n",
       "      <td>£11.25m</td>\n",
       "      <td>in</td>\n",
       "      <td>11.250</td>\n",
       "      <td>2011</td>\n",
       "      <td>2</td>\n",
       "      <td>5</td>\n",
       "      <td>0.0</td>\n",
       "      <td>[]</td>\n",
       "      <td>5.313813</td>\n",
       "      <td>1.403846</td>\n",
       "      <td>0.941506</td>\n",
       "    </tr>\n",
       "    <tr>\n",
       "      <th>7891</th>\n",
       "      <td>Bayern Munich</td>\n",
       "      <td>Arturo Vidal</td>\n",
       "      <td>28.0</td>\n",
       "      <td>Central Midfield</td>\n",
       "      <td>Juventus</td>\n",
       "      <td>£35.33m</td>\n",
       "      <td>in</td>\n",
       "      <td>35.330</td>\n",
       "      <td>2015</td>\n",
       "      <td>3</td>\n",
       "      <td>5</td>\n",
       "      <td>1.0</td>\n",
       "      <td>[Kingsley Coman]</td>\n",
       "      <td>18.517892</td>\n",
       "      <td>2.140444</td>\n",
       "      <td>2.484860</td>\n",
       "    </tr>\n",
       "    <tr>\n",
       "      <th>7892</th>\n",
       "      <td>FC Barcelona</td>\n",
       "      <td>Arturo Vidal</td>\n",
       "      <td>31.0</td>\n",
       "      <td>Central Midfield</td>\n",
       "      <td>Bayern Munich</td>\n",
       "      <td>£16.20m</td>\n",
       "      <td>in</td>\n",
       "      <td>16.200</td>\n",
       "      <td>2018</td>\n",
       "      <td>4</td>\n",
       "      <td>5</td>\n",
       "      <td>1.0</td>\n",
       "      <td>[Rafinha]</td>\n",
       "      <td>12.031901</td>\n",
       "      <td>-0.541466</td>\n",
       "      <td>-0.350255</td>\n",
       "    </tr>\n",
       "    <tr>\n",
       "      <th>25467</th>\n",
       "      <td>Bayern Munich</td>\n",
       "      <td>Franck Ribery</td>\n",
       "      <td>24.0</td>\n",
       "      <td>Left Winger</td>\n",
       "      <td>Marseille</td>\n",
       "      <td>£27.00m</td>\n",
       "      <td>in</td>\n",
       "      <td>27.000</td>\n",
       "      <td>2007</td>\n",
       "      <td>3</td>\n",
       "      <td>4</td>\n",
       "      <td>0.0</td>\n",
       "      <td>[]</td>\n",
       "      <td>12.753151</td>\n",
       "      <td>NaN</td>\n",
       "      <td>NaN</td>\n",
       "    </tr>\n",
       "    <tr>\n",
       "      <th>44770</th>\n",
       "      <td>Brescia Calcio</td>\n",
       "      <td>Luca Toni</td>\n",
       "      <td>24.0</td>\n",
       "      <td>Centre-Forward</td>\n",
       "      <td>Vicenza</td>\n",
       "      <td>£4.50m</td>\n",
       "      <td>in</td>\n",
       "      <td>4.500</td>\n",
       "      <td>2001</td>\n",
       "      <td>2</td>\n",
       "      <td>10</td>\n",
       "      <td>0.0</td>\n",
       "      <td>[]</td>\n",
       "      <td>2.125525</td>\n",
       "      <td>NaN</td>\n",
       "      <td>NaN</td>\n",
       "    </tr>\n",
       "    <tr>\n",
       "      <th>44771</th>\n",
       "      <td>ACF Fiorentina</td>\n",
       "      <td>Luca Toni</td>\n",
       "      <td>28.0</td>\n",
       "      <td>Centre-Forward</td>\n",
       "      <td>US Palermo</td>\n",
       "      <td>£9.00m</td>\n",
       "      <td>in</td>\n",
       "      <td>9.000</td>\n",
       "      <td>2005</td>\n",
       "      <td>3</td>\n",
       "      <td>10</td>\n",
       "      <td>0.0</td>\n",
       "      <td>[]</td>\n",
       "      <td>4.717267</td>\n",
       "      <td>1.000000</td>\n",
       "      <td>1.219342</td>\n",
       "    </tr>\n",
       "    <tr>\n",
       "      <th>44772</th>\n",
       "      <td>Bayern Munich</td>\n",
       "      <td>Luca Toni</td>\n",
       "      <td>30.0</td>\n",
       "      <td>Centre-Forward</td>\n",
       "      <td>Fiorentina</td>\n",
       "      <td>£9.90m</td>\n",
       "      <td>in</td>\n",
       "      <td>9.900</td>\n",
       "      <td>2007</td>\n",
       "      <td>4</td>\n",
       "      <td>10</td>\n",
       "      <td>0.0</td>\n",
       "      <td>[]</td>\n",
       "      <td>6.297300</td>\n",
       "      <td>0.100000</td>\n",
       "      <td>0.334947</td>\n",
       "    </tr>\n",
       "    <tr>\n",
       "      <th>45090</th>\n",
       "      <td>Bayer 04 Leverkusen</td>\n",
       "      <td>Lucio</td>\n",
       "      <td>22.0</td>\n",
       "      <td>Centre-Back</td>\n",
       "      <td>Internacional</td>\n",
       "      <td>£7.65m</td>\n",
       "      <td>in</td>\n",
       "      <td>7.650</td>\n",
       "      <td>2000</td>\n",
       "      <td>1</td>\n",
       "      <td>6</td>\n",
       "      <td>NaN</td>\n",
       "      <td>[]</td>\n",
       "      <td>3.843099</td>\n",
       "      <td>NaN</td>\n",
       "      <td>NaN</td>\n",
       "    </tr>\n",
       "    <tr>\n",
       "      <th>45091</th>\n",
       "      <td>Bayern Munich</td>\n",
       "      <td>Lucio</td>\n",
       "      <td>26.0</td>\n",
       "      <td>Centre-Back</td>\n",
       "      <td>Bay. Leverkusen</td>\n",
       "      <td>£10.80m</td>\n",
       "      <td>in</td>\n",
       "      <td>10.800</td>\n",
       "      <td>2004</td>\n",
       "      <td>2</td>\n",
       "      <td>6</td>\n",
       "      <td>3.0</td>\n",
       "      <td>[Michael Ballack, Robert Kovac, Ze Roberto]</td>\n",
       "      <td>5.168556</td>\n",
       "      <td>0.411765</td>\n",
       "      <td>0.344893</td>\n",
       "    </tr>\n",
       "    <tr>\n",
       "      <th>45092</th>\n",
       "      <td>Hertha BSC</td>\n",
       "      <td>Lucio</td>\n",
       "      <td>28.0</td>\n",
       "      <td>Left-Back</td>\n",
       "      <td>Palmeiras</td>\n",
       "      <td>£1.58m</td>\n",
       "      <td>in</td>\n",
       "      <td>1.580</td>\n",
       "      <td>2007</td>\n",
       "      <td>3</td>\n",
       "      <td>6</td>\n",
       "      <td>0.0</td>\n",
       "      <td>[]</td>\n",
       "      <td>0.828142</td>\n",
       "      <td>-0.853704</td>\n",
       "      <td>-0.839773</td>\n",
       "    </tr>\n",
       "    <tr>\n",
       "      <th>45093</th>\n",
       "      <td>FC Internazionale</td>\n",
       "      <td>Lucio</td>\n",
       "      <td>31.0</td>\n",
       "      <td>Centre-Back</td>\n",
       "      <td>Bayern Munich</td>\n",
       "      <td>£6.30m</td>\n",
       "      <td>in</td>\n",
       "      <td>6.300</td>\n",
       "      <td>2009</td>\n",
       "      <td>4</td>\n",
       "      <td>6</td>\n",
       "      <td>0.0</td>\n",
       "      <td>[]</td>\n",
       "      <td>4.679073</td>\n",
       "      <td>2.987342</td>\n",
       "      <td>4.650082</td>\n",
       "    </tr>\n",
       "    <tr>\n",
       "      <th>46717</th>\n",
       "      <td>Bayern Munich</td>\n",
       "      <td>Manuel Neuer</td>\n",
       "      <td>25.0</td>\n",
       "      <td>Goalkeeper</td>\n",
       "      <td>FC Schalke 04</td>\n",
       "      <td>£27.00m</td>\n",
       "      <td>in</td>\n",
       "      <td>27.000</td>\n",
       "      <td>2011</td>\n",
       "      <td>2</td>\n",
       "      <td>2</td>\n",
       "      <td>1.0</td>\n",
       "      <td>[Rafinha]</td>\n",
       "      <td>12.720221</td>\n",
       "      <td>NaN</td>\n",
       "      <td>NaN</td>\n",
       "    </tr>\n",
       "    <tr>\n",
       "      <th>48304</th>\n",
       "      <td>Bayern Munich</td>\n",
       "      <td>Mario Gomez</td>\n",
       "      <td>23.0</td>\n",
       "      <td>Centre-Forward</td>\n",
       "      <td>VfB Stuttgart</td>\n",
       "      <td>£27.00m</td>\n",
       "      <td>in</td>\n",
       "      <td>27.000</td>\n",
       "      <td>2009</td>\n",
       "      <td>2</td>\n",
       "      <td>5</td>\n",
       "      <td>0.0</td>\n",
       "      <td>[]</td>\n",
       "      <td>13.023873</td>\n",
       "      <td>NaN</td>\n",
       "      <td>NaN</td>\n",
       "    </tr>\n",
       "    <tr>\n",
       "      <th>48305</th>\n",
       "      <td>ACF Fiorentina</td>\n",
       "      <td>Mario Gomez</td>\n",
       "      <td>28.0</td>\n",
       "      <td>Centre-Forward</td>\n",
       "      <td>Bayern Munich</td>\n",
       "      <td>£13.95m</td>\n",
       "      <td>in</td>\n",
       "      <td>13.950</td>\n",
       "      <td>2013</td>\n",
       "      <td>3</td>\n",
       "      <td>5</td>\n",
       "      <td>0.0</td>\n",
       "      <td>[]</td>\n",
       "      <td>7.311763</td>\n",
       "      <td>-0.483333</td>\n",
       "      <td>-0.438588</td>\n",
       "    </tr>\n",
       "    <tr>\n",
       "      <th>48306</th>\n",
       "      <td>VfL Wolfsburg</td>\n",
       "      <td>Mario Gomez</td>\n",
       "      <td>31.0</td>\n",
       "      <td>Centre-Forward</td>\n",
       "      <td>Fiorentina</td>\n",
       "      <td>£945Th.</td>\n",
       "      <td>in</td>\n",
       "      <td>0.945</td>\n",
       "      <td>2016</td>\n",
       "      <td>4</td>\n",
       "      <td>5</td>\n",
       "      <td>3.0</td>\n",
       "      <td>[Christian Trasch, Jakub Blaszczykowski, Luiz ...</td>\n",
       "      <td>0.701861</td>\n",
       "      <td>-0.932258</td>\n",
       "      <td>-0.904009</td>\n",
       "    </tr>\n",
       "    <tr>\n",
       "      <th>48307</th>\n",
       "      <td>VfB Stuttgart</td>\n",
       "      <td>Mario Gomez</td>\n",
       "      <td>32.0</td>\n",
       "      <td>Centre-Forward</td>\n",
       "      <td>VfL Wolfsburg</td>\n",
       "      <td>£2.70m</td>\n",
       "      <td>in</td>\n",
       "      <td>2.700</td>\n",
       "      <td>2017</td>\n",
       "      <td>5</td>\n",
       "      <td>5</td>\n",
       "      <td>5.0</td>\n",
       "      <td>[Georg Niedermeier, Andreas Beck, Daniel Didav...</td>\n",
       "      <td>2.494890</td>\n",
       "      <td>1.857143</td>\n",
       "      <td>2.554679</td>\n",
       "    </tr>\n",
       "    <tr>\n",
       "      <th>50311</th>\n",
       "      <td>Borussia Dortmund</td>\n",
       "      <td>Mats Hummels</td>\n",
       "      <td>20.0</td>\n",
       "      <td>Centre-Back</td>\n",
       "      <td>Bayern Munich</td>\n",
       "      <td>£3.78m</td>\n",
       "      <td>in</td>\n",
       "      <td>3.780</td>\n",
       "      <td>2009</td>\n",
       "      <td>4</td>\n",
       "      <td>6</td>\n",
       "      <td>17.0</td>\n",
       "      <td>[Dede, Tamas Hajnal, Mohamed Zidan, Nuri Sahin...</td>\n",
       "      <td>2.210617</td>\n",
       "      <td>NaN</td>\n",
       "      <td>NaN</td>\n",
       "    </tr>\n",
       "    <tr>\n",
       "      <th>50312</th>\n",
       "      <td>Bayern Munich</td>\n",
       "      <td>Mats Hummels</td>\n",
       "      <td>27.0</td>\n",
       "      <td>Centre-Back</td>\n",
       "      <td>Bor. Dortmund</td>\n",
       "      <td>£31.50m</td>\n",
       "      <td>in</td>\n",
       "      <td>31.500</td>\n",
       "      <td>2016</td>\n",
       "      <td>5</td>\n",
       "      <td>6</td>\n",
       "      <td>2.0</td>\n",
       "      <td>[Robert Lewandowski, Philipp Lahm]</td>\n",
       "      <td>15.609630</td>\n",
       "      <td>7.333333</td>\n",
       "      <td>6.061210</td>\n",
       "    </tr>\n",
       "    <tr>\n",
       "      <th>50313</th>\n",
       "      <td>Borussia Dortmund</td>\n",
       "      <td>Mats Hummels</td>\n",
       "      <td>30.0</td>\n",
       "      <td>Centre-Back</td>\n",
       "      <td>Bayern Munich</td>\n",
       "      <td>£27.45m</td>\n",
       "      <td>in</td>\n",
       "      <td>27.450</td>\n",
       "      <td>2019</td>\n",
       "      <td>6</td>\n",
       "      <td>6</td>\n",
       "      <td>5.0</td>\n",
       "      <td>[Roman Burki, Mario Gotze, Marcel Schmelzer, L...</td>\n",
       "      <td>17.460695</td>\n",
       "      <td>-0.128571</td>\n",
       "      <td>0.118585</td>\n",
       "    </tr>\n",
       "    <tr>\n",
       "      <th>53516</th>\n",
       "      <td>SV Werder Bremen</td>\n",
       "      <td>Miroslav Klose</td>\n",
       "      <td>26.0</td>\n",
       "      <td>Centre-Forward</td>\n",
       "      <td>1.FC K'lautern</td>\n",
       "      <td>£4.50m</td>\n",
       "      <td>in</td>\n",
       "      <td>4.500</td>\n",
       "      <td>2004</td>\n",
       "      <td>2</td>\n",
       "      <td>4</td>\n",
       "      <td>0.0</td>\n",
       "      <td>[]</td>\n",
       "      <td>2.153565</td>\n",
       "      <td>NaN</td>\n",
       "      <td>NaN</td>\n",
       "    </tr>\n",
       "    <tr>\n",
       "      <th>53517</th>\n",
       "      <td>Bayern Munich</td>\n",
       "      <td>Miroslav Klose</td>\n",
       "      <td>29.0</td>\n",
       "      <td>Centre-Forward</td>\n",
       "      <td>Werder Bremen</td>\n",
       "      <td>£13.50m</td>\n",
       "      <td>in</td>\n",
       "      <td>13.500</td>\n",
       "      <td>2007</td>\n",
       "      <td>3</td>\n",
       "      <td>4</td>\n",
       "      <td>0.0</td>\n",
       "      <td>[]</td>\n",
       "      <td>7.673694</td>\n",
       "      <td>2.000000</td>\n",
       "      <td>2.563252</td>\n",
       "    </tr>\n",
       "    <tr>\n",
       "      <th>65515</th>\n",
       "      <td>CD Tenerife</td>\n",
       "      <td>Roy Makaay</td>\n",
       "      <td>22.0</td>\n",
       "      <td>Centre-Forward</td>\n",
       "      <td>Vitesse</td>\n",
       "      <td>£5.40m</td>\n",
       "      <td>in</td>\n",
       "      <td>5.400</td>\n",
       "      <td>1997</td>\n",
       "      <td>2</td>\n",
       "      <td>5</td>\n",
       "      <td>1.0</td>\n",
       "      <td>[Ferdi Vierklau]</td>\n",
       "      <td>2.712776</td>\n",
       "      <td>NaN</td>\n",
       "      <td>NaN</td>\n",
       "    </tr>\n",
       "    <tr>\n",
       "      <th>65516</th>\n",
       "      <td>Deportivo de La Coruña</td>\n",
       "      <td>Roy Makaay</td>\n",
       "      <td>24.0</td>\n",
       "      <td>Centre-Forward</td>\n",
       "      <td>CD Tenerife</td>\n",
       "      <td>£7.74m</td>\n",
       "      <td>in</td>\n",
       "      <td>7.740</td>\n",
       "      <td>1999</td>\n",
       "      <td>3</td>\n",
       "      <td>5</td>\n",
       "      <td>1.0</td>\n",
       "      <td>[Slavisa Jokanovic]</td>\n",
       "      <td>3.655903</td>\n",
       "      <td>0.433333</td>\n",
       "      <td>0.347661</td>\n",
       "    </tr>\n",
       "    <tr>\n",
       "      <th>65517</th>\n",
       "      <td>Bayern Munich</td>\n",
       "      <td>Roy Makaay</td>\n",
       "      <td>28.0</td>\n",
       "      <td>Centre-Forward</td>\n",
       "      <td>Dep. La Coruña</td>\n",
       "      <td>£17.78m</td>\n",
       "      <td>in</td>\n",
       "      <td>17.780</td>\n",
       "      <td>2003</td>\n",
       "      <td>4</td>\n",
       "      <td>5</td>\n",
       "      <td>0.0</td>\n",
       "      <td>[]</td>\n",
       "      <td>9.319222</td>\n",
       "      <td>1.297158</td>\n",
       "      <td>1.549089</td>\n",
       "    </tr>\n",
       "    <tr>\n",
       "      <th>65518</th>\n",
       "      <td>Feyenoord Rotterdam</td>\n",
       "      <td>Roy Makaay</td>\n",
       "      <td>32.0</td>\n",
       "      <td>Centre-Forward</td>\n",
       "      <td>Bayern Munich</td>\n",
       "      <td>£4.50m</td>\n",
       "      <td>in</td>\n",
       "      <td>4.500</td>\n",
       "      <td>2007</td>\n",
       "      <td>5</td>\n",
       "      <td>5</td>\n",
       "      <td>0.0</td>\n",
       "      <td>[]</td>\n",
       "      <td>4.158151</td>\n",
       "      <td>-0.746907</td>\n",
       "      <td>-0.553809</td>\n",
       "    </tr>\n",
       "    <tr>\n",
       "      <th>78553</th>\n",
       "      <td>Real Madrid</td>\n",
       "      <td>Ze Roberto</td>\n",
       "      <td>22.0</td>\n",
       "      <td>Left Midfield</td>\n",
       "      <td>Portuguesa</td>\n",
       "      <td>£8.10m</td>\n",
       "      <td>in</td>\n",
       "      <td>8.100</td>\n",
       "      <td>1996</td>\n",
       "      <td>1</td>\n",
       "      <td>13</td>\n",
       "      <td>NaN</td>\n",
       "      <td>[]</td>\n",
       "      <td>4.069164</td>\n",
       "      <td>NaN</td>\n",
       "      <td>NaN</td>\n",
       "    </tr>\n",
       "    <tr>\n",
       "      <th>78554</th>\n",
       "      <td>Bayer 04 Leverkusen</td>\n",
       "      <td>Ze Roberto</td>\n",
       "      <td>23.0</td>\n",
       "      <td>Left Midfield</td>\n",
       "      <td>Real Madrid</td>\n",
       "      <td>£6.30m</td>\n",
       "      <td>in</td>\n",
       "      <td>6.300</td>\n",
       "      <td>1998</td>\n",
       "      <td>2</td>\n",
       "      <td>13</td>\n",
       "      <td>0.0</td>\n",
       "      <td>[]</td>\n",
       "      <td>3.038904</td>\n",
       "      <td>-0.222222</td>\n",
       "      <td>-0.253187</td>\n",
       "    </tr>\n",
       "    <tr>\n",
       "      <th>78558</th>\n",
       "      <td>Bayern Munich</td>\n",
       "      <td>Ze Roberto</td>\n",
       "      <td>27.0</td>\n",
       "      <td>Left Midfield</td>\n",
       "      <td>Bay. Leverkusen</td>\n",
       "      <td>£8.55m</td>\n",
       "      <td>in</td>\n",
       "      <td>8.550</td>\n",
       "      <td>2002</td>\n",
       "      <td>6</td>\n",
       "      <td>13</td>\n",
       "      <td>0.0</td>\n",
       "      <td>[]</td>\n",
       "      <td>4.236900</td>\n",
       "      <td>0.357143</td>\n",
       "      <td>0.394220</td>\n",
       "    </tr>\n",
       "    <tr>\n",
       "      <th>78563</th>\n",
       "      <td>FC Schalke 04</td>\n",
       "      <td>Ze Roberto</td>\n",
       "      <td>27.0</td>\n",
       "      <td>Attacking Midfield</td>\n",
       "      <td>Botafogo</td>\n",
       "      <td>£2.70m</td>\n",
       "      <td>in</td>\n",
       "      <td>2.700</td>\n",
       "      <td>2007</td>\n",
       "      <td>11</td>\n",
       "      <td>13</td>\n",
       "      <td>0.0</td>\n",
       "      <td>[]</td>\n",
       "      <td>1.337968</td>\n",
       "      <td>-0.684211</td>\n",
       "      <td>-0.684211</td>\n",
       "    </tr>\n",
       "    <tr>\n",
       "      <th>78564</th>\n",
       "      <td>Hamburger SV</td>\n",
       "      <td>Ze Roberto</td>\n",
       "      <td>34.0</td>\n",
       "      <td>Left Midfield</td>\n",
       "      <td>Nacional</td>\n",
       "      <td>£3.60m</td>\n",
       "      <td>in</td>\n",
       "      <td>3.600</td>\n",
       "      <td>2009</td>\n",
       "      <td>12</td>\n",
       "      <td>13</td>\n",
       "      <td>0.0</td>\n",
       "      <td>[]</td>\n",
       "      <td>8.215183</td>\n",
       "      <td>0.333333</td>\n",
       "      <td>5.140043</td>\n",
       "    </tr>\n",
       "  </tbody>\n",
       "</table>\n",
       "</div>"
      ],
      "text/plain": [
       "                    club_name     player_name   age            position  \\\n",
       "7405            PSV Eindhoven    Arjen Robben  18.0        Right Winger   \n",
       "7406               Chelsea FC    Arjen Robben  20.0        Right Winger   \n",
       "7407              Real Madrid    Arjen Robben  23.0        Right Winger   \n",
       "7408            Bayern Munich    Arjen Robben  25.0        Right Winger   \n",
       "7889      Bayer 04 Leverkusen    Arturo Vidal  20.0    Central Midfield   \n",
       "7890              Juventus FC    Arturo Vidal  24.0    Central Midfield   \n",
       "7891            Bayern Munich    Arturo Vidal  28.0    Central Midfield   \n",
       "7892             FC Barcelona    Arturo Vidal  31.0    Central Midfield   \n",
       "25467           Bayern Munich   Franck Ribery  24.0         Left Winger   \n",
       "44770          Brescia Calcio       Luca Toni  24.0      Centre-Forward   \n",
       "44771          ACF Fiorentina       Luca Toni  28.0      Centre-Forward   \n",
       "44772           Bayern Munich       Luca Toni  30.0      Centre-Forward   \n",
       "45090     Bayer 04 Leverkusen           Lucio  22.0         Centre-Back   \n",
       "45091           Bayern Munich           Lucio  26.0         Centre-Back   \n",
       "45092              Hertha BSC           Lucio  28.0           Left-Back   \n",
       "45093       FC Internazionale           Lucio  31.0         Centre-Back   \n",
       "46717           Bayern Munich    Manuel Neuer  25.0          Goalkeeper   \n",
       "48304           Bayern Munich     Mario Gomez  23.0      Centre-Forward   \n",
       "48305          ACF Fiorentina     Mario Gomez  28.0      Centre-Forward   \n",
       "48306           VfL Wolfsburg     Mario Gomez  31.0      Centre-Forward   \n",
       "48307           VfB Stuttgart     Mario Gomez  32.0      Centre-Forward   \n",
       "50311       Borussia Dortmund    Mats Hummels  20.0         Centre-Back   \n",
       "50312           Bayern Munich    Mats Hummels  27.0         Centre-Back   \n",
       "50313       Borussia Dortmund    Mats Hummels  30.0         Centre-Back   \n",
       "53516        SV Werder Bremen  Miroslav Klose  26.0      Centre-Forward   \n",
       "53517           Bayern Munich  Miroslav Klose  29.0      Centre-Forward   \n",
       "65515             CD Tenerife      Roy Makaay  22.0      Centre-Forward   \n",
       "65516  Deportivo de La Coruña      Roy Makaay  24.0      Centre-Forward   \n",
       "65517           Bayern Munich      Roy Makaay  28.0      Centre-Forward   \n",
       "65518     Feyenoord Rotterdam      Roy Makaay  32.0      Centre-Forward   \n",
       "78553             Real Madrid      Ze Roberto  22.0       Left Midfield   \n",
       "78554     Bayer 04 Leverkusen      Ze Roberto  23.0       Left Midfield   \n",
       "78558           Bayern Munich      Ze Roberto  27.0       Left Midfield   \n",
       "78563           FC Schalke 04      Ze Roberto  27.0  Attacking Midfield   \n",
       "78564            Hamburger SV      Ze Roberto  34.0       Left Midfield   \n",
       "\n",
       "      club_involved_name      fee transfer_movement  fee_cleaned  year  \\\n",
       "7405        FC Groningen   £3.87m                in        3.870  2002   \n",
       "7406       PSV Eindhoven  £16.20m                in       16.200  2004   \n",
       "7407             Chelsea  £31.50m                in       31.500  2007   \n",
       "7408         Real Madrid  £22.50m                in       22.500  2009   \n",
       "7889           Colo Colo   £4.68m                in        4.680  2007   \n",
       "7890     Bay. Leverkusen  £11.25m                in       11.250  2011   \n",
       "7891            Juventus  £35.33m                in       35.330  2015   \n",
       "7892       Bayern Munich  £16.20m                in       16.200  2018   \n",
       "25467          Marseille  £27.00m                in       27.000  2007   \n",
       "44770            Vicenza   £4.50m                in        4.500  2001   \n",
       "44771         US Palermo   £9.00m                in        9.000  2005   \n",
       "44772         Fiorentina   £9.90m                in        9.900  2007   \n",
       "45090      Internacional   £7.65m                in        7.650  2000   \n",
       "45091    Bay. Leverkusen  £10.80m                in       10.800  2004   \n",
       "45092          Palmeiras   £1.58m                in        1.580  2007   \n",
       "45093      Bayern Munich   £6.30m                in        6.300  2009   \n",
       "46717      FC Schalke 04  £27.00m                in       27.000  2011   \n",
       "48304      VfB Stuttgart  £27.00m                in       27.000  2009   \n",
       "48305      Bayern Munich  £13.95m                in       13.950  2013   \n",
       "48306         Fiorentina  £945Th.                in        0.945  2016   \n",
       "48307      VfL Wolfsburg   £2.70m                in        2.700  2017   \n",
       "50311      Bayern Munich   £3.78m                in        3.780  2009   \n",
       "50312      Bor. Dortmund  £31.50m                in       31.500  2016   \n",
       "50313      Bayern Munich  £27.45m                in       27.450  2019   \n",
       "53516     1.FC K'lautern   £4.50m                in        4.500  2004   \n",
       "53517      Werder Bremen  £13.50m                in       13.500  2007   \n",
       "65515            Vitesse   £5.40m                in        5.400  1997   \n",
       "65516        CD Tenerife   £7.74m                in        7.740  1999   \n",
       "65517     Dep. La Coruña  £17.78m                in       17.780  2003   \n",
       "65518      Bayern Munich   £4.50m                in        4.500  2007   \n",
       "78553         Portuguesa   £8.10m                in        8.100  1996   \n",
       "78554        Real Madrid   £6.30m                in        6.300  1998   \n",
       "78558    Bay. Leverkusen   £8.55m                in        8.550  2002   \n",
       "78563           Botafogo   £2.70m                in        2.700  2007   \n",
       "78564           Nacional   £3.60m                in        3.600  2009   \n",
       "\n",
       "       num_transfer  max_transfer     k  \\\n",
       "7405              2             6   0.0   \n",
       "7406              3             6   2.0   \n",
       "7407              4             6   0.0   \n",
       "7408              5             6   1.0   \n",
       "7889              1             5   NaN   \n",
       "7890              2             5   0.0   \n",
       "7891              3             5   1.0   \n",
       "7892              4             5   1.0   \n",
       "25467             3             4   0.0   \n",
       "44770             2            10   0.0   \n",
       "44771             3            10   0.0   \n",
       "44772             4            10   0.0   \n",
       "45090             1             6   NaN   \n",
       "45091             2             6   3.0   \n",
       "45092             3             6   0.0   \n",
       "45093             4             6   0.0   \n",
       "46717             2             2   1.0   \n",
       "48304             2             5   0.0   \n",
       "48305             3             5   0.0   \n",
       "48306             4             5   3.0   \n",
       "48307             5             5   5.0   \n",
       "50311             4             6  17.0   \n",
       "50312             5             6   2.0   \n",
       "50313             6             6   5.0   \n",
       "53516             2             4   0.0   \n",
       "53517             3             4   0.0   \n",
       "65515             2             5   1.0   \n",
       "65516             3             5   1.0   \n",
       "65517             4             5   0.0   \n",
       "65518             5             5   0.0   \n",
       "78553             1            13   NaN   \n",
       "78554             2            13   0.0   \n",
       "78558             6            13   0.0   \n",
       "78563            11            13   0.0   \n",
       "78564            12            13   0.0   \n",
       "\n",
       "                                                  k_name  adjusted_fee  \\\n",
       "7405                                                  []      3.034889   \n",
       "7406                   [Eidur Gudjohnsen, Mateja Kezman]      9.474073   \n",
       "7407                                                  []     15.194519   \n",
       "7408                                   [Mark van Bommel]     10.600184   \n",
       "7889                                                  []      2.736954   \n",
       "7890                                                  []      5.313813   \n",
       "7891                                    [Kingsley Coman]     18.517892   \n",
       "7892                                           [Rafinha]     12.031901   \n",
       "25467                                                 []     12.753151   \n",
       "44770                                                 []      2.125525   \n",
       "44771                                                 []      4.717267   \n",
       "44772                                                 []      6.297300   \n",
       "45090                                                 []      3.843099   \n",
       "45091        [Michael Ballack, Robert Kovac, Ze Roberto]      5.168556   \n",
       "45092                                                 []      0.828142   \n",
       "45093                                                 []      4.679073   \n",
       "46717                                          [Rafinha]     12.720221   \n",
       "48304                                                 []     13.023873   \n",
       "48305                                                 []      7.311763   \n",
       "48306  [Christian Trasch, Jakub Blaszczykowski, Luiz ...      0.701861   \n",
       "48307  [Georg Niedermeier, Andreas Beck, Daniel Didav...      2.494890   \n",
       "50311  [Dede, Tamas Hajnal, Mohamed Zidan, Nuri Sahin...      2.210617   \n",
       "50312                 [Robert Lewandowski, Philipp Lahm]     15.609630   \n",
       "50313  [Roman Burki, Mario Gotze, Marcel Schmelzer, L...     17.460695   \n",
       "53516                                                 []      2.153565   \n",
       "53517                                                 []      7.673694   \n",
       "65515                                   [Ferdi Vierklau]      2.712776   \n",
       "65516                                [Slavisa Jokanovic]      3.655903   \n",
       "65517                                                 []      9.319222   \n",
       "65518                                                 []      4.158151   \n",
       "78553                                                 []      4.069164   \n",
       "78554                                                 []      3.038904   \n",
       "78558                                                 []      4.236900   \n",
       "78563                                                 []      1.337968   \n",
       "78564                                                 []      8.215183   \n",
       "\n",
       "       perf_change  perf_change_adjusted  \n",
       "7405           NaN                   NaN  \n",
       "7406      3.186047              2.121720  \n",
       "7407      0.944444              0.603800  \n",
       "7408     -0.285714             -0.302368  \n",
       "7889           NaN                   NaN  \n",
       "7890      1.403846              0.941506  \n",
       "7891      2.140444              2.484860  \n",
       "7892     -0.541466             -0.350255  \n",
       "25467          NaN                   NaN  \n",
       "44770          NaN                   NaN  \n",
       "44771     1.000000              1.219342  \n",
       "44772     0.100000              0.334947  \n",
       "45090          NaN                   NaN  \n",
       "45091     0.411765              0.344893  \n",
       "45092    -0.853704             -0.839773  \n",
       "45093     2.987342              4.650082  \n",
       "46717          NaN                   NaN  \n",
       "48304          NaN                   NaN  \n",
       "48305    -0.483333             -0.438588  \n",
       "48306    -0.932258             -0.904009  \n",
       "48307     1.857143              2.554679  \n",
       "50311          NaN                   NaN  \n",
       "50312     7.333333              6.061210  \n",
       "50313    -0.128571              0.118585  \n",
       "53516          NaN                   NaN  \n",
       "53517     2.000000              2.563252  \n",
       "65515          NaN                   NaN  \n",
       "65516     0.433333              0.347661  \n",
       "65517     1.297158              1.549089  \n",
       "65518    -0.746907             -0.553809  \n",
       "78553          NaN                   NaN  \n",
       "78554    -0.222222             -0.253187  \n",
       "78558     0.357143              0.394220  \n",
       "78563    -0.684211             -0.684211  \n",
       "78564     0.333333              5.140043  "
      ]
     },
     "execution_count": 159,
     "metadata": {},
     "output_type": "execute_result"
    }
   ],
   "source": [
    "top_eval[top_eval['player_name'].isin(player_in_bayern)]"
   ]
  },
  {
   "cell_type": "code",
   "execution_count": 160,
   "metadata": {
    "ExecuteTime": {
     "end_time": "2020-12-13T02:38:39.002136Z",
     "start_time": "2020-12-13T02:38:38.951975Z"
    }
   },
   "outputs": [
    {
     "data": {
      "text/html": [
       "<div>\n",
       "<style scoped>\n",
       "    .dataframe tbody tr th:only-of-type {\n",
       "        vertical-align: middle;\n",
       "    }\n",
       "\n",
       "    .dataframe tbody tr th {\n",
       "        vertical-align: top;\n",
       "    }\n",
       "\n",
       "    .dataframe thead th {\n",
       "        text-align: right;\n",
       "    }\n",
       "</style>\n",
       "<table border=\"1\" class=\"dataframe\">\n",
       "  <thead>\n",
       "    <tr style=\"text-align: right;\">\n",
       "      <th></th>\n",
       "      <th>club_name</th>\n",
       "      <th>player_name</th>\n",
       "      <th>age</th>\n",
       "      <th>position</th>\n",
       "      <th>club_involved_name</th>\n",
       "      <th>fee</th>\n",
       "      <th>transfer_movement</th>\n",
       "      <th>fee_cleaned</th>\n",
       "      <th>year</th>\n",
       "      <th>num_transfer</th>\n",
       "      <th>max_transfer</th>\n",
       "      <th>k</th>\n",
       "      <th>k_name</th>\n",
       "      <th>adjusted_fee</th>\n",
       "      <th>perf_change</th>\n",
       "      <th>perf_change_adjusted</th>\n",
       "    </tr>\n",
       "  </thead>\n",
       "  <tbody>\n",
       "    <tr>\n",
       "      <th>7889</th>\n",
       "      <td>Bayer 04 Leverkusen</td>\n",
       "      <td>Arturo Vidal</td>\n",
       "      <td>20.0</td>\n",
       "      <td>Central Midfield</td>\n",
       "      <td>Colo Colo</td>\n",
       "      <td>£4.68m</td>\n",
       "      <td>in</td>\n",
       "      <td>4.68</td>\n",
       "      <td>2007</td>\n",
       "      <td>1</td>\n",
       "      <td>5</td>\n",
       "      <td>NaN</td>\n",
       "      <td>[]</td>\n",
       "      <td>2.736954</td>\n",
       "      <td>NaN</td>\n",
       "      <td>NaN</td>\n",
       "    </tr>\n",
       "    <tr>\n",
       "      <th>7890</th>\n",
       "      <td>Juventus FC</td>\n",
       "      <td>Arturo Vidal</td>\n",
       "      <td>24.0</td>\n",
       "      <td>Central Midfield</td>\n",
       "      <td>Bay. Leverkusen</td>\n",
       "      <td>£11.25m</td>\n",
       "      <td>in</td>\n",
       "      <td>11.25</td>\n",
       "      <td>2011</td>\n",
       "      <td>2</td>\n",
       "      <td>5</td>\n",
       "      <td>0.0</td>\n",
       "      <td>[]</td>\n",
       "      <td>5.313813</td>\n",
       "      <td>1.403846</td>\n",
       "      <td>0.941506</td>\n",
       "    </tr>\n",
       "    <tr>\n",
       "      <th>7891</th>\n",
       "      <td>Bayern Munich</td>\n",
       "      <td>Arturo Vidal</td>\n",
       "      <td>28.0</td>\n",
       "      <td>Central Midfield</td>\n",
       "      <td>Juventus</td>\n",
       "      <td>£35.33m</td>\n",
       "      <td>in</td>\n",
       "      <td>35.33</td>\n",
       "      <td>2015</td>\n",
       "      <td>3</td>\n",
       "      <td>5</td>\n",
       "      <td>1.0</td>\n",
       "      <td>[Kingsley Coman]</td>\n",
       "      <td>18.517892</td>\n",
       "      <td>2.140444</td>\n",
       "      <td>2.484860</td>\n",
       "    </tr>\n",
       "    <tr>\n",
       "      <th>7892</th>\n",
       "      <td>FC Barcelona</td>\n",
       "      <td>Arturo Vidal</td>\n",
       "      <td>31.0</td>\n",
       "      <td>Central Midfield</td>\n",
       "      <td>Bayern Munich</td>\n",
       "      <td>£16.20m</td>\n",
       "      <td>in</td>\n",
       "      <td>16.20</td>\n",
       "      <td>2018</td>\n",
       "      <td>4</td>\n",
       "      <td>5</td>\n",
       "      <td>1.0</td>\n",
       "      <td>[Rafinha]</td>\n",
       "      <td>12.031901</td>\n",
       "      <td>-0.541466</td>\n",
       "      <td>-0.350255</td>\n",
       "    </tr>\n",
       "    <tr>\n",
       "      <th>12246</th>\n",
       "      <td>Arsenal FC</td>\n",
       "      <td>Cesc Fabregas</td>\n",
       "      <td>16.0</td>\n",
       "      <td>Central Midfield</td>\n",
       "      <td>Barça U16</td>\n",
       "      <td>£2.88m</td>\n",
       "      <td>in</td>\n",
       "      <td>2.88</td>\n",
       "      <td>2003</td>\n",
       "      <td>1</td>\n",
       "      <td>4</td>\n",
       "      <td>NaN</td>\n",
       "      <td>[]</td>\n",
       "      <td>2.880000</td>\n",
       "      <td>NaN</td>\n",
       "      <td>NaN</td>\n",
       "    </tr>\n",
       "    <tr>\n",
       "      <th>12247</th>\n",
       "      <td>FC Barcelona</td>\n",
       "      <td>Cesc Fabregas</td>\n",
       "      <td>24.0</td>\n",
       "      <td>Central Midfield</td>\n",
       "      <td>Arsenal</td>\n",
       "      <td>£30.60m</td>\n",
       "      <td>in</td>\n",
       "      <td>30.60</td>\n",
       "      <td>2011</td>\n",
       "      <td>2</td>\n",
       "      <td>4</td>\n",
       "      <td>0.0</td>\n",
       "      <td>[]</td>\n",
       "      <td>14.453571</td>\n",
       "      <td>9.625000</td>\n",
       "      <td>4.018601</td>\n",
       "    </tr>\n",
       "    <tr>\n",
       "      <th>12248</th>\n",
       "      <td>Chelsea FC</td>\n",
       "      <td>Cesc Fabregas</td>\n",
       "      <td>27.0</td>\n",
       "      <td>Central Midfield</td>\n",
       "      <td>FC Barcelona</td>\n",
       "      <td>£29.70m</td>\n",
       "      <td>in</td>\n",
       "      <td>29.70</td>\n",
       "      <td>2014</td>\n",
       "      <td>3</td>\n",
       "      <td>4</td>\n",
       "      <td>0.0</td>\n",
       "      <td>[]</td>\n",
       "      <td>14.717652</td>\n",
       "      <td>-0.029412</td>\n",
       "      <td>0.018271</td>\n",
       "    </tr>\n",
       "    <tr>\n",
       "      <th>12249</th>\n",
       "      <td>AS Monaco</td>\n",
       "      <td>Cesc Fabregas</td>\n",
       "      <td>31.0</td>\n",
       "      <td>Central Midfield</td>\n",
       "      <td>Chelsea</td>\n",
       "      <td>£8.10m</td>\n",
       "      <td>in</td>\n",
       "      <td>8.10</td>\n",
       "      <td>2018</td>\n",
       "      <td>4</td>\n",
       "      <td>4</td>\n",
       "      <td>1.0</td>\n",
       "      <td>[Falcao]</td>\n",
       "      <td>6.015951</td>\n",
       "      <td>-0.727273</td>\n",
       "      <td>-0.591242</td>\n",
       "    </tr>\n",
       "    <tr>\n",
       "      <th>17805</th>\n",
       "      <td>Valencia CF</td>\n",
       "      <td>David Villa</td>\n",
       "      <td>23.0</td>\n",
       "      <td>Centre-Forward</td>\n",
       "      <td>Real Zaragoza</td>\n",
       "      <td>£10.80m</td>\n",
       "      <td>in</td>\n",
       "      <td>10.80</td>\n",
       "      <td>2005</td>\n",
       "      <td>1</td>\n",
       "      <td>3</td>\n",
       "      <td>NaN</td>\n",
       "      <td>[]</td>\n",
       "      <td>5.209549</td>\n",
       "      <td>NaN</td>\n",
       "      <td>NaN</td>\n",
       "    </tr>\n",
       "    <tr>\n",
       "      <th>17806</th>\n",
       "      <td>FC Barcelona</td>\n",
       "      <td>David Villa</td>\n",
       "      <td>28.0</td>\n",
       "      <td>Centre-Forward</td>\n",
       "      <td>Valencia</td>\n",
       "      <td>£36.00m</td>\n",
       "      <td>in</td>\n",
       "      <td>36.00</td>\n",
       "      <td>2010</td>\n",
       "      <td>2</td>\n",
       "      <td>3</td>\n",
       "      <td>0.0</td>\n",
       "      <td>[]</td>\n",
       "      <td>18.869066</td>\n",
       "      <td>2.333333</td>\n",
       "      <td>2.622015</td>\n",
       "    </tr>\n",
       "    <tr>\n",
       "      <th>17807</th>\n",
       "      <td>Atlético Madrid</td>\n",
       "      <td>David Villa</td>\n",
       "      <td>31.0</td>\n",
       "      <td>Centre-Forward</td>\n",
       "      <td>FC Barcelona</td>\n",
       "      <td>£1.89m</td>\n",
       "      <td>in</td>\n",
       "      <td>1.89</td>\n",
       "      <td>2013</td>\n",
       "      <td>3</td>\n",
       "      <td>3</td>\n",
       "      <td>0.0</td>\n",
       "      <td>[]</td>\n",
       "      <td>1.403722</td>\n",
       "      <td>-0.947500</td>\n",
       "      <td>-0.925607</td>\n",
       "    </tr>\n",
       "    <tr>\n",
       "      <th>26128</th>\n",
       "      <td>Real Zaragoza</td>\n",
       "      <td>Gabriel Milito</td>\n",
       "      <td>22.0</td>\n",
       "      <td>Centre-Back</td>\n",
       "      <td>Independiente</td>\n",
       "      <td>£3.15m</td>\n",
       "      <td>in</td>\n",
       "      <td>3.15</td>\n",
       "      <td>2003</td>\n",
       "      <td>1</td>\n",
       "      <td>2</td>\n",
       "      <td>NaN</td>\n",
       "      <td>[]</td>\n",
       "      <td>1.582453</td>\n",
       "      <td>NaN</td>\n",
       "      <td>NaN</td>\n",
       "    </tr>\n",
       "    <tr>\n",
       "      <th>26129</th>\n",
       "      <td>FC Barcelona</td>\n",
       "      <td>Gabriel Milito</td>\n",
       "      <td>26.0</td>\n",
       "      <td>Centre-Back</td>\n",
       "      <td>Real Zaragoza</td>\n",
       "      <td>£18.00m</td>\n",
       "      <td>in</td>\n",
       "      <td>18.00</td>\n",
       "      <td>2007</td>\n",
       "      <td>2</td>\n",
       "      <td>2</td>\n",
       "      <td>0.0</td>\n",
       "      <td>[]</td>\n",
       "      <td>8.614260</td>\n",
       "      <td>4.714286</td>\n",
       "      <td>4.443614</td>\n",
       "    </tr>\n",
       "    <tr>\n",
       "      <th>45482</th>\n",
       "      <td>FC Groningen</td>\n",
       "      <td>Luis Suarez</td>\n",
       "      <td>19.0</td>\n",
       "      <td>Centre-Forward</td>\n",
       "      <td>Nacional</td>\n",
       "      <td>£720Th.</td>\n",
       "      <td>in</td>\n",
       "      <td>0.72</td>\n",
       "      <td>2006</td>\n",
       "      <td>1</td>\n",
       "      <td>10</td>\n",
       "      <td>NaN</td>\n",
       "      <td>[]</td>\n",
       "      <td>0.476249</td>\n",
       "      <td>NaN</td>\n",
       "      <td>NaN</td>\n",
       "    </tr>\n",
       "    <tr>\n",
       "      <th>45483</th>\n",
       "      <td>Ajax Amsterdam</td>\n",
       "      <td>Luis Suarez</td>\n",
       "      <td>20.0</td>\n",
       "      <td>Centre-Forward</td>\n",
       "      <td>FC Groningen</td>\n",
       "      <td>£6.75m</td>\n",
       "      <td>in</td>\n",
       "      <td>6.75</td>\n",
       "      <td>2007</td>\n",
       "      <td>2</td>\n",
       "      <td>10</td>\n",
       "      <td>2.0</td>\n",
       "      <td>[Rasmus Lindgren, Bruno Silva]</td>\n",
       "      <td>3.947530</td>\n",
       "      <td>8.375000</td>\n",
       "      <td>7.288792</td>\n",
       "    </tr>\n",
       "    <tr>\n",
       "      <th>45484</th>\n",
       "      <td>Liverpool FC</td>\n",
       "      <td>Luis Suarez</td>\n",
       "      <td>24.0</td>\n",
       "      <td>Centre-Forward</td>\n",
       "      <td>Ajax</td>\n",
       "      <td>£23.85m</td>\n",
       "      <td>in</td>\n",
       "      <td>23.85</td>\n",
       "      <td>2010</td>\n",
       "      <td>3</td>\n",
       "      <td>10</td>\n",
       "      <td>0.0</td>\n",
       "      <td>[]</td>\n",
       "      <td>11.265283</td>\n",
       "      <td>2.533333</td>\n",
       "      <td>1.853755</td>\n",
       "    </tr>\n",
       "    <tr>\n",
       "      <th>45485</th>\n",
       "      <td>FC Barcelona</td>\n",
       "      <td>Luis Suarez</td>\n",
       "      <td>27.0</td>\n",
       "      <td>Centre-Forward</td>\n",
       "      <td>Liverpool</td>\n",
       "      <td>£73.55m</td>\n",
       "      <td>in</td>\n",
       "      <td>73.55</td>\n",
       "      <td>2014</td>\n",
       "      <td>4</td>\n",
       "      <td>10</td>\n",
       "      <td>1.0</td>\n",
       "      <td>[Thomas Vermaelen]</td>\n",
       "      <td>36.447248</td>\n",
       "      <td>2.083857</td>\n",
       "      <td>2.235360</td>\n",
       "    </tr>\n",
       "    <tr>\n",
       "      <th>45491</th>\n",
       "      <td>Granada CF</td>\n",
       "      <td>Luis Suarez</td>\n",
       "      <td>22.0</td>\n",
       "      <td>Centre-Forward</td>\n",
       "      <td>Watford</td>\n",
       "      <td>£6.30m</td>\n",
       "      <td>in</td>\n",
       "      <td>6.30</td>\n",
       "      <td>2020</td>\n",
       "      <td>10</td>\n",
       "      <td>10</td>\n",
       "      <td>0.0</td>\n",
       "      <td>[]</td>\n",
       "      <td>3.164905</td>\n",
       "      <td>-0.914344</td>\n",
       "      <td>-0.913165</td>\n",
       "    </tr>\n",
       "    <tr>\n",
       "      <th>65202</th>\n",
       "      <td>Paris Saint-Germain</td>\n",
       "      <td>Ronaldinho</td>\n",
       "      <td>21.0</td>\n",
       "      <td>Attacking Midfield</td>\n",
       "      <td>Grêmio</td>\n",
       "      <td>£4.50m</td>\n",
       "      <td>in</td>\n",
       "      <td>4.50</td>\n",
       "      <td>2001</td>\n",
       "      <td>1</td>\n",
       "      <td>3</td>\n",
       "      <td>NaN</td>\n",
       "      <td>[]</td>\n",
       "      <td>2.407036</td>\n",
       "      <td>NaN</td>\n",
       "      <td>NaN</td>\n",
       "    </tr>\n",
       "    <tr>\n",
       "      <th>65203</th>\n",
       "      <td>FC Barcelona</td>\n",
       "      <td>Ronaldinho</td>\n",
       "      <td>23.0</td>\n",
       "      <td>Attacking Midfield</td>\n",
       "      <td>Paris SG</td>\n",
       "      <td>£29.03m</td>\n",
       "      <td>in</td>\n",
       "      <td>29.03</td>\n",
       "      <td>2003</td>\n",
       "      <td>2</td>\n",
       "      <td>3</td>\n",
       "      <td>0.0</td>\n",
       "      <td>[]</td>\n",
       "      <td>14.003076</td>\n",
       "      <td>5.451111</td>\n",
       "      <td>4.817559</td>\n",
       "    </tr>\n",
       "    <tr>\n",
       "      <th>65204</th>\n",
       "      <td>AC Milan</td>\n",
       "      <td>Ronaldinho</td>\n",
       "      <td>28.0</td>\n",
       "      <td>Attacking Midfield</td>\n",
       "      <td>FC Barcelona</td>\n",
       "      <td>£21.74m</td>\n",
       "      <td>in</td>\n",
       "      <td>21.74</td>\n",
       "      <td>2008</td>\n",
       "      <td>3</td>\n",
       "      <td>3</td>\n",
       "      <td>1.0</td>\n",
       "      <td>[Gianluca Zambrotta]</td>\n",
       "      <td>11.394820</td>\n",
       "      <td>-0.251120</td>\n",
       "      <td>-0.186263</td>\n",
       "    </tr>\n",
       "    <tr>\n",
       "      <th>67114</th>\n",
       "      <td>RCD Mallorca</td>\n",
       "      <td>Samuel Eto'o</td>\n",
       "      <td>18.0</td>\n",
       "      <td>Centre-Forward</td>\n",
       "      <td>Real Madrid</td>\n",
       "      <td>£4.05m</td>\n",
       "      <td>in</td>\n",
       "      <td>4.05</td>\n",
       "      <td>1999</td>\n",
       "      <td>4</td>\n",
       "      <td>9</td>\n",
       "      <td>0.0</td>\n",
       "      <td>[]</td>\n",
       "      <td>3.176046</td>\n",
       "      <td>NaN</td>\n",
       "      <td>NaN</td>\n",
       "    </tr>\n",
       "    <tr>\n",
       "      <th>67115</th>\n",
       "      <td>FC Barcelona</td>\n",
       "      <td>Samuel Eto'o</td>\n",
       "      <td>23.0</td>\n",
       "      <td>Centre-Forward</td>\n",
       "      <td>RCD Mallorca</td>\n",
       "      <td>£24.30m</td>\n",
       "      <td>in</td>\n",
       "      <td>24.30</td>\n",
       "      <td>2004</td>\n",
       "      <td>5</td>\n",
       "      <td>9</td>\n",
       "      <td>0.0</td>\n",
       "      <td>[]</td>\n",
       "      <td>11.721486</td>\n",
       "      <td>5.000000</td>\n",
       "      <td>2.690591</td>\n",
       "    </tr>\n",
       "    <tr>\n",
       "      <th>67116</th>\n",
       "      <td>FC Internazionale</td>\n",
       "      <td>Samuel Eto'o</td>\n",
       "      <td>28.0</td>\n",
       "      <td>Centre-Forward</td>\n",
       "      <td>FC Barcelona</td>\n",
       "      <td>£18.00m</td>\n",
       "      <td>in</td>\n",
       "      <td>18.00</td>\n",
       "      <td>2009</td>\n",
       "      <td>6</td>\n",
       "      <td>9</td>\n",
       "      <td>1.0</td>\n",
       "      <td>[Thiago Motta]</td>\n",
       "      <td>9.434533</td>\n",
       "      <td>-0.259259</td>\n",
       "      <td>-0.195108</td>\n",
       "    </tr>\n",
       "    <tr>\n",
       "      <th>72530</th>\n",
       "      <td>Juventus FC</td>\n",
       "      <td>Thierry Henry</td>\n",
       "      <td>21.0</td>\n",
       "      <td>Centre-Forward</td>\n",
       "      <td>Monaco</td>\n",
       "      <td>£11.25m</td>\n",
       "      <td>in</td>\n",
       "      <td>11.25</td>\n",
       "      <td>1998</td>\n",
       "      <td>2</td>\n",
       "      <td>5</td>\n",
       "      <td>0.0</td>\n",
       "      <td>[]</td>\n",
       "      <td>6.017591</td>\n",
       "      <td>NaN</td>\n",
       "      <td>NaN</td>\n",
       "    </tr>\n",
       "    <tr>\n",
       "      <th>72531</th>\n",
       "      <td>Arsenal FC</td>\n",
       "      <td>Thierry Henry</td>\n",
       "      <td>21.0</td>\n",
       "      <td>Centre-Forward</td>\n",
       "      <td>Juventus</td>\n",
       "      <td>£14.49m</td>\n",
       "      <td>in</td>\n",
       "      <td>14.49</td>\n",
       "      <td>1999</td>\n",
       "      <td>3</td>\n",
       "      <td>5</td>\n",
       "      <td>0.0</td>\n",
       "      <td>[]</td>\n",
       "      <td>7.750657</td>\n",
       "      <td>0.288000</td>\n",
       "      <td>0.288000</td>\n",
       "    </tr>\n",
       "    <tr>\n",
       "      <th>72532</th>\n",
       "      <td>FC Barcelona</td>\n",
       "      <td>Thierry Henry</td>\n",
       "      <td>29.0</td>\n",
       "      <td>Centre-Forward</td>\n",
       "      <td>Arsenal</td>\n",
       "      <td>£21.60m</td>\n",
       "      <td>in</td>\n",
       "      <td>21.60</td>\n",
       "      <td>2007</td>\n",
       "      <td>4</td>\n",
       "      <td>5</td>\n",
       "      <td>1.0</td>\n",
       "      <td>[Sylvinho]</td>\n",
       "      <td>12.277911</td>\n",
       "      <td>0.490683</td>\n",
       "      <td>0.584112</td>\n",
       "    </tr>\n",
       "    <tr>\n",
       "      <th>78677</th>\n",
       "      <td>Ajax Amsterdam</td>\n",
       "      <td>Zlatan Ibrahimovic</td>\n",
       "      <td>19.0</td>\n",
       "      <td>Centre-Forward</td>\n",
       "      <td>Malmö FF</td>\n",
       "      <td>£7.02m</td>\n",
       "      <td>in</td>\n",
       "      <td>7.02</td>\n",
       "      <td>2001</td>\n",
       "      <td>1</td>\n",
       "      <td>10</td>\n",
       "      <td>NaN</td>\n",
       "      <td>[]</td>\n",
       "      <td>4.643429</td>\n",
       "      <td>NaN</td>\n",
       "      <td>NaN</td>\n",
       "    </tr>\n",
       "    <tr>\n",
       "      <th>78678</th>\n",
       "      <td>Juventus FC</td>\n",
       "      <td>Zlatan Ibrahimovic</td>\n",
       "      <td>22.0</td>\n",
       "      <td>Centre-Forward</td>\n",
       "      <td>Ajax</td>\n",
       "      <td>£14.40m</td>\n",
       "      <td>in</td>\n",
       "      <td>14.40</td>\n",
       "      <td>2004</td>\n",
       "      <td>2</td>\n",
       "      <td>10</td>\n",
       "      <td>0.0</td>\n",
       "      <td>[]</td>\n",
       "      <td>7.234069</td>\n",
       "      <td>1.051282</td>\n",
       "      <td>0.557915</td>\n",
       "    </tr>\n",
       "    <tr>\n",
       "      <th>78679</th>\n",
       "      <td>FC Internazionale</td>\n",
       "      <td>Zlatan Ibrahimovic</td>\n",
       "      <td>24.0</td>\n",
       "      <td>Centre-Forward</td>\n",
       "      <td>Juventus</td>\n",
       "      <td>£22.32m</td>\n",
       "      <td>in</td>\n",
       "      <td>22.32</td>\n",
       "      <td>2006</td>\n",
       "      <td>3</td>\n",
       "      <td>10</td>\n",
       "      <td>1.0</td>\n",
       "      <td>[Patrick Vieira]</td>\n",
       "      <td>10.542605</td>\n",
       "      <td>0.550000</td>\n",
       "      <td>0.457355</td>\n",
       "    </tr>\n",
       "    <tr>\n",
       "      <th>78680</th>\n",
       "      <td>FC Barcelona</td>\n",
       "      <td>Zlatan Ibrahimovic</td>\n",
       "      <td>27.0</td>\n",
       "      <td>Centre-Forward</td>\n",
       "      <td>Inter</td>\n",
       "      <td>£62.55m</td>\n",
       "      <td>in</td>\n",
       "      <td>62.55</td>\n",
       "      <td>2009</td>\n",
       "      <td>4</td>\n",
       "      <td>10</td>\n",
       "      <td>1.0</td>\n",
       "      <td>[Maxwell]</td>\n",
       "      <td>30.996266</td>\n",
       "      <td>1.802419</td>\n",
       "      <td>1.940096</td>\n",
       "    </tr>\n",
       "    <tr>\n",
       "      <th>78682</th>\n",
       "      <td>AC Milan</td>\n",
       "      <td>Zlatan Ibrahimovic</td>\n",
       "      <td>29.0</td>\n",
       "      <td>Centre-Forward</td>\n",
       "      <td>FC Barcelona</td>\n",
       "      <td>£21.60m</td>\n",
       "      <td>in</td>\n",
       "      <td>21.60</td>\n",
       "      <td>2011</td>\n",
       "      <td>6</td>\n",
       "      <td>10</td>\n",
       "      <td>18.0</td>\n",
       "      <td>[Urby Emanuelson, Antonio Cassano, Mario Yepes...</td>\n",
       "      <td>12.277911</td>\n",
       "      <td>-0.654676</td>\n",
       "      <td>-0.603891</td>\n",
       "    </tr>\n",
       "    <tr>\n",
       "      <th>78684</th>\n",
       "      <td>Paris Saint-Germain</td>\n",
       "      <td>Zlatan Ibrahimovic</td>\n",
       "      <td>30.0</td>\n",
       "      <td>Centre-Forward</td>\n",
       "      <td>AC Milan</td>\n",
       "      <td>£18.90m</td>\n",
       "      <td>in</td>\n",
       "      <td>18.90</td>\n",
       "      <td>2012</td>\n",
       "      <td>8</td>\n",
       "      <td>10</td>\n",
       "      <td>2.0</td>\n",
       "      <td>[Thiago Silva, Maxwell]</td>\n",
       "      <td>12.022118</td>\n",
       "      <td>-0.125000</td>\n",
       "      <td>-0.020834</td>\n",
       "    </tr>\n",
       "  </tbody>\n",
       "</table>\n",
       "</div>"
      ],
      "text/plain": [
       "                 club_name         player_name   age            position  \\\n",
       "7889   Bayer 04 Leverkusen        Arturo Vidal  20.0    Central Midfield   \n",
       "7890           Juventus FC        Arturo Vidal  24.0    Central Midfield   \n",
       "7891         Bayern Munich        Arturo Vidal  28.0    Central Midfield   \n",
       "7892          FC Barcelona        Arturo Vidal  31.0    Central Midfield   \n",
       "12246           Arsenal FC       Cesc Fabregas  16.0    Central Midfield   \n",
       "12247         FC Barcelona       Cesc Fabregas  24.0    Central Midfield   \n",
       "12248           Chelsea FC       Cesc Fabregas  27.0    Central Midfield   \n",
       "12249            AS Monaco       Cesc Fabregas  31.0    Central Midfield   \n",
       "17805          Valencia CF         David Villa  23.0      Centre-Forward   \n",
       "17806         FC Barcelona         David Villa  28.0      Centre-Forward   \n",
       "17807      Atlético Madrid         David Villa  31.0      Centre-Forward   \n",
       "26128        Real Zaragoza      Gabriel Milito  22.0         Centre-Back   \n",
       "26129         FC Barcelona      Gabriel Milito  26.0         Centre-Back   \n",
       "45482         FC Groningen         Luis Suarez  19.0      Centre-Forward   \n",
       "45483       Ajax Amsterdam         Luis Suarez  20.0      Centre-Forward   \n",
       "45484         Liverpool FC         Luis Suarez  24.0      Centre-Forward   \n",
       "45485         FC Barcelona         Luis Suarez  27.0      Centre-Forward   \n",
       "45491           Granada CF         Luis Suarez  22.0      Centre-Forward   \n",
       "65202  Paris Saint-Germain          Ronaldinho  21.0  Attacking Midfield   \n",
       "65203         FC Barcelona          Ronaldinho  23.0  Attacking Midfield   \n",
       "65204             AC Milan          Ronaldinho  28.0  Attacking Midfield   \n",
       "67114         RCD Mallorca        Samuel Eto'o  18.0      Centre-Forward   \n",
       "67115         FC Barcelona        Samuel Eto'o  23.0      Centre-Forward   \n",
       "67116    FC Internazionale        Samuel Eto'o  28.0      Centre-Forward   \n",
       "72530          Juventus FC       Thierry Henry  21.0      Centre-Forward   \n",
       "72531           Arsenal FC       Thierry Henry  21.0      Centre-Forward   \n",
       "72532         FC Barcelona       Thierry Henry  29.0      Centre-Forward   \n",
       "78677       Ajax Amsterdam  Zlatan Ibrahimovic  19.0      Centre-Forward   \n",
       "78678          Juventus FC  Zlatan Ibrahimovic  22.0      Centre-Forward   \n",
       "78679    FC Internazionale  Zlatan Ibrahimovic  24.0      Centre-Forward   \n",
       "78680         FC Barcelona  Zlatan Ibrahimovic  27.0      Centre-Forward   \n",
       "78682             AC Milan  Zlatan Ibrahimovic  29.0      Centre-Forward   \n",
       "78684  Paris Saint-Germain  Zlatan Ibrahimovic  30.0      Centre-Forward   \n",
       "\n",
       "      club_involved_name      fee transfer_movement  fee_cleaned  year  \\\n",
       "7889           Colo Colo   £4.68m                in         4.68  2007   \n",
       "7890     Bay. Leverkusen  £11.25m                in        11.25  2011   \n",
       "7891            Juventus  £35.33m                in        35.33  2015   \n",
       "7892       Bayern Munich  £16.20m                in        16.20  2018   \n",
       "12246          Barça U16   £2.88m                in         2.88  2003   \n",
       "12247            Arsenal  £30.60m                in        30.60  2011   \n",
       "12248       FC Barcelona  £29.70m                in        29.70  2014   \n",
       "12249            Chelsea   £8.10m                in         8.10  2018   \n",
       "17805      Real Zaragoza  £10.80m                in        10.80  2005   \n",
       "17806           Valencia  £36.00m                in        36.00  2010   \n",
       "17807       FC Barcelona   £1.89m                in         1.89  2013   \n",
       "26128      Independiente   £3.15m                in         3.15  2003   \n",
       "26129      Real Zaragoza  £18.00m                in        18.00  2007   \n",
       "45482           Nacional  £720Th.                in         0.72  2006   \n",
       "45483       FC Groningen   £6.75m                in         6.75  2007   \n",
       "45484               Ajax  £23.85m                in        23.85  2010   \n",
       "45485          Liverpool  £73.55m                in        73.55  2014   \n",
       "45491            Watford   £6.30m                in         6.30  2020   \n",
       "65202             Grêmio   £4.50m                in         4.50  2001   \n",
       "65203           Paris SG  £29.03m                in        29.03  2003   \n",
       "65204       FC Barcelona  £21.74m                in        21.74  2008   \n",
       "67114        Real Madrid   £4.05m                in         4.05  1999   \n",
       "67115       RCD Mallorca  £24.30m                in        24.30  2004   \n",
       "67116       FC Barcelona  £18.00m                in        18.00  2009   \n",
       "72530             Monaco  £11.25m                in        11.25  1998   \n",
       "72531           Juventus  £14.49m                in        14.49  1999   \n",
       "72532            Arsenal  £21.60m                in        21.60  2007   \n",
       "78677           Malmö FF   £7.02m                in         7.02  2001   \n",
       "78678               Ajax  £14.40m                in        14.40  2004   \n",
       "78679           Juventus  £22.32m                in        22.32  2006   \n",
       "78680              Inter  £62.55m                in        62.55  2009   \n",
       "78682       FC Barcelona  £21.60m                in        21.60  2011   \n",
       "78684           AC Milan  £18.90m                in        18.90  2012   \n",
       "\n",
       "       num_transfer  max_transfer     k  \\\n",
       "7889              1             5   NaN   \n",
       "7890              2             5   0.0   \n",
       "7891              3             5   1.0   \n",
       "7892              4             5   1.0   \n",
       "12246             1             4   NaN   \n",
       "12247             2             4   0.0   \n",
       "12248             3             4   0.0   \n",
       "12249             4             4   1.0   \n",
       "17805             1             3   NaN   \n",
       "17806             2             3   0.0   \n",
       "17807             3             3   0.0   \n",
       "26128             1             2   NaN   \n",
       "26129             2             2   0.0   \n",
       "45482             1            10   NaN   \n",
       "45483             2            10   2.0   \n",
       "45484             3            10   0.0   \n",
       "45485             4            10   1.0   \n",
       "45491            10            10   0.0   \n",
       "65202             1             3   NaN   \n",
       "65203             2             3   0.0   \n",
       "65204             3             3   1.0   \n",
       "67114             4             9   0.0   \n",
       "67115             5             9   0.0   \n",
       "67116             6             9   1.0   \n",
       "72530             2             5   0.0   \n",
       "72531             3             5   0.0   \n",
       "72532             4             5   1.0   \n",
       "78677             1            10   NaN   \n",
       "78678             2            10   0.0   \n",
       "78679             3            10   1.0   \n",
       "78680             4            10   1.0   \n",
       "78682             6            10  18.0   \n",
       "78684             8            10   2.0   \n",
       "\n",
       "                                                  k_name  adjusted_fee  \\\n",
       "7889                                                  []      2.736954   \n",
       "7890                                                  []      5.313813   \n",
       "7891                                    [Kingsley Coman]     18.517892   \n",
       "7892                                           [Rafinha]     12.031901   \n",
       "12246                                                 []      2.880000   \n",
       "12247                                                 []     14.453571   \n",
       "12248                                                 []     14.717652   \n",
       "12249                                           [Falcao]      6.015951   \n",
       "17805                                                 []      5.209549   \n",
       "17806                                                 []     18.869066   \n",
       "17807                                                 []      1.403722   \n",
       "26128                                                 []      1.582453   \n",
       "26129                                                 []      8.614260   \n",
       "45482                                                 []      0.476249   \n",
       "45483                     [Rasmus Lindgren, Bruno Silva]      3.947530   \n",
       "45484                                                 []     11.265283   \n",
       "45485                                 [Thomas Vermaelen]     36.447248   \n",
       "45491                                                 []      3.164905   \n",
       "65202                                                 []      2.407036   \n",
       "65203                                                 []     14.003076   \n",
       "65204                               [Gianluca Zambrotta]     11.394820   \n",
       "67114                                                 []      3.176046   \n",
       "67115                                                 []     11.721486   \n",
       "67116                                     [Thiago Motta]      9.434533   \n",
       "72530                                                 []      6.017591   \n",
       "72531                                                 []      7.750657   \n",
       "72532                                         [Sylvinho]     12.277911   \n",
       "78677                                                 []      4.643429   \n",
       "78678                                                 []      7.234069   \n",
       "78679                                   [Patrick Vieira]     10.542605   \n",
       "78680                                          [Maxwell]     30.996266   \n",
       "78682  [Urby Emanuelson, Antonio Cassano, Mario Yepes...     12.277911   \n",
       "78684                            [Thiago Silva, Maxwell]     12.022118   \n",
       "\n",
       "       perf_change  perf_change_adjusted  \n",
       "7889           NaN                   NaN  \n",
       "7890      1.403846              0.941506  \n",
       "7891      2.140444              2.484860  \n",
       "7892     -0.541466             -0.350255  \n",
       "12246          NaN                   NaN  \n",
       "12247     9.625000              4.018601  \n",
       "12248    -0.029412              0.018271  \n",
       "12249    -0.727273             -0.591242  \n",
       "17805          NaN                   NaN  \n",
       "17806     2.333333              2.622015  \n",
       "17807    -0.947500             -0.925607  \n",
       "26128          NaN                   NaN  \n",
       "26129     4.714286              4.443614  \n",
       "45482          NaN                   NaN  \n",
       "45483     8.375000              7.288792  \n",
       "45484     2.533333              1.853755  \n",
       "45485     2.083857              2.235360  \n",
       "45491    -0.914344             -0.913165  \n",
       "65202          NaN                   NaN  \n",
       "65203     5.451111              4.817559  \n",
       "65204    -0.251120             -0.186263  \n",
       "67114          NaN                   NaN  \n",
       "67115     5.000000              2.690591  \n",
       "67116    -0.259259             -0.195108  \n",
       "72530          NaN                   NaN  \n",
       "72531     0.288000              0.288000  \n",
       "72532     0.490683              0.584112  \n",
       "78677          NaN                   NaN  \n",
       "78678     1.051282              0.557915  \n",
       "78679     0.550000              0.457355  \n",
       "78680     1.802419              1.940096  \n",
       "78682    -0.654676             -0.603891  \n",
       "78684    -0.125000             -0.020834  "
      ]
     },
     "execution_count": 160,
     "metadata": {},
     "output_type": "execute_result"
    }
   ],
   "source": [
    "top_eval[top_eval['player_name'].isin(player_in_barcelona)]"
   ]
  },
  {
   "cell_type": "code",
   "execution_count": null,
   "metadata": {},
   "outputs": [],
   "source": []
  }
 ],
 "metadata": {
  "kernelspec": {
   "display_name": "Python [conda env:smm638]",
   "language": "python",
   "name": "conda-env-smm638-py"
  },
  "language_info": {
   "codemirror_mode": {
    "name": "ipython",
    "version": 3
   },
   "file_extension": ".py",
   "mimetype": "text/x-python",
   "name": "python",
   "nbconvert_exporter": "python",
   "pygments_lexer": "ipython3",
   "version": "3.8.5"
  },
  "latex_envs": {
   "LaTeX_envs_menu_present": true,
   "autoclose": false,
   "autocomplete": true,
   "bibliofile": "biblio.bib",
   "cite_by": "apalike",
   "current_citInitial": 1,
   "eqLabelWithNumbers": true,
   "eqNumInitial": 1,
   "hotkeys": {
    "equation": "Ctrl-E",
    "itemize": "Ctrl-I"
   },
   "labels_anchors": false,
   "latex_user_defs": false,
   "report_style_numbering": false,
   "user_envs_cfg": false
  },
  "toc": {
   "base_numbering": 1,
   "nav_menu": {},
   "number_sections": true,
   "sideBar": true,
   "skip_h1_title": false,
   "title_cell": "Table of Contents",
   "title_sidebar": "Contents",
   "toc_cell": false,
   "toc_position": {
    "height": "calc(100% - 180px)",
    "left": "10px",
    "top": "150px",
    "width": "369.6px"
   },
   "toc_section_display": true,
   "toc_window_display": true
  },
  "varInspector": {
   "cols": {
    "lenName": 16,
    "lenType": 16,
    "lenVar": 40
   },
   "kernels_config": {
    "python": {
     "delete_cmd_postfix": "",
     "delete_cmd_prefix": "del ",
     "library": "var_list.py",
     "varRefreshCmd": "print(var_dic_list())"
    },
    "r": {
     "delete_cmd_postfix": ") ",
     "delete_cmd_prefix": "rm(",
     "library": "var_list.r",
     "varRefreshCmd": "cat(var_dic_list()) "
    }
   },
   "position": {
    "height": "733px",
    "left": "1005px",
    "right": "20px",
    "top": "120px",
    "width": "350px"
   },
   "types_to_exclude": [
    "module",
    "function",
    "builtin_function_or_method",
    "instance",
    "_Feature"
   ],
   "window_display": false
  }
 },
 "nbformat": 4,
 "nbformat_minor": 4
}
