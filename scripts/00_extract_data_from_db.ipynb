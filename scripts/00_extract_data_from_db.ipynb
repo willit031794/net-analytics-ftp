{
 "cells": [
  {
   "cell_type": "markdown",
   "metadata": {},
   "source": [
    "# Import relevant libraries"
   ]
  },
  {
   "cell_type": "code",
   "execution_count": 1,
   "metadata": {
    "ExecuteTime": {
     "end_time": "2020-12-16T06:44:03.467276Z",
     "start_time": "2020-12-16T06:44:03.123183Z"
    }
   },
   "outputs": [],
   "source": [
    "import os\n",
    "import re\n",
    "import sqlite3\n",
    "import numpy as np\n",
    "import pandas as pd\n",
    "import datetime\n",
    "import tarfile"
   ]
  },
  {
   "cell_type": "code",
   "execution_count": 2,
   "metadata": {
    "ExecuteTime": {
     "end_time": "2020-12-16T06:44:03.472306Z",
     "start_time": "2020-12-16T06:44:03.469374Z"
    }
   },
   "outputs": [],
   "source": [
    "# disable false positive warnings\n",
    "pd.options.mode.chained_assignment = None"
   ]
  },
  {
   "cell_type": "markdown",
   "metadata": {},
   "source": [
    "# Unzip .tar.gz file"
   ]
  },
  {
   "cell_type": "code",
   "execution_count": 3,
   "metadata": {
    "ExecuteTime": {
     "end_time": "2020-12-16T06:44:03.502795Z",
     "start_time": "2020-12-16T06:44:03.474029Z"
    }
   },
   "outputs": [],
   "source": [
    "# set base_path\n",
    "base_path = os.path.join('..', 'datasets')\n",
    "raw_data_path = os.path.join(base_path, 'raw_data')\n",
    "cleaned_data_path = os.path.join(base_path, 'cleaned_data')"
   ]
  },
  {
   "cell_type": "code",
   "execution_count": 4,
   "metadata": {
    "ExecuteTime": {
     "end_time": "2020-12-16T06:44:03.550934Z",
     "start_time": "2020-12-16T06:44:03.504360Z"
    }
   },
   "outputs": [],
   "source": [
    "# set file path\n",
    "file_path = os.path.join(raw_data_path, 'fifa_data.tar.gz')"
   ]
  },
  {
   "cell_type": "code",
   "execution_count": 5,
   "metadata": {
    "ExecuteTime": {
     "end_time": "2020-12-16T06:44:05.660706Z",
     "start_time": "2020-12-16T06:44:03.553327Z"
    }
   },
   "outputs": [],
   "source": [
    "# extract .tar.gz\n",
    "tar = tarfile.open(file_path, \"r:gz\")\n",
    "tar.extractall(path = raw_data_path)\n",
    "tar.close()"
   ]
  },
  {
   "cell_type": "markdown",
   "metadata": {},
   "source": [
    "# Connect to database"
   ]
  },
  {
   "cell_type": "code",
   "execution_count": 6,
   "metadata": {
    "ExecuteTime": {
     "end_time": "2020-12-16T06:44:05.666056Z",
     "start_time": "2020-12-16T06:44:05.662324Z"
    }
   },
   "outputs": [],
   "source": [
    "# set db_path\n",
    "db_path = os.path.join(raw_data_path, 'database.sqlite')"
   ]
  },
  {
   "cell_type": "code",
   "execution_count": 7,
   "metadata": {
    "ExecuteTime": {
     "end_time": "2020-12-16T06:44:06.524617Z",
     "start_time": "2020-12-16T06:44:05.668964Z"
    }
   },
   "outputs": [],
   "source": [
    "# connect to the database\n",
    "connect = sqlite3.connect(db_path)"
   ]
  },
  {
   "cell_type": "markdown",
   "metadata": {},
   "source": [
    "# ETL"
   ]
  },
  {
   "cell_type": "code",
   "execution_count": 8,
   "metadata": {
    "ExecuteTime": {
     "end_time": "2020-12-16T06:44:07.057875Z",
     "start_time": "2020-12-16T06:44:06.527281Z"
    }
   },
   "outputs": [],
   "source": [
    "# cursor\n",
    "cursor = connect.cursor()"
   ]
  },
  {
   "cell_type": "code",
   "execution_count": 9,
   "metadata": {
    "ExecuteTime": {
     "end_time": "2020-12-16T06:44:08.437912Z",
     "start_time": "2020-12-16T06:44:07.059798Z"
    }
   },
   "outputs": [
    {
     "name": "stdout",
     "output_type": "stream",
     "text": [
      "['sqlite_sequence', 'Player_Attributes', 'Player', 'Match', 'League', 'Country', 'Team', 'Team_Attributes']\n"
     ]
    }
   ],
   "source": [
    "# get column names\n",
    "cursor.execute(\"SELECT name FROM sqlite_master WHERE type='table';\")\n",
    "columns = cursor.fetchall()\n",
    "\n",
    "# get only alphanumeric characters\n",
    "pattern = '\\w+'\n",
    "\n",
    "# get column names\n",
    "columns = re.findall(pattern, str(columns))\n",
    "print(columns)"
   ]
  },
  {
   "cell_type": "code",
   "execution_count": 10,
   "metadata": {
    "ExecuteTime": {
     "end_time": "2020-12-16T06:44:39.886495Z",
     "start_time": "2020-12-16T06:44:08.439384Z"
    }
   },
   "outputs": [
    {
     "name": "stdout",
     "output_type": "stream",
     "text": [
      "The table `sqlite_sequence` was created.\n",
      "The table `player_attributes` was created.\n",
      "The table `player` was created.\n",
      "The table `match` was created.\n",
      "The table `league` was created.\n",
      "The table `country` was created.\n",
      "The table `team` was created.\n",
      "The table `team_attributes` was created.\n"
     ]
    }
   ],
   "source": [
    "for column in columns: \n",
    "    # generate variable name\n",
    "    var_name = column.lower()\n",
    "    # get table\n",
    "    vars()[var_name] = pd.read_sql_query(f\"SELECT * from {column}\", connect)\n",
    "    print(f'The table `{var_name}` was created.')"
   ]
  },
  {
   "cell_type": "markdown",
   "metadata": {},
   "source": [
    "# Preprocessing"
   ]
  },
  {
   "cell_type": "code",
   "execution_count": 11,
   "metadata": {
    "ExecuteTime": {
     "end_time": "2020-12-16T06:44:39.910778Z",
     "start_time": "2020-12-16T06:44:39.887825Z"
    }
   },
   "outputs": [
    {
     "data": {
      "text/html": [
       "<div>\n",
       "<style scoped>\n",
       "    .dataframe tbody tr th:only-of-type {\n",
       "        vertical-align: middle;\n",
       "    }\n",
       "\n",
       "    .dataframe tbody tr th {\n",
       "        vertical-align: top;\n",
       "    }\n",
       "\n",
       "    .dataframe thead th {\n",
       "        text-align: right;\n",
       "    }\n",
       "</style>\n",
       "<table border=\"1\" class=\"dataframe\">\n",
       "  <thead>\n",
       "    <tr style=\"text-align: right;\">\n",
       "      <th></th>\n",
       "      <th>player_api_id</th>\n",
       "      <th>player_name</th>\n",
       "    </tr>\n",
       "  </thead>\n",
       "  <tbody>\n",
       "    <tr>\n",
       "      <th>0</th>\n",
       "      <td>505942</td>\n",
       "      <td>Aaron Appindangoye</td>\n",
       "    </tr>\n",
       "    <tr>\n",
       "      <th>1</th>\n",
       "      <td>155782</td>\n",
       "      <td>Aaron Cresswell</td>\n",
       "    </tr>\n",
       "    <tr>\n",
       "      <th>2</th>\n",
       "      <td>162549</td>\n",
       "      <td>Aaron Doran</td>\n",
       "    </tr>\n",
       "    <tr>\n",
       "      <th>3</th>\n",
       "      <td>30572</td>\n",
       "      <td>Aaron Galindo</td>\n",
       "    </tr>\n",
       "    <tr>\n",
       "      <th>4</th>\n",
       "      <td>23780</td>\n",
       "      <td>Aaron Hughes</td>\n",
       "    </tr>\n",
       "  </tbody>\n",
       "</table>\n",
       "</div>"
      ],
      "text/plain": [
       "   player_api_id         player_name\n",
       "0         505942  Aaron Appindangoye\n",
       "1         155782     Aaron Cresswell\n",
       "2         162549         Aaron Doran\n",
       "3          30572       Aaron Galindo\n",
       "4          23780        Aaron Hughes"
      ]
     },
     "execution_count": 11,
     "metadata": {},
     "output_type": "execute_result"
    }
   ],
   "source": [
    "# select only necessary columns\n",
    "player = player[['player_api_id', 'player_name']]\n",
    "player.head()"
   ]
  },
  {
   "cell_type": "code",
   "execution_count": 12,
   "metadata": {
    "ExecuteTime": {
     "end_time": "2020-12-16T06:44:39.918296Z",
     "start_time": "2020-12-16T06:44:39.912185Z"
    }
   },
   "outputs": [
    {
     "name": "stdout",
     "output_type": "stream",
     "text": [
      "Index(['id', 'player_fifa_api_id', 'player_api_id', 'date', 'overall_rating',\n",
      "       'potential', 'preferred_foot', 'attacking_work_rate',\n",
      "       'defensive_work_rate', 'crossing', 'finishing', 'heading_accuracy',\n",
      "       'short_passing', 'volleys', 'dribbling', 'curve', 'free_kick_accuracy',\n",
      "       'long_passing', 'ball_control', 'acceleration', 'sprint_speed',\n",
      "       'agility', 'reactions', 'balance', 'shot_power', 'jumping', 'stamina',\n",
      "       'strength', 'long_shots', 'aggression', 'interceptions', 'positioning',\n",
      "       'vision', 'penalties', 'marking', 'standing_tackle', 'sliding_tackle',\n",
      "       'gk_diving', 'gk_handling', 'gk_kicking', 'gk_positioning',\n",
      "       'gk_reflexes'],\n",
      "      dtype='object')\n"
     ]
    }
   ],
   "source": [
    "print(player_attributes.columns)"
   ]
  },
  {
   "cell_type": "code",
   "execution_count": 13,
   "metadata": {
    "ExecuteTime": {
     "end_time": "2020-12-16T06:44:39.957858Z",
     "start_time": "2020-12-16T06:44:39.919766Z"
    }
   },
   "outputs": [
    {
     "data": {
      "text/html": [
       "<div>\n",
       "<style scoped>\n",
       "    .dataframe tbody tr th:only-of-type {\n",
       "        vertical-align: middle;\n",
       "    }\n",
       "\n",
       "    .dataframe tbody tr th {\n",
       "        vertical-align: top;\n",
       "    }\n",
       "\n",
       "    .dataframe thead th {\n",
       "        text-align: right;\n",
       "    }\n",
       "</style>\n",
       "<table border=\"1\" class=\"dataframe\">\n",
       "  <thead>\n",
       "    <tr style=\"text-align: right;\">\n",
       "      <th></th>\n",
       "      <th>player_api_id</th>\n",
       "      <th>date</th>\n",
       "      <th>overall_rating</th>\n",
       "    </tr>\n",
       "  </thead>\n",
       "  <tbody>\n",
       "    <tr>\n",
       "      <th>0</th>\n",
       "      <td>505942</td>\n",
       "      <td>2016-02-18 00:00:00</td>\n",
       "      <td>67.0</td>\n",
       "    </tr>\n",
       "    <tr>\n",
       "      <th>1</th>\n",
       "      <td>505942</td>\n",
       "      <td>2015-11-19 00:00:00</td>\n",
       "      <td>67.0</td>\n",
       "    </tr>\n",
       "    <tr>\n",
       "      <th>2</th>\n",
       "      <td>505942</td>\n",
       "      <td>2015-09-21 00:00:00</td>\n",
       "      <td>62.0</td>\n",
       "    </tr>\n",
       "    <tr>\n",
       "      <th>3</th>\n",
       "      <td>505942</td>\n",
       "      <td>2015-03-20 00:00:00</td>\n",
       "      <td>61.0</td>\n",
       "    </tr>\n",
       "    <tr>\n",
       "      <th>4</th>\n",
       "      <td>505942</td>\n",
       "      <td>2007-02-22 00:00:00</td>\n",
       "      <td>61.0</td>\n",
       "    </tr>\n",
       "  </tbody>\n",
       "</table>\n",
       "</div>"
      ],
      "text/plain": [
       "   player_api_id                 date  overall_rating\n",
       "0         505942  2016-02-18 00:00:00            67.0\n",
       "1         505942  2015-11-19 00:00:00            67.0\n",
       "2         505942  2015-09-21 00:00:00            62.0\n",
       "3         505942  2015-03-20 00:00:00            61.0\n",
       "4         505942  2007-02-22 00:00:00            61.0"
      ]
     },
     "execution_count": 13,
     "metadata": {},
     "output_type": "execute_result"
    }
   ],
   "source": [
    "# select only necessary columns\n",
    "player_attributes = player_attributes[['player_api_id', 'date', 'overall_rating']]\n",
    "player_attributes.head()"
   ]
  },
  {
   "cell_type": "code",
   "execution_count": 14,
   "metadata": {
    "ExecuteTime": {
     "end_time": "2020-12-16T06:44:41.420223Z",
     "start_time": "2020-12-16T06:44:39.959300Z"
    }
   },
   "outputs": [
    {
     "data": {
      "text/html": [
       "<div>\n",
       "<style scoped>\n",
       "    .dataframe tbody tr th:only-of-type {\n",
       "        vertical-align: middle;\n",
       "    }\n",
       "\n",
       "    .dataframe tbody tr th {\n",
       "        vertical-align: top;\n",
       "    }\n",
       "\n",
       "    .dataframe thead th {\n",
       "        text-align: right;\n",
       "    }\n",
       "</style>\n",
       "<table border=\"1\" class=\"dataframe\">\n",
       "  <thead>\n",
       "    <tr style=\"text-align: right;\">\n",
       "      <th></th>\n",
       "      <th>player_api_id</th>\n",
       "      <th>overall_rating</th>\n",
       "      <th>year</th>\n",
       "    </tr>\n",
       "  </thead>\n",
       "  <tbody>\n",
       "    <tr>\n",
       "      <th>0</th>\n",
       "      <td>505942</td>\n",
       "      <td>67.0</td>\n",
       "      <td>2016</td>\n",
       "    </tr>\n",
       "    <tr>\n",
       "      <th>1</th>\n",
       "      <td>505942</td>\n",
       "      <td>67.0</td>\n",
       "      <td>2015</td>\n",
       "    </tr>\n",
       "    <tr>\n",
       "      <th>2</th>\n",
       "      <td>505942</td>\n",
       "      <td>62.0</td>\n",
       "      <td>2015</td>\n",
       "    </tr>\n",
       "    <tr>\n",
       "      <th>3</th>\n",
       "      <td>505942</td>\n",
       "      <td>61.0</td>\n",
       "      <td>2015</td>\n",
       "    </tr>\n",
       "    <tr>\n",
       "      <th>4</th>\n",
       "      <td>505942</td>\n",
       "      <td>61.0</td>\n",
       "      <td>2007</td>\n",
       "    </tr>\n",
       "    <tr>\n",
       "      <th>...</th>\n",
       "      <td>...</td>\n",
       "      <td>...</td>\n",
       "      <td>...</td>\n",
       "    </tr>\n",
       "    <tr>\n",
       "      <th>183973</th>\n",
       "      <td>39902</td>\n",
       "      <td>83.0</td>\n",
       "      <td>2009</td>\n",
       "    </tr>\n",
       "    <tr>\n",
       "      <th>183974</th>\n",
       "      <td>39902</td>\n",
       "      <td>78.0</td>\n",
       "      <td>2009</td>\n",
       "    </tr>\n",
       "    <tr>\n",
       "      <th>183975</th>\n",
       "      <td>39902</td>\n",
       "      <td>77.0</td>\n",
       "      <td>2008</td>\n",
       "    </tr>\n",
       "    <tr>\n",
       "      <th>183976</th>\n",
       "      <td>39902</td>\n",
       "      <td>78.0</td>\n",
       "      <td>2007</td>\n",
       "    </tr>\n",
       "    <tr>\n",
       "      <th>183977</th>\n",
       "      <td>39902</td>\n",
       "      <td>80.0</td>\n",
       "      <td>2007</td>\n",
       "    </tr>\n",
       "  </tbody>\n",
       "</table>\n",
       "<p>183978 rows × 3 columns</p>\n",
       "</div>"
      ],
      "text/plain": [
       "        player_api_id  overall_rating  year\n",
       "0              505942            67.0  2016\n",
       "1              505942            67.0  2015\n",
       "2              505942            62.0  2015\n",
       "3              505942            61.0  2015\n",
       "4              505942            61.0  2007\n",
       "...               ...             ...   ...\n",
       "183973          39902            83.0  2009\n",
       "183974          39902            78.0  2009\n",
       "183975          39902            77.0  2008\n",
       "183976          39902            78.0  2007\n",
       "183977          39902            80.0  2007\n",
       "\n",
       "[183978 rows x 3 columns]"
      ]
     },
     "execution_count": 14,
     "metadata": {},
     "output_type": "execute_result"
    }
   ],
   "source": [
    "# transform date to datetime format (%Y)\n",
    "date = pd.to_datetime(player_attributes['date'])\n",
    "year = date.dt.strftime('%Y')\n",
    "\n",
    "# add column `year`\n",
    "player_attributes.loc[:, 'year'] = year\n",
    "# remove `date` column\n",
    "player_attributes.drop(columns = 'date')"
   ]
  },
  {
   "cell_type": "code",
   "execution_count": 15,
   "metadata": {
    "ExecuteTime": {
     "end_time": "2020-12-16T06:44:41.477795Z",
     "start_time": "2020-12-16T06:44:41.421676Z"
    }
   },
   "outputs": [],
   "source": [
    "# group data to get average overall rating by year\n",
    "group = player_attributes.groupby(['player_api_id', 'year'])\n",
    "df = pd.DataFrame(group['overall_rating'].agg('mean')).reset_index()"
   ]
  },
  {
   "cell_type": "code",
   "execution_count": 16,
   "metadata": {
    "ExecuteTime": {
     "end_time": "2020-12-16T06:44:41.515540Z",
     "start_time": "2020-12-16T06:44:41.479498Z"
    }
   },
   "outputs": [
    {
     "data": {
      "text/html": [
       "<div>\n",
       "<style scoped>\n",
       "    .dataframe tbody tr th:only-of-type {\n",
       "        vertical-align: middle;\n",
       "    }\n",
       "\n",
       "    .dataframe tbody tr th {\n",
       "        vertical-align: top;\n",
       "    }\n",
       "\n",
       "    .dataframe thead th {\n",
       "        text-align: right;\n",
       "    }\n",
       "</style>\n",
       "<table border=\"1\" class=\"dataframe\">\n",
       "  <thead>\n",
       "    <tr style=\"text-align: right;\">\n",
       "      <th></th>\n",
       "      <th>year</th>\n",
       "      <th>overall_rating</th>\n",
       "      <th>player_name</th>\n",
       "    </tr>\n",
       "  </thead>\n",
       "  <tbody>\n",
       "    <tr>\n",
       "      <th>0</th>\n",
       "      <td>2007</td>\n",
       "      <td>63.000000</td>\n",
       "      <td>Patryk Rachwal,18</td>\n",
       "    </tr>\n",
       "    <tr>\n",
       "      <th>1</th>\n",
       "      <td>2008</td>\n",
       "      <td>60.000000</td>\n",
       "      <td>Patryk Rachwal,18</td>\n",
       "    </tr>\n",
       "    <tr>\n",
       "      <th>2</th>\n",
       "      <td>2010</td>\n",
       "      <td>60.000000</td>\n",
       "      <td>Patryk Rachwal,18</td>\n",
       "    </tr>\n",
       "    <tr>\n",
       "      <th>3</th>\n",
       "      <td>2011</td>\n",
       "      <td>58.500000</td>\n",
       "      <td>Patryk Rachwal,18</td>\n",
       "    </tr>\n",
       "    <tr>\n",
       "      <th>4</th>\n",
       "      <td>2012</td>\n",
       "      <td>58.000000</td>\n",
       "      <td>Patryk Rachwal,18</td>\n",
       "    </tr>\n",
       "    <tr>\n",
       "      <th>...</th>\n",
       "      <td>...</td>\n",
       "      <td>...</td>\n",
       "      <td>...</td>\n",
       "    </tr>\n",
       "    <tr>\n",
       "      <th>73054</th>\n",
       "      <td>2007</td>\n",
       "      <td>56.000000</td>\n",
       "      <td>Rees Greenwood</td>\n",
       "    </tr>\n",
       "    <tr>\n",
       "      <th>73055</th>\n",
       "      <td>2015</td>\n",
       "      <td>56.000000</td>\n",
       "      <td>Rees Greenwood</td>\n",
       "    </tr>\n",
       "    <tr>\n",
       "      <th>73056</th>\n",
       "      <td>2016</td>\n",
       "      <td>57.333333</td>\n",
       "      <td>Rees Greenwood</td>\n",
       "    </tr>\n",
       "    <tr>\n",
       "      <th>73057</th>\n",
       "      <td>2007</td>\n",
       "      <td>58.000000</td>\n",
       "      <td>Alexandre Azevedo</td>\n",
       "    </tr>\n",
       "    <tr>\n",
       "      <th>73058</th>\n",
       "      <td>2016</td>\n",
       "      <td>58.000000</td>\n",
       "      <td>Alexandre Azevedo</td>\n",
       "    </tr>\n",
       "  </tbody>\n",
       "</table>\n",
       "<p>73059 rows × 3 columns</p>\n",
       "</div>"
      ],
      "text/plain": [
       "       year  overall_rating        player_name\n",
       "0      2007       63.000000  Patryk Rachwal,18\n",
       "1      2008       60.000000  Patryk Rachwal,18\n",
       "2      2010       60.000000  Patryk Rachwal,18\n",
       "3      2011       58.500000  Patryk Rachwal,18\n",
       "4      2012       58.000000  Patryk Rachwal,18\n",
       "...     ...             ...                ...\n",
       "73054  2007       56.000000     Rees Greenwood\n",
       "73055  2015       56.000000     Rees Greenwood\n",
       "73056  2016       57.333333     Rees Greenwood\n",
       "73057  2007       58.000000  Alexandre Azevedo\n",
       "73058  2016       58.000000  Alexandre Azevedo\n",
       "\n",
       "[73059 rows x 3 columns]"
      ]
     },
     "execution_count": 16,
     "metadata": {},
     "output_type": "execute_result"
    }
   ],
   "source": [
    "# merge table\n",
    "denorm_table = pd.merge(df, player, on = 'player_api_id', how = 'left')\n",
    "\n",
    "# remove unnecessary column\n",
    "denorm_table.drop(columns = 'player_api_id', inplace = True)\n",
    "denorm_table"
   ]
  },
  {
   "cell_type": "code",
   "execution_count": 17,
   "metadata": {
    "ExecuteTime": {
     "end_time": "2020-12-16T06:44:41.804571Z",
     "start_time": "2020-12-16T06:44:41.516896Z"
    }
   },
   "outputs": [],
   "source": [
    "# set destination path\n",
    "file_path = os.path.join(cleaned_data_path,'player_rating.csv')\n",
    "# save csv\n",
    "denorm_table.to_csv(file_path, index =  False)"
   ]
  },
  {
   "cell_type": "markdown",
   "metadata": {
    "ExecuteTime": {
     "end_time": "2020-12-15T19:43:08.804214Z",
     "start_time": "2020-12-15T19:43:08.790314Z"
    }
   },
   "source": [
    "## Get the top players (define $z_{rating} \\ge 1$)"
   ]
  },
  {
   "cell_type": "code",
   "execution_count": 18,
   "metadata": {
    "ExecuteTime": {
     "end_time": "2020-12-16T06:44:41.809743Z",
     "start_time": "2020-12-16T06:44:41.806505Z"
    }
   },
   "outputs": [],
   "source": [
    "def z_score(array):\n",
    "    z = (array - np.mean(array)) / np.std(array)\n",
    "    return z"
   ]
  },
  {
   "cell_type": "code",
   "execution_count": 19,
   "metadata": {
    "ExecuteTime": {
     "end_time": "2020-12-16T06:44:41.833619Z",
     "start_time": "2020-12-16T06:44:41.812135Z"
    }
   },
   "outputs": [],
   "source": [
    "denorm_table['z'] = z_score(denorm_table['overall_rating'])"
   ]
  },
  {
   "cell_type": "code",
   "execution_count": 20,
   "metadata": {
    "ExecuteTime": {
     "end_time": "2020-12-16T06:44:41.840318Z",
     "start_time": "2020-12-16T06:44:41.835488Z"
    }
   },
   "outputs": [],
   "source": [
    "top_player = denorm_table[denorm_table['z'] >= 1]"
   ]
  },
  {
   "cell_type": "code",
   "execution_count": 21,
   "metadata": {
    "ExecuteTime": {
     "end_time": "2020-12-16T06:44:41.920540Z",
     "start_time": "2020-12-16T06:44:41.841848Z"
    }
   },
   "outputs": [],
   "source": [
    "# set destination path\n",
    "file_path = os.path.join(cleaned_data_path,'top_player_fifa.csv')\n",
    "# save csv\n",
    "top_player.to_csv(file_path, index =  False)"
   ]
  }
 ],
 "metadata": {
  "kernelspec": {
   "display_name": "Python [conda env:NAFTP]",
   "language": "python",
   "name": "conda-env-NAFTP-py"
  },
  "language_info": {
   "codemirror_mode": {
    "name": "ipython",
    "version": 3
   },
   "file_extension": ".py",
   "mimetype": "text/x-python",
   "name": "python",
   "nbconvert_exporter": "python",
   "pygments_lexer": "ipython3",
   "version": "3.8.6"
  },
  "latex_envs": {
   "LaTeX_envs_menu_present": true,
   "autoclose": false,
   "autocomplete": true,
   "bibliofile": "biblio.bib",
   "cite_by": "apalike",
   "current_citInitial": 1,
   "eqLabelWithNumbers": true,
   "eqNumInitial": 1,
   "hotkeys": {
    "equation": "Ctrl-E",
    "itemize": "Ctrl-I"
   },
   "labels_anchors": false,
   "latex_user_defs": false,
   "report_style_numbering": false,
   "user_envs_cfg": false
  },
  "toc": {
   "base_numbering": 1,
   "nav_menu": {},
   "number_sections": true,
   "sideBar": true,
   "skip_h1_title": false,
   "title_cell": "Table of Contents",
   "title_sidebar": "Contents",
   "toc_cell": false,
   "toc_position": {
    "height": "calc(100% - 180px)",
    "left": "10px",
    "top": "150px",
    "width": "369.6px"
   },
   "toc_section_display": true,
   "toc_window_display": true
  },
  "varInspector": {
   "cols": {
    "lenName": 16,
    "lenType": 16,
    "lenVar": 40
   },
   "kernels_config": {
    "python": {
     "delete_cmd_postfix": "",
     "delete_cmd_prefix": "del ",
     "library": "var_list.py",
     "varRefreshCmd": "print(var_dic_list())"
    },
    "r": {
     "delete_cmd_postfix": ") ",
     "delete_cmd_prefix": "rm(",
     "library": "var_list.r",
     "varRefreshCmd": "cat(var_dic_list()) "
    }
   },
   "types_to_exclude": [
    "module",
    "function",
    "builtin_function_or_method",
    "instance",
    "_Feature"
   ],
   "window_display": false
  }
 },
 "nbformat": 4,
 "nbformat_minor": 4
}
