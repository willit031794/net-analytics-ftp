{
 "cells": [
  {
   "cell_type": "markdown",
   "metadata": {},
   "source": [
    "# Import relevant libraries"
   ]
  },
  {
   "cell_type": "code",
   "execution_count": 1,
   "metadata": {
    "ExecuteTime": {
     "end_time": "2020-12-16T05:57:52.609332Z",
     "start_time": "2020-12-16T05:57:52.281407Z"
    }
   },
   "outputs": [],
   "source": [
    "import os\n",
    "import glob\n",
    "import re\n",
    "import numpy as np\n",
    "import pandas as pd\n",
    "import unicodedata"
   ]
  },
  {
   "cell_type": "code",
   "execution_count": 2,
   "metadata": {
    "ExecuteTime": {
     "end_time": "2020-12-16T05:57:52.613955Z",
     "start_time": "2020-12-16T05:57:52.611267Z"
    }
   },
   "outputs": [],
   "source": [
    "# disable false positive warnings\n",
    "pd.options.mode.chained_assignment = None"
   ]
  },
  {
   "cell_type": "markdown",
   "metadata": {},
   "source": [
    "# Setup path"
   ]
  },
  {
   "cell_type": "code",
   "execution_count": 3,
   "metadata": {
    "ExecuteTime": {
     "end_time": "2020-12-16T05:57:52.642201Z",
     "start_time": "2020-12-16T05:57:52.615905Z"
    }
   },
   "outputs": [],
   "source": [
    "# set up paths\n",
    "base_path = os.path.join('..', 'datasets')\n",
    "raw_data_path = os.path.join(base_path, 'raw_data')\n",
    "cleaned_data_path = os.path.join(base_path, 'cleaned_data')"
   ]
  },
  {
   "cell_type": "markdown",
   "metadata": {},
   "source": [
    "# Load data"
   ]
  },
  {
   "cell_type": "code",
   "execution_count": 4,
   "metadata": {
    "ExecuteTime": {
     "end_time": "2020-12-16T05:57:52.680578Z",
     "start_time": "2020-12-16T05:57:52.643644Z"
    }
   },
   "outputs": [
    {
     "name": "stdout",
     "output_type": "stream",
     "text": [
      "['../datasets/raw_data/1992', '../datasets/raw_data/1993', '../datasets/raw_data/1994', '../datasets/raw_data/1995', '../datasets/raw_data/1996', '../datasets/raw_data/1997', '../datasets/raw_data/1998', '../datasets/raw_data/1999', '../datasets/raw_data/2000', '../datasets/raw_data/2001', '../datasets/raw_data/2002', '../datasets/raw_data/2003', '../datasets/raw_data/2004', '../datasets/raw_data/2005', '../datasets/raw_data/2006', '../datasets/raw_data/2007', '../datasets/raw_data/2008', '../datasets/raw_data/2009', '../datasets/raw_data/2010', '../datasets/raw_data/2011', '../datasets/raw_data/2012', '../datasets/raw_data/2013', '../datasets/raw_data/2014', '../datasets/raw_data/2015', '../datasets/raw_data/2016', '../datasets/raw_data/2017', '../datasets/raw_data/2018', '../datasets/raw_data/2019', '../datasets/raw_data/2020']\n"
     ]
    }
   ],
   "source": [
    "# get folder names\n",
    "folders = [(os.path.join(raw_data_path, name)) for name in os.listdir(raw_data_path)\\\n",
    "            if os.path.isdir(os.path.join(raw_data_path, name))]\n",
    "print(folders)"
   ]
  },
  {
   "cell_type": "code",
   "execution_count": 5,
   "metadata": {
    "ExecuteTime": {
     "end_time": "2020-12-16T05:58:02.108855Z",
     "start_time": "2020-12-16T05:57:52.682064Z"
    }
   },
   "outputs": [],
   "source": [
    "# initiate a table\n",
    "denorm_table = []\n",
    "\n",
    "# load and merge all files from 1992-2020\n",
    "for folder in folders:\n",
    "    \n",
    "    # get all file paths a folder\n",
    "    file_paths = glob.glob(os.path.join(folder, '*.csv'))\n",
    "    \n",
    "    for file_path in file_paths: \n",
    "        \n",
    "        # read file\n",
    "        file = pd.read_csv(file_path)\n",
    "        \n",
    "        # drop unmatched column\n",
    "        if 'transfer_period' in file.columns:\n",
    "            file.drop(columns = 'transfer_period', inplace = True)\n",
    "        \n",
    "        # concat table\n",
    "        if len(denorm_table) == 0:\n",
    "            denorm_table = file\n",
    "        else:\n",
    "            # check if columns of the two tables are the same \n",
    "            assert all(denorm_table.columns == file.columns), 'Columns do not match!'\n",
    "            \n",
    "            # concat table\n",
    "            denorm_table = pd.concat([denorm_table, file])"
   ]
  },
  {
   "cell_type": "code",
   "execution_count": 6,
   "metadata": {
    "ExecuteTime": {
     "end_time": "2020-12-16T05:58:02.178979Z",
     "start_time": "2020-12-16T05:58:02.113549Z"
    },
    "scrolled": true
   },
   "outputs": [
    {
     "name": "stdout",
     "output_type": "stream",
     "text": [
      "row counts: 168641\n"
     ]
    },
    {
     "data": {
      "text/html": [
       "<div>\n",
       "<style scoped>\n",
       "    .dataframe tbody tr th:only-of-type {\n",
       "        vertical-align: middle;\n",
       "    }\n",
       "\n",
       "    .dataframe tbody tr th {\n",
       "        vertical-align: top;\n",
       "    }\n",
       "\n",
       "    .dataframe thead th {\n",
       "        text-align: right;\n",
       "    }\n",
       "</style>\n",
       "<table border=\"1\" class=\"dataframe\">\n",
       "  <thead>\n",
       "    <tr style=\"text-align: right;\">\n",
       "      <th></th>\n",
       "      <th>club_name</th>\n",
       "      <th>player_name</th>\n",
       "      <th>age</th>\n",
       "      <th>position</th>\n",
       "      <th>club_involved_name</th>\n",
       "      <th>fee</th>\n",
       "      <th>transfer_movement</th>\n",
       "      <th>fee_cleaned</th>\n",
       "      <th>year</th>\n",
       "    </tr>\n",
       "  </thead>\n",
       "  <tbody>\n",
       "    <tr>\n",
       "      <th>0</th>\n",
       "      <td>Fortuna Sittard</td>\n",
       "      <td>René Hofman</td>\n",
       "      <td>31.0</td>\n",
       "      <td>Right Winger</td>\n",
       "      <td>Roda JC</td>\n",
       "      <td>?</td>\n",
       "      <td>in</td>\n",
       "      <td>NaN</td>\n",
       "      <td>1992</td>\n",
       "    </tr>\n",
       "    <tr>\n",
       "      <th>1</th>\n",
       "      <td>Fortuna Sittard</td>\n",
       "      <td>Peter Schmitz</td>\n",
       "      <td>21.0</td>\n",
       "      <td>Forward</td>\n",
       "      <td>Helmond Sport</td>\n",
       "      <td>?</td>\n",
       "      <td>in</td>\n",
       "      <td>NaN</td>\n",
       "      <td>1992</td>\n",
       "    </tr>\n",
       "    <tr>\n",
       "      <th>2</th>\n",
       "      <td>Fortuna Sittard</td>\n",
       "      <td>Kenneth Nysaether</td>\n",
       "      <td>22.0</td>\n",
       "      <td>Centre-Forward</td>\n",
       "      <td>Lillestrøm SK</td>\n",
       "      <td>?</td>\n",
       "      <td>in</td>\n",
       "      <td>NaN</td>\n",
       "      <td>1992</td>\n",
       "    </tr>\n",
       "    <tr>\n",
       "      <th>3</th>\n",
       "      <td>Fortuna Sittard</td>\n",
       "      <td>Arno van Zwam</td>\n",
       "      <td>22.0</td>\n",
       "      <td>Goalkeeper</td>\n",
       "      <td>Fortuna U19</td>\n",
       "      <td>-</td>\n",
       "      <td>in</td>\n",
       "      <td>0.0</td>\n",
       "      <td>1992</td>\n",
       "    </tr>\n",
       "    <tr>\n",
       "      <th>4</th>\n",
       "      <td>Fortuna Sittard</td>\n",
       "      <td>Jerry Taihuttu</td>\n",
       "      <td>22.0</td>\n",
       "      <td>Centre-Forward</td>\n",
       "      <td>Helmond Sport</td>\n",
       "      <td>Loan</td>\n",
       "      <td>out</td>\n",
       "      <td>0.0</td>\n",
       "      <td>1992</td>\n",
       "    </tr>\n",
       "  </tbody>\n",
       "</table>\n",
       "</div>"
      ],
      "text/plain": [
       "         club_name        player_name   age        position  \\\n",
       "0  Fortuna Sittard        René Hofman  31.0    Right Winger   \n",
       "1  Fortuna Sittard      Peter Schmitz  21.0         Forward   \n",
       "2  Fortuna Sittard  Kenneth Nysaether  22.0  Centre-Forward   \n",
       "3  Fortuna Sittard      Arno van Zwam  22.0      Goalkeeper   \n",
       "4  Fortuna Sittard     Jerry Taihuttu  22.0  Centre-Forward   \n",
       "\n",
       "  club_involved_name   fee transfer_movement  fee_cleaned  year  \n",
       "0            Roda JC     ?                in          NaN  1992  \n",
       "1      Helmond Sport     ?                in          NaN  1992  \n",
       "2      Lillestrøm SK     ?                in          NaN  1992  \n",
       "3        Fortuna U19     -                in          0.0  1992  \n",
       "4      Helmond Sport  Loan               out          0.0  1992  "
      ]
     },
     "execution_count": 6,
     "metadata": {},
     "output_type": "execute_result"
    }
   ],
   "source": [
    "# remove unnecessary columns\n",
    "denorm_table.drop(columns = ['league_name', 'season'], inplace = True)\n",
    "\n",
    "denorm_table.reset_index(drop = True, inplace = True)\n",
    "print(f'row counts: {len(denorm_table)}')\n",
    "denorm_table.head()"
   ]
  },
  {
   "cell_type": "markdown",
   "metadata": {},
   "source": [
    "# Preprocessing"
   ]
  },
  {
   "cell_type": "code",
   "execution_count": 7,
   "metadata": {
    "ExecuteTime": {
     "end_time": "2020-12-16T05:58:02.891166Z",
     "start_time": "2020-12-16T05:58:02.180361Z"
    }
   },
   "outputs": [
    {
     "name": "stdout",
     "output_type": "stream",
     "text": [
      "row counts: 164703\n"
     ]
    },
    {
     "data": {
      "text/html": [
       "<div>\n",
       "<style scoped>\n",
       "    .dataframe tbody tr th:only-of-type {\n",
       "        vertical-align: middle;\n",
       "    }\n",
       "\n",
       "    .dataframe tbody tr th {\n",
       "        vertical-align: top;\n",
       "    }\n",
       "\n",
       "    .dataframe thead th {\n",
       "        text-align: right;\n",
       "    }\n",
       "</style>\n",
       "<table border=\"1\" class=\"dataframe\">\n",
       "  <thead>\n",
       "    <tr style=\"text-align: right;\">\n",
       "      <th></th>\n",
       "      <th>club_name</th>\n",
       "      <th>player_name</th>\n",
       "      <th>age</th>\n",
       "      <th>position</th>\n",
       "      <th>club_involved_name</th>\n",
       "      <th>fee</th>\n",
       "      <th>transfer_movement</th>\n",
       "      <th>fee_cleaned</th>\n",
       "      <th>year</th>\n",
       "    </tr>\n",
       "  </thead>\n",
       "  <tbody>\n",
       "    <tr>\n",
       "      <th>0</th>\n",
       "      <td>Fortuna Sittard</td>\n",
       "      <td>René Hofman</td>\n",
       "      <td>31.0</td>\n",
       "      <td>Right Winger</td>\n",
       "      <td>Roda JC</td>\n",
       "      <td>?</td>\n",
       "      <td>in</td>\n",
       "      <td>NaN</td>\n",
       "      <td>1992</td>\n",
       "    </tr>\n",
       "    <tr>\n",
       "      <th>1</th>\n",
       "      <td>Fortuna Sittard</td>\n",
       "      <td>Peter Schmitz</td>\n",
       "      <td>21.0</td>\n",
       "      <td>Forward</td>\n",
       "      <td>Helmond Sport</td>\n",
       "      <td>?</td>\n",
       "      <td>in</td>\n",
       "      <td>NaN</td>\n",
       "      <td>1992</td>\n",
       "    </tr>\n",
       "    <tr>\n",
       "      <th>2</th>\n",
       "      <td>Fortuna Sittard</td>\n",
       "      <td>Kenneth Nysaether</td>\n",
       "      <td>22.0</td>\n",
       "      <td>Centre-Forward</td>\n",
       "      <td>Lillestrøm SK</td>\n",
       "      <td>?</td>\n",
       "      <td>in</td>\n",
       "      <td>NaN</td>\n",
       "      <td>1992</td>\n",
       "    </tr>\n",
       "    <tr>\n",
       "      <th>3</th>\n",
       "      <td>Fortuna Sittard</td>\n",
       "      <td>Arno van Zwam</td>\n",
       "      <td>22.0</td>\n",
       "      <td>Goalkeeper</td>\n",
       "      <td>Fortuna U19</td>\n",
       "      <td>-</td>\n",
       "      <td>in</td>\n",
       "      <td>0.0</td>\n",
       "      <td>1992</td>\n",
       "    </tr>\n",
       "    <tr>\n",
       "      <th>4</th>\n",
       "      <td>Fortuna Sittard</td>\n",
       "      <td>Jerry Taihuttu</td>\n",
       "      <td>22.0</td>\n",
       "      <td>Centre-Forward</td>\n",
       "      <td>Helmond Sport</td>\n",
       "      <td>Loan</td>\n",
       "      <td>out</td>\n",
       "      <td>0.0</td>\n",
       "      <td>1992</td>\n",
       "    </tr>\n",
       "  </tbody>\n",
       "</table>\n",
       "</div>"
      ],
      "text/plain": [
       "         club_name        player_name   age        position  \\\n",
       "0  Fortuna Sittard        René Hofman  31.0    Right Winger   \n",
       "1  Fortuna Sittard      Peter Schmitz  21.0         Forward   \n",
       "2  Fortuna Sittard  Kenneth Nysaether  22.0  Centre-Forward   \n",
       "3  Fortuna Sittard      Arno van Zwam  22.0      Goalkeeper   \n",
       "4  Fortuna Sittard     Jerry Taihuttu  22.0  Centre-Forward   \n",
       "\n",
       "  club_involved_name   fee transfer_movement  fee_cleaned  year  \n",
       "0            Roda JC     ?                in          NaN  1992  \n",
       "1      Helmond Sport     ?                in          NaN  1992  \n",
       "2      Lillestrøm SK     ?                in          NaN  1992  \n",
       "3        Fortuna U19     -                in          0.0  1992  \n",
       "4      Helmond Sport  Loan               out          0.0  1992  "
      ]
     },
     "execution_count": 7,
     "metadata": {},
     "output_type": "execute_result"
    }
   ],
   "source": [
    "# remove duplicates\n",
    "denorm_table.drop_duplicates(inplace = True)\n",
    "denorm_table.reset_index(drop = True, inplace = True)\n",
    "print(f'row counts: {len(denorm_table)}')\n",
    "denorm_table.head()"
   ]
  },
  {
   "cell_type": "code",
   "execution_count": 8,
   "metadata": {
    "ExecuteTime": {
     "end_time": "2020-12-16T05:58:03.183044Z",
     "start_time": "2020-12-16T05:58:02.894235Z"
    }
   },
   "outputs": [],
   "source": [
    "# fix player_name by removing accent from alphabets\n",
    "\n",
    "def strip_accents(text):\n",
    "\n",
    "    try:\n",
    "        text = unicode(text, 'utf-8')\n",
    "    except NameError: \n",
    "        pass\n",
    "\n",
    "    text = unicodedata.normalize('NFD', text)\\\n",
    "           .encode('ascii', 'ignore')\\\n",
    "           .decode(\"utf-8\")\n",
    "    return str(text)\n",
    "\n",
    "denorm_table['player_name'] = denorm_table['player_name'].apply(strip_accents)"
   ]
  },
  {
   "cell_type": "code",
   "execution_count": 9,
   "metadata": {
    "ExecuteTime": {
     "end_time": "2020-12-16T05:58:03.443273Z",
     "start_time": "2020-12-16T05:58:03.185244Z"
    }
   },
   "outputs": [
    {
     "name": "stdout",
     "output_type": "stream",
     "text": [
      "row counts: 164703\n"
     ]
    },
    {
     "data": {
      "text/html": [
       "<div>\n",
       "<style scoped>\n",
       "    .dataframe tbody tr th:only-of-type {\n",
       "        vertical-align: middle;\n",
       "    }\n",
       "\n",
       "    .dataframe tbody tr th {\n",
       "        vertical-align: top;\n",
       "    }\n",
       "\n",
       "    .dataframe thead th {\n",
       "        text-align: right;\n",
       "    }\n",
       "</style>\n",
       "<table border=\"1\" class=\"dataframe\">\n",
       "  <thead>\n",
       "    <tr style=\"text-align: right;\">\n",
       "      <th></th>\n",
       "      <th>club_name</th>\n",
       "      <th>player_name</th>\n",
       "      <th>age</th>\n",
       "      <th>position</th>\n",
       "      <th>club_involved_name</th>\n",
       "      <th>fee</th>\n",
       "      <th>transfer_movement</th>\n",
       "      <th>fee_cleaned</th>\n",
       "      <th>year</th>\n",
       "      <th>num_transfer</th>\n",
       "      <th>max_transfer</th>\n",
       "    </tr>\n",
       "  </thead>\n",
       "  <tbody>\n",
       "    <tr>\n",
       "      <th>0</th>\n",
       "      <td>Fortuna Sittard</td>\n",
       "      <td>Rene Hofman</td>\n",
       "      <td>31.0</td>\n",
       "      <td>Right Winger</td>\n",
       "      <td>Roda JC</td>\n",
       "      <td>?</td>\n",
       "      <td>in</td>\n",
       "      <td>NaN</td>\n",
       "      <td>1992</td>\n",
       "      <td>1</td>\n",
       "      <td>2</td>\n",
       "    </tr>\n",
       "    <tr>\n",
       "      <th>1</th>\n",
       "      <td>Fortuna Sittard</td>\n",
       "      <td>Peter Schmitz</td>\n",
       "      <td>21.0</td>\n",
       "      <td>Forward</td>\n",
       "      <td>Helmond Sport</td>\n",
       "      <td>?</td>\n",
       "      <td>in</td>\n",
       "      <td>NaN</td>\n",
       "      <td>1992</td>\n",
       "      <td>1</td>\n",
       "      <td>1</td>\n",
       "    </tr>\n",
       "    <tr>\n",
       "      <th>2</th>\n",
       "      <td>Fortuna Sittard</td>\n",
       "      <td>Kenneth Nysaether</td>\n",
       "      <td>22.0</td>\n",
       "      <td>Centre-Forward</td>\n",
       "      <td>Lillestrøm SK</td>\n",
       "      <td>?</td>\n",
       "      <td>in</td>\n",
       "      <td>NaN</td>\n",
       "      <td>1992</td>\n",
       "      <td>1</td>\n",
       "      <td>1</td>\n",
       "    </tr>\n",
       "    <tr>\n",
       "      <th>3</th>\n",
       "      <td>Fortuna Sittard</td>\n",
       "      <td>Arno van Zwam</td>\n",
       "      <td>22.0</td>\n",
       "      <td>Goalkeeper</td>\n",
       "      <td>Fortuna U19</td>\n",
       "      <td>-</td>\n",
       "      <td>in</td>\n",
       "      <td>0.0</td>\n",
       "      <td>1992</td>\n",
       "      <td>1</td>\n",
       "      <td>1</td>\n",
       "    </tr>\n",
       "    <tr>\n",
       "      <th>4</th>\n",
       "      <td>Fortuna Sittard</td>\n",
       "      <td>Jerry Taihuttu</td>\n",
       "      <td>22.0</td>\n",
       "      <td>Centre-Forward</td>\n",
       "      <td>Helmond Sport</td>\n",
       "      <td>Loan</td>\n",
       "      <td>out</td>\n",
       "      <td>0.0</td>\n",
       "      <td>1992</td>\n",
       "      <td>1</td>\n",
       "      <td>1</td>\n",
       "    </tr>\n",
       "  </tbody>\n",
       "</table>\n",
       "</div>"
      ],
      "text/plain": [
       "         club_name        player_name   age        position  \\\n",
       "0  Fortuna Sittard        Rene Hofman  31.0    Right Winger   \n",
       "1  Fortuna Sittard      Peter Schmitz  21.0         Forward   \n",
       "2  Fortuna Sittard  Kenneth Nysaether  22.0  Centre-Forward   \n",
       "3  Fortuna Sittard      Arno van Zwam  22.0      Goalkeeper   \n",
       "4  Fortuna Sittard     Jerry Taihuttu  22.0  Centre-Forward   \n",
       "\n",
       "  club_involved_name   fee transfer_movement  fee_cleaned  year  num_transfer  \\\n",
       "0            Roda JC     ?                in          NaN  1992             1   \n",
       "1      Helmond Sport     ?                in          NaN  1992             1   \n",
       "2      Lillestrøm SK     ?                in          NaN  1992             1   \n",
       "3        Fortuna U19     -                in          0.0  1992             1   \n",
       "4      Helmond Sport  Loan               out          0.0  1992             1   \n",
       "\n",
       "   max_transfer  \n",
       "0             2  \n",
       "1             1  \n",
       "2             1  \n",
       "3             1  \n",
       "4             1  "
      ]
     },
     "execution_count": 9,
     "metadata": {},
     "output_type": "execute_result"
    }
   ],
   "source": [
    "# add column `num_transfer` which represent the number of time a player moved\n",
    "denorm_table['count'] = 1\n",
    "denorm_table['num_transfer'] = denorm_table.groupby(['player_name', 'year'])['count'].cumcount() + 1\n",
    "denorm_table['max_transfer'] = denorm_table.groupby(['player_name', 'year'])['num_transfer'].transform(np.max)\n",
    "denorm_table.drop(columns = 'count', inplace = True)\n",
    "print(f'row counts: {len(denorm_table)}')\n",
    "denorm_table.head()"
   ]
  },
  {
   "cell_type": "code",
   "execution_count": 10,
   "metadata": {
    "ExecuteTime": {
     "end_time": "2020-12-16T05:58:03.531768Z",
     "start_time": "2020-12-16T05:58:03.444727Z"
    }
   },
   "outputs": [
    {
     "name": "stdout",
     "output_type": "stream",
     "text": [
      "row counts: 163001\n"
     ]
    },
    {
     "data": {
      "text/html": [
       "<div>\n",
       "<style scoped>\n",
       "    .dataframe tbody tr th:only-of-type {\n",
       "        vertical-align: middle;\n",
       "    }\n",
       "\n",
       "    .dataframe tbody tr th {\n",
       "        vertical-align: top;\n",
       "    }\n",
       "\n",
       "    .dataframe thead th {\n",
       "        text-align: right;\n",
       "    }\n",
       "</style>\n",
       "<table border=\"1\" class=\"dataframe\">\n",
       "  <thead>\n",
       "    <tr style=\"text-align: right;\">\n",
       "      <th></th>\n",
       "      <th>club_name</th>\n",
       "      <th>player_name</th>\n",
       "      <th>age</th>\n",
       "      <th>position</th>\n",
       "      <th>club_involved_name</th>\n",
       "      <th>fee</th>\n",
       "      <th>transfer_movement</th>\n",
       "      <th>fee_cleaned</th>\n",
       "      <th>year</th>\n",
       "    </tr>\n",
       "  </thead>\n",
       "  <tbody>\n",
       "    <tr>\n",
       "      <th>0</th>\n",
       "      <td>Fortuna Sittard</td>\n",
       "      <td>Rene Hofman</td>\n",
       "      <td>31.0</td>\n",
       "      <td>Right Winger</td>\n",
       "      <td>Roda JC</td>\n",
       "      <td>?</td>\n",
       "      <td>in</td>\n",
       "      <td>NaN</td>\n",
       "      <td>1992</td>\n",
       "    </tr>\n",
       "    <tr>\n",
       "      <th>1</th>\n",
       "      <td>Fortuna Sittard</td>\n",
       "      <td>Peter Schmitz</td>\n",
       "      <td>21.0</td>\n",
       "      <td>Forward</td>\n",
       "      <td>Helmond Sport</td>\n",
       "      <td>?</td>\n",
       "      <td>in</td>\n",
       "      <td>NaN</td>\n",
       "      <td>1992</td>\n",
       "    </tr>\n",
       "    <tr>\n",
       "      <th>2</th>\n",
       "      <td>Fortuna Sittard</td>\n",
       "      <td>Kenneth Nysaether</td>\n",
       "      <td>22.0</td>\n",
       "      <td>Centre-Forward</td>\n",
       "      <td>Lillestrøm SK</td>\n",
       "      <td>?</td>\n",
       "      <td>in</td>\n",
       "      <td>NaN</td>\n",
       "      <td>1992</td>\n",
       "    </tr>\n",
       "    <tr>\n",
       "      <th>3</th>\n",
       "      <td>Fortuna Sittard</td>\n",
       "      <td>Arno van Zwam</td>\n",
       "      <td>22.0</td>\n",
       "      <td>Goalkeeper</td>\n",
       "      <td>Fortuna U19</td>\n",
       "      <td>-</td>\n",
       "      <td>in</td>\n",
       "      <td>0.0</td>\n",
       "      <td>1992</td>\n",
       "    </tr>\n",
       "    <tr>\n",
       "      <th>4</th>\n",
       "      <td>Fortuna Sittard</td>\n",
       "      <td>Jerry Taihuttu</td>\n",
       "      <td>22.0</td>\n",
       "      <td>Centre-Forward</td>\n",
       "      <td>Helmond Sport</td>\n",
       "      <td>Loan</td>\n",
       "      <td>out</td>\n",
       "      <td>0.0</td>\n",
       "      <td>1992</td>\n",
       "    </tr>\n",
       "  </tbody>\n",
       "</table>\n",
       "</div>"
      ],
      "text/plain": [
       "         club_name        player_name   age        position  \\\n",
       "0  Fortuna Sittard        Rene Hofman  31.0    Right Winger   \n",
       "1  Fortuna Sittard      Peter Schmitz  21.0         Forward   \n",
       "2  Fortuna Sittard  Kenneth Nysaether  22.0  Centre-Forward   \n",
       "3  Fortuna Sittard      Arno van Zwam  22.0      Goalkeeper   \n",
       "4  Fortuna Sittard     Jerry Taihuttu  22.0  Centre-Forward   \n",
       "\n",
       "  club_involved_name   fee transfer_movement  fee_cleaned  year  \n",
       "0            Roda JC     ?                in          NaN  1992  \n",
       "1      Helmond Sport     ?                in          NaN  1992  \n",
       "2      Lillestrøm SK     ?                in          NaN  1992  \n",
       "3        Fortuna U19     -                in          0.0  1992  \n",
       "4      Helmond Sport  Loan               out          0.0  1992  "
      ]
     },
     "execution_count": 10,
     "metadata": {},
     "output_type": "execute_result"
    }
   ],
   "source": [
    "# remove players who were transferred over 4 times a year (max_transfer > 8)\n",
    "remove_players = denorm_table[denorm_table['max_transfer'] > 8]['player_name'].unique()\n",
    "\n",
    "denorm_table = denorm_table[denorm_table['player_name'].isin(remove_players) == False]\n",
    "denorm_table.drop(columns = ['num_transfer', 'max_transfer'], inplace = True)\n",
    "denorm_table.reset_index(drop = True, inplace = True)\n",
    "print(f'row counts: {len(denorm_table)}')\n",
    "denorm_table.head()"
   ]
  },
  {
   "cell_type": "code",
   "execution_count": 11,
   "metadata": {
    "ExecuteTime": {
     "end_time": "2020-12-16T05:58:04.753321Z",
     "start_time": "2020-12-16T05:58:03.533262Z"
    }
   },
   "outputs": [],
   "source": [
    "# save table to csv\n",
    "denorm_table.to_csv(os.path.join(cleaned_data_path, 'node_edge_data.csv'), index = False)"
   ]
  },
  {
   "cell_type": "markdown",
   "metadata": {},
   "source": [
    "For performance analysis:\n",
    "- Get a table of players who were bought at least once (for performance evaluation)"
   ]
  },
  {
   "cell_type": "code",
   "execution_count": 12,
   "metadata": {
    "ExecuteTime": {
     "end_time": "2020-12-16T05:58:06.530402Z",
     "start_time": "2020-12-16T05:58:04.755335Z"
    }
   },
   "outputs": [
    {
     "name": "stdout",
     "output_type": "stream",
     "text": [
      "number of observation: 26654\n"
     ]
    },
    {
     "data": {
      "text/html": [
       "<div>\n",
       "<style scoped>\n",
       "    .dataframe tbody tr th:only-of-type {\n",
       "        vertical-align: middle;\n",
       "    }\n",
       "\n",
       "    .dataframe tbody tr th {\n",
       "        vertical-align: top;\n",
       "    }\n",
       "\n",
       "    .dataframe thead th {\n",
       "        text-align: right;\n",
       "    }\n",
       "</style>\n",
       "<table border=\"1\" class=\"dataframe\">\n",
       "  <thead>\n",
       "    <tr style=\"text-align: right;\">\n",
       "      <th></th>\n",
       "      <th>club_name</th>\n",
       "      <th>player_name</th>\n",
       "      <th>age</th>\n",
       "      <th>position</th>\n",
       "      <th>club_involved_name</th>\n",
       "      <th>fee</th>\n",
       "      <th>transfer_movement</th>\n",
       "      <th>fee_cleaned</th>\n",
       "      <th>year</th>\n",
       "    </tr>\n",
       "  </thead>\n",
       "  <tbody>\n",
       "    <tr>\n",
       "      <th>0</th>\n",
       "      <td>Ajax Amsterdam</td>\n",
       "      <td>Marc Overmars</td>\n",
       "      <td>19.0</td>\n",
       "      <td>Left Winger</td>\n",
       "      <td>Willem II</td>\n",
       "      <td>£817Th.</td>\n",
       "      <td>in</td>\n",
       "      <td>0.817</td>\n",
       "      <td>1992</td>\n",
       "    </tr>\n",
       "    <tr>\n",
       "      <th>1</th>\n",
       "      <td>Ajax Amsterdam</td>\n",
       "      <td>Jari Litmanen</td>\n",
       "      <td>21.0</td>\n",
       "      <td>Attacking Midfield</td>\n",
       "      <td>MYPA</td>\n",
       "      <td>£13Th.</td>\n",
       "      <td>in</td>\n",
       "      <td>0.013</td>\n",
       "      <td>1992</td>\n",
       "    </tr>\n",
       "    <tr>\n",
       "      <th>2</th>\n",
       "      <td>Ajax Amsterdam</td>\n",
       "      <td>Aron Winter</td>\n",
       "      <td>25.0</td>\n",
       "      <td>Defensive Midfield</td>\n",
       "      <td>Lazio</td>\n",
       "      <td>£1.17m</td>\n",
       "      <td>out</td>\n",
       "      <td>1.170</td>\n",
       "      <td>1992</td>\n",
       "    </tr>\n",
       "    <tr>\n",
       "      <th>3</th>\n",
       "      <td>Sparta Rotterdam</td>\n",
       "      <td>Winston Bogarde</td>\n",
       "      <td>21.0</td>\n",
       "      <td>Centre-Back</td>\n",
       "      <td>Excelsior</td>\n",
       "      <td>£5Th.</td>\n",
       "      <td>in</td>\n",
       "      <td>0.005</td>\n",
       "      <td>1992</td>\n",
       "    </tr>\n",
       "    <tr>\n",
       "      <th>4</th>\n",
       "      <td>Willem II Tilburg</td>\n",
       "      <td>Marc Overmars</td>\n",
       "      <td>19.0</td>\n",
       "      <td>Left Winger</td>\n",
       "      <td>Ajax</td>\n",
       "      <td>£817Th.</td>\n",
       "      <td>out</td>\n",
       "      <td>0.817</td>\n",
       "      <td>1992</td>\n",
       "    </tr>\n",
       "  </tbody>\n",
       "</table>\n",
       "</div>"
      ],
      "text/plain": [
       "           club_name      player_name   age            position  \\\n",
       "0     Ajax Amsterdam    Marc Overmars  19.0         Left Winger   \n",
       "1     Ajax Amsterdam    Jari Litmanen  21.0  Attacking Midfield   \n",
       "2     Ajax Amsterdam      Aron Winter  25.0  Defensive Midfield   \n",
       "3   Sparta Rotterdam  Winston Bogarde  21.0         Centre-Back   \n",
       "4  Willem II Tilburg    Marc Overmars  19.0         Left Winger   \n",
       "\n",
       "  club_involved_name      fee transfer_movement  fee_cleaned  year  \n",
       "0          Willem II  £817Th.                in        0.817  1992  \n",
       "1               MYPA   £13Th.                in        0.013  1992  \n",
       "2              Lazio   £1.17m               out        1.170  1992  \n",
       "3          Excelsior    £5Th.                in        0.005  1992  \n",
       "4               Ajax  £817Th.               out        0.817  1992  "
      ]
     },
     "execution_count": 12,
     "metadata": {},
     "output_type": "execute_result"
    }
   ],
   "source": [
    "# Get a table of players that were bought at least once\n",
    "\n",
    "pattern = r\"£\"\n",
    "\n",
    "slicer = []\n",
    "\n",
    "for i in range(len(denorm_table)):\n",
    "    val = bool(re.match(pattern, str(denorm_table['fee'][i])))\n",
    "    slicer.append(val)\n",
    "\n",
    "perf_eval_table = denorm_table[slicer]\n",
    "perf_eval_table.reset_index(drop = True, inplace = True)\n",
    "print(f'number of observation: {len(perf_eval_table)}')\n",
    "perf_eval_table.head()"
   ]
  },
  {
   "cell_type": "code",
   "execution_count": 13,
   "metadata": {
    "ExecuteTime": {
     "end_time": "2020-12-16T05:58:06.536959Z",
     "start_time": "2020-12-16T05:58:06.532442Z"
    }
   },
   "outputs": [],
   "source": [
    "# remove unnecessary column\n",
    "perf_eval_table.drop(columns = ['fee'], inplace = True)"
   ]
  },
  {
   "cell_type": "code",
   "execution_count": 14,
   "metadata": {
    "ExecuteTime": {
     "end_time": "2020-12-16T05:58:06.602235Z",
     "start_time": "2020-12-16T05:58:06.538489Z"
    }
   },
   "outputs": [],
   "source": [
    "# clean data\n",
    "perf_eval_table.dropna(inplace = True)\n",
    "perf_eval_table.reset_index(drop = True, inplace = True)"
   ]
  },
  {
   "cell_type": "code",
   "execution_count": 15,
   "metadata": {
    "ExecuteTime": {
     "end_time": "2020-12-16T05:58:06.840431Z",
     "start_time": "2020-12-16T05:58:06.604077Z"
    }
   },
   "outputs": [],
   "source": [
    "# save table to csv\n",
    "perf_eval_table.to_csv(os.path.join(cleaned_data_path, 'perf_eval_table.csv'), index = False)"
   ]
  }
 ],
 "metadata": {
  "kernelspec": {
   "display_name": "Python [conda env:NAFTP]",
   "language": "python",
   "name": "conda-env-NAFTP-py"
  },
  "language_info": {
   "codemirror_mode": {
    "name": "ipython",
    "version": 3
   },
   "file_extension": ".py",
   "mimetype": "text/x-python",
   "name": "python",
   "nbconvert_exporter": "python",
   "pygments_lexer": "ipython3",
   "version": "3.8.6"
  },
  "latex_envs": {
   "LaTeX_envs_menu_present": true,
   "autoclose": false,
   "autocomplete": true,
   "bibliofile": "biblio.bib",
   "cite_by": "apalike",
   "current_citInitial": 1,
   "eqLabelWithNumbers": true,
   "eqNumInitial": 1,
   "hotkeys": {
    "equation": "Ctrl-E",
    "itemize": "Ctrl-I"
   },
   "labels_anchors": false,
   "latex_user_defs": false,
   "report_style_numbering": false,
   "user_envs_cfg": false
  },
  "toc": {
   "base_numbering": 1,
   "nav_menu": {},
   "number_sections": true,
   "sideBar": true,
   "skip_h1_title": false,
   "title_cell": "Table of Contents",
   "title_sidebar": "Contents",
   "toc_cell": false,
   "toc_position": {},
   "toc_section_display": true,
   "toc_window_display": false
  },
  "varInspector": {
   "cols": {
    "lenName": 16,
    "lenType": 16,
    "lenVar": 40
   },
   "kernels_config": {
    "python": {
     "delete_cmd_postfix": "",
     "delete_cmd_prefix": "del ",
     "library": "var_list.py",
     "varRefreshCmd": "print(var_dic_list())"
    },
    "r": {
     "delete_cmd_postfix": ") ",
     "delete_cmd_prefix": "rm(",
     "library": "var_list.r",
     "varRefreshCmd": "cat(var_dic_list()) "
    }
   },
   "types_to_exclude": [
    "module",
    "function",
    "builtin_function_or_method",
    "instance",
    "_Feature"
   ],
   "window_display": false
  }
 },
 "nbformat": 4,
 "nbformat_minor": 4
}
